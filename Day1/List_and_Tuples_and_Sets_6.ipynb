{
  "nbformat": 4,
  "nbformat_minor": 0,
  "metadata": {
    "colab": {
      "name": "List and Tuples and Sets_6.ipynb",
      "version": "0.3.2",
      "views": {},
      "default_view": {},
      "provenance": [],
      "collapsed_sections": [
        "o2L1VJ3KFmZM",
        "uHxyx9k1FmZN",
        "IgtjsmnVFmZP",
        "Wak2RSOzFmZS",
        "8WkJ1gxmFmZZ",
        "-n6S8fqvFmZZ",
        "9Uiaeux3FmZe",
        "2q5somWcFmZj",
        "7k9YAZXlFmZl",
        "sHBC1cuYFmZo",
        "wutWCkAuFmZt",
        "uZe0SQv9FmZ1",
        "pR-ssVZbFmZ4",
        "zWwnydzeFmZ6",
        "8Kp542BMFmZ-",
        "3yVhDp9LFmaD",
        "XrIJy7HAFmaK",
        "XLd8_uPAFmaV",
        "gyusDu_cFmaW",
        "xhiKx0NTFmaZ",
        "YTkMpPYFFmaf",
        "M2pteZtfFmal",
        "BzPPwkshFma8",
        "5q5UYaX2FmbC",
        "MfqxXMe3FmbE",
        "W_IkSAlbFmbP",
        "Vr8B6CLCFmbR",
        "1NFg8qUIFmb0",
        "Laxd4Fb0Fmb5",
        "_WChU1NpFmb-",
        "xMYJC36JFmcK",
        "nkhxwkUSFmcM",
        "GPDUAhZWFmcQ",
        "TJmDsJirFmcX",
        "T8ZRXb3vFmcX",
        "7ZHrRqgcFmcb",
        "KI_UZNJMFmcf",
        "zbOlufsZFmcf",
        "QT4uO5F2Fmcj",
        "J8mvZF6GFmcs",
        "6E-wlbBqFmc5",
        "cvELezNMFmc8",
        "JdJ5k3X9FmdB",
        "2wjKGT_YFmdC"
      ]
    },
    "kernelspec": {
      "display_name": "Python 3",
      "language": "python",
      "name": "python3"
    }
  },
  "cells": [
    {
      "metadata": {
        "id": "Xn9kJfuiFmW2",
        "colab_type": "text",
        "slideshow": {
          "slide_type": "slide"
        }
      },
      "cell_type": "markdown",
      "source": [
        "# Lists Tuples and Sets"
      ]
    },
    {
      "metadata": {
        "id": "cwKb5IXBFmW6",
        "colab_type": "text",
        "slideshow": {
          "slide_type": "subslide"
        }
      },
      "cell_type": "markdown",
      "source": [
        "In this notebook, you will learn to store more than one valuable in a single variable. \n",
        "\n",
        "This by itself is one of the most powerful ideas in programming, and it introduces a number of other central concepts such as loops. \n",
        "\n",
        "If this section ends up making sense to you, you will be able to start writing some interesting programs, and you can be more confident that you will be able to develop overall competence as a programmer."
      ]
    },
    {
      "metadata": {
        "id": "5R6GD_H9FmW-",
        "colab_type": "text",
        "slideshow": {
          "slide_type": "skip"
        }
      },
      "cell_type": "markdown",
      "source": [
        "<a name=\"top\"></a> Contents\n",
        "===\n",
        "- [Lists](#lists)\n",
        "    - [Introducing Lists](#introducing)\n",
        "        - [Example](#example)\n",
        "        - [Naming and defining a list](#naming)\n",
        "        - [Accessing one item in a list](#accessing_one_item)\n",
        "        - [Exercises](#exercises_list_introduction)\n",
        "    - [Lists and Looping](#looping)\n",
        "        - [Accessing all elements in a list](#accessing_all_elements)\n",
        "        - [Enumerating a list](#enumerating_list)\n",
        "        - [Exercises](#exercises_list_loop)\n",
        "    - [Common List Operations](#common_operations)\n",
        "        - [Modifying elements in a list](#modifying_elements)\n",
        "        - [Finding an element in a list](#finding_elements)\n",
        "        - [Testing whether an element is in a list](#testing_elements)\n",
        "        - [Adding items to a list](#adding_items)\n",
        "        - [Creating an empty list](#empty_list)\n",
        "        - [Sorting a list](#sorting_list)\n",
        "        - [Finding the length of a list](#length)\n",
        "        - [Exercises](#exercises_common_operations)\n",
        "    - [Removing Items from a List](#removing_items)\n",
        "        - [Removing items by position](#removing_by_position)\n",
        "        - [Removing items by value](#removing_by_value)\n",
        "        - [Popping items](#popping)\n",
        "        - [Exercises](#exercises_removing_items)\n",
        "    - [Want to see what functions are?](#functions)\n",
        "    - [Slicing a List](#slicing)\n",
        "        - [Copying a list](#copying)\n",
        "        - [Exercises](#exercises_slicing)\n",
        "    - [Numerical Lists](#numerical_lists)\n",
        "        - [The *range()* function](#range_function)\n",
        "        - [The *min()*, *max()*, *sum()* functions](#min_max_sum)\n",
        "        - [Exercises](#exercises_numerical)\n",
        "    - [List Comprehensions](#comprehensions)\n",
        "        - [Numerical comprehensions](#comprehensions_numerical)\n",
        "        - [Non-numerical comprehensions](#comprehensions_non_numerical)\n",
        "        - [Exercises](#exercises_comprehensions)\n",
        "    - [Strings as Lists](#strings_as_lists)\n",
        "        - [Strings as a list of characters](#list_of_characters)\n",
        "        - [Slicing strings](#slicing_strings)\n",
        "        - [Finding substrings](#finding_substrings)\n",
        "        - [Replacing substrings](#replacing_substrings)\n",
        "        - [Counting substrings](#counting_substrings)\n",
        "        - [Splitting strings](#splitting_strings)\n",
        "        - [Other string methods](#other_string_methods)\n",
        "        - [Exercises](#exercises_strings_as_lists)\n",
        "        - [Challenges](#challenges_strings_as_lists)\n",
        "    - [Tuples](#tuples)\n",
        "        - [Defining tuples, and accessing elements](#defining_tuples)\n",
        "        - [Using tuples to make strings](#tuples_strings)\n",
        "        - [Exercises](#exercises_tuples)\n",
        "    - [Sets](#sets)\n",
        "        - [Basic Operatoins on Sets](#set_operations)\n",
        "        - [Exercises](#exercise_set)\n",
        "    - [Overall Challenges](#challenges_overall)"
      ]
    },
    {
      "metadata": {
        "id": "ZPLIEqMKFmXB",
        "colab_type": "text",
        "slideshow": {
          "slide_type": "slide"
        }
      },
      "cell_type": "markdown",
      "source": [
        "<a name='lists'></a>Lists\n",
        "==="
      ]
    },
    {
      "metadata": {
        "id": "Htev-6JOFmXD",
        "colab_type": "text",
        "slideshow": {
          "slide_type": "subslide"
        }
      },
      "cell_type": "markdown",
      "source": [
        "<a name='introducing'></a>Introducing Lists\n",
        "===\n",
        "<a name='example'></a>Example\n",
        "---\n",
        "A list is a collection of items, that is stored in a variable. The items should be related in some way, but there are no restrictions on what can be stored in a list. Here is a simple example of a list, and how we can quickly access each item in the list."
      ]
    },
    {
      "metadata": {
        "id": "8MJNAOspFmXF",
        "colab_type": "code",
        "slideshow": {
          "slide_type": "fragment"
        },
        "colab": {
          "autoexec": {
            "startup": false,
            "wait_interval": 0
          },
          "base_uri": "https://localhost:8080/",
          "height": 68
        },
        "outputId": "ef4de75a-7228-4b93-fff2-3f57e11f672e",
        "executionInfo": {
          "status": "ok",
          "timestamp": 1530737921305,
          "user_tz": -330,
          "elapsed": 988,
          "user": {
            "displayName": "Mayank Sharma",
            "photoUrl": "https://lh3.googleusercontent.com/a/default-user=s128",
            "userId": "103040418612071322155"
          }
        }
      },
      "cell_type": "code",
      "source": [
        "students = ['Obama', 'Modi', 'Justin']\n",
        "\n",
        "for student in students:\n",
        "    print(\"Hello, \" + student.title() + \"!\")"
      ],
      "execution_count": 2,
      "outputs": [
        {
          "output_type": "stream",
          "text": [
            "Hello, Obama!\n",
            "Hello, Modi!\n",
            "Hello, Justin!\n"
          ],
          "name": "stdout"
        }
      ]
    },
    {
      "metadata": {
        "id": "I71hWTKmFmXN",
        "colab_type": "text",
        "slideshow": {
          "slide_type": "subslide"
        }
      },
      "cell_type": "markdown",
      "source": [
        "<a name='naming'></a>Naming and defining a list\n",
        "---\n",
        "Since lists are collection of objects, it is good practice to give them a plural name. If each item in your list is a car, call the list 'cars'. If each item is a dog, call your list 'dogs'. This gives you a straightforward way to refer to the entire list ('dogs'), and to a single item in the list ('dog')."
      ]
    },
    {
      "metadata": {
        "id": "7zfI5yTaFmXP",
        "colab_type": "text",
        "slideshow": {
          "slide_type": "fragment"
        }
      },
      "cell_type": "markdown",
      "source": [
        "In Python, square brackets designate a list. To define a list, you give the name of the list, the equals sign, and the values you want to include in your list within square brackets."
      ]
    },
    {
      "metadata": {
        "id": "zmAXW-MEFmXR",
        "colab_type": "code",
        "slideshow": {
          "slide_type": "fragment"
        },
        "colab": {
          "autoexec": {
            "startup": false,
            "wait_interval": 0
          }
        }
      },
      "cell_type": "code",
      "source": [
        "dogs = ['border collie', \n",
        "        'australian cattle dog', \n",
        "        'labrador retriever']"
      ],
      "execution_count": 0,
      "outputs": []
    },
    {
      "metadata": {
        "id": "hKMfp1ogFmXc",
        "colab_type": "text",
        "slideshow": {
          "slide_type": "subslide"
        }
      },
      "cell_type": "markdown",
      "source": [
        "<a name='accessing_one_item'></a>Accessing one item in a list\n",
        "---\n",
        "Items in a list are identified by their position in the list, starting with zero. This will almost certainly trip you up at some point. Programmers even joke about how often we all make \"off-by-one\" errors, so don't feel bad when you make this kind of error."
      ]
    },
    {
      "metadata": {
        "id": "DgPQMIgzFmXd",
        "colab_type": "text",
        "slideshow": {
          "slide_type": "fragment"
        }
      },
      "cell_type": "markdown",
      "source": [
        "To access the first element in a list, you give the name of the list, followed by a zero in parentheses."
      ]
    },
    {
      "metadata": {
        "id": "NbSXviXZFmXf",
        "colab_type": "code",
        "slideshow": {
          "slide_type": "fragment"
        },
        "colab": {
          "autoexec": {
            "startup": false,
            "wait_interval": 0
          },
          "base_uri": "https://localhost:8080/",
          "height": 34
        },
        "outputId": "689f4b73-29f5-4448-b1b6-ff3cde3561e7",
        "executionInfo": {
          "status": "ok",
          "timestamp": 1530737998929,
          "user_tz": -330,
          "elapsed": 989,
          "user": {
            "displayName": "Mayank Sharma",
            "photoUrl": "https://lh3.googleusercontent.com/a/default-user=s128",
            "userId": "103040418612071322155"
          }
        }
      },
      "cell_type": "code",
      "source": [
        "dogs = ['border collie', \n",
        "        'australian cattle dog', \n",
        "        'labrador retriever']\n",
        "\n",
        "dog = dogs[0]\n",
        "dog.title?\n",
        "print(dog.title())"
      ],
      "execution_count": 5,
      "outputs": [
        {
          "output_type": "stream",
          "text": [
            "Border Collie\n"
          ],
          "name": "stdout"
        }
      ]
    },
    {
      "metadata": {
        "id": "Mx-Cn-hlFmYD",
        "colab_type": "text",
        "slideshow": {
          "slide_type": "fragment"
        }
      },
      "cell_type": "markdown",
      "source": [
        "The number in parentheses is called the **index** of the item. \n",
        "\n",
        "Because lists start at zero, the index of an item is always one less than its position in the list. \n",
        "Because of that, **Python** is said to be a [*zero-indexed*](http://en.wikipedia.org/wiki/Zero-based_numbering) \n",
        "language (as many others, like `C`, or `Java`)"
      ]
    },
    {
      "metadata": {
        "id": "Jg3N7E-MFmYF",
        "colab_type": "text",
        "slideshow": {
          "slide_type": "subslide"
        }
      },
      "cell_type": "markdown",
      "source": [
        "So to get the second item in the list, we need to use an index of 1, and so on.."
      ]
    },
    {
      "metadata": {
        "id": "vY8qWwniFmYH",
        "colab_type": "code",
        "slideshow": {
          "slide_type": "fragment"
        },
        "colab": {
          "autoexec": {
            "startup": false,
            "wait_interval": 0
          },
          "base_uri": "https://localhost:8080/",
          "height": 34
        },
        "outputId": "40476855-5c43-4957-b9d5-441da363e75e",
        "executionInfo": {
          "status": "ok",
          "timestamp": 1530738011515,
          "user_tz": -330,
          "elapsed": 1043,
          "user": {
            "displayName": "Mayank Sharma",
            "photoUrl": "https://lh3.googleusercontent.com/a/default-user=s128",
            "userId": "103040418612071322155"
          }
        }
      },
      "cell_type": "code",
      "source": [
        "dog = dogs[1]\n",
        "print(dog.title())"
      ],
      "execution_count": 6,
      "outputs": [
        {
          "output_type": "stream",
          "text": [
            "Australian Cattle Dog\n"
          ],
          "name": "stdout"
        }
      ]
    },
    {
      "metadata": {
        "id": "bLLme68VFmYN",
        "colab_type": "text",
        "slideshow": {
          "slide_type": "subslide"
        }
      },
      "cell_type": "markdown",
      "source": [
        "### Accessing the last items in a list\n",
        "You can probably see that to get the last item in this list, we would use an index of 2. This works, but it would only work because our list has exactly three items. To get the last item in a list, no matter how long the list is, you can use an index of -1."
      ]
    },
    {
      "metadata": {
        "id": "z_W_bHa8FmYO",
        "colab_type": "code",
        "slideshow": {
          "slide_type": "fragment"
        },
        "colab": {
          "autoexec": {
            "startup": false,
            "wait_interval": 0
          },
          "base_uri": "https://localhost:8080/",
          "height": 34
        },
        "outputId": "d28e4dd4-6ca8-44c2-b25e-a796475f7e1a",
        "executionInfo": {
          "status": "ok",
          "timestamp": 1530738021327,
          "user_tz": -330,
          "elapsed": 1110,
          "user": {
            "displayName": "Mayank Sharma",
            "photoUrl": "https://lh3.googleusercontent.com/a/default-user=s128",
            "userId": "103040418612071322155"
          }
        }
      },
      "cell_type": "code",
      "source": [
        "dog = dogs[-1]\n",
        "print(dog.title())"
      ],
      "execution_count": 7,
      "outputs": [
        {
          "output_type": "stream",
          "text": [
            "Labrador Retriever\n"
          ],
          "name": "stdout"
        }
      ]
    },
    {
      "metadata": {
        "id": "baPyBjrUFmYS",
        "colab_type": "text",
        "slideshow": {
          "slide_type": "subslide"
        }
      },
      "cell_type": "markdown",
      "source": [
        "This syntax also works for the second to last item, the third to last, and so forth."
      ]
    },
    {
      "metadata": {
        "id": "WYKUcY5_FmYT",
        "colab_type": "code",
        "slideshow": {
          "slide_type": "fragment"
        },
        "colab": {
          "autoexec": {
            "startup": false,
            "wait_interval": 0
          }
        },
        "outputId": "a1b899f4-7818-42ae-a493-5cc03424e7ae"
      },
      "cell_type": "code",
      "source": [
        "dog = dogs[-2]\n",
        "print(dog.title())"
      ],
      "execution_count": 0,
      "outputs": [
        {
          "output_type": "stream",
          "text": [
            "Australian Cattle Dog\n"
          ],
          "name": "stdout"
        }
      ]
    },
    {
      "metadata": {
        "id": "hzilmymWFmYW",
        "colab_type": "text",
        "slideshow": {
          "slide_type": "subslide"
        }
      },
      "cell_type": "markdown",
      "source": [
        "You can't use a negative number larger than the length of the list, however."
      ]
    },
    {
      "metadata": {
        "id": "ZVJ9OrshFmYX",
        "colab_type": "code",
        "slideshow": {
          "slide_type": "fragment"
        },
        "colab": {
          "autoexec": {
            "startup": false,
            "wait_interval": 0
          },
          "base_uri": "https://localhost:8080/",
          "height": 181
        },
        "outputId": "9765c8b8-25af-4298-b8f6-d1902af4f3b3",
        "executionInfo": {
          "status": "error",
          "timestamp": 1530738025184,
          "user_tz": -330,
          "elapsed": 960,
          "user": {
            "displayName": "Mayank Sharma",
            "photoUrl": "https://lh3.googleusercontent.com/a/default-user=s128",
            "userId": "103040418612071322155"
          }
        }
      },
      "cell_type": "code",
      "source": [
        "dog = dogs[-4]\n",
        "print(dog.title())"
      ],
      "execution_count": 8,
      "outputs": [
        {
          "output_type": "error",
          "ename": "IndexError",
          "evalue": "ignored",
          "traceback": [
            "\u001b[0;31m---------------------------------------------------------------------------\u001b[0m",
            "\u001b[0;31mIndexError\u001b[0m                                Traceback (most recent call last)",
            "\u001b[0;32m<ipython-input-8-18cbc6479bf9>\u001b[0m in \u001b[0;36m<module>\u001b[0;34m()\u001b[0m\n\u001b[0;32m----> 1\u001b[0;31m \u001b[0mdog\u001b[0m \u001b[0;34m=\u001b[0m \u001b[0mdogs\u001b[0m\u001b[0;34m[\u001b[0m\u001b[0;34m-\u001b[0m\u001b[0;36m4\u001b[0m\u001b[0;34m]\u001b[0m\u001b[0;34m\u001b[0m\u001b[0m\n\u001b[0m\u001b[1;32m      2\u001b[0m \u001b[0mprint\u001b[0m\u001b[0;34m(\u001b[0m\u001b[0mdog\u001b[0m\u001b[0;34m.\u001b[0m\u001b[0mtitle\u001b[0m\u001b[0;34m(\u001b[0m\u001b[0;34m)\u001b[0m\u001b[0;34m)\u001b[0m\u001b[0;34m\u001b[0m\u001b[0m\n",
            "\u001b[0;31mIndexError\u001b[0m: list index out of range"
          ]
        }
      ]
    },
    {
      "metadata": {
        "id": "IxY70aM0FmYb",
        "colab_type": "text",
        "slideshow": {
          "slide_type": "skip"
        }
      },
      "cell_type": "markdown",
      "source": [
        "[top](#top)"
      ]
    },
    {
      "metadata": {
        "id": "HqDacjWjFmYc",
        "colab_type": "text",
        "slideshow": {
          "slide_type": "slide"
        }
      },
      "cell_type": "markdown",
      "source": [
        "<a name='exercises_list_introduction'></a>Exercises\n",
        "---\n",
        "#### First List\n",
        "- Store the values 'python', 'c', and 'java' in a list. Print each of these values out, using their position in the list.\n",
        "\n",
        "#### First Neat List\n",
        "- Store the values 'python', 'c', and 'java' in a list. Print a statement about each of these values, using their position in the list.\n",
        "- Your statement could simply be, 'A nice programming language is *value*.'\n",
        "\n",
        "#### Your First List\n",
        "- Think of something you can store in a list. Make a list with three or four items, and then print a message that includes at least one item from your list. Your sentence could be as simple as, \"One item in my list is a ____.\""
      ]
    },
    {
      "metadata": {
        "id": "1BuWw6fiFmYd",
        "colab_type": "code",
        "slideshow": {
          "slide_type": "skip"
        },
        "colab": {
          "autoexec": {
            "startup": false,
            "wait_interval": 0
          }
        }
      },
      "cell_type": "code",
      "source": [
        "# Ex 3.1 : First List\n",
        "\n",
        "# put your code here"
      ],
      "execution_count": 0,
      "outputs": []
    },
    {
      "metadata": {
        "id": "S0CB_IJjFmYi",
        "colab_type": "code",
        "slideshow": {
          "slide_type": "skip"
        },
        "colab": {
          "autoexec": {
            "startup": false,
            "wait_interval": 0
          }
        }
      },
      "cell_type": "code",
      "source": [
        "# Ex 3.2 : First Neat List\n",
        "\n",
        "# put your code here"
      ],
      "execution_count": 0,
      "outputs": []
    },
    {
      "metadata": {
        "id": "mzEyIoEHFmYk",
        "colab_type": "code",
        "slideshow": {
          "slide_type": "skip"
        },
        "colab": {
          "autoexec": {
            "startup": false,
            "wait_interval": 0
          }
        }
      },
      "cell_type": "code",
      "source": [
        "# Ex 3.3 : Your First List\n",
        "\n",
        "# put your code here"
      ],
      "execution_count": 0,
      "outputs": []
    },
    {
      "metadata": {
        "id": "eJZlJ1mEFmYm",
        "colab_type": "text",
        "slideshow": {
          "slide_type": "skip"
        }
      },
      "cell_type": "markdown",
      "source": [
        "[top](#top)"
      ]
    },
    {
      "metadata": {
        "id": "H8NFWX1cFmYn",
        "colab_type": "text",
        "slideshow": {
          "slide_type": "slide"
        }
      },
      "cell_type": "markdown",
      "source": [
        "<a name='looping'></a>Lists and Looping\n",
        "==="
      ]
    },
    {
      "metadata": {
        "id": "tlyArhdTFmYo",
        "colab_type": "text",
        "slideshow": {
          "slide_type": "subslide"
        }
      },
      "cell_type": "markdown",
      "source": [
        "<a name='accessing_all_elements'></a>Accessing all elements in a list\n",
        "---\n",
        "This is one of the most important concepts related to lists. You can have a list with a million items in it, and in three lines of code you can write a sentence for each of those million items. If you want to understand lists, and become a competent programmer, make sure you take the time to understand this section.\n",
        "\n",
        "We use a loop to access all the elements in a list. A loop is a block of code that repeats itself until it runs out of items to work with, or until a certain condition is met. In this case, our loop will run once for every item in our list. With a list that is three items long, our loop will run three times."
      ]
    },
    {
      "metadata": {
        "id": "LX368h2cFmYp",
        "colab_type": "text",
        "slideshow": {
          "slide_type": "subslide"
        }
      },
      "cell_type": "markdown",
      "source": [
        "Let's take a look at how we access all the items in a list, and then try to understand how it works."
      ]
    },
    {
      "metadata": {
        "id": "1zJX0A9iFmYq",
        "colab_type": "code",
        "slideshow": {
          "slide_type": "fragment"
        },
        "colab": {
          "autoexec": {
            "startup": false,
            "wait_interval": 0
          }
        },
        "outputId": "b54e7577-0319-4665-ecee-2ee5bf9a3e31"
      },
      "cell_type": "code",
      "source": [
        "dogs = ['border collie', 'australian cattle dog', 'labrador retriever']\n",
        "\n",
        "for dog in dogs:\n",
        "    print(dog)"
      ],
      "execution_count": 0,
      "outputs": [
        {
          "output_type": "stream",
          "text": [
            "border collie\n",
            "australian cattle dog\n",
            "labrador retriever\n"
          ],
          "name": "stdout"
        }
      ]
    },
    {
      "metadata": {
        "id": "ceJ5ETGVFmYt",
        "colab_type": "text",
        "slideshow": {
          "slide_type": "subslide"
        }
      },
      "cell_type": "markdown",
      "source": [
        "We have already seen how to create a list, so we are really just trying to understand how the last two lines work. These last two lines make up a loop, and the language here can help us see what is happening:\n",
        "\n",
        "    for dog in dogs:\n",
        "\n",
        "- The keyword \"for\" tells Python to get ready to use a loop.\n",
        "- The variable \"dog\", with no \"s\" on it, is a temporary placeholder variable. This is the variable that Python will place each item in the list into, one at a time.\n",
        "- The first time through the loop, the value of \"dog\" will be 'border collie'.\n",
        "- The second time through the loop, the value of \"dog\" will be 'australian cattle dog'.\n",
        "- The third time through, \"dog\" will be 'labrador retriever'.\n",
        "- After this, there are no more items in the list, and the loop will end."
      ]
    },
    {
      "metadata": {
        "id": "k2rClO80FmYu",
        "colab_type": "text",
        "slideshow": {
          "slide_type": "subslide"
        }
      },
      "cell_type": "markdown",
      "source": [
        "### Doing more with each item\n",
        "\n",
        "We can do whatever we want with the value of \"dog\" inside the loop. In this case, we just print the name of the dog.\n",
        "\n",
        "    print(dog)\n",
        "\n",
        "We are not limited to just printing the word dog. We can do whatever we want with this value, and this action will be carried out for every item in the list."
      ]
    },
    {
      "metadata": {
        "id": "a16N-eRjFmYv",
        "colab_type": "text",
        "slideshow": {
          "slide_type": "subslide"
        }
      },
      "cell_type": "markdown",
      "source": [
        "Let's say something about each dog in our list."
      ]
    },
    {
      "metadata": {
        "id": "kLmqlBLIFmYw",
        "colab_type": "code",
        "slideshow": {
          "slide_type": "fragment"
        },
        "colab": {
          "autoexec": {
            "startup": false,
            "wait_interval": 0
          }
        },
        "outputId": "10bc2f1f-195e-4222-b990-f89988ddd5ad"
      },
      "cell_type": "code",
      "source": [
        "dogs = ['border collie', 'australian cattle dog', 'labrador retriever']\n",
        "\n",
        "for dog in dogs:\n",
        "    print('I like ' + dog + 's.')"
      ],
      "execution_count": 0,
      "outputs": [
        {
          "output_type": "stream",
          "text": [
            "I like border collies.\n",
            "I like australian cattle dogs.\n",
            "I like labrador retrievers.\n"
          ],
          "name": "stdout"
        }
      ]
    },
    {
      "metadata": {
        "id": "cJJTm8ELFmYy",
        "colab_type": "text",
        "slideshow": {
          "slide_type": "subslide"
        }
      },
      "cell_type": "markdown",
      "source": [
        "### Inside and outside the loop\n",
        "\n",
        "Python uses indentation to decide what is inside the loop and what is outside the loop. Code that is inside the loop will be run for every item in the list. Code that is not indented, which comes after the loop, will be run once just like regular code."
      ]
    },
    {
      "metadata": {
        "id": "KdFOZ8SeFmYz",
        "colab_type": "code",
        "slideshow": {
          "slide_type": "fragment"
        },
        "colab": {
          "autoexec": {
            "startup": false,
            "wait_interval": 0
          }
        },
        "outputId": "41b65ae1-f07f-4713-f049-9c930e2f69bf"
      },
      "cell_type": "code",
      "source": [
        "dogs = ['border collie', 'australian cattle dog', 'labrador retriever']\n",
        "\n",
        "for dog in dogs:\n",
        "    print('I like ' + dog + 's.')\n",
        "    print('No, I really really like ' + dog +'s!\\n')\n",
        "    \n",
        "print(\"\\nThat's just how I feel about dogs.\")"
      ],
      "execution_count": 0,
      "outputs": [
        {
          "output_type": "stream",
          "text": [
            "I like border collies.\n",
            "No, I really really like border collies!\n",
            "\n",
            "I like australian cattle dogs.\n",
            "No, I really really like australian cattle dogs!\n",
            "\n",
            "I like labrador retrievers.\n",
            "No, I really really like labrador retrievers!\n",
            "\n",
            "\n",
            "That's just how I feel about dogs.\n"
          ],
          "name": "stdout"
        }
      ]
    },
    {
      "metadata": {
        "id": "3n29ulZbFmY3",
        "colab_type": "text",
        "slideshow": {
          "slide_type": "fragment"
        }
      },
      "cell_type": "markdown",
      "source": [
        "Notice that the last line only runs once, after the loop is completed. Also notice the use of newlines (\"\\n\") to make the output easier to read."
      ]
    },
    {
      "metadata": {
        "id": "-Kcxdnf6FmY3",
        "colab_type": "text",
        "slideshow": {
          "slide_type": "skip"
        }
      },
      "cell_type": "markdown",
      "source": [
        "[top](#top)"
      ]
    },
    {
      "metadata": {
        "id": "BZamxcolFmY4",
        "colab_type": "text",
        "slideshow": {
          "slide_type": "subslide"
        }
      },
      "cell_type": "markdown",
      "source": [
        "<a name='enumerating_list'></a>Enumerating a list\n",
        "---\n",
        "When you are looping through a list, you may want to know the index of the current item. You could always use the *list.index(value)* syntax, but there is a simpler way. The *enumerate()* function tracks the index of each item for you, as it loops through the list:"
      ]
    },
    {
      "metadata": {
        "id": "pVPdJFrlFmY4",
        "colab_type": "code",
        "slideshow": {
          "slide_type": "fragment"
        },
        "colab": {
          "autoexec": {
            "startup": false,
            "wait_interval": 0
          }
        },
        "outputId": "03185d0c-4af0-4d31-d319-8b965241456e"
      },
      "cell_type": "code",
      "source": [
        "dogs = ['border collie', 'australian cattle dog', 'labrador retriever']\n",
        "\n",
        "print(\"Results for the dog show are as follows:\\n\")\n",
        "for index, dog in enumerate(dogs):\n",
        "    place = str(index)\n",
        "    print(\"Place: \" + place + \" Dog: \" + dog.title())"
      ],
      "execution_count": 0,
      "outputs": [
        {
          "output_type": "stream",
          "text": [
            "Results for the dog show are as follows:\n",
            "\n",
            "Place: 0 Dog: Border Collie\n",
            "Place: 1 Dog: Australian Cattle Dog\n",
            "Place: 2 Dog: Labrador Retriever\n"
          ],
          "name": "stdout"
        }
      ]
    },
    {
      "metadata": {
        "id": "RIVvVkT7FmY9",
        "colab_type": "text",
        "slideshow": {
          "slide_type": "subslide"
        }
      },
      "cell_type": "markdown",
      "source": [
        "To enumerate a list, you need to add an *index* variable to hold the current index. So instead of\n",
        "\n",
        "    for dog in dogs:\n",
        "    \n",
        "You have\n",
        "\n",
        "    for index, dog in enumerate(dogs)\n",
        "    \n",
        "The value in the variable *index* is always an integer. If you want to print it in a string, you have to turn the integer into a string:\n",
        "\n",
        "    str(index)\n",
        "    "
      ]
    },
    {
      "metadata": {
        "id": "HQKXynt_FmY_",
        "colab_type": "text",
        "slideshow": {
          "slide_type": "subslide"
        }
      },
      "cell_type": "markdown",
      "source": [
        "The index always starts at 0, so in this example the value of *place* should actually be the current index, plus one:"
      ]
    },
    {
      "metadata": {
        "id": "9F-Zhm2BFmZA",
        "colab_type": "code",
        "slideshow": {
          "slide_type": "fragment"
        },
        "colab": {
          "autoexec": {
            "startup": false,
            "wait_interval": 0
          },
          "base_uri": "https://localhost:8080/",
          "height": 102
        },
        "outputId": "3ec8c703-0718-472b-eba2-4c950ba47c12",
        "executionInfo": {
          "status": "ok",
          "timestamp": 1530738082177,
          "user_tz": -330,
          "elapsed": 948,
          "user": {
            "displayName": "Mayank Sharma",
            "photoUrl": "https://lh3.googleusercontent.com/a/default-user=s128",
            "userId": "103040418612071322155"
          }
        }
      },
      "cell_type": "code",
      "source": [
        "dogs = ['border collie', 'australian cattle dog', 'labrador retriever']\n",
        "\n",
        "print(\"Results for the dog show are as follows:\\n\")\n",
        "for index, dog in enumerate(dogs):\n",
        "    place = str(index + 1)\n",
        "    print(\"Place: \" + place + \" Dog: \" + dog.title())"
      ],
      "execution_count": 9,
      "outputs": [
        {
          "output_type": "stream",
          "text": [
            "Results for the dog show are as follows:\n",
            "\n",
            "Place: 1 Dog: Border Collie\n",
            "Place: 2 Dog: Australian Cattle Dog\n",
            "Place: 3 Dog: Labrador Retriever\n"
          ],
          "name": "stdout"
        }
      ]
    },
    {
      "metadata": {
        "id": "8rVFGRdPFmZF",
        "colab_type": "text",
        "slideshow": {
          "slide_type": "subslide"
        }
      },
      "cell_type": "markdown",
      "source": [
        "### A common looping error\n",
        "One common looping error occurs when instead of using the single variable *dog* inside the loop, we accidentally use the variable that holds the entire list:"
      ]
    },
    {
      "metadata": {
        "id": "zRdmLM-4FmZF",
        "colab_type": "code",
        "slideshow": {
          "slide_type": "fragment"
        },
        "colab": {
          "autoexec": {
            "startup": false,
            "wait_interval": 0
          }
        },
        "outputId": "e7463c29-5548-4e0b-b8fb-91dba4009b6a"
      },
      "cell_type": "code",
      "source": [
        "dogs = ['border collie', 'australian cattle dog', 'labrador retriever']\n",
        "\n",
        "for dog in dogs:\n",
        "    print(dogs)"
      ],
      "execution_count": 0,
      "outputs": [
        {
          "output_type": "stream",
          "text": [
            "['border collie', 'australian cattle dog', 'labrador retriever']\n",
            "['border collie', 'australian cattle dog', 'labrador retriever']\n",
            "['border collie', 'australian cattle dog', 'labrador retriever']\n"
          ],
          "name": "stdout"
        }
      ]
    },
    {
      "metadata": {
        "id": "XPbwomBgFmZJ",
        "colab_type": "text",
        "slideshow": {
          "slide_type": "subslide"
        }
      },
      "cell_type": "markdown",
      "source": [
        "In this example, instead of printing each dog in the list, we print the entire list every time we go through the loop. Python puts each individual item in the list into the variable *dog*, but we never use that variable. Sometimes you will just get an error if you try to do this:"
      ]
    },
    {
      "metadata": {
        "id": "NVK6PWciFmZJ",
        "colab_type": "code",
        "slideshow": {
          "slide_type": "fragment"
        },
        "colab": {
          "autoexec": {
            "startup": false,
            "wait_interval": 0
          }
        },
        "outputId": "33d3fddd-6c72-4f02-cf87-f422568202fb"
      },
      "cell_type": "code",
      "source": [
        "dogs = ['border collie', 'australian cattle dog', 'labrador retriever']\n",
        "\n",
        "for dog in dogs:\n",
        "    print('I like ' + dogs + 's.')"
      ],
      "execution_count": 0,
      "outputs": [
        {
          "output_type": "error",
          "ename": "TypeError",
          "evalue": "Can't convert 'list' object to str implicitly",
          "traceback": [
            "\u001b[0;31m---------------------------------------------------------------------------\u001b[0m\n\u001b[0;31mTypeError\u001b[0m                                 Traceback (most recent call last)",
            "\u001b[0;32m<ipython-input-20-8e7acc74d7a9>\u001b[0m in \u001b[0;36m<module>\u001b[0;34m()\u001b[0m\n\u001b[1;32m      2\u001b[0m \u001b[0;34m\u001b[0m\u001b[0m\n\u001b[1;32m      3\u001b[0m \u001b[0;32mfor\u001b[0m \u001b[0mdog\u001b[0m \u001b[0;32min\u001b[0m \u001b[0mdogs\u001b[0m\u001b[0;34m:\u001b[0m\u001b[0;34m\u001b[0m\u001b[0m\n\u001b[0;32m----> 4\u001b[0;31m     \u001b[0mprint\u001b[0m\u001b[0;34m(\u001b[0m\u001b[0;34m'I like '\u001b[0m \u001b[0;34m+\u001b[0m \u001b[0mdogs\u001b[0m \u001b[0;34m+\u001b[0m \u001b[0;34m's.'\u001b[0m\u001b[0;34m)\u001b[0m\u001b[0;34m\u001b[0m\u001b[0m\n\u001b[0m",
            "\u001b[0;31mTypeError\u001b[0m: Can't convert 'list' object to str implicitly"
          ]
        }
      ]
    },
    {
      "metadata": {
        "id": "o2L1VJ3KFmZM",
        "colab_type": "text",
        "slideshow": {
          "slide_type": "subslide"
        }
      },
      "cell_type": "markdown",
      "source": [
        "## The FOR (iteration) loop\n",
        "\n",
        "The `for` loop statement is the most widely used iteration mechanisms in Python.\n",
        "\n",
        "* Almost every structure in Python can be iterated (*element by element*) by a `for` loop\n",
        "    - a list, a tuple, a dictionary, $\\ldots$ (more details will follows)\n",
        "\n",
        "* In Python, also `while` loops are permitted, but `for` is the one you would see (and use) most of the time!"
      ]
    },
    {
      "metadata": {
        "id": "uHxyx9k1FmZN",
        "colab_type": "text",
        "slideshow": {
          "slide_type": "subslide"
        }
      },
      "cell_type": "markdown",
      "source": [
        "### FOR Special keywords\n",
        "\n",
        "Python allows two **keywords** to be used within a `for` loop: **break** and **continue**.\n",
        "\n",
        "The two keywords have two **different** meanings:"
      ]
    },
    {
      "metadata": {
        "id": "4NCf9XIrFmZO",
        "colab_type": "text",
        "slideshow": {
          "slide_type": "fragment"
        }
      },
      "cell_type": "markdown",
      "source": [
        "* **Break** used to *immediatly break the loop and exit!*\n",
        "* **Continue** used to *skip to the **next** iteration step!*"
      ]
    },
    {
      "metadata": {
        "id": "BER-5o8-FmZO",
        "colab_type": "text",
        "slideshow": {
          "slide_type": "fragment"
        }
      },
      "cell_type": "markdown",
      "source": [
        "**NOTE**: The two keywords are permitted with `while` loops as well!"
      ]
    },
    {
      "metadata": {
        "id": "IgtjsmnVFmZP",
        "colab_type": "text",
        "slideshow": {
          "slide_type": "subslide"
        }
      },
      "cell_type": "markdown",
      "source": [
        "## Examples"
      ]
    },
    {
      "metadata": {
        "id": "FEHjxmAOFmZQ",
        "colab_type": "code",
        "slideshow": {
          "slide_type": "fragment"
        },
        "colab": {
          "autoexec": {
            "startup": false,
            "wait_interval": 0
          }
        }
      },
      "cell_type": "code",
      "source": [
        ""
      ],
      "execution_count": 0,
      "outputs": []
    },
    {
      "metadata": {
        "id": "Wak2RSOzFmZS",
        "colab_type": "text",
        "slideshow": {
          "slide_type": "slide"
        }
      },
      "cell_type": "markdown",
      "source": [
        "<a name='exercises_list_loop'></a>Exercises\n",
        "---\n",
        "#### First List - Loop\n",
        "- Repeat *First List*, but this time use a loop to print out each value in the list.\n",
        "\n",
        "#### First Neat List - Loop\n",
        "- Repeat *First Neat List*, but this time use a loop to print out your statements. Make sure you are writing the same sentence for all values in your list. Loops are not effective when you are trying to generate different output for each value in your list.\n",
        "\n",
        "#### Your First List - Loop\n",
        "- Repeat *Your First List*, but this time use a loop to print out your message for each item in your list. Again, if you came up with different messages for each value in your list, decide on one message to repeat for each value in your list."
      ]
    },
    {
      "metadata": {
        "id": "gujPrPaaFmZS",
        "colab_type": "code",
        "slideshow": {
          "slide_type": "skip"
        },
        "colab": {
          "autoexec": {
            "startup": false,
            "wait_interval": 0
          }
        }
      },
      "cell_type": "code",
      "source": [
        "# Ex 3.4 : First List - Loop\n",
        "\n",
        "# put your code here"
      ],
      "execution_count": 0,
      "outputs": []
    },
    {
      "metadata": {
        "id": "U7mqfOUJFmZV",
        "colab_type": "code",
        "slideshow": {
          "slide_type": "skip"
        },
        "colab": {
          "autoexec": {
            "startup": false,
            "wait_interval": 0
          }
        }
      },
      "cell_type": "code",
      "source": [
        "# Ex 3.5 : First Neat List - Loop\n",
        "\n",
        "# put your code here"
      ],
      "execution_count": 0,
      "outputs": []
    },
    {
      "metadata": {
        "id": "1dVgcuPLFmZW",
        "colab_type": "code",
        "slideshow": {
          "slide_type": "skip"
        },
        "colab": {
          "autoexec": {
            "startup": false,
            "wait_interval": 0
          }
        }
      },
      "cell_type": "code",
      "source": [
        "# Ex 3.6 : Your First List - Loop\n",
        "\n",
        "# put your code here"
      ],
      "execution_count": 0,
      "outputs": []
    },
    {
      "metadata": {
        "id": "-LS62KMCFmZY",
        "colab_type": "text",
        "slideshow": {
          "slide_type": "skip"
        }
      },
      "cell_type": "markdown",
      "source": [
        "[top](#top)"
      ]
    },
    {
      "metadata": {
        "id": "8WkJ1gxmFmZZ",
        "colab_type": "text",
        "slideshow": {
          "slide_type": "slide"
        }
      },
      "cell_type": "markdown",
      "source": [
        "<a name='common_operations'></a>Common List Operations\n",
        "==="
      ]
    },
    {
      "metadata": {
        "id": "-n6S8fqvFmZZ",
        "colab_type": "text",
        "slideshow": {
          "slide_type": "subslide"
        }
      },
      "cell_type": "markdown",
      "source": [
        "<a name='modifying_elements'></a>Modifying elements in a list\n",
        "---\n",
        "You can change the value of any element in a list if you know the position of that item."
      ]
    },
    {
      "metadata": {
        "id": "adUE2Nw9FmZa",
        "colab_type": "code",
        "slideshow": {
          "slide_type": "fragment"
        },
        "colab": {
          "autoexec": {
            "startup": false,
            "wait_interval": 0
          }
        },
        "outputId": "f7dbc9d2-db91-4d32-ee81-7d646e5cf71d"
      },
      "cell_type": "code",
      "source": [
        "dogs = ['border collie', 'australian cattle dog', 'labrador retriever']\n",
        "\n",
        "dogs[0] = 'australian shepherd'\n",
        "print(dogs)"
      ],
      "execution_count": 0,
      "outputs": [
        {
          "output_type": "stream",
          "text": [
            "['australian shepherd', 'australian cattle dog', 'labrador retriever']\n"
          ],
          "name": "stdout"
        }
      ]
    },
    {
      "metadata": {
        "id": "9Uiaeux3FmZe",
        "colab_type": "text",
        "slideshow": {
          "slide_type": "subslide"
        }
      },
      "cell_type": "markdown",
      "source": [
        "<a name='finding_elements'></a>Finding an element in a list\n",
        "---\n",
        "If you want to find out the position of an element in a list, you can use the index() function."
      ]
    },
    {
      "metadata": {
        "id": "CZaoHd3lFmZe",
        "colab_type": "code",
        "slideshow": {
          "slide_type": "fragment"
        },
        "colab": {
          "autoexec": {
            "startup": false,
            "wait_interval": 0
          }
        },
        "outputId": "b5e8dfd6-58c4-4848-c403-a68ff1c417fe"
      },
      "cell_type": "code",
      "source": [
        "dogs = ['border collie', 'australian cattle dog', 'labrador retriever']\n",
        "\n",
        "print(dogs.index('australian cattle dog'))"
      ],
      "execution_count": 0,
      "outputs": [
        {
          "output_type": "stream",
          "text": [
            "1\n"
          ],
          "name": "stdout"
        }
      ]
    },
    {
      "metadata": {
        "id": "g3qLh70ZFmZg",
        "colab_type": "text",
        "slideshow": {
          "slide_type": "subslide"
        }
      },
      "cell_type": "markdown",
      "source": [
        "This method returns a ValueError if the requested item is not in the list."
      ]
    },
    {
      "metadata": {
        "id": "Kl0Df2BYFmZh",
        "colab_type": "code",
        "slideshow": {
          "slide_type": "fragment"
        },
        "colab": {
          "autoexec": {
            "startup": false,
            "wait_interval": 0
          }
        },
        "outputId": "ac04bb50-1ad2-4192-e666-012b7e9ef5a7"
      },
      "cell_type": "code",
      "source": [
        "dogs = ['border collie', 'australian cattle dog', 'labrador retriever']\n",
        "\n",
        "print(dogs.index('poodle'))"
      ],
      "execution_count": 0,
      "outputs": [
        {
          "output_type": "error",
          "ename": "ValueError",
          "evalue": "'poodle' is not in list",
          "traceback": [
            "\u001b[0;31m---------------------------------------------------------------------------\u001b[0m\n\u001b[0;31mValueError\u001b[0m                                Traceback (most recent call last)",
            "\u001b[0;32m<ipython-input-13-a9e05e37e8df>\u001b[0m in \u001b[0;36m<module>\u001b[0;34m()\u001b[0m\n\u001b[1;32m      1\u001b[0m \u001b[0mdogs\u001b[0m \u001b[0;34m=\u001b[0m \u001b[0;34m[\u001b[0m\u001b[0;34m'border collie'\u001b[0m\u001b[0;34m,\u001b[0m \u001b[0;34m'australian cattle dog'\u001b[0m\u001b[0;34m,\u001b[0m \u001b[0;34m'labrador retriever'\u001b[0m\u001b[0;34m]\u001b[0m\u001b[0;34m\u001b[0m\u001b[0m\n\u001b[1;32m      2\u001b[0m \u001b[0;34m\u001b[0m\u001b[0m\n\u001b[0;32m----> 3\u001b[0;31m \u001b[0mprint\u001b[0m\u001b[0;34m(\u001b[0m\u001b[0mdogs\u001b[0m\u001b[0;34m.\u001b[0m\u001b[0mindex\u001b[0m\u001b[0;34m(\u001b[0m\u001b[0;34m'poodle'\u001b[0m\u001b[0;34m)\u001b[0m\u001b[0;34m)\u001b[0m\u001b[0;34m\u001b[0m\u001b[0m\n\u001b[0m",
            "\u001b[0;31mValueError\u001b[0m: 'poodle' is not in list"
          ]
        }
      ]
    },
    {
      "metadata": {
        "id": "2q5somWcFmZj",
        "colab_type": "text",
        "slideshow": {
          "slide_type": "subslide"
        }
      },
      "cell_type": "markdown",
      "source": [
        "<a name='testing_elements'></a>Testing whether an item is in a list\n",
        "---\n",
        "You can test whether an item is in a list using the \"in\" keyword. This will become more useful after learning how to use if-else statements."
      ]
    },
    {
      "metadata": {
        "id": "xC3bVxqpFmZj",
        "colab_type": "code",
        "slideshow": {
          "slide_type": "fragment"
        },
        "colab": {
          "autoexec": {
            "startup": false,
            "wait_interval": 0
          }
        },
        "outputId": "d39b666d-bec0-413d-bb6b-5eedc38ee6a0"
      },
      "cell_type": "code",
      "source": [
        "dogs = ['border collie', 'australian cattle dog', 'labrador retriever']\n",
        "\n",
        "print('australian cattle dog' in dogs)\n",
        "print('poodle' in dogs)"
      ],
      "execution_count": 0,
      "outputs": [
        {
          "output_type": "stream",
          "text": [
            "True\n",
            "False\n"
          ],
          "name": "stdout"
        }
      ]
    },
    {
      "metadata": {
        "id": "7k9YAZXlFmZl",
        "colab_type": "text",
        "slideshow": {
          "slide_type": "subslide"
        }
      },
      "cell_type": "markdown",
      "source": [
        "<a name='adding_items'></a>Adding items to a list\n",
        "---\n",
        "### Appending items to the end of a list\n",
        "We can add an item to a list using the append() method. This method adds the new item to the end of the list."
      ]
    },
    {
      "metadata": {
        "id": "htZpeMVDFmZm",
        "colab_type": "code",
        "slideshow": {
          "slide_type": "fragment"
        },
        "colab": {
          "autoexec": {
            "startup": false,
            "wait_interval": 0
          }
        },
        "outputId": "7a165a0a-66d4-470f-eac4-59c318aba5d1"
      },
      "cell_type": "code",
      "source": [
        "dogs = ['border collie', 'australian cattle dog', 'labrador retriever']\n",
        "dogs.append('poodle')\n",
        "\n",
        "for dog in dogs:\n",
        "    print(dog.title() + \"s are cool.\")"
      ],
      "execution_count": 0,
      "outputs": [
        {
          "output_type": "stream",
          "text": [
            "Border Collies are cool.\n",
            "Australian Cattle Dogs are cool.\n",
            "Labrador Retrievers are cool.\n",
            "Poodles are cool.\n"
          ],
          "name": "stdout"
        }
      ]
    },
    {
      "metadata": {
        "id": "sHBC1cuYFmZo",
        "colab_type": "text",
        "slideshow": {
          "slide_type": "subslide"
        }
      },
      "cell_type": "markdown",
      "source": [
        "### Inserting items into a list\n",
        "We can also insert items anywhere we want in a list, using the **insert()** function. We specify the position we want the item to have, and everything from that point on is shifted one position to the right. In other words, the index of every item after the new item is increased by one."
      ]
    },
    {
      "metadata": {
        "id": "4drmtF7jFmZp",
        "colab_type": "code",
        "slideshow": {
          "slide_type": "fragment"
        },
        "colab": {
          "autoexec": {
            "startup": false,
            "wait_interval": 0
          }
        },
        "outputId": "b905294d-a35a-4441-ae66-6518bf8f90e6"
      },
      "cell_type": "code",
      "source": [
        "dogs = ['border collie', 'australian cattle dog', 'labrador retriever']\n",
        "dogs.insert(1, 'poodle')\n",
        "\n",
        "print(dogs)"
      ],
      "execution_count": 0,
      "outputs": [
        {
          "output_type": "stream",
          "text": [
            "['border collie', 'poodle', 'australian cattle dog', 'labrador retriever']\n"
          ],
          "name": "stdout"
        }
      ]
    },
    {
      "metadata": {
        "id": "D5ZuQ5nGFmZt",
        "colab_type": "text",
        "slideshow": {
          "slide_type": "fragment"
        }
      },
      "cell_type": "markdown",
      "source": [
        "Note that you have to give the position of the new item first, and then the value of the new item. If you do it in the reverse order, you will get an error."
      ]
    },
    {
      "metadata": {
        "id": "wutWCkAuFmZt",
        "colab_type": "text",
        "slideshow": {
          "slide_type": "subslide"
        }
      },
      "cell_type": "markdown",
      "source": [
        "<a name='empty_list'></a>Creating an empty list\n",
        "---\n",
        "Now that we know how to add items to a list after it is created, we can use lists more dynamically. We are no longer stuck defining our entire list at once.\n",
        "\n",
        "A common approach with lists is to define an empty list, and then let your program add items to the list as necessary. This approach works, for example, when starting to build an interactive web site. Your list of users might start out empty, and then as people register for the site it will grow. This is a simplified approach to how web sites actually work, but the idea is realistic.\n",
        "\n",
        "Here is a brief example of how to start with an empty list, start to fill it up, and work with the items in the list. The only new thing here is the way we define an empty list, which is just an empty set of square brackets."
      ]
    },
    {
      "metadata": {
        "id": "VZ6sejiyFmZu",
        "colab_type": "code",
        "slideshow": {
          "slide_type": "subslide"
        },
        "colab": {
          "autoexec": {
            "startup": false,
            "wait_interval": 0
          }
        },
        "outputId": "feb10003-96f0-48a5-90d1-3453e900f0a7"
      },
      "cell_type": "code",
      "source": [
        "# Create an empty list to hold our users.\n",
        "usernames = []\n",
        "\n",
        "# Add some users.\n",
        "usernames.append('bernice')\n",
        "usernames.append('cody')\n",
        "usernames.append('aaron')\n",
        "\n",
        "# Greet all of our users.\n",
        "for username in usernames:\n",
        "    print(\"Welcome, \" + username.title() + '!')"
      ],
      "execution_count": 0,
      "outputs": [
        {
          "output_type": "stream",
          "text": [
            "Welcome, Bernice!\n",
            "Welcome, Cody!\n",
            "Welcome, Aaron!\n"
          ],
          "name": "stdout"
        }
      ]
    },
    {
      "metadata": {
        "id": "HoNdko82FmZw",
        "colab_type": "text",
        "slideshow": {
          "slide_type": "subslide"
        }
      },
      "cell_type": "markdown",
      "source": [
        "If we don't change the order in our list, we can use the list to figure out who our oldest and newest users are."
      ]
    },
    {
      "metadata": {
        "id": "LBWfV1b4FmZx",
        "colab_type": "code",
        "slideshow": {
          "slide_type": "fragment"
        },
        "colab": {
          "autoexec": {
            "startup": false,
            "wait_interval": 0
          }
        },
        "outputId": "1f9941b9-7f5c-4b40-b31d-ed7aa33fdad7"
      },
      "cell_type": "code",
      "source": [
        "# Create an empty list to hold our users.\n",
        "usernames = []\n",
        "\n",
        "# Add some users.\n",
        "usernames.append('bernice')\n",
        "usernames.append('cody')\n",
        "usernames.append('aaron')\n",
        "\n",
        "# Greet all of our users.\n",
        "for username in usernames:\n",
        "    print(\"Welcome, \" + username.title() + '!')\n",
        "\n",
        "# Recognize our first user, and welcome our newest user.\n",
        "print(\"\\nThank you for being our very first user, \" + usernames[0].title() + '!')\n",
        "print(\"And a warm welcome to our newest user, \" + usernames[-1].title() + '!')"
      ],
      "execution_count": 0,
      "outputs": [
        {
          "output_type": "stream",
          "text": [
            "Welcome, Bernice!\n",
            "Welcome, Cody!\n",
            "Welcome, Aaron!\n",
            "\n",
            "Thank you for being our very first user, Bernice!\n",
            "And a warm welcome to our newest user, Aaron!\n"
          ],
          "name": "stdout"
        }
      ]
    },
    {
      "metadata": {
        "id": "K40bWvZ7FmZ0",
        "colab_type": "text",
        "slideshow": {
          "slide_type": "fragment"
        }
      },
      "cell_type": "markdown",
      "source": [
        "Note that the code welcoming our newest user will always work, because we have used the index -1. If we had used the index 2 we would always get the third user, even as our list of users grows and grows."
      ]
    },
    {
      "metadata": {
        "id": "uZe0SQv9FmZ1",
        "colab_type": "text",
        "slideshow": {
          "slide_type": "subslide"
        }
      },
      "cell_type": "markdown",
      "source": [
        "<a name='sorting_list'></a>Sorting a List\n",
        "---\n",
        "We can sort a list alphabetically, in either order."
      ]
    },
    {
      "metadata": {
        "id": "TvuNz6usFmZ1",
        "colab_type": "code",
        "slideshow": {
          "slide_type": "fragment"
        },
        "colab": {
          "autoexec": {
            "startup": false,
            "wait_interval": 0
          }
        },
        "outputId": "9b0e37c2-56b8-4180-abb2-5a7432f455ee"
      },
      "cell_type": "code",
      "source": [
        "students = ['bernice', 'aaron', 'cody']\n",
        "\n",
        "# Put students in alphabetical order.\n",
        "students.sort()\n",
        "\n",
        "# Display the list in its current order.\n",
        "print(\"Our students are currently in alphabetical order.\")\n",
        "for student in students:\n",
        "    print(student.title())\n",
        "\n",
        "#Put students in reverse alphabetical order.\n",
        "students.sort(reverse=True)\n",
        "\n",
        "# Display the list in its current order.\n",
        "print(\"\\nOur students are now in reverse alphabetical order.\")\n",
        "for student in students:\n",
        "    print(student.title())"
      ],
      "execution_count": 0,
      "outputs": [
        {
          "output_type": "stream",
          "text": [
            "Our students are currently in alphabetical order.\n",
            "Aaron\n",
            "Bernice\n",
            "Cody\n",
            "\n",
            "Our students are now in reverse alphabetical order.\n",
            "Cody\n",
            "Bernice\n",
            "Aaron\n"
          ],
          "name": "stdout"
        }
      ]
    },
    {
      "metadata": {
        "id": "pR-ssVZbFmZ4",
        "colab_type": "text",
        "slideshow": {
          "slide_type": "subslide"
        }
      },
      "cell_type": "markdown",
      "source": [
        "### *sorted()* vs. *sort()*\n",
        "Whenever you consider sorting a list, keep in mind that you can not recover the original order. If you want to display a list in sorted order, but preserve the original order, you can use the *sorted()* function. The *sorted()* function also accepts the optional *reverse=True* argument."
      ]
    },
    {
      "metadata": {
        "id": "F10zDJw1FmZ4",
        "colab_type": "code",
        "slideshow": {
          "slide_type": "fragment"
        },
        "colab": {
          "autoexec": {
            "startup": false,
            "wait_interval": 0
          }
        },
        "outputId": "f77c8fdf-8ca0-439b-c60f-20eb5ed9da17"
      },
      "cell_type": "code",
      "source": [
        "students = ['bernice', 'aaron', 'cody']\n",
        "\n",
        "# Display students in alphabetical order, but keep the original order.\n",
        "print(\"Here is the list in alphabetical order:\")\n",
        "for student in sorted(students):\n",
        "    print(student.title())\n",
        "\n",
        "# Display students in reverse alphabetical order, but keep the original order.\n",
        "print(\"\\nHere is the list in reverse alphabetical order:\")\n",
        "for student in sorted(students, reverse=True):\n",
        "    print(student.title())\n",
        "\n",
        "print(\"\\nHere is the list in its original order:\")\n",
        "# Show that the list is still in its original order.\n",
        "for student in students:\n",
        "    print(student.title())"
      ],
      "execution_count": 0,
      "outputs": [
        {
          "output_type": "stream",
          "text": [
            "Here is the list in alphabetical order:\n",
            "Aaron\n",
            "Bernice\n",
            "Cody\n",
            "\n",
            "Here is the list in reverse alphabetical order:\n",
            "Cody\n",
            "Bernice\n",
            "Aaron\n",
            "\n",
            "Here is the list in its original order:\n",
            "Bernice\n",
            "Aaron\n",
            "Cody\n"
          ],
          "name": "stdout"
        }
      ]
    },
    {
      "metadata": {
        "id": "zWwnydzeFmZ6",
        "colab_type": "text",
        "slideshow": {
          "slide_type": "subslide"
        }
      },
      "cell_type": "markdown",
      "source": [
        "### Reversing a list\n",
        "We have seen three possible orders for a list:\n",
        "- The original order in which the list was created\n",
        "- Alphabetical order\n",
        "- Reverse alphabetical order\n",
        "\n",
        "There is one more order we can use, and that is the reverse of the original order of the list. The *reverse()* function gives us this order."
      ]
    },
    {
      "metadata": {
        "id": "QTxzVUysFmZ7",
        "colab_type": "code",
        "slideshow": {
          "slide_type": "fragment"
        },
        "colab": {
          "autoexec": {
            "startup": false,
            "wait_interval": 0
          }
        },
        "outputId": "02edbd3e-b13c-44c7-9915-00815615aeed"
      },
      "cell_type": "code",
      "source": [
        "students = ['bernice', 'aaron', 'cody']\n",
        "students.reverse()\n",
        "\n",
        "print(students)"
      ],
      "execution_count": 0,
      "outputs": [
        {
          "output_type": "stream",
          "text": [
            "['cody', 'aaron', 'bernice']\n"
          ],
          "name": "stdout"
        }
      ]
    },
    {
      "metadata": {
        "id": "h8AcNJlLFmZ9",
        "colab_type": "text",
        "slideshow": {
          "slide_type": "fragment"
        }
      },
      "cell_type": "markdown",
      "source": [
        "Note that reverse is permanent, although you could follow up with another call to *reverse()* and get back the original order of the list."
      ]
    },
    {
      "metadata": {
        "id": "8Kp542BMFmZ-",
        "colab_type": "text",
        "slideshow": {
          "slide_type": "subslide"
        }
      },
      "cell_type": "markdown",
      "source": [
        "### Sorting a numerical list\n",
        "All of the sorting functions work for numerical lists as well."
      ]
    },
    {
      "metadata": {
        "id": "o9rtRNayFmZ-",
        "colab_type": "code",
        "slideshow": {
          "slide_type": "fragment"
        },
        "colab": {
          "autoexec": {
            "startup": false,
            "wait_interval": 0
          }
        },
        "outputId": "8a48f4de-4113-48d3-ea77-60e9f27a841c"
      },
      "cell_type": "code",
      "source": [
        "numbers = [1, 3, 4, 2]\n",
        "\n",
        "# sort() puts numbers in increasing order.\n",
        "numbers.sort()\n",
        "print(numbers)\n",
        "\n",
        "# sort(reverse=True) puts numbers in decreasing order.\n",
        "numbers.sort(reverse=True)\n",
        "print(numbers)\n"
      ],
      "execution_count": 0,
      "outputs": [
        {
          "output_type": "stream",
          "text": [
            "[1, 2, 3, 4]\n",
            "[4, 3, 2, 1]\n"
          ],
          "name": "stdout"
        }
      ]
    },
    {
      "metadata": {
        "id": "-uIx16nVFmaA",
        "colab_type": "code",
        "slideshow": {
          "slide_type": "subslide"
        },
        "colab": {
          "autoexec": {
            "startup": false,
            "wait_interval": 0
          }
        },
        "outputId": "e75a3c2b-96cf-4728-e8f2-26c9ce308a14"
      },
      "cell_type": "code",
      "source": [
        "numbers = [1, 3, 4, 2]\n",
        "\n",
        "# sorted() preserves the original order of the list:\n",
        "print(sorted(numbers))\n",
        "print(numbers)"
      ],
      "execution_count": 0,
      "outputs": [
        {
          "output_type": "stream",
          "text": [
            "[1, 2, 3, 4]\n",
            "[1, 3, 4, 2]\n"
          ],
          "name": "stdout"
        }
      ]
    },
    {
      "metadata": {
        "id": "nPbmuaM2FmaB",
        "colab_type": "code",
        "slideshow": {
          "slide_type": "fragment"
        },
        "colab": {
          "autoexec": {
            "startup": false,
            "wait_interval": 0
          }
        },
        "outputId": "5542b184-31fb-4102-eb5b-40c6f12c84e1"
      },
      "cell_type": "code",
      "source": [
        "numbers = [1, 3, 4, 2]\n",
        "\n",
        "# The reverse() function also works for numerical lists.\n",
        "numbers.reverse()\n",
        "print(numbers)"
      ],
      "execution_count": 0,
      "outputs": [
        {
          "output_type": "stream",
          "text": [
            "[2, 4, 3, 1]\n"
          ],
          "name": "stdout"
        }
      ]
    },
    {
      "metadata": {
        "id": "3yVhDp9LFmaD",
        "colab_type": "text",
        "slideshow": {
          "slide_type": "subslide"
        }
      },
      "cell_type": "markdown",
      "source": [
        "<a name='length'></a>Finding the length of a list\n",
        "---\n",
        "You can find the length of a list using the *len()* function."
      ]
    },
    {
      "metadata": {
        "id": "JI77D97tFmaD",
        "colab_type": "code",
        "slideshow": {
          "slide_type": "fragment"
        },
        "colab": {
          "autoexec": {
            "startup": false,
            "wait_interval": 0
          }
        },
        "outputId": "1b58a88f-e146-4d89-adb8-1c67bb208fae"
      },
      "cell_type": "code",
      "source": [
        "usernames = ['bernice', 'cody', 'aaron']\n",
        "user_count = len(usernames)\n",
        "\n",
        "print(user_count)"
      ],
      "execution_count": 0,
      "outputs": [
        {
          "output_type": "stream",
          "text": [
            "3\n"
          ],
          "name": "stdout"
        }
      ]
    },
    {
      "metadata": {
        "id": "vPEmgtLhFmaF",
        "colab_type": "text",
        "slideshow": {
          "slide_type": "subslide"
        }
      },
      "cell_type": "markdown",
      "source": [
        "There are many situations where you might want to know how many items in a list. If you have a list that stores your users, you can find the length of your list at any time, and know how many users you have."
      ]
    },
    {
      "metadata": {
        "id": "tuj92ZfhFmaF",
        "colab_type": "code",
        "slideshow": {
          "slide_type": "fragment"
        },
        "colab": {
          "autoexec": {
            "startup": false,
            "wait_interval": 0
          }
        },
        "outputId": "25d0954b-5931-4e56-d5c1-9d5959c5fa95"
      },
      "cell_type": "code",
      "source": [
        "# Create an empty list to hold our users.\n",
        "usernames = []\n",
        "\n",
        "# Add some users, and report on how many users we have.\n",
        "usernames.append('bernice')\n",
        "user_count = len(usernames)\n",
        "\n",
        "print(\"We have \" + str(user_count) + \" user!\")\n",
        "\n",
        "usernames.append('cody')\n",
        "usernames.append('aaron')\n",
        "user_count = len(usernames)\n",
        "\n",
        "print(\"We have \" + str(user_count) + \" users!\")"
      ],
      "execution_count": 0,
      "outputs": [
        {
          "output_type": "stream",
          "text": [
            "We have 1 user!\n",
            "We have 3 users!\n"
          ],
          "name": "stdout"
        }
      ]
    },
    {
      "metadata": {
        "id": "q6XS0R-sFmaH",
        "colab_type": "text",
        "slideshow": {
          "slide_type": "subslide"
        }
      },
      "cell_type": "markdown",
      "source": [
        "On a technical note, the *len()* function returns an integer, which can't be printed directly with strings. We use the *str()* function to turn the integer into a string so that it prints nicely:"
      ]
    },
    {
      "metadata": {
        "id": "1ms0XIjgFmaH",
        "colab_type": "code",
        "slideshow": {
          "slide_type": "fragment"
        },
        "colab": {
          "autoexec": {
            "startup": false,
            "wait_interval": 0
          }
        },
        "outputId": "ea022940-3163-4978-dbd5-c7a653aae888"
      },
      "cell_type": "code",
      "source": [
        "usernames = ['bernice', 'cody', 'aaron']\n",
        "user_count = len(usernames)\n",
        "\n",
        "print(\"This will cause an error: \" + user_count)"
      ],
      "execution_count": 0,
      "outputs": [
        {
          "output_type": "error",
          "ename": "TypeError",
          "evalue": "Can't convert 'int' object to str implicitly",
          "traceback": [
            "\u001b[0;31m---------------------------------------------------------------------------\u001b[0m\n\u001b[0;31mTypeError\u001b[0m                                 Traceback (most recent call last)",
            "\u001b[0;32m<ipython-input-43-92e732ef190e>\u001b[0m in \u001b[0;36m<module>\u001b[0;34m()\u001b[0m\n\u001b[1;32m      2\u001b[0m \u001b[0muser_count\u001b[0m \u001b[0;34m=\u001b[0m \u001b[0mlen\u001b[0m\u001b[0;34m(\u001b[0m\u001b[0musernames\u001b[0m\u001b[0;34m)\u001b[0m\u001b[0;34m\u001b[0m\u001b[0m\n\u001b[1;32m      3\u001b[0m \u001b[0;34m\u001b[0m\u001b[0m\n\u001b[0;32m----> 4\u001b[0;31m \u001b[0mprint\u001b[0m\u001b[0;34m(\u001b[0m\u001b[0;34m\"This will cause an error: \"\u001b[0m \u001b[0;34m+\u001b[0m \u001b[0muser_count\u001b[0m\u001b[0;34m)\u001b[0m\u001b[0;34m\u001b[0m\u001b[0m\n\u001b[0m",
            "\u001b[0;31mTypeError\u001b[0m: Can't convert 'int' object to str implicitly"
          ]
        }
      ]
    },
    {
      "metadata": {
        "id": "eQ4jVOmyFmaJ",
        "colab_type": "code",
        "slideshow": {
          "slide_type": "fragment"
        },
        "colab": {
          "autoexec": {
            "startup": false,
            "wait_interval": 0
          }
        },
        "outputId": "fc2fcf83-3e3f-40cd-c829-9e29e49fc803"
      },
      "cell_type": "code",
      "source": [
        "usernames = ['bernice', 'cody', 'aaron']\n",
        "user_count = len(usernames)\n",
        "\n",
        "print(\"This will work: \" + str(user_count))"
      ],
      "execution_count": 0,
      "outputs": [
        {
          "output_type": "stream",
          "text": [
            "This will work: 3\n"
          ],
          "name": "stdout"
        }
      ]
    },
    {
      "metadata": {
        "id": "XrIJy7HAFmaK",
        "colab_type": "text",
        "slideshow": {
          "slide_type": "slide"
        }
      },
      "cell_type": "markdown",
      "source": [
        "<a name='exercises_common_operations'></a>Exercises\n",
        "---\n",
        "#### Working List\n",
        "- Make a list that includes four careers, such as 'programmer' and 'truck driver'.\n",
        "- Use the *list.index()* function to find the index of one career in your list.\n",
        "- Use the *in* function to show that this career is in your list.\n",
        "- Use the *append()* function to add a new career to your list.\n",
        "- Use the *insert()* function to add a new career at the beginning of the list.\n",
        "- Use a loop to show all the careers in your list.\n",
        "\n",
        "#### Starting From Empty\n",
        "- Create the list you ended up with in *Working List*, but this time start your file with an empty list and fill it up using *append()* statements.\n",
        "- Print a statement that tells us what the first career you thought of was.\n",
        "- Print a statement that tells us what the last career you thought of was.\n",
        "\n",
        "#### Ordered Working List\n",
        "- Start with the list you created in *Working List*.\n",
        "- You are going to print out the list in a number of different orders.\n",
        "- Each time you print the list, use a for loop rather than printing the raw list.\n",
        "- Print a message each time telling us what order we should see the list in.\n",
        "    - Print the list in its original order.\n",
        "    - Print the list in alphabetical order.\n",
        "    - Print the list in its original order.\n",
        "    - Print the list in reverse alphabetical order.\n",
        "    - Print the list in its original order.\n",
        "    - Print the list in the reverse order from what it started.\n",
        "    - Print the list in its original order\n",
        "    - Permanently sort the list in alphabetical order, and then print it out.\n",
        "    - Permanently sort the list in reverse alphabetical order, and then print it out.\n",
        "\n",
        "#### Ordered Numbers\n",
        "- Make a list of 5 numbers, in a random order.\n",
        "- You are going to print out the list in a number of different orders.\n",
        "- Each time you print the list, use a for loop rather than printing the raw list.\n",
        "- Print a message each time telling us what order we should see the list in.\n",
        "    - Print the numbers in the original order.\n",
        "    - Print the numbers in increasing order.\n",
        "    - Print the numbers in the original order.\n",
        "    - Print the numbers in decreasing order.\n",
        "    - Print the numbers in their original order.\n",
        "    - Print the numbers in the reverse order from how they started.\n",
        "    - Print the numbers in the original order.\n",
        "    - Permanently sort the numbers in increasing order, and then print them out.\n",
        "    - Permanently sort the numbers in descreasing order, and then print them out.\n",
        "\n",
        "#### List Lengths\n",
        "- Copy two or three of the lists you made from the previous exercises, or make up two or three new lists.\n",
        "- Print out a series of statements that tell us how long each list is."
      ]
    },
    {
      "metadata": {
        "id": "zZoH5OnBFmaL",
        "colab_type": "code",
        "slideshow": {
          "slide_type": "skip"
        },
        "colab": {
          "autoexec": {
            "startup": false,
            "wait_interval": 0
          }
        }
      },
      "cell_type": "code",
      "source": [
        "# Ex 3.7 : Working List\n",
        "\n",
        "# put your code here"
      ],
      "execution_count": 0,
      "outputs": []
    },
    {
      "metadata": {
        "id": "vsYiyMz_FmaP",
        "colab_type": "code",
        "slideshow": {
          "slide_type": "skip"
        },
        "colab": {
          "autoexec": {
            "startup": false,
            "wait_interval": 0
          }
        }
      },
      "cell_type": "code",
      "source": [
        "# Ex 3.8 : Starting From Empty\n",
        "\n",
        "# put your code here"
      ],
      "execution_count": 0,
      "outputs": []
    },
    {
      "metadata": {
        "id": "r4RHzo48FmaR",
        "colab_type": "code",
        "slideshow": {
          "slide_type": "skip"
        },
        "colab": {
          "autoexec": {
            "startup": false,
            "wait_interval": 0
          }
        }
      },
      "cell_type": "code",
      "source": [
        "# Ex 3.9 : Ordered Working List\n",
        "\n",
        "# put your code here"
      ],
      "execution_count": 0,
      "outputs": []
    },
    {
      "metadata": {
        "id": "TJNwyxA6FmaS",
        "colab_type": "code",
        "slideshow": {
          "slide_type": "skip"
        },
        "colab": {
          "autoexec": {
            "startup": false,
            "wait_interval": 0
          }
        }
      },
      "cell_type": "code",
      "source": [
        "# Ex 3.10 : Ordered Numbers\n",
        "\n",
        "# put your code here"
      ],
      "execution_count": 0,
      "outputs": []
    },
    {
      "metadata": {
        "id": "JSMxl0BYFmaT",
        "colab_type": "code",
        "slideshow": {
          "slide_type": "skip"
        },
        "colab": {
          "autoexec": {
            "startup": false,
            "wait_interval": 0
          }
        }
      },
      "cell_type": "code",
      "source": [
        "# Ex 3.11 : List Lengths\n",
        "\n",
        "# put your code here"
      ],
      "execution_count": 0,
      "outputs": []
    },
    {
      "metadata": {
        "id": "ZXmzPaX8FmaV",
        "colab_type": "text",
        "slideshow": {
          "slide_type": "skip"
        }
      },
      "cell_type": "markdown",
      "source": [
        "[top](#top)"
      ]
    },
    {
      "metadata": {
        "id": "XLd8_uPAFmaV",
        "colab_type": "text",
        "slideshow": {
          "slide_type": "slide"
        }
      },
      "cell_type": "markdown",
      "source": [
        "<a name='removing_items'></a>Removing Items from a List\n",
        "===\n",
        "Hopefully you can see by now that lists are a dynamic structure. We can define an empty list and then fill it up as information comes into our program. To become really dynamic, we need some ways to remove items from a list when we no longer need them. You can remove items from a list through their position, or through their value."
      ]
    },
    {
      "metadata": {
        "id": "gyusDu_cFmaW",
        "colab_type": "text",
        "slideshow": {
          "slide_type": "subslide"
        }
      },
      "cell_type": "markdown",
      "source": [
        "<a name='removing_by_position'></a>Removing items by position\n",
        "---\n",
        "If you know the position of an item in a list, you can remove that item using the *del* command. To use this approach, give the command *del* and the name of your list, with the index of the item you want to move in square brackets:"
      ]
    },
    {
      "metadata": {
        "id": "IZxps0SbFmaW",
        "colab_type": "code",
        "slideshow": {
          "slide_type": "fragment"
        },
        "colab": {
          "autoexec": {
            "startup": false,
            "wait_interval": 0
          }
        },
        "outputId": "306c753f-1768-4aa3-8d5d-51c056013bae"
      },
      "cell_type": "code",
      "source": [
        "dogs = ['border collie', 'australian cattle dog', 'labrador retriever']\n",
        "# Remove the first dog from the list.\n",
        "del dogs[0]\n",
        "\n",
        "print(dogs)"
      ],
      "execution_count": 0,
      "outputs": [
        {
          "output_type": "stream",
          "text": [
            "['australian cattle dog', 'labrador retriever']\n"
          ],
          "name": "stdout"
        }
      ]
    },
    {
      "metadata": {
        "id": "xhiKx0NTFmaZ",
        "colab_type": "text",
        "slideshow": {
          "slide_type": "subslide"
        }
      },
      "cell_type": "markdown",
      "source": [
        "<a name='removing_by_value'></a>Removing items by value\n",
        "---\n",
        "You can also remove an item from a list if you know its value. To do this, we use the *remove()* function. Give the name of the list, followed by the word remove with the value of the item you want to remove in parentheses. Python looks through your list, finds the first item with this value, and removes it."
      ]
    },
    {
      "metadata": {
        "id": "Kxm1rZabFmaZ",
        "colab_type": "code",
        "slideshow": {
          "slide_type": "fragment"
        },
        "colab": {
          "autoexec": {
            "startup": false,
            "wait_interval": 0
          }
        },
        "outputId": "ac8c8d86-d340-4027-e676-799576d0e1fb"
      },
      "cell_type": "code",
      "source": [
        "dogs = ['border collie', 'australian cattle dog', 'labrador retriever']\n",
        "# Remove australian cattle dog from the list.\n",
        "dogs.remove('australian cattle dog')\n",
        "\n",
        "print(dogs)"
      ],
      "execution_count": 0,
      "outputs": [
        {
          "output_type": "stream",
          "text": [
            "['border collie', 'labrador retriever']\n"
          ],
          "name": "stdout"
        }
      ]
    },
    {
      "metadata": {
        "id": "cpnWxDP0Fmab",
        "colab_type": "text",
        "slideshow": {
          "slide_type": "subslide"
        }
      },
      "cell_type": "markdown",
      "source": [
        "Be careful to note, however, that *only* the first item with this value is removed. If you have multiple items with the same value, you will have some items with this value left in your list."
      ]
    },
    {
      "metadata": {
        "id": "IKHquoMSFmac",
        "colab_type": "code",
        "slideshow": {
          "slide_type": "fragment"
        },
        "colab": {
          "autoexec": {
            "startup": false,
            "wait_interval": 0
          }
        },
        "outputId": "cb8d85c9-331c-4148-ab25-2e573233052e"
      },
      "cell_type": "code",
      "source": [
        "letters = ['a', 'b', 'c', 'a', 'b', 'c']\n",
        "# Remove the letter a from the list.\n",
        "letters.remove('a')\n",
        "\n",
        "print(letters)"
      ],
      "execution_count": 0,
      "outputs": [
        {
          "output_type": "stream",
          "text": [
            "['b', 'c', 'a', 'b', 'c']\n"
          ],
          "name": "stdout"
        }
      ]
    },
    {
      "metadata": {
        "id": "YTkMpPYFFmaf",
        "colab_type": "text",
        "slideshow": {
          "slide_type": "subslide"
        }
      },
      "cell_type": "markdown",
      "source": [
        "<a name='popping'></a>Popping items from a list\n",
        "---\n",
        "There is a cool concept in programming called \"popping\" items from a collection. Every programming language has some sort of data structure similar to Python's lists. All of these structures can be used as queues, and there are various ways of processing the items in a queue.\n",
        "\n",
        "One simple approach is to start with an empty list, and then add items to that list. When you want to work with the items in the list, you always take the last item from the list, do something with it, and then remove that item. The *pop()* function makes this easy. It removes the last item from the list, and gives it to us so we can work with it. "
      ]
    },
    {
      "metadata": {
        "id": "KhIwJ8_eFmag",
        "colab_type": "text",
        "slideshow": {
          "slide_type": "fragment"
        }
      },
      "cell_type": "markdown",
      "source": [
        "This is easier to show with an example"
      ]
    },
    {
      "metadata": {
        "id": "CqLxOIhYFmag",
        "colab_type": "code",
        "slideshow": {
          "slide_type": "subslide"
        },
        "colab": {
          "autoexec": {
            "startup": false,
            "wait_interval": 0
          }
        },
        "outputId": "4e82ef3b-9265-406c-9530-9b596ab0ab4d"
      },
      "cell_type": "code",
      "source": [
        "dogs = ['border collie', 'australian cattle dog', 'labrador retriever']\n",
        "last_dog = dogs.pop()\n",
        "\n",
        "print(last_dog)\n",
        "print(dogs)"
      ],
      "execution_count": 0,
      "outputs": [
        {
          "output_type": "stream",
          "text": [
            "labrador retriever\n",
            "['border collie', 'australian cattle dog']\n"
          ],
          "name": "stdout"
        }
      ]
    },
    {
      "metadata": {
        "id": "FLw8k6WoFmai",
        "colab_type": "text",
        "slideshow": {
          "slide_type": "subslide"
        }
      },
      "cell_type": "markdown",
      "source": [
        "This is an example of a first-in, last-out approach. The first item in the list would be the last item processed if you kept using this approach. We will see a full implementation of this approach later on, when we learn about *while* loops.\n",
        "\n",
        "You can actually pop any item you want from a list, by giving the index of the item you want to pop. So we could do a first-in, first-out approach by popping the first iem in the list:"
      ]
    },
    {
      "metadata": {
        "id": "4WqArcqjFmaj",
        "colab_type": "code",
        "slideshow": {
          "slide_type": "fragment"
        },
        "colab": {
          "autoexec": {
            "startup": false,
            "wait_interval": 0
          }
        },
        "outputId": "7c2bd3ee-0cac-4232-ffa4-9a7dfd6b057f"
      },
      "cell_type": "code",
      "source": [
        "dogs = ['border collie', 'australian cattle dog', 'labrador retriever']\n",
        "first_dog = dogs.pop(0)\n",
        "\n",
        "print(first_dog)\n",
        "print(dogs)"
      ],
      "execution_count": 0,
      "outputs": [
        {
          "output_type": "stream",
          "text": [
            "border collie\n",
            "['australian cattle dog', 'labrador retriever']\n"
          ],
          "name": "stdout"
        }
      ]
    },
    {
      "metadata": {
        "id": "M2pteZtfFmal",
        "colab_type": "text",
        "slideshow": {
          "slide_type": "slide"
        }
      },
      "cell_type": "markdown",
      "source": [
        "<a name='exercises_removing_items'></a>Exercises\n",
        "---\n",
        "#### Famous People\n",
        "- Make a list that includes the names of four famous people.\n",
        "- Remove each person from the list, one at a time, using each of the four methods we have just seen:\n",
        "    - Pop the last item from the list, and pop any item except the last item.\n",
        "    - Remove one item by its position, and one item by its value.\n",
        "- Print out a message that there are no famous people left in your list, and print your list to prove that it is empty."
      ]
    },
    {
      "metadata": {
        "id": "FsgUM91_Fmal",
        "colab_type": "code",
        "slideshow": {
          "slide_type": "skip"
        },
        "colab": {
          "autoexec": {
            "startup": false,
            "wait_interval": 0
          }
        },
        "outputId": "320518e3-3d96-4ae9-cb76-76f0af97b0d3"
      },
      "cell_type": "code",
      "source": [
        "# Ex 3.12 : Famous People\n",
        "fpeople = ['david bowie', 'robert plant', 'obama', 'taylor swift']\n",
        "#Remove each person from the list, one at a time, using each of the four methods we have just seen\n",
        "fpeople.remove('taylor swift')\n",
        "print(fpeople)\n",
        "del fpeople[2]\n",
        "print(fpeople)\n",
        "bowie=fpeople.pop(0)\n",
        "print(bowie,fpeople)\n",
        "last=fpeople.pop()\n",
        "print('there are no more famous people in the list')\n",
        "print(fpeople)\n",
        "# put your code here"
      ],
      "execution_count": 0,
      "outputs": [
        {
          "output_type": "stream",
          "text": [
            "['david bowie', 'robert plant', 'obama']\n",
            "['david bowie', 'robert plant']\n",
            "david bowie ['robert plant']\n",
            "there are no more famous people in the list\n",
            "[]\n"
          ],
          "name": "stdout"
        }
      ]
    },
    {
      "metadata": {
        "id": "rvxqnmXiFman",
        "colab_type": "code",
        "colab": {
          "autoexec": {
            "startup": false,
            "wait_interval": 0
          }
        },
        "outputId": "a5d511c7-bcce-4549-97a9-6f35723d16b3"
      },
      "cell_type": "code",
      "source": [
        "#Pop the last item from the list\n",
        "fpeople = ['david bowie', 'robert plant', 'obama', 'taylor swift']\n",
        "fpeople.pop()\n",
        "print(fpeople)\n",
        "# and pop any item except the last item.\n",
        "fpeople = ['david bowie', 'robert plant', 'obama', 'taylor swift']\n",
        "for _ in range(0,len(fpeople)-1):\n",
        "    fpeople.pop(0)\n",
        "print(fpeople)\n",
        "\n",
        "fpeople = ['david bowie', 'robert plant', 'obama', 'taylor swift']\n",
        "fpeople.remove('obama')\n",
        "del fpeople[2]\n",
        "print(fpeople)\n"
      ],
      "execution_count": 0,
      "outputs": [
        {
          "output_type": "stream",
          "text": [
            "['david bowie', 'robert plant', 'obama']\n",
            "['taylor swift']\n",
            "['david bowie', 'robert plant']\n"
          ],
          "name": "stdout"
        }
      ]
    },
    {
      "metadata": {
        "id": "Kf-qeKH-Fmaq",
        "colab_type": "text",
        "slideshow": {
          "slide_type": "skip"
        }
      },
      "cell_type": "markdown",
      "source": [
        "[top](#top)"
      ]
    },
    {
      "metadata": {
        "id": "DLxtXhOtFmar",
        "colab_type": "text",
        "slideshow": {
          "slide_type": "slide"
        }
      },
      "cell_type": "markdown",
      "source": [
        "<a name='slicing'></a>Slicing a List\n",
        "===\n",
        "Since a list is a collection of items, we should be able to get any subset of those items. For example, if we want to get just the first three items from the list, we should be able to do so easily. The same should be true for any three items in the middle of the list, or the last three items, or any x items from anywhere in the list. These subsets of a list are called *slices*."
      ]
    },
    {
      "metadata": {
        "id": "4ZEf65LnFmar",
        "colab_type": "text",
        "slideshow": {
          "slide_type": "fragment"
        }
      },
      "cell_type": "markdown",
      "source": [
        "To get a subset of a list, we give the position of the first item we want, and the position of the first item we do *not* want to include in the subset. So the slice *list[0:3]* will return a list containing items 0, 1, and 2, but not item 3. "
      ]
    },
    {
      "metadata": {
        "id": "0bqCQ9BmFmas",
        "colab_type": "text",
        "slideshow": {
          "slide_type": "subslide"
        }
      },
      "cell_type": "markdown",
      "source": [
        "Here is how you get a batch containing the first three items."
      ]
    },
    {
      "metadata": {
        "id": "dWTzlLZhFmas",
        "colab_type": "code",
        "slideshow": {
          "slide_type": "fragment"
        },
        "colab": {
          "autoexec": {
            "startup": false,
            "wait_interval": 0
          }
        },
        "outputId": "131dfd38-7263-43f7-ac80-5028d22d3696"
      },
      "cell_type": "code",
      "source": [
        "usernames = ['bernice', 'cody', 'aaron', 'ever', 'dalia']\n",
        "\n",
        "# Grab the first three users in the list.\n",
        "first_batch = usernames[0:3]\n",
        "\n",
        "for user in first_batch:\n",
        "    print(user.title())"
      ],
      "execution_count": 0,
      "outputs": [
        {
          "output_type": "stream",
          "text": [
            "Bernice\n",
            "Cody\n",
            "Aaron\n"
          ],
          "name": "stdout"
        }
      ]
    },
    {
      "metadata": {
        "id": "tR08pSGRFmav",
        "colab_type": "text",
        "slideshow": {
          "slide_type": "subslide"
        }
      },
      "cell_type": "markdown",
      "source": [
        "If you want to grab everything up to a certain position in the list, you can also leave the first index blank:"
      ]
    },
    {
      "metadata": {
        "id": "zn6LIx10Fmaw",
        "colab_type": "code",
        "slideshow": {
          "slide_type": "fragment"
        },
        "colab": {
          "autoexec": {
            "startup": false,
            "wait_interval": 0
          }
        },
        "outputId": "3df9b60f-e4e7-4461-b625-6877f9a1075b"
      },
      "cell_type": "code",
      "source": [
        "usernames = ['bernice', 'cody', 'aaron', 'ever', 'dalia']\n",
        "\n",
        "# Grab the first three users in the list.\n",
        "first_batch = usernames[:3]\n",
        "\n",
        "for user in first_batch:\n",
        "    print(user.title())"
      ],
      "execution_count": 0,
      "outputs": [
        {
          "output_type": "stream",
          "text": [
            "Bernice\n",
            "Cody\n",
            "Aaron\n"
          ],
          "name": "stdout"
        }
      ]
    },
    {
      "metadata": {
        "id": "mHD-8sp-Fmay",
        "colab_type": "text",
        "slideshow": {
          "slide_type": "subslide"
        }
      },
      "cell_type": "markdown",
      "source": [
        "When we grab a slice from a list, the original list is not affected:"
      ]
    },
    {
      "metadata": {
        "id": "QvFgfXHNFmay",
        "colab_type": "code",
        "slideshow": {
          "slide_type": "fragment"
        },
        "colab": {
          "autoexec": {
            "startup": false,
            "wait_interval": 0
          }
        },
        "outputId": "4ba3a212-cbe4-4f06-c6f1-520cac78ef8f"
      },
      "cell_type": "code",
      "source": [
        "usernames = ['bernice', 'cody', 'aaron', 'ever', 'dalia']\n",
        "\n",
        "# Grab the first three users in the list.\n",
        "first_batch = usernames[0:3]\n",
        "\n",
        "# The original list is unaffected.\n",
        "for user in usernames:\n",
        "    print(user.title())"
      ],
      "execution_count": 0,
      "outputs": [
        {
          "output_type": "stream",
          "text": [
            "Bernice\n",
            "Cody\n",
            "Aaron\n",
            "Ever\n",
            "Dalia\n"
          ],
          "name": "stdout"
        }
      ]
    },
    {
      "metadata": {
        "id": "TSerZpGCFma0",
        "colab_type": "text",
        "slideshow": {
          "slide_type": "subslide"
        }
      },
      "cell_type": "markdown",
      "source": [
        "We can get any segment of a list we want, using the slice method:"
      ]
    },
    {
      "metadata": {
        "id": "6W1Es1QjFma0",
        "colab_type": "code",
        "slideshow": {
          "slide_type": "fragment"
        },
        "colab": {
          "autoexec": {
            "startup": false,
            "wait_interval": 0
          }
        },
        "outputId": "e090bcb3-11c3-4218-9ef5-291f03f63263"
      },
      "cell_type": "code",
      "source": [
        "usernames = ['bernice', 'cody', 'aaron', 'ever', 'dalia']\n",
        "\n",
        "# Grab a batch from the middle of the list.\n",
        "middle_batch = usernames[1:4]\n",
        "\n",
        "for user in middle_batch:\n",
        "    print(user.title())"
      ],
      "execution_count": 0,
      "outputs": [
        {
          "output_type": "stream",
          "text": [
            "Cody\n",
            "Aaron\n",
            "Ever\n"
          ],
          "name": "stdout"
        }
      ]
    },
    {
      "metadata": {
        "id": "IAo4MYcEFma2",
        "colab_type": "text",
        "slideshow": {
          "slide_type": "subslide"
        }
      },
      "cell_type": "markdown",
      "source": [
        "To get all items from one position in the list to the end of the list, we can leave off the second index:"
      ]
    },
    {
      "metadata": {
        "id": "E5uBikQlFma3",
        "colab_type": "code",
        "slideshow": {
          "slide_type": "fragment"
        },
        "colab": {
          "autoexec": {
            "startup": false,
            "wait_interval": 0
          }
        },
        "outputId": "887e321a-c89d-49c5-84fa-962bc2bf726e"
      },
      "cell_type": "code",
      "source": [
        "usernames = ['bernice', 'cody', 'aaron', 'ever', 'dalia']\n",
        "\n",
        "# Grab all users from the third to the end.\n",
        "end_batch = usernames[2:]\n",
        "\n",
        "for user in end_batch:\n",
        "    print(user.title())"
      ],
      "execution_count": 0,
      "outputs": [
        {
          "output_type": "stream",
          "text": [
            "Aaron\n",
            "Ever\n",
            "Dalia\n"
          ],
          "name": "stdout"
        }
      ]
    },
    {
      "metadata": {
        "id": "lGU8cjAHFma4",
        "colab_type": "text",
        "slideshow": {
          "slide_type": "subslide"
        }
      },
      "cell_type": "markdown",
      "source": [
        "### <a name='copying'></a>Copying a list\n",
        "You can use the slice notation to make a copy of a list, by leaving out both the starting and the ending index. This causes the slice to consist of everything from the first item to the last, which is the entire list."
      ]
    },
    {
      "metadata": {
        "id": "2Pj6lLrCFma5",
        "colab_type": "code",
        "slideshow": {
          "slide_type": "fragment"
        },
        "colab": {
          "autoexec": {
            "startup": false,
            "wait_interval": 0
          }
        },
        "outputId": "e49ed892-9f87-4c2b-a786-80f01ffadabf"
      },
      "cell_type": "code",
      "source": [
        "usernames = ['bernice', 'cody', 'aaron', 'ever', 'dalia']\n",
        "\n",
        "# Make a copy of the list.\n",
        "copied_usernames = usernames[:]\n",
        "print(\"The full copied list:\\n\\t\", copied_usernames)\n",
        "\n",
        "# Remove the first two users from the copied list.\n",
        "del copied_usernames[0]\n",
        "del copied_usernames[0]\n",
        "print(\"\\nTwo users removed from copied list:\\n\\t\", copied_usernames)\n",
        "\n",
        "# The original list is unaffected.\n",
        "print(\"\\nThe original list:\\n\\t\", usernames)"
      ],
      "execution_count": 0,
      "outputs": [
        {
          "output_type": "stream",
          "text": [
            "The full copied list:\n",
            "\t ['bernice', 'cody', 'aaron', 'ever', 'dalia']\n",
            "\n",
            "Two users removed from copied list:\n",
            "\t ['aaron', 'ever', 'dalia']\n",
            "\n",
            "The original list:\n",
            "\t ['bernice', 'cody', 'aaron', 'ever', 'dalia']\n"
          ],
          "name": "stdout"
        }
      ]
    },
    {
      "metadata": {
        "id": "BzPPwkshFma8",
        "colab_type": "text",
        "slideshow": {
          "slide_type": "slide"
        }
      },
      "cell_type": "markdown",
      "source": [
        "<a name='exercises_slicing'></a>Exercises\n",
        "---\n",
        "#### Alphabet Slices\n",
        "- Store the first ten letters of the alphabet in a list.\n",
        "- Use a slice to print out the first three letters of the alphabet.\n",
        "- Use a slice to print out any three letters from the middle of your list.\n",
        "- Use a slice to print out the letters from any point in the middle of your list, to the end.\n",
        "\n",
        "#### Protected List\n",
        "- Your goal in this exercise is to prove that copying a list protects the original list.\n",
        "- Make a list with three people's names in it.\n",
        "- Use a slice to make a copy of the entire list.\n",
        "- Add at least two new names to the new copy of the list.\n",
        "- Make a loop that prints out all of the names in the original list, along with a message that this is the original list.\n",
        "- Make a loop that prints out all of the names in the copied list, along with a message that this is the copied list."
      ]
    },
    {
      "metadata": {
        "id": "eVZahou0Fma8",
        "colab_type": "code",
        "colab": {
          "autoexec": {
            "startup": false,
            "wait_interval": 0
          }
        },
        "outputId": "e44e3f2a-8d00-4d7b-821c-c39047af3321"
      },
      "cell_type": "code",
      "source": [
        "from string import ascii_lowercase\n",
        "print(ascii_lowercase)\n",
        "tenletters=ascii_lowercase[0:10]\n",
        "print(tenletters)"
      ],
      "execution_count": 0,
      "outputs": [
        {
          "output_type": "stream",
          "text": [
            "abcdefghijklmnopqrstuvwxyz\n",
            "abcdefghij\n"
          ],
          "name": "stdout"
        }
      ]
    },
    {
      "metadata": {
        "id": "HVH8ZHwFFma-",
        "colab_type": "code",
        "slideshow": {
          "slide_type": "skip"
        },
        "colab": {
          "autoexec": {
            "startup": false,
            "wait_interval": 0
          }
        },
        "outputId": "be686b6f-0cdf-49e6-9342-679bfa9538f2"
      },
      "cell_type": "code",
      "source": [
        "# Ex 3.13 : Alphabet Slices\n",
        "#Store the first ten letters of the alphabet in a list.\n",
        "alphabet=tenletters[:]\n",
        "#Use a slice to print out the first three letters of the alphabet.\n",
        "print(alphabet[:3])\n",
        "#Use a slice to print out any three letters from the middle of your list.\n",
        "print(alphabet[6:9])\n",
        "#Use a slice to print out the letters from any point in the middle of your list, to the end.\n",
        "print(alphabet[6:])\n",
        "# put your code here"
      ],
      "execution_count": 0,
      "outputs": [
        {
          "output_type": "stream",
          "text": [
            "abc\n",
            "ghi\n",
            "ghij\n"
          ],
          "name": "stdout"
        }
      ]
    },
    {
      "metadata": {
        "id": "5XbaNXduFmbA",
        "colab_type": "code",
        "slideshow": {
          "slide_type": "skip"
        },
        "colab": {
          "autoexec": {
            "startup": false,
            "wait_interval": 0
          }
        },
        "outputId": "8cfd1704-6d20-491b-afad-7fcfa0d7a8b5"
      },
      "cell_type": "code",
      "source": [
        "# Ex 3.14 : Protected List\n",
        "#Your goal in this exercise is to prove that copying a list protects the original list.\n",
        "#Make a list with three people's names in it.\n",
        "names=['alice','anna','ada']\n",
        "#Use a slice to make a copy of the entire list.\n",
        "copied_names=names[:]\n",
        "#Add at least two new names to the new copy of the list.\n",
        "copied_names.append('agata')\n",
        "copied_names.append('aurora')\n",
        "#Make a loop that prints out all of the names in the original list, along with a message that this is the original list.\n",
        "print('This is the original list:')\n",
        "for name in names:\n",
        "    print(name.title())\n",
        "#Make a loop that prints out all of the names in the copied list, along with a message that this is the copied list.\n",
        "print('This is the copy: ')\n",
        "for cname in copied_names:\n",
        "    print(cname.title())\n",
        "print(copied_names)\n",
        "\n",
        "#title the names in the original list\n",
        "print (names)\n",
        "copied_names = [i.title() for i in copied_names]\n",
        "print(copied_names)"
      ],
      "execution_count": 0,
      "outputs": [
        {
          "output_type": "stream",
          "text": [
            "This is the original list:\n",
            "Alice\n",
            "Anna\n",
            "Ada\n",
            "This is the copy: \n",
            "Alice\n",
            "Anna\n",
            "Ada\n",
            "Agata\n",
            "Aurora\n",
            "['alice', 'anna', 'ada', 'agata', 'aurora']\n",
            "['alice', 'anna', 'ada']\n",
            "['Alice', 'Anna', 'Ada', 'Agata', 'Aurora']\n"
          ],
          "name": "stdout"
        }
      ]
    },
    {
      "metadata": {
        "id": "DpC1sossFmbB",
        "colab_type": "text",
        "slideshow": {
          "slide_type": "skip"
        }
      },
      "cell_type": "markdown",
      "source": [
        "[top](#top)"
      ]
    },
    {
      "metadata": {
        "id": "5q5UYaX2FmbC",
        "colab_type": "text",
        "slideshow": {
          "slide_type": "subslide"
        }
      },
      "cell_type": "markdown",
      "source": [
        "<a name='numerical_lists'></a>Numerical Lists\n",
        "===\n",
        "There is nothing special about lists of numbers, but there are some functions you can use to make working with numerical lists more efficient. Let's make a list of the first ten numbers, and start working with it to see how we can use numbers in a list."
      ]
    },
    {
      "metadata": {
        "id": "22GmuXhUFmbC",
        "colab_type": "code",
        "slideshow": {
          "slide_type": "fragment"
        },
        "colab": {
          "autoexec": {
            "startup": false,
            "wait_interval": 0
          }
        },
        "outputId": "6cdfe7ca-7726-4836-8360-e7c685dfec8a"
      },
      "cell_type": "code",
      "source": [
        "# Print out the first ten numbers.\n",
        "numbers = [1, 2, 3, 4, 5, 6, 7, 8, 9, 10]\n",
        "\n",
        "for number in numbers:\n",
        "    print(number)"
      ],
      "execution_count": 0,
      "outputs": [
        {
          "output_type": "stream",
          "text": [
            "1\n",
            "2\n",
            "3\n",
            "4\n",
            "5\n",
            "6\n",
            "7\n",
            "8\n",
            "9\n",
            "10\n"
          ],
          "name": "stdout"
        }
      ]
    },
    {
      "metadata": {
        "id": "MfqxXMe3FmbE",
        "colab_type": "text",
        "slideshow": {
          "slide_type": "subslide"
        }
      },
      "cell_type": "markdown",
      "source": [
        "<a name='range_function'></a>The *range()* function\n",
        "---\n",
        "This works, but it is not very efficient if we want to work with a large set of numbers. The *range()* function helps us generate long lists of numbers. Here are two ways to do the same thing, using the *range* function."
      ]
    },
    {
      "metadata": {
        "id": "1a-suGjHFmbE",
        "colab_type": "code",
        "slideshow": {
          "slide_type": "fragment"
        },
        "colab": {
          "autoexec": {
            "startup": false,
            "wait_interval": 0
          }
        },
        "outputId": "f1010d7f-8ea4-4dfd-e54d-dda8f6d455d8"
      },
      "cell_type": "code",
      "source": [
        "# Print the first ten numbers.\n",
        "for number in range(1,11):\n",
        "    print(number)"
      ],
      "execution_count": 0,
      "outputs": [
        {
          "output_type": "stream",
          "text": [
            "1\n",
            "2\n",
            "3\n",
            "4\n",
            "5\n",
            "6\n",
            "7\n",
            "8\n",
            "9\n",
            "10\n"
          ],
          "name": "stdout"
        }
      ]
    },
    {
      "metadata": {
        "id": "TKm1-St5FmbG",
        "colab_type": "text",
        "slideshow": {
          "slide_type": "subslide"
        }
      },
      "cell_type": "markdown",
      "source": [
        "The range function takes in a starting number, and an end number. You get all integers, up to but not including the end number. You can also add a *step* value, which tells the *range* function how big of a step to take between numbers:"
      ]
    },
    {
      "metadata": {
        "id": "WDcGr2mCFmbH",
        "colab_type": "code",
        "slideshow": {
          "slide_type": "fragment"
        },
        "colab": {
          "autoexec": {
            "startup": false,
            "wait_interval": 0
          }
        },
        "outputId": "c209fc1f-6063-44d2-8cfe-4512c4db4cb5"
      },
      "cell_type": "code",
      "source": [
        "# Print the first ten odd numbers.\n",
        "for number in range(1,21,2):\n",
        "    print(number)"
      ],
      "execution_count": 0,
      "outputs": [
        {
          "output_type": "stream",
          "text": [
            "1\n",
            "3\n",
            "5\n",
            "7\n",
            "9\n",
            "11\n",
            "13\n",
            "15\n",
            "17\n",
            "19\n"
          ],
          "name": "stdout"
        }
      ]
    },
    {
      "metadata": {
        "id": "36rWr0gHFmbJ",
        "colab_type": "text",
        "slideshow": {
          "slide_type": "subslide"
        }
      },
      "cell_type": "markdown",
      "source": [
        "If we want to store these numbers in a list, we can use the *list()* function. This function takes in a range, and turns it into a list:"
      ]
    },
    {
      "metadata": {
        "id": "m1h0hdu7FmbK",
        "colab_type": "code",
        "slideshow": {
          "slide_type": "fragment"
        },
        "colab": {
          "autoexec": {
            "startup": false,
            "wait_interval": 0
          }
        },
        "outputId": "36386812-cdea-46e9-a2fc-d3bc0b1597c0"
      },
      "cell_type": "code",
      "source": [
        "# Create a list of the first ten numbers.\n",
        "numbers = list(range(1,11))\n",
        "print(numbers)"
      ],
      "execution_count": 0,
      "outputs": [
        {
          "output_type": "stream",
          "text": [
            "[1, 2, 3, 4, 5, 6, 7, 8, 9, 10]\n"
          ],
          "name": "stdout"
        }
      ]
    },
    {
      "metadata": {
        "id": "wIutBJTeFmbM",
        "colab_type": "text",
        "slideshow": {
          "slide_type": "subslide"
        }
      },
      "cell_type": "markdown",
      "source": [
        "This is incredibly powerful; we can now create a list of the first million numbers, just as easily as we made a list of the first ten numbers. It doesn't really make sense to print the million numbers here, but we can show that the list really does have one million items in it, and we can print the last ten items to show that the list is correct."
      ]
    },
    {
      "metadata": {
        "id": "UI0IhYX1FmbN",
        "colab_type": "code",
        "slideshow": {
          "slide_type": "fragment"
        },
        "colab": {
          "autoexec": {
            "startup": false,
            "wait_interval": 0
          }
        },
        "outputId": "aec0dce4-930f-4e71-f674-9bf7ac9c67bc"
      },
      "cell_type": "code",
      "source": [
        "# Store the first million numbers in a list.\n",
        "numbers = list(range(1,1000001))\n",
        "\n",
        "# Show the length of the list:\n",
        "print(\"The list 'numbers' has \" + str(len(numbers)) + \" numbers in it.\")\n",
        "\n",
        "# Show the last ten numbers:\n",
        "print(\"\\nThe last ten numbers in the list are:\")\n",
        "for number in numbers[-10:]:\n",
        "    print(number)"
      ],
      "execution_count": 0,
      "outputs": [
        {
          "output_type": "stream",
          "text": [
            "The list 'numbers' has 1000000 numbers in it.\n",
            "\n",
            "The last ten numbers in the list are:\n",
            "999991\n",
            "999992\n",
            "999993\n",
            "999994\n",
            "999995\n",
            "999996\n",
            "999997\n",
            "999998\n",
            "999999\n",
            "1000000\n"
          ],
          "name": "stdout"
        }
      ]
    },
    {
      "metadata": {
        "id": "pphMnUlUFmbP",
        "colab_type": "text",
        "slideshow": {
          "slide_type": "subslide"
        }
      },
      "cell_type": "markdown",
      "source": [
        "There are two things here that might be a little unclear. The expression\n",
        "\n",
        "    str(len(numbers))\n",
        "\n",
        "takes the length of the *numbers* list, and turns it into a string that can be printed.\n",
        "\n",
        "The expression \n",
        "\n",
        "    numbers[-10:]\n",
        "\n",
        "gives us a *slice* of the list. The index `-1` is the last item in the list, and the index `-10` is the item ten places from the end of the list. So the slice `numbers[-10:]` gives us everything from that item to the end of the list."
      ]
    },
    {
      "metadata": {
        "id": "W_IkSAlbFmbP",
        "colab_type": "text",
        "slideshow": {
          "slide_type": "subslide"
        }
      },
      "cell_type": "markdown",
      "source": [
        "<a name='min_max_sum'></a>The *min()*, *max()*, and *sum()* functions\n",
        "---\n",
        "There are three functions you can easily use with numerical lists. As you might expect, the *min()* function returns the smallest number in the list, the *max()* function returns the largest number in the list, and the *sum()* function returns the total of all numbers in the list."
      ]
    },
    {
      "metadata": {
        "id": "qrALfrAVFmbP",
        "colab_type": "code",
        "slideshow": {
          "slide_type": "fragment"
        },
        "colab": {
          "autoexec": {
            "startup": false,
            "wait_interval": 0
          }
        },
        "outputId": "7a3a313a-4885-429c-dfed-0453931a3be5"
      },
      "cell_type": "code",
      "source": [
        "ages = [23, 16, 14, 28, 19, 11, 38]\n",
        "\n",
        "youngest = min(ages)\n",
        "oldest = max(ages)\n",
        "total_years = sum(ages)\n",
        "\n",
        "print(\"Our youngest reader is \" + str(youngest) + \" years old.\")\n",
        "print(\"Our oldest reader is \" + str(oldest) + \" years old.\")\n",
        "print(\"Together, we have \" + str(total_years) + \n",
        "      \" years worth of life experience.\")"
      ],
      "execution_count": 0,
      "outputs": [
        {
          "output_type": "stream",
          "text": [
            "Our youngest reader is 11 years old.\n",
            "Our oldest reader is 38 years old.\n",
            "Together, we have 149 years worth of life experience.\n"
          ],
          "name": "stdout"
        }
      ]
    },
    {
      "metadata": {
        "id": "Vr8B6CLCFmbR",
        "colab_type": "text",
        "slideshow": {
          "slide_type": "slide"
        }
      },
      "cell_type": "markdown",
      "source": [
        "<a name='exercises_numerical'></a>Exercises\n",
        "---\n",
        "#### First Twenty\n",
        "- Use the *range()* function to store the first twenty numbers (1-20) in a list, and print them out.\n",
        "\n",
        "#### Larger Sets\n",
        "- Take the *first\\_twenty.py* program you just wrote. Change your end number to a much larger number. How long does it take your computer to print out the first million numbers? (Most people will never see a million numbers scroll before their eyes. You can now see this!)\n",
        "\n",
        "#### Five Wallets\n",
        "- Imagine five wallets with different amounts of cash in them. Store these five values in a list, and print out the following sentences:\n",
        "    - \"The fattest wallet has $ *value* in it.\"\n",
        "    - \"The skinniest wallet has $ *value* in it.\"\n",
        "    - \"All together, these wallets have $ *value* in them.\""
      ]
    },
    {
      "metadata": {
        "id": "9YnQ1IhaFmbR",
        "colab_type": "code",
        "slideshow": {
          "slide_type": "skip"
        },
        "colab": {
          "autoexec": {
            "startup": false,
            "wait_interval": 0
          }
        },
        "outputId": "0b5f0b7a-2696-430b-8461-9a7e248f59bc"
      },
      "cell_type": "code",
      "source": [
        "# Ex 3.15 : First Twenty\n",
        "twenties=list(range(1,21))\n",
        "for n in twenties:\n",
        "    print(n)\n",
        "# put your code here"
      ],
      "execution_count": 0,
      "outputs": [
        {
          "output_type": "stream",
          "text": [
            "1\n",
            "2\n",
            "3\n",
            "4\n",
            "5\n",
            "6\n",
            "7\n",
            "8\n",
            "9\n",
            "10\n",
            "11\n",
            "12\n",
            "13\n",
            "14\n",
            "15\n",
            "16\n",
            "17\n",
            "18\n",
            "19\n",
            "20\n"
          ],
          "name": "stdout"
        }
      ]
    },
    {
      "metadata": {
        "id": "Qu4bXiM8FmbS",
        "colab_type": "code",
        "slideshow": {
          "slide_type": "skip"
        },
        "colab": {
          "autoexec": {
            "startup": false,
            "wait_interval": 0
          }
        },
        "outputId": "8fcad378-6746-40b8-de2e-75710e62c9ce"
      },
      "cell_type": "code",
      "source": [
        "# Ex 3.16 : Larger Sets\n",
        "millions=list(range(0,int(1e6)))\n",
        "len(millions)\n",
        "\n",
        "# put your code here"
      ],
      "execution_count": 0,
      "outputs": [
        {
          "output_type": "execute_result",
          "data": {
            "text/plain": [
              "1000000"
            ]
          },
          "metadata": {
            "tags": []
          },
          "execution_count": 51
        }
      ]
    },
    {
      "metadata": {
        "id": "LAtbyH0eFmbU",
        "colab_type": "code",
        "slideshow": {
          "slide_type": "skip"
        },
        "colab": {
          "autoexec": {
            "startup": false,
            "wait_interval": 0
          }
        },
        "outputId": "276d3b31-194d-47f1-e20e-a32f0ef008d1"
      },
      "cell_type": "code",
      "source": [
        "# Ex 3.17 : Five Wallets\n",
        "#Imagine five wallets with different amounts of cash in them. Store these five values in a list, \n",
        "#and print out the following sentences:\n",
        "#\"The fattest wallet has ∗value∗init.\"−\"Theskinniestwallethas value in it.\"\n",
        "#\"All together, these wallets have $ value in them.\"\n",
        "\n",
        "from random import randint\n",
        "\n",
        "wallets = [ [randint(1,100) for _ in range(randint(2,10))] for _ in range(5) ]\n",
        "print(wallets)\n",
        "amounts = [ sum(wallet) for wallet in wallets ]\n",
        "print(amounts)\n",
        "print('The fattest wallet has {} in it'.format(max(amounts)))\n",
        "print('All together, these wallets have {} value in them'.format(sum(amounts)))\n",
        "print('The thinnest wallet has {} in it'.format(min(amounts)))"
      ],
      "execution_count": 0,
      "outputs": [
        {
          "output_type": "stream",
          "text": [
            "[[76, 62, 53], [53, 69, 30, 5, 65, 9, 39, 75], [7, 37, 60, 64, 36, 68, 71, 88, 40], [96, 6, 15, 74, 3, 79, 54, 8, 35, 99], [1, 67, 57, 71]]\n",
            "[191, 345, 471, 469, 196]\n",
            "The fattest wallet has 471 in it\n",
            "All together, these wallets have 1672 value in them\n",
            "The thinnest wallet has 191 in it\n"
          ],
          "name": "stdout"
        }
      ]
    },
    {
      "metadata": {
        "id": "nzT4YLjUFmbV",
        "colab_type": "text",
        "slideshow": {
          "slide_type": "skip"
        }
      },
      "cell_type": "markdown",
      "source": [
        "[top](#top)"
      ]
    },
    {
      "metadata": {
        "id": "UDdlqxdIFmbW",
        "colab_type": "text",
        "slideshow": {
          "slide_type": "slide"
        }
      },
      "cell_type": "markdown",
      "source": [
        "<a name='comprehensions'></a>List Comprehensions\n",
        "===\n",
        "I thought carefully before including this section. If you are brand new to programming, list comprehensions may look confusing at first. They are a shorthand way of creating and working with lists. It is good to be aware of list comprehensions, because you will see them in other people's code, and they are really useful when you understand how to use them. That said, if they don't make sense to you yet, don't worry about using them right away. When you have worked with enough lists, you will want to use comprehensions. For now, it is good enough to know they exist, and to recognize them when you see them. If you like them, go ahead and start trying to use them now."
      ]
    },
    {
      "metadata": {
        "id": "UjIJdbFhFmbW",
        "colab_type": "text",
        "slideshow": {
          "slide_type": "subslide"
        }
      },
      "cell_type": "markdown",
      "source": [
        "<a name='comprehensions_numerical'></a>Numerical Comprehensions\n",
        "---\n",
        "Let's consider how we might make a list of the first ten square numbers. We could do it like this:"
      ]
    },
    {
      "metadata": {
        "id": "m1oW46jsFmbX",
        "colab_type": "code",
        "slideshow": {
          "slide_type": "fragment"
        },
        "colab": {
          "autoexec": {
            "startup": false,
            "wait_interval": 0
          }
        },
        "outputId": "aec1311f-b037-4ad3-e8c6-db5f90fcb708"
      },
      "cell_type": "code",
      "source": [
        "# Store the first ten square numbers in a list.\n",
        "# Make an empty list that will hold our square numbers.\n",
        "squares = []\n",
        "\n",
        "# Go through the first ten numbers, square them, and add them to our list.\n",
        "for number in range(1,11):\n",
        "    new_square = number**2\n",
        "    squares.append(new_square)\n",
        "    \n",
        "# Show that our list is correct.\n",
        "for square in squares:\n",
        "    print(square)"
      ],
      "execution_count": 0,
      "outputs": [
        {
          "output_type": "stream",
          "text": [
            "1\n",
            "4\n",
            "9\n",
            "16\n",
            "25\n",
            "36\n",
            "49\n",
            "64\n",
            "81\n",
            "100\n"
          ],
          "name": "stdout"
        }
      ]
    },
    {
      "metadata": {
        "id": "cZtXiH64FmbZ",
        "colab_type": "text",
        "slideshow": {
          "slide_type": "subslide"
        }
      },
      "cell_type": "markdown",
      "source": [
        "This should make sense at this point. If it doesn't, go over the code with these thoughts in mind:\n",
        "- We make an empty list called *squares* that will hold the values we are interested in.\n",
        "- Using the *range()* function, we start a loop that will go through the numbers 1-10.\n",
        "- Each time we pass through the loop, we find the square of the current number by raising it to the second power.\n",
        "- We add this new value to our list *squares*.\n",
        "- We go through our newly-defined list and print out each square.\n",
        "\n",
        "Now let's make this code more efficient. We don't really need to store the new square in its own variable *new_square*; we can just add it directly to the list of squares. The line\n",
        "\n",
        "    new_square = number**2\n",
        "\n",
        "is taken out, and the next line takes care of the squaring:"
      ]
    },
    {
      "metadata": {
        "id": "U92F_f7QFmba",
        "colab_type": "code",
        "slideshow": {
          "slide_type": "subslide"
        },
        "colab": {
          "autoexec": {
            "startup": false,
            "wait_interval": 0
          }
        },
        "outputId": "dfb3569d-8c33-499b-ab76-ba70e0aa8371"
      },
      "cell_type": "code",
      "source": [
        "# Store the first ten square numbers in a list.\n",
        "# Make an empty list that will hold our square numbers.\n",
        "squares = []\n",
        "\n",
        "# Go through the first ten numbers, square them, and add them to our list.\n",
        "for number in range(1,11):\n",
        "    squares.append(number**2)\n",
        "    \n",
        "# Show that our list is correct.\n",
        "for square in squares:\n",
        "    print(square)"
      ],
      "execution_count": 0,
      "outputs": [
        {
          "output_type": "stream",
          "text": [
            "1\n",
            "4\n",
            "9\n",
            "16\n",
            "25\n",
            "36\n",
            "49\n",
            "64\n",
            "81\n",
            "100\n"
          ],
          "name": "stdout"
        }
      ]
    },
    {
      "metadata": {
        "id": "q5KU_i7KFmbc",
        "colab_type": "text",
        "slideshow": {
          "slide_type": "subslide"
        }
      },
      "cell_type": "markdown",
      "source": [
        "List comprehensions allow us to collapse the first three lines of code into one line. Here's what it looks like:"
      ]
    },
    {
      "metadata": {
        "id": "RiA2wOadFmbd",
        "colab_type": "code",
        "slideshow": {
          "slide_type": "fragment"
        },
        "colab": {
          "autoexec": {
            "startup": false,
            "wait_interval": 0
          },
          "base_uri": "https://localhost:8080/",
          "height": 187
        },
        "outputId": "63642568-93ee-4110-fdd3-ea15f039fc0d",
        "executionInfo": {
          "status": "ok",
          "timestamp": 1530738172244,
          "user_tz": -330,
          "elapsed": 872,
          "user": {
            "displayName": "Mayank Sharma",
            "photoUrl": "https://lh3.googleusercontent.com/a/default-user=s128",
            "userId": "103040418612071322155"
          }
        }
      },
      "cell_type": "code",
      "source": [
        "# Store the first ten square numbers in a list.\n",
        "squares = [number**2 for number in range(1,11)]\n",
        "\n",
        "# Show that our list is correct.\n",
        "for square in squares:\n",
        "    print(square)"
      ],
      "execution_count": 10,
      "outputs": [
        {
          "output_type": "stream",
          "text": [
            "1\n",
            "4\n",
            "9\n",
            "16\n",
            "25\n",
            "36\n",
            "49\n",
            "64\n",
            "81\n",
            "100\n"
          ],
          "name": "stdout"
        }
      ]
    },
    {
      "metadata": {
        "id": "EcC5TYwQFmbg",
        "colab_type": "text",
        "slideshow": {
          "slide_type": "subslide"
        }
      },
      "cell_type": "markdown",
      "source": [
        "It should be pretty clear that this code is more efficient than our previous approach, but it may not be clear what is happening. Let's take a look at everything that is happening in that first line:\n",
        "\n",
        "We define a list called *squares*.\n",
        "\n",
        "Look at the second part of what's in square brackets:\n",
        "\n",
        "    for number in range(1,11)\n",
        "\n",
        "This sets up a loop that goes through the numbers 1-10, storing each value in the variable *number*. Now we can see what happens to each *number* in the loop:\n",
        "\n",
        "    number**2\n",
        "\n",
        "Each number is raised to the second power, and this is the value that is stored in the list we defined. We might read this line in the following way:\n",
        "\n",
        "squares = [raise *number* to the second power, for each *number* in the range 1-10]"
      ]
    },
    {
      "metadata": {
        "id": "ToaPbb1fFmbg",
        "colab_type": "text",
        "slideshow": {
          "slide_type": "subslide"
        }
      },
      "cell_type": "markdown",
      "source": [
        "### Another example\n",
        "It is probably helpful to see a few more examples of how comprehensions can be used. Let's try to make the first ten even numbers, the longer way:"
      ]
    },
    {
      "metadata": {
        "id": "3XFp7V8RFmbh",
        "colab_type": "code",
        "slideshow": {
          "slide_type": "fragment"
        },
        "colab": {
          "autoexec": {
            "startup": false,
            "wait_interval": 0
          }
        },
        "outputId": "4d4aba47-e795-43bb-b016-12aae7da9f51"
      },
      "cell_type": "code",
      "source": [
        "# Make an empty list that will hold the even numbers.\n",
        "evens = []\n",
        "\n",
        "# Loop through the numbers 1-10, double each one, and add it to our list.\n",
        "for number in range(1,11):\n",
        "    evens.append(number*2)\n",
        "    \n",
        "# Show that our list is correct:\n",
        "for even in evens:\n",
        "    print(even)"
      ],
      "execution_count": 0,
      "outputs": [
        {
          "output_type": "stream",
          "text": [
            "2\n",
            "4\n",
            "6\n",
            "8\n",
            "10\n",
            "12\n",
            "14\n",
            "16\n",
            "18\n",
            "20\n"
          ],
          "name": "stdout"
        }
      ]
    },
    {
      "metadata": {
        "id": "bfiThoCdFmbj",
        "colab_type": "text",
        "slideshow": {
          "slide_type": "subslide"
        }
      },
      "cell_type": "markdown",
      "source": [
        "Here's how we might think of doing the same thing, using a list comprehension:\n",
        "\n",
        "evens = [multiply each *number* by 2, for each *number* in the range 1-10]\n",
        "\n",
        "Here is the same line in code:"
      ]
    },
    {
      "metadata": {
        "id": "d7LeC9wKFmbk",
        "colab_type": "code",
        "slideshow": {
          "slide_type": "fragment"
        },
        "colab": {
          "autoexec": {
            "startup": false,
            "wait_interval": 0
          },
          "base_uri": "https://localhost:8080/",
          "height": 187
        },
        "outputId": "ba48785b-dfdb-4fbc-8ffe-854da6aab395",
        "executionInfo": {
          "status": "ok",
          "timestamp": 1530738187849,
          "user_tz": -330,
          "elapsed": 858,
          "user": {
            "displayName": "Mayank Sharma",
            "photoUrl": "https://lh3.googleusercontent.com/a/default-user=s128",
            "userId": "103040418612071322155"
          }
        }
      },
      "cell_type": "code",
      "source": [
        "# Make a list of the first ten even numbers.\n",
        "evens = [number*2 for number in range(1,11)]\n",
        "\n",
        "for even in evens:\n",
        "    print(even)"
      ],
      "execution_count": 11,
      "outputs": [
        {
          "output_type": "stream",
          "text": [
            "2\n",
            "4\n",
            "6\n",
            "8\n",
            "10\n",
            "12\n",
            "14\n",
            "16\n",
            "18\n",
            "20\n"
          ],
          "name": "stdout"
        }
      ]
    },
    {
      "metadata": {
        "id": "GB9nZ7HsFmbm",
        "colab_type": "text",
        "slideshow": {
          "slide_type": "subslide"
        }
      },
      "cell_type": "markdown",
      "source": [
        "<a name='comprehensions_non_numerical'></a>Non-numerical comprehensions\n",
        "---\n",
        "We can use comprehensions with non-numerical lists as well. In this case, we will create an initial list, and then use a comprehension to make a second list from the first one. Here is a simple example, without using comprehensions:"
      ]
    },
    {
      "metadata": {
        "id": "1dWNpVBhFmbn",
        "colab_type": "code",
        "slideshow": {
          "slide_type": "fragment"
        },
        "colab": {
          "autoexec": {
            "startup": false,
            "wait_interval": 0
          }
        },
        "outputId": "0fdb42f3-badc-476b-cb67-1c831230e5f1"
      },
      "cell_type": "code",
      "source": [
        "# Consider some students.\n",
        "students = ['bernice', 'aaron', 'cody']\n",
        "\n",
        "# Let's turn them into great students.\n",
        "great_students = []\n",
        "for student in students:\n",
        "    great_students.append(student.title() + \" the great!\")\n",
        "\n",
        "# Let's greet each great student.\n",
        "for great_student in great_students:\n",
        "    print(\"Hello, \" + great_student)"
      ],
      "execution_count": 0,
      "outputs": [
        {
          "output_type": "stream",
          "text": [
            "Hello, Bernice the great!\n",
            "Hello, Aaron the great!\n",
            "Hello, Cody the great!\n"
          ],
          "name": "stdout"
        }
      ]
    },
    {
      "metadata": {
        "id": "7xSbgR9eFmbq",
        "colab_type": "text",
        "slideshow": {
          "slide_type": "subslide"
        }
      },
      "cell_type": "markdown",
      "source": [
        "To use a comprehension in this code, we want to write something like this:\n",
        "\n",
        "great_students = [add 'the great' to each *student*, for each *student* in the list of *students*]\n",
        "\n",
        "Here's what it looks like:"
      ]
    },
    {
      "metadata": {
        "id": "zgEYLt8FFmbr",
        "colab_type": "code",
        "slideshow": {
          "slide_type": "fragment"
        },
        "colab": {
          "autoexec": {
            "startup": false,
            "wait_interval": 0
          }
        },
        "outputId": "f41b0402-8ac7-4ccf-cc28-368d2a848d28"
      },
      "cell_type": "code",
      "source": [
        "# Consider some students.\n",
        "students = ['bernice', 'aaron', 'cody']\n",
        "\n",
        "# Let's turn them into great students.\n",
        "great_students = [student.title() + \" the great!\" for student in students]\n",
        "\n",
        "# Let's greet each great student.\n",
        "for great_student in great_students:\n",
        "    print(\"Hello, \" + great_student)"
      ],
      "execution_count": 0,
      "outputs": [
        {
          "output_type": "stream",
          "text": [
            "Hello, Bernice the great!\n",
            "Hello, Aaron the great!\n",
            "Hello, Cody the great!\n"
          ],
          "name": "stdout"
        }
      ]
    },
    {
      "metadata": {
        "id": "X7rxvjg_Fmbt",
        "colab_type": "text",
        "slideshow": {
          "slide_type": "slide"
        }
      },
      "cell_type": "markdown",
      "source": [
        "<a name='exercises_comprehensions'></a>Exercises\n",
        "---\n",
        "If these examples are making sense, go ahead and try to do the following exercises using comprehensions. If not, try the exercises without comprehensions. You may figure out how to use comprehensions after you have solved each exercise the longer way.\n",
        "\n",
        "#### Multiples of Ten\n",
        "- Make a list of the first ten multiples of ten (10, 20, 30... 90, 100). There are a number of ways to do this, but try to do it using a list comprehension. Print out your list.\n",
        "\n",
        "#### Cubes\n",
        "- We saw how to make a list of the first ten squares. Make a list of the first ten cubes (1, 8, 27... 1000) using a list comprehension, and print them out.\n",
        "\n",
        "#### Awesomeness\n",
        "- Store five names in a list. Make a second list that adds the phrase \"is awesome!\" to each name, using a list comprehension. Print out the awesome version of the names.\n",
        "\n",
        "#### Working Backwards\n",
        "- Write out the following code without using a list comprehension:\n",
        "\n",
        "    plus_thirteen = [number + 13 for number in range(1,11)]"
      ]
    },
    {
      "metadata": {
        "id": "6YC2-9IBFmbu",
        "colab_type": "code",
        "slideshow": {
          "slide_type": "skip"
        },
        "colab": {
          "autoexec": {
            "startup": false,
            "wait_interval": 0
          }
        }
      },
      "cell_type": "code",
      "source": [
        "# Ex 3.18 : Multiples of Ten\n",
        "\n",
        "# put your code here"
      ],
      "execution_count": 0,
      "outputs": []
    },
    {
      "metadata": {
        "id": "fBWldcsJFmbv",
        "colab_type": "code",
        "slideshow": {
          "slide_type": "skip"
        },
        "colab": {
          "autoexec": {
            "startup": false,
            "wait_interval": 0
          }
        }
      },
      "cell_type": "code",
      "source": [
        "# Ex 3.19 : Cubes\n",
        "\n",
        "# put your code here"
      ],
      "execution_count": 0,
      "outputs": []
    },
    {
      "metadata": {
        "id": "IfHCYAXiFmbw",
        "colab_type": "code",
        "slideshow": {
          "slide_type": "skip"
        },
        "colab": {
          "autoexec": {
            "startup": false,
            "wait_interval": 0
          }
        }
      },
      "cell_type": "code",
      "source": [
        "# Ex 3.20 : Awesomeness\n",
        "\n",
        "# put your code here"
      ],
      "execution_count": 0,
      "outputs": []
    },
    {
      "metadata": {
        "id": "pmX15lDGFmby",
        "colab_type": "code",
        "slideshow": {
          "slide_type": "skip"
        },
        "colab": {
          "autoexec": {
            "startup": false,
            "wait_interval": 0
          }
        }
      },
      "cell_type": "code",
      "source": [
        "# Ex 3.21 : Working Backwards\n",
        "\n",
        "# put your code here"
      ],
      "execution_count": 0,
      "outputs": []
    },
    {
      "metadata": {
        "id": "kRu_IHrHFmbz",
        "colab_type": "text",
        "slideshow": {
          "slide_type": "skip"
        }
      },
      "cell_type": "markdown",
      "source": [
        "[top](#top)"
      ]
    },
    {
      "metadata": {
        "id": "OvX0t9MZFmb0",
        "colab_type": "text",
        "slideshow": {
          "slide_type": "slide"
        }
      },
      "cell_type": "markdown",
      "source": [
        "<a name='strings_as_lists'></a>Strings as Lists\n",
        "===\n",
        "Now that you have some familiarity with lists, we can take a second look at strings. A string is really a list of characters, so many of the concepts from working with lists behave the same with strings."
      ]
    },
    {
      "metadata": {
        "id": "1NFg8qUIFmb0",
        "colab_type": "text",
        "slideshow": {
          "slide_type": "subslide"
        }
      },
      "cell_type": "markdown",
      "source": [
        "<a name='list_of_characters'></a>Strings as a list of characters\n",
        "---\n",
        "We can loop through a string using a *for* loop, just like we loop through a list:"
      ]
    },
    {
      "metadata": {
        "id": "8ucu9OtPFmb0",
        "colab_type": "code",
        "slideshow": {
          "slide_type": "fragment"
        },
        "colab": {
          "autoexec": {
            "startup": false,
            "wait_interval": 0
          }
        },
        "outputId": "cf53435a-4035-4439-aa1a-7089b52167c0"
      },
      "cell_type": "code",
      "source": [
        "message = \"Hello!\"\n",
        "\n",
        "for letter in message:\n",
        "    print(letter)"
      ],
      "execution_count": 0,
      "outputs": [
        {
          "output_type": "stream",
          "text": [
            "H\n",
            "e\n",
            "l\n",
            "l\n",
            "o\n",
            "!\n"
          ],
          "name": "stdout"
        }
      ]
    },
    {
      "metadata": {
        "id": "CLIZ5msmFmb2",
        "colab_type": "text",
        "slideshow": {
          "slide_type": "subslide"
        }
      },
      "cell_type": "markdown",
      "source": [
        "We can create a list from a string. The list will have one element for each character in the string:"
      ]
    },
    {
      "metadata": {
        "id": "_caH22qdFmb3",
        "colab_type": "code",
        "slideshow": {
          "slide_type": "fragment"
        },
        "colab": {
          "autoexec": {
            "startup": false,
            "wait_interval": 0
          }
        },
        "outputId": "c6f8bf02-19ee-4893-af92-4265374b5fbe"
      },
      "cell_type": "code",
      "source": [
        "message = \"Hello world!\"\n",
        "\n",
        "message_list = list(message)\n",
        "print(message_list)"
      ],
      "execution_count": 0,
      "outputs": [
        {
          "output_type": "stream",
          "text": [
            "['H', 'e', 'l', 'l', 'o', ' ', 'w', 'o', 'r', 'l', 'd', '!']\n"
          ],
          "name": "stdout"
        }
      ]
    },
    {
      "metadata": {
        "id": "Laxd4Fb0Fmb5",
        "colab_type": "text",
        "slideshow": {
          "slide_type": "subslide"
        }
      },
      "cell_type": "markdown",
      "source": [
        "<a name='slicing_strings'></a>Slicing strings\n",
        "---\n",
        "We can access any character in a string by its position, just as we access individual items in a list:"
      ]
    },
    {
      "metadata": {
        "id": "9bj-GubBFmb5",
        "colab_type": "code",
        "slideshow": {
          "slide_type": "fragment"
        },
        "colab": {
          "autoexec": {
            "startup": false,
            "wait_interval": 0
          }
        },
        "outputId": "3d84c8e5-e111-4cd9-f562-44716274682b"
      },
      "cell_type": "code",
      "source": [
        "message = \"Hello World!\"\n",
        "first_char = message[0]\n",
        "last_char = message[-1]\n",
        "\n",
        "print(first_char, last_char)"
      ],
      "execution_count": 0,
      "outputs": [
        {
          "output_type": "stream",
          "text": [
            "('H', '!')\n"
          ],
          "name": "stdout"
        }
      ]
    },
    {
      "metadata": {
        "id": "6zStRAbkFmb7",
        "colab_type": "text",
        "slideshow": {
          "slide_type": "subslide"
        }
      },
      "cell_type": "markdown",
      "source": [
        "We can extend this to take slices of a string:"
      ]
    },
    {
      "metadata": {
        "id": "t9Eio7phFmb7",
        "colab_type": "code",
        "slideshow": {
          "slide_type": "fragment"
        },
        "colab": {
          "autoexec": {
            "startup": false,
            "wait_interval": 0
          }
        },
        "outputId": "c07ea3a2-69fa-409c-a88d-15446c2a3aa4"
      },
      "cell_type": "code",
      "source": [
        "message = \"Hello World!\"\n",
        "first_three = message[:3]\n",
        "last_three = message[-3:]\n",
        "\n",
        "print(first_three, last_three)"
      ],
      "execution_count": 0,
      "outputs": [
        {
          "output_type": "stream",
          "text": [
            "('Hel', 'ld!')\n"
          ],
          "name": "stdout"
        }
      ]
    },
    {
      "metadata": {
        "id": "_WChU1NpFmb-",
        "colab_type": "text",
        "slideshow": {
          "slide_type": "subslide"
        }
      },
      "cell_type": "markdown",
      "source": [
        "<a name='finding_substrings'></a>Finding substrings\n",
        "---\n",
        "Now that you have seen what indexes mean for strings, we can search for *substrings*. A substring is a series of characters that appears in a string.\n",
        "\n",
        "You can use the *in* keyword to find out whether a particular substring appears in a string:"
      ]
    },
    {
      "metadata": {
        "id": "898ybauPFmb-",
        "colab_type": "code",
        "slideshow": {
          "slide_type": "fragment"
        },
        "colab": {
          "autoexec": {
            "startup": false,
            "wait_interval": 0
          }
        },
        "outputId": "270fc36c-ff42-417c-80ee-4771a91215ed"
      },
      "cell_type": "code",
      "source": [
        "message = \"I like cats and dogs.\"\n",
        "dog_present = 'dog' in message\n",
        "print(dog_present)"
      ],
      "execution_count": 0,
      "outputs": [
        {
          "output_type": "stream",
          "text": [
            "True\n"
          ],
          "name": "stdout"
        }
      ]
    },
    {
      "metadata": {
        "id": "-G1sM3WvFmcB",
        "colab_type": "text",
        "slideshow": {
          "slide_type": "subslide"
        }
      },
      "cell_type": "markdown",
      "source": [
        "If you want to know where a substring appears in a string, you can use the *find()* method. The *find()* method tells you the index at which the substring begins."
      ]
    },
    {
      "metadata": {
        "id": "1keuv7cNFmcB",
        "colab_type": "code",
        "slideshow": {
          "slide_type": "fragment"
        },
        "colab": {
          "autoexec": {
            "startup": false,
            "wait_interval": 0
          }
        },
        "outputId": "c64f46a3-efb6-4180-b500-a76e0e9a4804"
      },
      "cell_type": "code",
      "source": [
        "message = \"I like cats and dogs.\"\n",
        "dog_index = message.find('dog')\n",
        "print(dog_index)"
      ],
      "execution_count": 0,
      "outputs": [
        {
          "output_type": "stream",
          "text": [
            "16\n"
          ],
          "name": "stdout"
        }
      ]
    },
    {
      "metadata": {
        "id": "TEK6u_2MFmcE",
        "colab_type": "text",
        "slideshow": {
          "slide_type": "subslide"
        }
      },
      "cell_type": "markdown",
      "source": [
        "Note, however, that this function only returns the index of the first appearance of the substring you are looking for. If the substring appears more than once, you will miss the other substrings."
      ]
    },
    {
      "metadata": {
        "id": "MwNw7T4UFmcF",
        "colab_type": "code",
        "slideshow": {
          "slide_type": "fragment"
        },
        "colab": {
          "autoexec": {
            "startup": false,
            "wait_interval": 0
          }
        },
        "outputId": "b2a2eb0f-75ed-4be4-f5f3-be2dc8e16db5"
      },
      "cell_type": "code",
      "source": [
        "message = \"I like cats and dogs, but I'd much rather own a dog.\"\n",
        "dog_index = message.find('dog')\n",
        "print(dog_index)"
      ],
      "execution_count": 0,
      "outputs": [
        {
          "output_type": "stream",
          "text": [
            "16\n"
          ],
          "name": "stdout"
        }
      ]
    },
    {
      "metadata": {
        "id": "dCvzEBwkFmcH",
        "colab_type": "text",
        "slideshow": {
          "slide_type": "subslide"
        }
      },
      "cell_type": "markdown",
      "source": [
        "If you want to find the last appearance of a substring, you can use the *rfind()* function:"
      ]
    },
    {
      "metadata": {
        "id": "5l0x4JwbFmcI",
        "colab_type": "code",
        "slideshow": {
          "slide_type": "fragment"
        },
        "colab": {
          "autoexec": {
            "startup": false,
            "wait_interval": 0
          }
        },
        "outputId": "9a0e63c7-9a3b-4b13-996c-22e98c4a9d25"
      },
      "cell_type": "code",
      "source": [
        "message = \"I like cats and dogs, but I'd much rather own a dog.\"\n",
        "last_dog_index = message.rfind('dog')\n",
        "print(last_dog_index)"
      ],
      "execution_count": 0,
      "outputs": [
        {
          "output_type": "stream",
          "text": [
            "48\n"
          ],
          "name": "stdout"
        }
      ]
    },
    {
      "metadata": {
        "id": "xMYJC36JFmcK",
        "colab_type": "text",
        "slideshow": {
          "slide_type": "subslide"
        }
      },
      "cell_type": "markdown",
      "source": [
        "<a name='replacing_substrings'></a>Replacing substrings\n",
        "---\n",
        "You can use the *replace()* function to replace any substring with another substring. To use the *replace()* function, give the substring you want to replace, and then the substring you want to replace it with. You also need to store the new string, either in the same string variable or in a new variable."
      ]
    },
    {
      "metadata": {
        "id": "S24UKG3HFmcL",
        "colab_type": "code",
        "slideshow": {
          "slide_type": "fragment"
        },
        "colab": {
          "autoexec": {
            "startup": false,
            "wait_interval": 0
          }
        },
        "outputId": "92d61176-5991-45d0-b711-9403c6851e7c"
      },
      "cell_type": "code",
      "source": [
        "message = \"I like cats and dogs, but I'd much rather own a dog.\"\n",
        "message = message.replace('dog', 'snake')\n",
        "print(message)"
      ],
      "execution_count": 0,
      "outputs": [
        {
          "output_type": "stream",
          "text": [
            "I like cats and snakes, but I'd much rather own a snake.\n"
          ],
          "name": "stdout"
        }
      ]
    },
    {
      "metadata": {
        "id": "nkhxwkUSFmcM",
        "colab_type": "text",
        "slideshow": {
          "slide_type": "subslide"
        }
      },
      "cell_type": "markdown",
      "source": [
        "<a name='counting_substrings'></a>Counting substrings\n",
        "---\n",
        "If you want to know how many times a substring appears within a string, you can use the *count()* method."
      ]
    },
    {
      "metadata": {
        "id": "BGm1lh4wFmcN",
        "colab_type": "code",
        "slideshow": {
          "slide_type": "fragment"
        },
        "colab": {
          "autoexec": {
            "startup": false,
            "wait_interval": 0
          }
        },
        "outputId": "ca7da36a-27fa-4974-d13f-8fbbb903592e"
      },
      "cell_type": "code",
      "source": [
        "message = \"I like cats and dogs, but I'd much rather own a dog.\"\n",
        "number_dogs = message.count('dog')\n",
        "print(number_dogs)"
      ],
      "execution_count": 0,
      "outputs": [
        {
          "output_type": "stream",
          "text": [
            "2\n"
          ],
          "name": "stdout"
        }
      ]
    },
    {
      "metadata": {
        "id": "GPDUAhZWFmcQ",
        "colab_type": "text",
        "slideshow": {
          "slide_type": "subslide"
        }
      },
      "cell_type": "markdown",
      "source": [
        "<a name='splitting_strings'></a>Splitting strings\n",
        "---\n",
        "Strings can be split into a set of substrings when they are separated by a repeated character. If a string consists of a simple sentence, the string can be split based on spaces. The *split()* function returns a list of substrings. The *split()* function takes one argument, the character that separates the parts of the string."
      ]
    },
    {
      "metadata": {
        "id": "lucJDVN4FmcQ",
        "colab_type": "code",
        "slideshow": {
          "slide_type": "fragment"
        },
        "colab": {
          "autoexec": {
            "startup": false,
            "wait_interval": 0
          }
        },
        "outputId": "700973b1-9be0-4d9c-e6a0-194524b4d977"
      },
      "cell_type": "code",
      "source": [
        "message = \"I like cats and dogs, but I'd much rather own a dog.\"\n",
        "words = message.split(' ')\n",
        "print(words)"
      ],
      "execution_count": 0,
      "outputs": [
        {
          "output_type": "stream",
          "text": [
            "['I', 'like', 'cats', 'and', 'dogs,', 'but', \"I'd\", 'much', 'rather', 'own', 'a', 'dog.']\n"
          ],
          "name": "stdout"
        }
      ]
    },
    {
      "metadata": {
        "id": "QbcH2Ow_FmcT",
        "colab_type": "text",
        "slideshow": {
          "slide_type": "subslide"
        }
      },
      "cell_type": "markdown",
      "source": [
        "Notice that the punctuation is left in the substrings.\n",
        "\n",
        "It is more common to split strings that are really lists, separated by something like a comma. The *split()* function gives you an easy way to turn comma-separated strings, which you can't do much with in Python, into lists. Once you have your data in a list, you can work with it in much more powerful ways."
      ]
    },
    {
      "metadata": {
        "id": "QDEwOw7nFmcU",
        "colab_type": "code",
        "slideshow": {
          "slide_type": "subslide"
        },
        "colab": {
          "autoexec": {
            "startup": false,
            "wait_interval": 0
          }
        },
        "outputId": "95b54feb-c399-418f-ad87-1c6b4e4f7d87"
      },
      "cell_type": "code",
      "source": [
        "animals = \"dog, cat, tiger, mouse, liger, bear\"\n",
        "\n",
        "# Rewrite the string as a list, and store it in the same variable\n",
        "animals = animals.split(',')\n",
        "print(animals)"
      ],
      "execution_count": 0,
      "outputs": [
        {
          "output_type": "stream",
          "text": [
            "['dog', ' cat', ' tiger', ' mouse', ' liger', ' bear']\n"
          ],
          "name": "stdout"
        }
      ]
    },
    {
      "metadata": {
        "id": "V0DGTfVdFmcW",
        "colab_type": "text",
        "slideshow": {
          "slide_type": "subslide"
        }
      },
      "cell_type": "markdown",
      "source": [
        "Notice that in this case, the spaces are also ignored. It is a good idea to test the output of the *split()* function and make sure it is doing what you want with the data you are interested in.\n",
        "\n",
        "One use of this is to work with spreadsheet data in your Python programs. Most spreadsheet applications allow you to dump your data into a comma-separated text file. You can read this file into your Python program, or even copy and paste from the text file into your program file, and then turn the data into a list. You can then process your spreadsheet data using a *for* loop."
      ]
    },
    {
      "metadata": {
        "id": "TJmDsJirFmcX",
        "colab_type": "text",
        "slideshow": {
          "slide_type": "subslide"
        }
      },
      "cell_type": "markdown",
      "source": [
        "<a name='other_string_methods'></a>Other string methods\n",
        "---\n",
        "There are a number of [other string methods](http://docs.python.org/3.3/library/stdtypes.html#string-methods) that we won't go into right here, but you might want to take a look at them. Most of these methods should make sense to you at this point. You might not have use for any of them right now, but it is good to know what you can do with strings. This way you will have a sense of how to solve certain problems, even if it means referring back to the list of methods to remind yourself how to write the correct syntax when you need it."
      ]
    },
    {
      "metadata": {
        "id": "T8ZRXb3vFmcX",
        "colab_type": "text",
        "slideshow": {
          "slide_type": "slide"
        }
      },
      "cell_type": "markdown",
      "source": [
        "<a name='exercises_strings_as_lists'></a>Exercises\n",
        "---\n",
        "#### Listing a Sentence\n",
        "- Store a single sentence in a variable. Use a for loop to print each character from your sentence on a separate line.\n",
        "\n",
        "#### Sentence List\n",
        "- Store a single sentence in a variable. Create a list from your sentence. Print your raw list (don't use a loop, just print the list).\n",
        "\n",
        "#### Sentence Slices\n",
        "- Store a sentence in a variable. Using slices, print out the first five characters, any five consecutive characters from the middle of the sentence, and the last five characters of the sentence.\n",
        "\n",
        "#### Finding Python\n",
        "- Store a sentence in a variable, making sure you use the word *Python* at least twice in the sentence.\n",
        "- Use the *in* keyword to prove that the word *Python* is actually in the sentence.\n",
        "- Use the *find()* function to show where the word *Python* first appears in the sentence.\n",
        "- Use the *rfind()* function to show the last place *Python* appears in the sentence.\n",
        "- Use the *count()* function to show how many times the word *Python* appears in your sentence.\n",
        "- Use the *split()* function to break your sentence into a list of words. Print the raw list, and use a loop to print each word on its own line.\n",
        "- Use the *replace()* function to change *Python* to *Ruby* in your sentence."
      ]
    },
    {
      "metadata": {
        "id": "Fx5VaDCOFmcX",
        "colab_type": "code",
        "slideshow": {
          "slide_type": "skip"
        },
        "colab": {
          "autoexec": {
            "startup": false,
            "wait_interval": 0
          }
        }
      },
      "cell_type": "code",
      "source": [
        "# Ex 3.22 : Listing a Sentence\n",
        "\n",
        "# put your code here"
      ],
      "execution_count": 0,
      "outputs": []
    },
    {
      "metadata": {
        "id": "eJF6T8IsFmcY",
        "colab_type": "code",
        "slideshow": {
          "slide_type": "skip"
        },
        "colab": {
          "autoexec": {
            "startup": false,
            "wait_interval": 0
          }
        }
      },
      "cell_type": "code",
      "source": [
        "# Ex 3.23 : Sentence List\n",
        "\n",
        "# put your code here"
      ],
      "execution_count": 0,
      "outputs": []
    },
    {
      "metadata": {
        "id": "nXtvYNFWFmcZ",
        "colab_type": "code",
        "slideshow": {
          "slide_type": "skip"
        },
        "colab": {
          "autoexec": {
            "startup": false,
            "wait_interval": 0
          }
        }
      },
      "cell_type": "code",
      "source": [
        "# Ex 3.24 : Sentence Slices\n",
        "\n",
        "# put your code here"
      ],
      "execution_count": 0,
      "outputs": []
    },
    {
      "metadata": {
        "id": "C4KPkVGNFmca",
        "colab_type": "code",
        "slideshow": {
          "slide_type": "skip"
        },
        "colab": {
          "autoexec": {
            "startup": false,
            "wait_interval": 0
          }
        }
      },
      "cell_type": "code",
      "source": [
        "# Ex 3.25 : Finding Python\n",
        "\n",
        "# put your code here"
      ],
      "execution_count": 0,
      "outputs": []
    },
    {
      "metadata": {
        "id": "7ZHrRqgcFmcb",
        "colab_type": "text",
        "slideshow": {
          "slide_type": "slide"
        }
      },
      "cell_type": "markdown",
      "source": [
        "<a name='challenges_strings_as_lists'></a>Challenges\n",
        "---\n",
        "#### Counting DNA Nucleotides\n",
        "- [Project Rosalind](http://rosalind.info/problems/locations/) is a [problem set](http://rosalind.info/problems/list-view/) based on biotechnology concepts. It is meant to show how programming skills can help solve problems in genetics and biology.\n",
        "- If you have understood this section on strings, you have enough information to solve the first problem in Project Rosalind, [Counting DNA Nucleotides](http://rosalind.info/problems/dna/). Give the sample problem a try.\n",
        "- If you get the sample problem correct, log in and try the full version of the problem!\n",
        "\n",
        "#### Transcribing DNA into RNA\n",
        "- You also have enough information to try the second problem, [Transcribing DNA into RNA](http://rosalind.info/problems/rna/). Solve the sample problem.\n",
        "- If you solved the sample problem, log in and try the full version!\n",
        "\n",
        "#### Complementing a Strand of DNA\n",
        "- You guessed it, you can now try the third problem as well: [Complementing a Strand of DNA](http://rosalind.info/problems/revc/). Try the sample problem, and then try the full version if you are successful."
      ]
    },
    {
      "metadata": {
        "id": "6L8QOba7Fmcc",
        "colab_type": "code",
        "slideshow": {
          "slide_type": "skip"
        },
        "colab": {
          "autoexec": {
            "startup": false,
            "wait_interval": 0
          }
        }
      },
      "cell_type": "code",
      "source": [
        "# Challenge: Counting DNA Nucleotides\n",
        "\n",
        "# Put your code here"
      ],
      "execution_count": 0,
      "outputs": []
    },
    {
      "metadata": {
        "id": "o0aiLSSOFmcd",
        "colab_type": "code",
        "slideshow": {
          "slide_type": "skip"
        },
        "colab": {
          "autoexec": {
            "startup": false,
            "wait_interval": 0
          }
        }
      },
      "cell_type": "code",
      "source": [
        "# Challenge: Transcribing DNA into RNA\n",
        "\n",
        "# Put your code here"
      ],
      "execution_count": 0,
      "outputs": []
    },
    {
      "metadata": {
        "id": "InNrncO2Fmce",
        "colab_type": "code",
        "slideshow": {
          "slide_type": "skip"
        },
        "colab": {
          "autoexec": {
            "startup": false,
            "wait_interval": 0
          }
        }
      },
      "cell_type": "code",
      "source": [
        "# Challenge: Complementing a Strand of DNA\n",
        "\n",
        "# Put your code here"
      ],
      "execution_count": 0,
      "outputs": []
    },
    {
      "metadata": {
        "id": "la4sI7uuFmce",
        "colab_type": "text",
        "slideshow": {
          "slide_type": "skip"
        }
      },
      "cell_type": "markdown",
      "source": [
        "[top](#top)"
      ]
    },
    {
      "metadata": {
        "id": "KI_UZNJMFmcf",
        "colab_type": "text",
        "slideshow": {
          "slide_type": "slide"
        }
      },
      "cell_type": "markdown",
      "source": [
        "<a name='tuples'></a>Tuples\n",
        "===\n",
        "Tuples are basically lists that can never be changed. Lists are quite dynamic; they can grow as you append and insert items, and they can shrink as you remove items. You can modify any element you want to in a list. Sometimes we like this behavior, but other times we may want to ensure that no user or no part of a program can change a list. That's what tuples are for.\n",
        "\n",
        "Technically, lists are *mutable* objects and tuples are *immutable* objects. Mutable objects can change (think of *mutations*), and immutable objects can not change."
      ]
    },
    {
      "metadata": {
        "id": "zbOlufsZFmcf",
        "colab_type": "text",
        "slideshow": {
          "slide_type": "subslide"
        }
      },
      "cell_type": "markdown",
      "source": [
        "<a name='defining_tuples'></a>Defining tuples, and accessing elements\n",
        "---\n",
        "\n",
        "You define a tuple just like you define a list, except you use parentheses instead of square brackets. Once you have a tuple, you can access individual elements just like you can with a list, and you can loop through the tuple with a *for* loop:"
      ]
    },
    {
      "metadata": {
        "id": "ApUgcVSeFmcg",
        "colab_type": "code",
        "slideshow": {
          "slide_type": "fragment"
        },
        "colab": {
          "autoexec": {
            "startup": false,
            "wait_interval": 0
          }
        },
        "outputId": "9f4850fc-cf03-4a4a-b606-a9285c5b21bd"
      },
      "cell_type": "code",
      "source": [
        "colors = ('red', 'green', 'blue')\n",
        "print(\"The first color is: \" + colors[0])\n",
        "\n",
        "print(\"\\nThe available colors are:\")\n",
        "for color in colors:\n",
        "    print(\"- \" + color)"
      ],
      "execution_count": 0,
      "outputs": [
        {
          "output_type": "stream",
          "text": [
            "The first color is: red\n",
            "\n",
            "The available colors are:\n",
            "- red\n",
            "- green\n",
            "- blue\n"
          ],
          "name": "stdout"
        }
      ]
    },
    {
      "metadata": {
        "id": "_9CR9kpYFmch",
        "colab_type": "text",
        "slideshow": {
          "slide_type": "subslide"
        }
      },
      "cell_type": "markdown",
      "source": [
        "If you try to add something to a tuple, you will get an error:"
      ]
    },
    {
      "metadata": {
        "id": "8E4alt43Fmch",
        "colab_type": "code",
        "slideshow": {
          "slide_type": "fragment"
        },
        "colab": {
          "autoexec": {
            "startup": false,
            "wait_interval": 0
          }
        },
        "outputId": "37fb1644-6c2b-44ab-8f54-554f50e2de39"
      },
      "cell_type": "code",
      "source": [
        "colors = ('red', 'green', 'blue')\n",
        "colors.append('purple')"
      ],
      "execution_count": 0,
      "outputs": [
        {
          "output_type": "error",
          "ename": "AttributeError",
          "evalue": "'tuple' object has no attribute 'append'",
          "traceback": [
            "\u001b[0;31m---------------------------------------------------------------------------\u001b[0m\n\u001b[0;31mAttributeError\u001b[0m                            Traceback (most recent call last)",
            "\u001b[0;32m<ipython-input-37-ed1dbff53ab2>\u001b[0m in \u001b[0;36m<module>\u001b[0;34m()\u001b[0m\n\u001b[1;32m      1\u001b[0m \u001b[0mcolors\u001b[0m \u001b[0;34m=\u001b[0m \u001b[0;34m(\u001b[0m\u001b[0;34m'red'\u001b[0m\u001b[0;34m,\u001b[0m \u001b[0;34m'green'\u001b[0m\u001b[0;34m,\u001b[0m \u001b[0;34m'blue'\u001b[0m\u001b[0;34m)\u001b[0m\u001b[0;34m\u001b[0m\u001b[0m\n\u001b[0;32m----> 2\u001b[0;31m \u001b[0mcolors\u001b[0m\u001b[0;34m.\u001b[0m\u001b[0mappend\u001b[0m\u001b[0;34m(\u001b[0m\u001b[0;34m'purple'\u001b[0m\u001b[0;34m)\u001b[0m\u001b[0;34m\u001b[0m\u001b[0m\n\u001b[0m",
            "\u001b[0;31mAttributeError\u001b[0m: 'tuple' object has no attribute 'append'"
          ]
        }
      ]
    },
    {
      "metadata": {
        "id": "Zs8bai66Fmcj",
        "colab_type": "text",
        "slideshow": {
          "slide_type": "fragment"
        }
      },
      "cell_type": "markdown",
      "source": [
        "The same kind of thing happens when you try to remove something from a tuple, or modify one of its elements. Once you define a tuple, you can be confident that its values will not change."
      ]
    },
    {
      "metadata": {
        "id": "QT4uO5F2Fmcj",
        "colab_type": "text",
        "slideshow": {
          "slide_type": "subslide"
        }
      },
      "cell_type": "markdown",
      "source": [
        "<a name='tuples_strings'></a>Using tuples to make strings\n",
        "---\n",
        "We have seen that it is pretty useful to be able to mix raw English strings with values that are stored in variables, as in the following:"
      ]
    },
    {
      "metadata": {
        "id": "d_vcujNaFmck",
        "colab_type": "code",
        "slideshow": {
          "slide_type": "fragment"
        },
        "colab": {
          "autoexec": {
            "startup": false,
            "wait_interval": 0
          }
        },
        "outputId": "d92f4127-883d-4c63-df05-2c7704a7d966"
      },
      "cell_type": "code",
      "source": [
        "animal = 'dog'\n",
        "print(\"I have a \" + animal + \".\")"
      ],
      "execution_count": 0,
      "outputs": [
        {
          "output_type": "stream",
          "text": [
            "I have a dog.\n"
          ],
          "name": "stdout"
        }
      ]
    },
    {
      "metadata": {
        "id": "rrGU7C4nFmcl",
        "colab_type": "text",
        "slideshow": {
          "slide_type": "subslide"
        }
      },
      "cell_type": "markdown",
      "source": [
        "This was especially useful when we had a series of similar statements to make:"
      ]
    },
    {
      "metadata": {
        "id": "CKQGGpvnFmcl",
        "colab_type": "code",
        "slideshow": {
          "slide_type": "fragment"
        },
        "colab": {
          "autoexec": {
            "startup": false,
            "wait_interval": 0
          }
        },
        "outputId": "80dff936-6659-4872-ba95-f0a9b3e3e0b7"
      },
      "cell_type": "code",
      "source": [
        "animals = ['dog', 'cat', 'bear']\n",
        "for animal in animals:\n",
        "    print(\"I have a \" + animal + \".\")"
      ],
      "execution_count": 0,
      "outputs": [
        {
          "output_type": "stream",
          "text": [
            "I have a dog.\n",
            "I have a cat.\n",
            "I have a bear.\n"
          ],
          "name": "stdout"
        }
      ]
    },
    {
      "metadata": {
        "id": "CXf3A-8OFmcn",
        "colab_type": "text",
        "slideshow": {
          "slide_type": "subslide"
        }
      },
      "cell_type": "markdown",
      "source": [
        "I like this approach of using the plus sign to build strings because it is fairly intuitive. We can see that we are adding several smaller strings together to make one longer string. This is intuitive, but it is a lot of typing. There is a shorter way to do this, using *placeholders*.\n",
        "\n",
        "Python ignores most of the characters we put inside of strings. There are a few characters that Python pays attention to, as we saw with strings such as \"\\t\" and \"\\n\". Python also pays attention to \"%s\" and \"%d\". These are placeholders. When Python sees the \"%s\" placeholder, it looks ahead and pulls in the first argument after the % sign:"
      ]
    },
    {
      "metadata": {
        "id": "jsUmKX4ZFmcn",
        "colab_type": "code",
        "slideshow": {
          "slide_type": "fragment"
        },
        "colab": {
          "autoexec": {
            "startup": false,
            "wait_interval": 0
          }
        },
        "outputId": "84d0a4c9-648c-439c-f013-d90b73014b1f"
      },
      "cell_type": "code",
      "source": [
        "animal = 'dog'\n",
        "print(\"I have a %s.\" % animal)"
      ],
      "execution_count": 0,
      "outputs": [
        {
          "output_type": "stream",
          "text": [
            "I have a dog.\n"
          ],
          "name": "stdout"
        }
      ]
    },
    {
      "metadata": {
        "id": "N01xOyhaFmco",
        "colab_type": "text",
        "slideshow": {
          "slide_type": "fragment"
        }
      },
      "cell_type": "markdown",
      "source": [
        "This is a much cleaner way of generating strings that include values. We compose our sentence all in one string, and then tell Python what values to pull into the string, in the appropriate places.\n",
        "\n",
        "This is called *string formatting*, and it looks the same when you use a list:"
      ]
    },
    {
      "metadata": {
        "id": "h64vlsWdFmcp",
        "colab_type": "code",
        "slideshow": {
          "slide_type": "fragment"
        },
        "colab": {
          "autoexec": {
            "startup": false,
            "wait_interval": 0
          }
        },
        "outputId": "d08459f1-cd72-451f-dc3b-3b53a82b5c69"
      },
      "cell_type": "code",
      "source": [
        "animals = ['dog', 'cat', 'bear']\n",
        "for animal in animals:\n",
        "    print(\"I have a %s.\" % animal)"
      ],
      "execution_count": 0,
      "outputs": [
        {
          "output_type": "stream",
          "text": [
            "I have a dog.\n",
            "I have a cat.\n",
            "I have a bear.\n"
          ],
          "name": "stdout"
        }
      ]
    },
    {
      "metadata": {
        "id": "cKyYb4c4Fmcq",
        "colab_type": "text",
        "slideshow": {
          "slide_type": "subslide"
        }
      },
      "cell_type": "markdown",
      "source": [
        "If you have more than one value to put into the string you are composing, you have to pack the values into a tuple:"
      ]
    },
    {
      "metadata": {
        "id": "ABgniyENFmcq",
        "colab_type": "code",
        "slideshow": {
          "slide_type": "fragment"
        },
        "colab": {
          "autoexec": {
            "startup": false,
            "wait_interval": 0
          }
        },
        "outputId": "dbfe8f90-1a9e-4547-d5a9-f13bfcf4da11"
      },
      "cell_type": "code",
      "source": [
        "animals = ['dog', 'cat', 'bear']\n",
        "print(\"I have a %s, a %s, and a %s.\" % (animals[0], animals[1], animals[2]))"
      ],
      "execution_count": 0,
      "outputs": [
        {
          "output_type": "stream",
          "text": [
            "I have a dog, a cat, and a bear.\n"
          ],
          "name": "stdout"
        }
      ]
    },
    {
      "metadata": {
        "id": "J8mvZF6GFmcs",
        "colab_type": "text",
        "slideshow": {
          "slide_type": "subslide"
        }
      },
      "cell_type": "markdown",
      "source": [
        "### String formatting with numbers\n",
        "\n",
        "If you recall, printing a number with a string can cause an error:"
      ]
    },
    {
      "metadata": {
        "id": "-Gc7KvFRFmcs",
        "colab_type": "code",
        "slideshow": {
          "slide_type": "fragment"
        },
        "colab": {
          "autoexec": {
            "startup": false,
            "wait_interval": 0
          }
        },
        "outputId": "00aa75b8-f03e-4043-baf0-1dbe0932f493"
      },
      "cell_type": "code",
      "source": [
        "number = 23\n",
        "print(\"My favorite number is \" + number + \".\")"
      ],
      "execution_count": 0,
      "outputs": [
        {
          "output_type": "error",
          "ename": "TypeError",
          "evalue": "cannot concatenate 'str' and 'int' objects",
          "traceback": [
            "\u001b[0;31m---------------------------------------------------------------------------\u001b[0m\n\u001b[0;31mTypeError\u001b[0m                                 Traceback (most recent call last)",
            "\u001b[0;32m<ipython-input-47-1ed2c5bb2bba>\u001b[0m in \u001b[0;36m<module>\u001b[0;34m()\u001b[0m\n\u001b[1;32m      1\u001b[0m \u001b[0mnumber\u001b[0m \u001b[0;34m=\u001b[0m \u001b[0;36m23\u001b[0m\u001b[0;34m\u001b[0m\u001b[0m\n\u001b[0;32m----> 2\u001b[0;31m \u001b[0;32mprint\u001b[0m\u001b[0;34m(\u001b[0m\u001b[0;34m\"My favorite number is \"\u001b[0m \u001b[0;34m+\u001b[0m \u001b[0mnumber\u001b[0m \u001b[0;34m+\u001b[0m \u001b[0;34m\".\"\u001b[0m\u001b[0;34m)\u001b[0m\u001b[0;34m\u001b[0m\u001b[0m\n\u001b[0m",
            "\u001b[0;31mTypeError\u001b[0m: cannot concatenate 'str' and 'int' objects"
          ]
        }
      ]
    },
    {
      "metadata": {
        "id": "bwhTO4aXFmcu",
        "colab_type": "text",
        "slideshow": {
          "slide_type": "subslide"
        }
      },
      "cell_type": "markdown",
      "source": [
        "Python knows that you could be talking about the value 23, or the characters '23'. So it throws an error, forcing us to clarify that we want Python to treat the number as a string. We do this by *casting* the number into a string using the *str()* function:"
      ]
    },
    {
      "metadata": {
        "id": "VfCDawRnFmcu",
        "colab_type": "code",
        "slideshow": {
          "slide_type": "fragment"
        },
        "colab": {
          "autoexec": {
            "startup": false,
            "wait_interval": 0
          }
        },
        "outputId": "95e64102-3397-49cc-8a35-c1c09503de94"
      },
      "cell_type": "code",
      "source": [
        "number = 23\n",
        "print(\"My favorite number is \" + str(number) + \".\")"
      ],
      "execution_count": 0,
      "outputs": [
        {
          "output_type": "stream",
          "text": [
            "My favorite number is 23.\n"
          ],
          "name": "stdout"
        }
      ]
    },
    {
      "metadata": {
        "id": "S3N5RXISFmcv",
        "colab_type": "text",
        "slideshow": {
          "slide_type": "subslide"
        }
      },
      "cell_type": "markdown",
      "source": [
        "The format string \"%d\" takes care of this for us. Watch how clean this code is:"
      ]
    },
    {
      "metadata": {
        "id": "XcspA7PzFmcw",
        "colab_type": "code",
        "slideshow": {
          "slide_type": "fragment"
        },
        "colab": {
          "autoexec": {
            "startup": false,
            "wait_interval": 0
          }
        },
        "outputId": "895533b7-ca89-4936-d047-1197ff22af85"
      },
      "cell_type": "code",
      "source": [
        "number = 23\n",
        "print(\"My favorite number is %d.\" % number)"
      ],
      "execution_count": 0,
      "outputs": [
        {
          "output_type": "stream",
          "text": [
            "My favorite number is 23.\n"
          ],
          "name": "stdout"
        }
      ]
    },
    {
      "metadata": {
        "id": "n1sOsTrIFmcx",
        "colab_type": "text",
        "slideshow": {
          "slide_type": "subslide"
        }
      },
      "cell_type": "markdown",
      "source": [
        "If you want to use a series of numbers, you pack them into a tuple just like we saw with strings:"
      ]
    },
    {
      "metadata": {
        "id": "UmRx-DB5Fmcx",
        "colab_type": "code",
        "slideshow": {
          "slide_type": "fragment"
        },
        "colab": {
          "autoexec": {
            "startup": false,
            "wait_interval": 0
          }
        },
        "outputId": "90a24668-128f-45a7-cbaa-f905f47426a0"
      },
      "cell_type": "code",
      "source": [
        "numbers = [7, 23, 42]\n",
        "print(\"My favorite numbers are %d, %d, and %d.\" % (numbers[0], numbers[1], numbers[2]))"
      ],
      "execution_count": 0,
      "outputs": [
        {
          "output_type": "stream",
          "text": [
            "My favorite numbers are 7, 23, and 42.\n"
          ],
          "name": "stdout"
        }
      ]
    },
    {
      "metadata": {
        "id": "6XGtfILXFmc0",
        "colab_type": "text",
        "slideshow": {
          "slide_type": "subslide"
        }
      },
      "cell_type": "markdown",
      "source": [
        "Just for clarification, look at how much longer the code is if you use concatenation instead of string formatting:"
      ]
    },
    {
      "metadata": {
        "id": "dka31IviFmc0",
        "colab_type": "code",
        "slideshow": {
          "slide_type": "fragment"
        },
        "colab": {
          "autoexec": {
            "startup": false,
            "wait_interval": 0
          }
        },
        "outputId": "3ee29206-ea5d-4ac0-e5c8-6d43eaea445f"
      },
      "cell_type": "code",
      "source": [
        "numbers = [7, 23, 42]\n",
        "print(\"My favorite numbers are \" + str(numbers[0]) + \", \" + str(numbers[1]) + \", and \" + str(numbers[2]) + \".\")"
      ],
      "execution_count": 0,
      "outputs": [
        {
          "output_type": "stream",
          "text": [
            "My favorite numbers are 7, 23, and 42.\n"
          ],
          "name": "stdout"
        }
      ]
    },
    {
      "metadata": {
        "id": "sRpOGEBcFmc2",
        "colab_type": "text",
        "slideshow": {
          "slide_type": "subslide"
        }
      },
      "cell_type": "markdown",
      "source": [
        "You can mix string and numerical placeholders in any order you want."
      ]
    },
    {
      "metadata": {
        "id": "DwYNi0gOFmc3",
        "colab_type": "code",
        "slideshow": {
          "slide_type": "fragment"
        },
        "colab": {
          "autoexec": {
            "startup": false,
            "wait_interval": 0
          }
        },
        "outputId": "b7a9cab2-3a9c-4c4b-b4ac-7122b8407e7f"
      },
      "cell_type": "code",
      "source": [
        "names = ['eric', 'ever']\n",
        "numbers = [23, 2]\n",
        "print(\"%s's favorite number is %d, and %s's favorite number is %d.\" % (names[0].title(), numbers[0], names[1].title(), numbers[1]))"
      ],
      "execution_count": 0,
      "outputs": [
        {
          "output_type": "stream",
          "text": [
            "Eric's favorite number is 23, and Ever's favorite number is 2.\n"
          ],
          "name": "stdout"
        }
      ]
    },
    {
      "metadata": {
        "id": "Re8FsQ_IFmc5",
        "colab_type": "text",
        "slideshow": {
          "slide_type": "fragment"
        }
      },
      "cell_type": "markdown",
      "source": [
        "There are more sophisticated ways to do string formatting in Python 3, but we will save that for later because it's a bit less intuitive than this approach. For now, you can use whichever approach consistently gets you the output that you want to see."
      ]
    },
    {
      "metadata": {
        "id": "6E-wlbBqFmc5",
        "colab_type": "text",
        "slideshow": {
          "slide_type": "slide"
        }
      },
      "cell_type": "markdown",
      "source": [
        "<a name='tuples_exercises'></a>Exercises\n",
        "---\n",
        "\n",
        "#### Gymnast Scores\n",
        "- A gymnast can earn a score between 1 and 10 from each judge; nothing lower, nothing higher. All scores are integer values; there are no decimal scores from a single judge.\n",
        "- Store the possible scores a gymnast can earn from one judge in a tuple.\n",
        "- Print out the sentence, \"The lowest possible score is \\_\\_\\_, and the highest possible score is \\_\\_\\_.\" Use the values from your tuple.\n",
        "- Print out a series of sentences, \"A judge can give a gymnast ___ points.\"\n",
        "    - Don't worry if your first sentence reads \"A judge can give a gymnast 1 points.\"\n",
        "    - However, you get 1000 bonus internet points if you can use a for loop, and have correct grammar. [hint](#hints_gymnast_scores)\n",
        "\n",
        "#### Revision with Tuples\n",
        "- Choose a program you have already written that uses string concatenation.\n",
        "- Save the program with the same filename, but add *\\_tuple.py* to the end. For example, *gymnast\\_scores.py* becomes *gymnast\\_scores_tuple.py*.\n",
        "- Rewrite your string sections using *%s* and *%d* instead of concatenation.\n",
        "- Repeat this with two other programs you have already written."
      ]
    },
    {
      "metadata": {
        "id": "kQfT9E85Fmc6",
        "colab_type": "code",
        "slideshow": {
          "slide_type": "skip"
        },
        "colab": {
          "autoexec": {
            "startup": false,
            "wait_interval": 0
          }
        }
      },
      "cell_type": "code",
      "source": [
        "# Ex 3.26 : Gymnast Scores\n",
        "\n",
        "# put your code here"
      ],
      "execution_count": 0,
      "outputs": []
    },
    {
      "metadata": {
        "id": "ZZ-Dv530Fmc7",
        "colab_type": "code",
        "slideshow": {
          "slide_type": "skip"
        },
        "colab": {
          "autoexec": {
            "startup": false,
            "wait_interval": 0
          }
        }
      },
      "cell_type": "code",
      "source": [
        "# Ex 3.27 : Revision with Tuples\n",
        "\n",
        "# put your code here"
      ],
      "execution_count": 0,
      "outputs": []
    },
    {
      "metadata": {
        "id": "RKz0rVu6Fmc8",
        "colab_type": "text",
        "slideshow": {
          "slide_type": "skip"
        }
      },
      "cell_type": "markdown",
      "source": [
        "[top](#top)"
      ]
    },
    {
      "metadata": {
        "id": "cvELezNMFmc8",
        "colab_type": "text"
      },
      "cell_type": "markdown",
      "source": [
        "<a name='sets'></a>Sets\n",
        "===\n",
        "\n",
        "A set object is an unordered collection of distinct hashable objects. Common uses include membership testing, removing duplicates from a sequence, and computing mathematical operations such as intersection, union, difference, and symmetric difference."
      ]
    },
    {
      "metadata": {
        "id": "mr3YJ0O_Fmc9",
        "colab_type": "code",
        "colab": {
          "autoexec": {
            "startup": false,
            "wait_interval": 0
          }
        },
        "outputId": "0a1bddb9-c11f-4486-99a6-e752786dc7b6"
      },
      "cell_type": "code",
      "source": [
        "shapes = ['circle','square','triangle','circle']\n",
        "set_of_shapes = set(shapes)\n",
        "set_of_shapes"
      ],
      "execution_count": 0,
      "outputs": [
        {
          "output_type": "execute_result",
          "data": {
            "text/plain": [
              "{'circle', 'square', 'triangle'}"
            ]
          },
          "metadata": {
            "tags": []
          },
          "execution_count": 1
        }
      ]
    },
    {
      "metadata": {
        "id": "GIdSEDagFmc-",
        "colab_type": "code",
        "colab": {
          "autoexec": {
            "startup": false,
            "wait_interval": 0
          }
        },
        "outputId": "06912488-4720-488b-c3af-9b5169f47a15"
      },
      "cell_type": "code",
      "source": [
        "shapes = {'circle','square','triangle','circle'}\n",
        "for shape in set_of_shapes:\n",
        "    print(shape)"
      ],
      "execution_count": 0,
      "outputs": [
        {
          "output_type": "stream",
          "text": [
            "circle\n",
            "square\n",
            "polygon\n",
            "triangle\n"
          ],
          "name": "stdout"
        }
      ]
    },
    {
      "metadata": {
        "id": "9nl41ocSFmc_",
        "colab_type": "code",
        "colab": {
          "autoexec": {
            "startup": false,
            "wait_interval": 0
          }
        },
        "outputId": "e6671935-ee65-4124-c960-9c91f6aa3a01"
      },
      "cell_type": "code",
      "source": [
        "set_of_shapes.add('polygon') \n",
        "print(set_of_shapes)"
      ],
      "execution_count": 0,
      "outputs": [
        {
          "output_type": "stream",
          "text": [
            "{'circle', 'square', 'polygon', 'triangle'}\n"
          ],
          "name": "stdout"
        }
      ]
    },
    {
      "metadata": {
        "id": "JdJ5k3X9FmdB",
        "colab_type": "text"
      },
      "cell_type": "markdown",
      "source": [
        "## Exists (Check)"
      ]
    },
    {
      "metadata": {
        "id": "fXwIWLycFmdB",
        "colab_type": "code",
        "colab": {
          "autoexec": {
            "startup": false,
            "wait_interval": 0
          }
        },
        "outputId": "6a5926d5-e332-447e-f872-67bd58b11348"
      },
      "cell_type": "code",
      "source": [
        "# Test if circle is IN the set (i.e. exist)\n",
        "print('Circle is in the set: ', ('circle' in set_of_shapes))\n",
        "print('Rhombus is in the set:', ('rhombus' in set_of_shapes))"
      ],
      "execution_count": 0,
      "outputs": [
        {
          "output_type": "stream",
          "text": [
            "Circle is in the set:  True\n",
            "Rhombus is in the set: False\n"
          ],
          "name": "stdout"
        }
      ]
    },
    {
      "metadata": {
        "id": "2wjKGT_YFmdC",
        "colab_type": "text"
      },
      "cell_type": "markdown",
      "source": [
        "## Operations"
      ]
    },
    {
      "metadata": {
        "id": "66Vz4jQXFmdC",
        "colab_type": "code",
        "colab": {
          "autoexec": {
            "startup": false,
            "wait_interval": 0
          }
        },
        "outputId": "17c2ae09-f3de-4f80-b662-9f6cbb984d0f"
      },
      "cell_type": "code",
      "source": [
        "favourites_shapes = set(['circle','triangle','hexagon'])\n",
        "\n",
        "# Intersection\n",
        "set_of_shapes.intersection(favourites_shapes)"
      ],
      "execution_count": 0,
      "outputs": [
        {
          "output_type": "execute_result",
          "data": {
            "text/plain": [
              "{'circle', 'triangle'}"
            ]
          },
          "metadata": {
            "tags": []
          },
          "execution_count": 3
        }
      ]
    },
    {
      "metadata": {
        "id": "ZpcSZ_tdFmdE",
        "colab_type": "code",
        "colab": {
          "autoexec": {
            "startup": false,
            "wait_interval": 0
          }
        },
        "outputId": "bdaeb121-5822-4d4e-940a-c61849231e71"
      },
      "cell_type": "code",
      "source": [
        "# Union\n",
        "set_of_shapes.union(favourites_shapes)"
      ],
      "execution_count": 0,
      "outputs": [
        {
          "output_type": "execute_result",
          "data": {
            "text/plain": [
              "{'circle', 'hexagon', 'square', 'triangle'}"
            ]
          },
          "metadata": {
            "tags": []
          },
          "execution_count": 4
        }
      ]
    },
    {
      "metadata": {
        "id": "Dkm_WUGxFmdG",
        "colab_type": "code",
        "colab": {
          "autoexec": {
            "startup": false,
            "wait_interval": 0
          }
        },
        "outputId": "163994cd-ec80-484a-cc54-56319a60aa2e"
      },
      "cell_type": "code",
      "source": [
        "# Difference\n",
        "set_of_shapes.difference(favourites_shapes)"
      ],
      "execution_count": 0,
      "outputs": [
        {
          "output_type": "execute_result",
          "data": {
            "text/plain": [
              "{'square'}"
            ]
          },
          "metadata": {
            "tags": []
          },
          "execution_count": 5
        }
      ]
    },
    {
      "metadata": {
        "id": "IhjD0G3lFmdH",
        "colab_type": "text",
        "slideshow": {
          "slide_type": "slide"
        }
      },
      "cell_type": "markdown",
      "source": [
        "<a name='challenges_overall'></a>Overall Challenges\n",
        "===\n",
        "#### Programming Words\n",
        "- Make a list of the most important words you have learned in programming so far. You should have terms such as list,\n",
        "- Make a corresponding list of definitions. Fill your list with 'definition'.\n",
        "- Use a for loop to print out each word and its corresponding definition.\n",
        "- Maintain this program until you get to the section on Python's Dictionaries."
      ]
    },
    {
      "metadata": {
        "id": "MVPTgzYqFmdH",
        "colab_type": "code",
        "slideshow": {
          "slide_type": "skip"
        },
        "colab": {
          "autoexec": {
            "startup": false,
            "wait_interval": 0
          }
        }
      },
      "cell_type": "code",
      "source": [
        "# Overall Challenges: Programming Words\n",
        "\n",
        "# Put your code here"
      ],
      "execution_count": 0,
      "outputs": []
    },
    {
      "metadata": {
        "id": "EJS2Qu-oFmdI",
        "colab_type": "text",
        "slideshow": {
          "slide_type": "skip"
        }
      },
      "cell_type": "markdown",
      "source": [
        "[top](#top)"
      ]
    }
  ]
}