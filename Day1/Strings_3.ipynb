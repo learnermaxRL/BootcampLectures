{
  "nbformat": 4,
  "nbformat_minor": 0,
  "metadata": {
    "colab": {
      "name": "Strings_3.ipynb",
      "version": "0.3.2",
      "views": {},
      "default_view": {},
      "provenance": [],
      "collapsed_sections": []
    },
    "kernelspec": {
      "display_name": "Python 3",
      "language": "python",
      "name": "python3"
    }
  },
  "cells": [
    {
      "metadata": {
        "id": "L6XOfuuQNI-J",
        "colab_type": "text"
      },
      "cell_type": "markdown",
      "source": [
        "# Strings\n",
        "\n",
        "**Time**\n",
        "- Teaching: 10 min\n",
        "- Exercises: 20 min\n",
        "\n",
        "**Questions**:\n",
        "- \"How do I manipulate strings (text)?\"\n",
        "\n",
        "**Learning Objectives**:\n",
        "- Become familiar with the [string](https://github.com/dlab-berkeley/python-intensive/blob/master/Glossary.md#string) [type](https://github.com/dlab-berkeley/python-intensive/blob/master/Glossary.md#type) and its methods\n",
        "* * * * *\n"
      ]
    },
    {
      "metadata": {
        "id": "7ViZylklNI-P",
        "colab_type": "text"
      },
      "cell_type": "markdown",
      "source": [
        "## We can do things with strings\n",
        "\n",
        "* We've already seen some operations that can be done with strings."
      ]
    },
    {
      "metadata": {
        "id": "S73dulphNI-U",
        "colab_type": "code",
        "colab": {
          "autoexec": {
            "startup": false,
            "wait_interval": 0
          },
          "base_uri": "https://localhost:8080/",
          "height": 34
        },
        "outputId": "c0dd73f9-cb97-49a5-8e33-cdb78ca9eaf9",
        "executionInfo": {
          "status": "ok",
          "timestamp": 1530723273377,
          "user_tz": -330,
          "elapsed": 1073,
          "user": {
            "displayName": "Mayank Sharma",
            "photoUrl": "https://lh3.googleusercontent.com/a/default-user=s128",
            "userId": "103040418612071322155"
          }
        }
      },
      "cell_type": "code",
      "source": [
        "first_name = \"Deep\"\n",
        "last_name = \"Learning\"\n",
        "full_name = first_name + last_name\n",
        "print(full_name)"
      ],
      "execution_count": 2,
      "outputs": [
        {
          "output_type": "stream",
          "text": [
            "DeepLearning\n"
          ],
          "name": "stdout"
        }
      ]
    },
    {
      "metadata": {
        "id": "HqsN3TuINI-l",
        "colab_type": "text"
      },
      "cell_type": "markdown",
      "source": [
        "* Remember that computers don't understand context."
      ]
    },
    {
      "metadata": {
        "id": "6sOw2LbaNI-p",
        "colab_type": "code",
        "colab": {
          "autoexec": {
            "startup": false,
            "wait_interval": 0
          },
          "base_uri": "https://localhost:8080/",
          "height": 34
        },
        "outputId": "7d5527b8-9bf5-4321-ad1c-c737a3da8311",
        "executionInfo": {
          "status": "ok",
          "timestamp": 1530723282784,
          "user_tz": -330,
          "elapsed": 973,
          "user": {
            "displayName": "Mayank Sharma",
            "photoUrl": "https://lh3.googleusercontent.com/a/default-user=s128",
            "userId": "103040418612071322155"
          }
        }
      },
      "cell_type": "code",
      "source": [
        "full_name = first_name + \" \" + last_name\n",
        "print(full_name)"
      ],
      "execution_count": 3,
      "outputs": [
        {
          "output_type": "stream",
          "text": [
            "Deep Learning\n"
          ],
          "name": "stdout"
        }
      ]
    },
    {
      "metadata": {
        "id": "PxYMzu4aNI-9",
        "colab_type": "text"
      },
      "cell_type": "markdown",
      "source": [
        "## Strings are made up of sub-strings\n",
        "\n",
        "* You can think of strings as a [sequence](https://github.com/dlab-berkeley/python-intensive/blob/master/Glossary.md#sequence) of smaller strings or characters. \n",
        "* We can access a piece of that sequence using `[]`."
      ]
    },
    {
      "metadata": {
        "id": "RcG3eUWDNI_A",
        "colab_type": "code",
        "colab": {
          "autoexec": {
            "startup": false,
            "wait_interval": 0
          },
          "base_uri": "https://localhost:8080/",
          "height": 34
        },
        "outputId": "e435b240-b57f-4636-91d0-c87663174456",
        "executionInfo": {
          "status": "ok",
          "timestamp": 1530723372488,
          "user_tz": -330,
          "elapsed": 948,
          "user": {
            "displayName": "Mayank Sharma",
            "photoUrl": "https://lh3.googleusercontent.com/a/default-user=s128",
            "userId": "103040418612071322155"
          }
        }
      },
      "cell_type": "code",
      "source": [
        "full_name = \"GeorgeClonney\"\n",
        "full_name[1]"
      ],
      "execution_count": 9,
      "outputs": [
        {
          "output_type": "execute_result",
          "data": {
            "text/plain": [
              "'e'"
            ]
          },
          "metadata": {
            "tags": []
          },
          "execution_count": 9
        }
      ]
    },
    {
      "metadata": {
        "id": "LjVvLKxPNI_U",
        "colab_type": "text"
      },
      "cell_type": "markdown",
      "source": [
        "**Gotcha** - Python (and many other langauges) start counting from 0."
      ]
    },
    {
      "metadata": {
        "id": "cGjZe1SvNI_W",
        "colab_type": "code",
        "colab": {
          "autoexec": {
            "startup": false,
            "wait_interval": 0
          },
          "base_uri": "https://localhost:8080/",
          "height": 34
        },
        "outputId": "3f884819-44b8-4e45-d306-3f2395a3183d",
        "executionInfo": {
          "status": "ok",
          "timestamp": 1530723294773,
          "user_tz": -330,
          "elapsed": 1162,
          "user": {
            "displayName": "Mayank Sharma",
            "photoUrl": "https://lh3.googleusercontent.com/a/default-user=s128",
            "userId": "103040418612071322155"
          }
        }
      },
      "cell_type": "code",
      "source": [
        "full_name[0]"
      ],
      "execution_count": 5,
      "outputs": [
        {
          "output_type": "execute_result",
          "data": {
            "text/plain": [
              "'D'"
            ]
          },
          "metadata": {
            "tags": []
          },
          "execution_count": 5
        }
      ]
    },
    {
      "metadata": {
        "id": "1DGsqdPXNI_d",
        "colab_type": "code",
        "colab": {
          "autoexec": {
            "startup": false,
            "wait_interval": 0
          },
          "base_uri": "https://localhost:8080/",
          "height": 34
        },
        "outputId": "df68fe4a-db55-4882-94c6-e88370b34a4d",
        "executionInfo": {
          "status": "ok",
          "timestamp": 1530723296392,
          "user_tz": -330,
          "elapsed": 931,
          "user": {
            "displayName": "Mayank Sharma",
            "photoUrl": "https://lh3.googleusercontent.com/a/default-user=s128",
            "userId": "103040418612071322155"
          }
        }
      },
      "cell_type": "code",
      "source": [
        "full_name[4]"
      ],
      "execution_count": 6,
      "outputs": [
        {
          "output_type": "execute_result",
          "data": {
            "text/plain": [
              "' '"
            ]
          },
          "metadata": {
            "tags": []
          },
          "execution_count": 6
        }
      ]
    },
    {
      "metadata": {
        "id": "Cd2cKuNXNI_m",
        "colab_type": "text"
      },
      "cell_type": "markdown",
      "source": [
        "## You can slice strings using  `[ : ]`\n",
        "\n",
        "* if you want a range (or \"slice\") of a sequence, you get everything *before* the second index:"
      ]
    },
    {
      "metadata": {
        "id": "XocqpsR0NI_q",
        "colab_type": "code",
        "colab": {
          "autoexec": {
            "startup": false,
            "wait_interval": 0
          },
          "base_uri": "https://localhost:8080/",
          "height": 34
        },
        "outputId": "b3691469-3b0e-42c1-faf4-1447675f6461",
        "executionInfo": {
          "status": "ok",
          "timestamp": 1530723377611,
          "user_tz": -330,
          "elapsed": 868,
          "user": {
            "displayName": "Mayank Sharma",
            "photoUrl": "https://lh3.googleusercontent.com/a/default-user=s128",
            "userId": "103040418612071322155"
          }
        }
      },
      "cell_type": "code",
      "source": [
        "full_name[0:4]"
      ],
      "execution_count": 10,
      "outputs": [
        {
          "output_type": "execute_result",
          "data": {
            "text/plain": [
              "'Geor'"
            ]
          },
          "metadata": {
            "tags": []
          },
          "execution_count": 10
        }
      ]
    },
    {
      "metadata": {
        "id": "cqqqvE1BNI_v",
        "colab_type": "code",
        "colab": {
          "autoexec": {
            "startup": false,
            "wait_interval": 0
          },
          "base_uri": "https://localhost:8080/",
          "height": 34
        },
        "outputId": "2d9919ae-e7e6-44b5-efad-ec4301287293",
        "executionInfo": {
          "status": "ok",
          "timestamp": 1530723379355,
          "user_tz": -330,
          "elapsed": 1074,
          "user": {
            "displayName": "Mayank Sharma",
            "photoUrl": "https://lh3.googleusercontent.com/a/default-user=s128",
            "userId": "103040418612071322155"
          }
        }
      },
      "cell_type": "code",
      "source": [
        "full_name[0:5]"
      ],
      "execution_count": 11,
      "outputs": [
        {
          "output_type": "execute_result",
          "data": {
            "text/plain": [
              "'Georg'"
            ]
          },
          "metadata": {
            "tags": []
          },
          "execution_count": 11
        }
      ]
    },
    {
      "metadata": {
        "id": "qoxmB1QONI_z",
        "colab_type": "text"
      },
      "cell_type": "markdown",
      "source": [
        "* You can see some of the logic for this when we consider implicit indices."
      ]
    },
    {
      "metadata": {
        "id": "jKpxkSGnNI_4",
        "colab_type": "code",
        "colab": {
          "autoexec": {
            "startup": false,
            "wait_interval": 0
          },
          "base_uri": "https://localhost:8080/",
          "height": 34
        },
        "outputId": "677dc40b-d0a4-4586-80f5-104676cb0ec7",
        "executionInfo": {
          "status": "ok",
          "timestamp": 1530723382145,
          "user_tz": -330,
          "elapsed": 1246,
          "user": {
            "displayName": "Mayank Sharma",
            "photoUrl": "https://lh3.googleusercontent.com/a/default-user=s128",
            "userId": "103040418612071322155"
          }
        }
      },
      "cell_type": "code",
      "source": [
        "full_name[:5]"
      ],
      "execution_count": 12,
      "outputs": [
        {
          "output_type": "execute_result",
          "data": {
            "text/plain": [
              "'Georg'"
            ]
          },
          "metadata": {
            "tags": []
          },
          "execution_count": 12
        }
      ]
    },
    {
      "metadata": {
        "id": "FrLtP0lDNJAF",
        "colab_type": "code",
        "colab": {
          "autoexec": {
            "startup": false,
            "wait_interval": 0
          },
          "base_uri": "https://localhost:8080/",
          "height": 34
        },
        "outputId": "78ccf934-4111-4c80-b03f-40c5ae23a03d",
        "executionInfo": {
          "status": "ok",
          "timestamp": 1530723395198,
          "user_tz": -330,
          "elapsed": 924,
          "user": {
            "displayName": "Mayank Sharma",
            "photoUrl": "https://lh3.googleusercontent.com/a/default-user=s128",
            "userId": "103040418612071322155"
          }
        }
      },
      "cell_type": "code",
      "source": [
        "full_name[5:]"
      ],
      "execution_count": 14,
      "outputs": [
        {
          "output_type": "execute_result",
          "data": {
            "text/plain": [
              "'eClonney'"
            ]
          },
          "metadata": {
            "tags": []
          },
          "execution_count": 14
        }
      ]
    },
    {
      "metadata": {
        "id": "u27C9i7dNJAL",
        "colab_type": "text"
      },
      "cell_type": "markdown",
      "source": [
        "## String Have Methods"
      ]
    },
    {
      "metadata": {
        "id": "y3UgHKzWNJAN",
        "colab_type": "text"
      },
      "cell_type": "markdown",
      "source": [
        "* There are other operations defined on string data. These are called **string [methods](https://github.com/dlab-berkeley/python-intensive/blob/master/Glossary.md#method)**. \n",
        "* IPython lets you do tab-completion after a dot ('.') to see what methods an [object](https://github.com/dlab-berkeley/python-intensive/blob/master/Glossary.md#object) (i.e., a defined variable) has to offer. Try it now!"
      ]
    },
    {
      "metadata": {
        "id": "QrvvQ9aANJAO",
        "colab_type": "code",
        "colab": {
          "autoexec": {
            "startup": false,
            "wait_interval": 0
          },
          "base_uri": "https://localhost:8080/",
          "height": 130
        },
        "outputId": "f7bf83ca-afc2-4091-f46c-7d1b75c9afde",
        "executionInfo": {
          "status": "error",
          "timestamp": 1530723402122,
          "user_tz": -330,
          "elapsed": 876,
          "user": {
            "displayName": "Mayank Sharma",
            "photoUrl": "https://lh3.googleusercontent.com/a/default-user=s128",
            "userId": "103040418612071322155"
          }
        }
      },
      "cell_type": "code",
      "source": [
        "str."
      ],
      "execution_count": 15,
      "outputs": [
        {
          "output_type": "error",
          "ename": "SyntaxError",
          "evalue": "ignored",
          "traceback": [
            "\u001b[0;36m  File \u001b[0;32m\"<ipython-input-15-8c081d95124d>\"\u001b[0;36m, line \u001b[0;32m1\u001b[0m\n\u001b[0;31m    str.\u001b[0m\n\u001b[0m        ^\u001b[0m\n\u001b[0;31mSyntaxError\u001b[0m\u001b[0;31m:\u001b[0m invalid syntax\n"
          ]
        }
      ]
    },
    {
      "metadata": {
        "id": "sEy5S1KVNJAT",
        "colab_type": "text"
      },
      "cell_type": "markdown",
      "source": [
        "* Let's look at the upper method. What does it do? Lets take a look at the documentation. IPython lets us do this with a question mark ('?') before *or* after an object (again, a defined variable)."
      ]
    },
    {
      "metadata": {
        "id": "2b-5KTaiNJAW",
        "colab_type": "code",
        "colab": {
          "autoexec": {
            "startup": false,
            "wait_interval": 0
          }
        }
      },
      "cell_type": "code",
      "source": [
        "str.upper?"
      ],
      "execution_count": 0,
      "outputs": []
    },
    {
      "metadata": {
        "id": "4oVjx5QaNJAe",
        "colab_type": "text"
      },
      "cell_type": "markdown",
      "source": [
        "So we can use it to upper-caseify a string. "
      ]
    },
    {
      "metadata": {
        "id": "HGa1E7G_NJAg",
        "colab_type": "code",
        "colab": {
          "autoexec": {
            "startup": false,
            "wait_interval": 0
          },
          "base_uri": "https://localhost:8080/",
          "height": 34
        },
        "outputId": "dadb6c7f-caab-4e63-c142-d595864aaa39",
        "executionInfo": {
          "status": "ok",
          "timestamp": 1530723445504,
          "user_tz": -330,
          "elapsed": 1044,
          "user": {
            "displayName": "Mayank Sharma",
            "photoUrl": "https://lh3.googleusercontent.com/a/default-user=s128",
            "userId": "103040418612071322155"
          }
        }
      },
      "cell_type": "code",
      "source": [
        "full_name.upper()"
      ],
      "execution_count": 18,
      "outputs": [
        {
          "output_type": "execute_result",
          "data": {
            "text/plain": [
              "'GEORGECLONNEY'"
            ]
          },
          "metadata": {
            "tags": []
          },
          "execution_count": 18
        }
      ]
    },
    {
      "metadata": {
        "id": "TzyaK-D7NJAm",
        "colab_type": "text"
      },
      "cell_type": "markdown",
      "source": [
        "You have to use the parenthesis at the end because upper is a method of the string class.\n",
        "\n",
        "Don't forget, simply calling the method does not change the original variable, you must reassign the variable:"
      ]
    },
    {
      "metadata": {
        "id": "7CNQqXxJNJAn",
        "colab_type": "code",
        "colab": {
          "autoexec": {
            "startup": false,
            "wait_interval": 0
          },
          "base_uri": "https://localhost:8080/",
          "height": 34
        },
        "outputId": "01303ec6-7a32-4202-8db5-eb1a1a6ecb65",
        "executionInfo": {
          "status": "ok",
          "timestamp": 1530723450729,
          "user_tz": -330,
          "elapsed": 1107,
          "user": {
            "displayName": "Mayank Sharma",
            "photoUrl": "https://lh3.googleusercontent.com/a/default-user=s128",
            "userId": "103040418612071322155"
          }
        }
      },
      "cell_type": "code",
      "source": [
        "print(full_name)"
      ],
      "execution_count": 19,
      "outputs": [
        {
          "output_type": "stream",
          "text": [
            "GeorgeClonney\n"
          ],
          "name": "stdout"
        }
      ]
    },
    {
      "metadata": {
        "id": "FM8dv7P4NJAu",
        "colab_type": "code",
        "colab": {
          "autoexec": {
            "startup": false,
            "wait_interval": 0
          },
          "base_uri": "https://localhost:8080/",
          "height": 34
        },
        "outputId": "3a89593b-6d9b-4021-d691-c57d9db3594e",
        "executionInfo": {
          "status": "ok",
          "timestamp": 1530723557708,
          "user_tz": -330,
          "elapsed": 632,
          "user": {
            "displayName": "Mayank Sharma",
            "photoUrl": "https://lh3.googleusercontent.com/a/default-user=s128",
            "userId": "103040418612071322155"
          }
        }
      },
      "cell_type": "code",
      "source": [
        "full_name = full_name.upper()\n",
        "print(full_name)"
      ],
      "execution_count": 20,
      "outputs": [
        {
          "output_type": "stream",
          "text": [
            "GEORGECLONNEY\n"
          ],
          "name": "stdout"
        }
      ]
    },
    {
      "metadata": {
        "id": "Aex0W-njNJAx",
        "colab_type": "text"
      },
      "cell_type": "markdown",
      "source": [
        "For what its worth, you don't need to have a variable to use the upper() method, you could use it on the string itself."
      ]
    },
    {
      "metadata": {
        "id": "-e0HHjCaNJAy",
        "colab_type": "code",
        "colab": {
          "autoexec": {
            "startup": false,
            "wait_interval": 0
          },
          "base_uri": "https://localhost:8080/",
          "height": 34
        },
        "outputId": "8b0d2c81-d40c-42b3-9dea-8819fb484b46",
        "executionInfo": {
          "status": "ok",
          "timestamp": 1530723564586,
          "user_tz": -330,
          "elapsed": 1251,
          "user": {
            "displayName": "Mayank Sharma",
            "photoUrl": "https://lh3.googleusercontent.com/a/default-user=s128",
            "userId": "103040418612071322155"
          }
        }
      },
      "cell_type": "code",
      "source": [
        "\"Johann Gambolputty\".upper()"
      ],
      "execution_count": 21,
      "outputs": [
        {
          "output_type": "execute_result",
          "data": {
            "text/plain": [
              "'JOHANN GAMBOLPUTTY'"
            ]
          },
          "metadata": {
            "tags": []
          },
          "execution_count": 21
        }
      ]
    },
    {
      "metadata": {
        "id": "rZHR8Y3aNJA4",
        "colab_type": "text"
      },
      "cell_type": "markdown",
      "source": [
        "What do you think should happen when you take upper of an int?  What about a string representation of an int?"
      ]
    },
    {
      "metadata": {
        "id": "GQyi2zznNJA6",
        "colab_type": "text"
      },
      "cell_type": "markdown",
      "source": [
        "## Challenge 1: Write your name\n",
        "\n",
        "1. Make two string variables, one with your first name and one with your last name.\n",
        "2. Concatenate both strings to form your full name and [assign](https://github.com/dlab-berkeley/python-intensive/blob/master/Glossary.md#assign) it to a variable.\n",
        "3. Assign a new variable that has your full name in all upper case.\n",
        "4. Slice that string to get your first name again."
      ]
    },
    {
      "metadata": {
        "id": "55uXoR7nNJA8",
        "colab_type": "code",
        "colab": {
          "autoexec": {
            "startup": false,
            "wait_interval": 0
          }
        }
      },
      "cell_type": "code",
      "source": [
        ""
      ],
      "execution_count": 0,
      "outputs": []
    },
    {
      "metadata": {
        "id": "cRX07OtrNJBF",
        "colab_type": "text"
      },
      "cell_type": "markdown",
      "source": [
        "## Challenge 2: Try seeing what the following string methods do:\n",
        "\n",
        "    * `split`\n",
        "    * `join`\n",
        "    * `replace`\n",
        "    * `strip`\n",
        "    * `find`"
      ]
    },
    {
      "metadata": {
        "id": "X6z-pWntNJBH",
        "colab_type": "code",
        "colab": {
          "autoexec": {
            "startup": false,
            "wait_interval": 0
          }
        }
      },
      "cell_type": "code",
      "source": [
        ""
      ],
      "execution_count": 0,
      "outputs": []
    },
    {
      "metadata": {
        "id": "h4kSrATKNJBP",
        "colab_type": "text"
      },
      "cell_type": "markdown",
      "source": [
        "## Challenge 3: Working with strings"
      ]
    },
    {
      "metadata": {
        "id": "koqdSBBcNJBT",
        "colab_type": "text"
      },
      "cell_type": "markdown",
      "source": [
        "Below is a string of Edgar Allen Poe's \"A Dream Within a Dream\":"
      ]
    },
    {
      "metadata": {
        "id": "KkQcB3UzNJBW",
        "colab_type": "code",
        "colab": {
          "autoexec": {
            "startup": false,
            "wait_interval": 0
          }
        }
      },
      "cell_type": "code",
      "source": [
        "poem = '''Take this kiss upon the brow!\n",
        "And, in parting from you now,\n",
        "Thus much let me avow —\n",
        "You are not wrong, who deem\n",
        "That my days have been a dream;\n",
        "Yet if hope has flown away\n",
        "In a night, or in a day,\n",
        "In a vision, or in none,\n",
        "Is it therefore the less gone?  \n",
        "All that we see or seem\n",
        "Is but a dream within a dream.\n",
        "\n",
        "I stand amid the roar\n",
        "Of a surf-tormented shore,\n",
        "And I hold within my hand\n",
        "Grains of the golden sand —\n",
        "How few! yet how they creep\n",
        "Through my fingers to the deep,\n",
        "While I weep — while I weep!\n",
        "O God! Can I not grasp \n",
        "Them with a tighter clasp?\n",
        "O God! can I not save\n",
        "One from the pitiless wave?\n",
        "Is all that we see or seem\n",
        "But a dream within a dream?'''"
      ],
      "execution_count": 0,
      "outputs": []
    },
    {
      "metadata": {
        "id": "3RHH6GPtNJBd",
        "colab_type": "text"
      },
      "cell_type": "markdown",
      "source": [
        "What is the difference between `poem.strip(\"?\")` and `poem.replace(\"?\", \"\")` ?"
      ]
    },
    {
      "metadata": {
        "id": "ZPseDYAANJBi",
        "colab_type": "code",
        "colab": {
          "autoexec": {
            "startup": false,
            "wait_interval": 0
          }
        }
      },
      "cell_type": "code",
      "source": [
        ""
      ],
      "execution_count": 0,
      "outputs": []
    },
    {
      "metadata": {
        "id": "DygHYqT5NJBs",
        "colab_type": "text"
      },
      "cell_type": "markdown",
      "source": [
        "At what index does the word \"*and*\" first appear? Where does it last appear?"
      ]
    },
    {
      "metadata": {
        "id": "sf120PLVNJBt",
        "colab_type": "code",
        "colab": {
          "autoexec": {
            "startup": false,
            "wait_interval": 0
          }
        }
      },
      "cell_type": "code",
      "source": [
        ""
      ],
      "execution_count": 0,
      "outputs": []
    },
    {
      "metadata": {
        "id": "BuA_630INJBx",
        "colab_type": "text"
      },
      "cell_type": "markdown",
      "source": [
        "How can you answer the above accounting for upper- and lowercase?"
      ]
    },
    {
      "metadata": {
        "id": "hEHekDdrNJBy",
        "colab_type": "code",
        "colab": {
          "autoexec": {
            "startup": false,
            "wait_interval": 0
          }
        }
      },
      "cell_type": "code",
      "source": [
        ""
      ],
      "execution_count": 0,
      "outputs": []
    },
    {
      "metadata": {
        "id": "JMfwvKFlNJB1",
        "colab_type": "text"
      },
      "cell_type": "markdown",
      "source": [
        "# Keypoints\n",
        "\n",
        "- Some mathematical operators can be used on strings\n",
        "- Strings can be indexed, Python indexing always starts at 0!\n",
        "- Strings, and other types, have their own methods, which are called using dots after the variable, and then the method name."
      ]
    },
    {
      "metadata": {
        "id": "owXfO3q-NJB3",
        "colab_type": "code",
        "colab": {
          "autoexec": {
            "startup": false,
            "wait_interval": 0
          }
        }
      },
      "cell_type": "code",
      "source": [
        ""
      ],
      "execution_count": 0,
      "outputs": []
    }
  ]
}