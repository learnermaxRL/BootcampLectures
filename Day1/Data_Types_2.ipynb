{
  "nbformat": 4,
  "nbformat_minor": 0,
  "metadata": {
    "colab": {
      "name": "Data_Types_2.ipynb",
      "version": "0.3.2",
      "views": {},
      "default_view": {},
      "provenance": []
    },
    "kernelspec": {
      "display_name": "Python 3",
      "language": "python",
      "name": "python3"
    }
  },
  "cells": [
    {
      "metadata": {
        "id": "NMZ8GCpzHnbo",
        "colab_type": "text"
      },
      "cell_type": "markdown",
      "source": [
        "# Data Types and Type Conversion\n",
        "\n",
        "**Time**\n",
        "- Teaching: 5 min\n",
        "- Challenges: 15 min\n",
        "\n",
        "**Questions**\n",
        "- \"What kinds of data do programs store?\"\n",
        "- \"How can I convert one [type](https://github.com/dlab-berkeley/python-intensive/blob/master/Glossary.md#type) to another?\"\n",
        "\n",
        "**Learning Objectives**\n",
        "- \"Explain key differences between [integers](https://github.com/dlab-berkeley/python-intensive/blob/master/Glossary.md#integer) and [floating point numbers](https://github.com/dlab-berkeley/python-intensive/blob/master/Glossary.md#floating-point-number).\"\n",
        "- \"Explain key differences between numbers and [character strings](https://github.com/dlab-berkeley/python-intensive/blob/master/Glossary.md#string).\"\n",
        "- \"Use built-in functions to convert between integers, floating point numbers, and strings.\"\n",
        "* * * * *"
      ]
    },
    {
      "metadata": {
        "id": "fCmfkVdWHnbq",
        "colab_type": "text"
      },
      "cell_type": "markdown",
      "source": [
        "## Every value has a type.\n",
        "\n",
        "*   Every value in a program has a specific type.\n",
        "*   Integer (`int`): counting numbers like 3 or -512.\n",
        "*   Floating point number (`float`): fractional numbers like 3.14159 or -2.5.\n",
        "    *   Integers are used to count, floats are used to measure.\n",
        "*   Character string (usually just called \"string\", `str`): text.\n",
        "    *   Written in either single quotes or double quotes (as long as they match).\n",
        "    *   The quotation marks aren't printed when the string is displayed.\n",
        "\n",
        "## Use the built-in function `type` to find the type of a value.\n",
        "\n",
        "*   Use the built-in function `type` to find out what type a value has.\n",
        "*   Works on variables as well.\n",
        "    *   But remember: the *value* has the type --- the *variable* is just a label.\n"
      ]
    },
    {
      "metadata": {
        "id": "RAjC2sPJHnbt",
        "colab_type": "code",
        "colab": {
          "autoexec": {
            "startup": false,
            "wait_interval": 0
          },
          "base_uri": "https://localhost:8080/",
          "height": 34
        },
        "outputId": "a18b5af3-3108-4983-8240-8300073074bf",
        "executionInfo": {
          "status": "ok",
          "timestamp": 1530721661500,
          "user_tz": -330,
          "elapsed": 1231,
          "user": {
            "displayName": "Mayank Sharma",
            "photoUrl": "https://lh3.googleusercontent.com/a/default-user=s128",
            "userId": "103040418612071322155"
          }
        }
      },
      "cell_type": "code",
      "source": [
        "print(type(52))"
      ],
      "execution_count": 1,
      "outputs": [
        {
          "output_type": "stream",
          "text": [
            "<class 'int'>\n"
          ],
          "name": "stdout"
        }
      ]
    },
    {
      "metadata": {
        "id": "9OJZaykkHnb4",
        "colab_type": "code",
        "colab": {
          "autoexec": {
            "startup": false,
            "wait_interval": 0
          },
          "base_uri": "https://localhost:8080/",
          "height": 34
        },
        "outputId": "886c75b8-07ea-40db-daa1-43859d89d263",
        "executionInfo": {
          "status": "ok",
          "timestamp": 1530721667857,
          "user_tz": -330,
          "elapsed": 1240,
          "user": {
            "displayName": "Mayank Sharma",
            "photoUrl": "https://lh3.googleusercontent.com/a/default-user=s128",
            "userId": "103040418612071322155"
          }
        }
      },
      "cell_type": "code",
      "source": [
        "pi = 3.14159\n",
        "print(type(pi))"
      ],
      "execution_count": 2,
      "outputs": [
        {
          "output_type": "stream",
          "text": [
            "<class 'float'>\n"
          ],
          "name": "stdout"
        }
      ]
    },
    {
      "metadata": {
        "id": "41XZjFCtHnb_",
        "colab_type": "code",
        "colab": {
          "autoexec": {
            "startup": false,
            "wait_interval": 0
          },
          "base_uri": "https://localhost:8080/",
          "height": 34
        },
        "outputId": "52c63e0f-5020-4efe-a076-88756eab35d8",
        "executionInfo": {
          "status": "ok",
          "timestamp": 1530721672964,
          "user_tz": -330,
          "elapsed": 1068,
          "user": {
            "displayName": "Mayank Sharma",
            "photoUrl": "https://lh3.googleusercontent.com/a/default-user=s128",
            "userId": "103040418612071322155"
          }
        }
      },
      "cell_type": "code",
      "source": [
        "fitness = 'average'\n",
        "print(type(fitness))"
      ],
      "execution_count": 3,
      "outputs": [
        {
          "output_type": "stream",
          "text": [
            "<class 'str'>\n"
          ],
          "name": "stdout"
        }
      ]
    },
    {
      "metadata": {
        "id": "pEhZoTaTHncD",
        "colab_type": "text"
      },
      "cell_type": "markdown",
      "source": [
        "## Types control what operations can be done on values.\n",
        "\n",
        "*   A value's type determines what the program can do to it."
      ]
    },
    {
      "metadata": {
        "id": "fMaJkcdTHncF",
        "colab_type": "code",
        "colab": {
          "autoexec": {
            "startup": false,
            "wait_interval": 0
          },
          "base_uri": "https://localhost:8080/",
          "height": 34
        },
        "outputId": "a09c3de5-a048-4d6e-e1f3-250ec92c549f",
        "executionInfo": {
          "status": "ok",
          "timestamp": 1530721679310,
          "user_tz": -330,
          "elapsed": 1059,
          "user": {
            "displayName": "Mayank Sharma",
            "photoUrl": "https://lh3.googleusercontent.com/a/default-user=s128",
            "userId": "103040418612071322155"
          }
        }
      },
      "cell_type": "code",
      "source": [
        "print(5 - 3)"
      ],
      "execution_count": 4,
      "outputs": [
        {
          "output_type": "stream",
          "text": [
            "2\n"
          ],
          "name": "stdout"
        }
      ]
    },
    {
      "metadata": {
        "id": "ZX9TNvDlHncK",
        "colab_type": "code",
        "colab": {
          "autoexec": {
            "startup": false,
            "wait_interval": 0
          },
          "base_uri": "https://localhost:8080/",
          "height": 164
        },
        "outputId": "2085df45-5f3c-46e5-b2d6-34fe72db34ff",
        "executionInfo": {
          "status": "error",
          "timestamp": 1530721682990,
          "user_tz": -330,
          "elapsed": 1218,
          "user": {
            "displayName": "Mayank Sharma",
            "photoUrl": "https://lh3.googleusercontent.com/a/default-user=s128",
            "userId": "103040418612071322155"
          }
        }
      },
      "cell_type": "code",
      "source": [
        "print('hello' - 'h')"
      ],
      "execution_count": 5,
      "outputs": [
        {
          "output_type": "error",
          "ename": "TypeError",
          "evalue": "ignored",
          "traceback": [
            "\u001b[0;31m---------------------------------------------------------------------------\u001b[0m",
            "\u001b[0;31mTypeError\u001b[0m                                 Traceback (most recent call last)",
            "\u001b[0;32m<ipython-input-5-35e8597b28d6>\u001b[0m in \u001b[0;36m<module>\u001b[0;34m()\u001b[0m\n\u001b[0;32m----> 1\u001b[0;31m \u001b[0mprint\u001b[0m\u001b[0;34m(\u001b[0m\u001b[0;34m'hello'\u001b[0m \u001b[0;34m-\u001b[0m \u001b[0;34m'h'\u001b[0m\u001b[0;34m)\u001b[0m\u001b[0;34m\u001b[0m\u001b[0m\n\u001b[0m",
            "\u001b[0;31mTypeError\u001b[0m: unsupported operand type(s) for -: 'str' and 'str'"
          ]
        }
      ]
    },
    {
      "metadata": {
        "id": "PraBl1_iHncO",
        "colab_type": "text"
      },
      "cell_type": "markdown",
      "source": [
        "## Strings can be added and multiplied.\n",
        "\n",
        "*   \"Adding\" character strings concatenates them.\n"
      ]
    },
    {
      "metadata": {
        "id": "OfXC1XvMHncQ",
        "colab_type": "code",
        "colab": {
          "autoexec": {
            "startup": false,
            "wait_interval": 0
          },
          "base_uri": "https://localhost:8080/",
          "height": 34
        },
        "outputId": "12f37014-f121-4424-f9f9-6618d7727114",
        "executionInfo": {
          "status": "ok",
          "timestamp": 1530721719414,
          "user_tz": -330,
          "elapsed": 911,
          "user": {
            "displayName": "Mayank Sharma",
            "photoUrl": "https://lh3.googleusercontent.com/a/default-user=s128",
            "userId": "103040418612071322155"
          }
        }
      },
      "cell_type": "code",
      "source": [
        "full_name = 'Sachin' + ' ' + 'Tendulkar'\n",
        "print(full_name)"
      ],
      "execution_count": 7,
      "outputs": [
        {
          "output_type": "stream",
          "text": [
            "Sachin Tendulkar\n"
          ],
          "name": "stdout"
        }
      ]
    },
    {
      "metadata": {
        "id": "98HPwCPSHncT",
        "colab_type": "text"
      },
      "cell_type": "markdown",
      "source": [
        "*   Multiplying a character string by an [integer](https://github.com/dlab-berkeley/python-intensive/blob/master/Glossary.md#integer) replicates it.\n",
        "    *   Since multiplication is just repeated addition.\n"
      ]
    },
    {
      "metadata": {
        "id": "Wy0_HwVHHncU",
        "colab_type": "code",
        "colab": {
          "autoexec": {
            "startup": false,
            "wait_interval": 0
          },
          "base_uri": "https://localhost:8080/",
          "height": 34
        },
        "outputId": "70c141c3-5d57-4c26-aa69-981545e165ca",
        "executionInfo": {
          "status": "ok",
          "timestamp": 1530721729454,
          "user_tz": -330,
          "elapsed": 908,
          "user": {
            "displayName": "Mayank Sharma",
            "photoUrl": "https://lh3.googleusercontent.com/a/default-user=s128",
            "userId": "103040418612071322155"
          }
        }
      },
      "cell_type": "code",
      "source": [
        "separator = '=' * 10\n",
        "print(separator)"
      ],
      "execution_count": 8,
      "outputs": [
        {
          "output_type": "stream",
          "text": [
            "==========\n"
          ],
          "name": "stdout"
        }
      ]
    },
    {
      "metadata": {
        "id": "aBepCuYyHncW",
        "colab_type": "text"
      },
      "cell_type": "markdown",
      "source": [
        "## Strings have a length (but numbers don't).\n",
        "\n",
        "*   The built-in function `len` counts the number of characters in a string."
      ]
    },
    {
      "metadata": {
        "id": "CQSFD19uHncX",
        "colab_type": "code",
        "colab": {
          "autoexec": {
            "startup": false,
            "wait_interval": 0
          },
          "base_uri": "https://localhost:8080/",
          "height": 34
        },
        "outputId": "a35b804e-6170-499e-af1a-8bd745120835",
        "executionInfo": {
          "status": "ok",
          "timestamp": 1530722683059,
          "user_tz": -330,
          "elapsed": 1241,
          "user": {
            "displayName": "Mayank Sharma",
            "photoUrl": "https://lh3.googleusercontent.com/a/default-user=s128",
            "userId": "103040418612071322155"
          }
        }
      },
      "cell_type": "code",
      "source": [
        "print(len(full_name))"
      ],
      "execution_count": 9,
      "outputs": [
        {
          "output_type": "stream",
          "text": [
            "16\n"
          ],
          "name": "stdout"
        }
      ]
    },
    {
      "metadata": {
        "id": "A-mF95kCHnca",
        "colab_type": "text"
      },
      "cell_type": "markdown",
      "source": [
        "*   But numbers don't have a length (not even zero)."
      ]
    },
    {
      "metadata": {
        "id": "3wV9VlDKHncb",
        "colab_type": "code",
        "colab": {
          "autoexec": {
            "startup": false,
            "wait_interval": 0
          },
          "base_uri": "https://localhost:8080/",
          "height": 164
        },
        "outputId": "4a9a8e20-5feb-4c3f-87a3-70c536c41dc5",
        "executionInfo": {
          "status": "error",
          "timestamp": 1530722713554,
          "user_tz": -330,
          "elapsed": 909,
          "user": {
            "displayName": "Mayank Sharma",
            "photoUrl": "https://lh3.googleusercontent.com/a/default-user=s128",
            "userId": "103040418612071322155"
          }
        }
      },
      "cell_type": "code",
      "source": [
        "print(len(52))"
      ],
      "execution_count": 10,
      "outputs": [
        {
          "output_type": "error",
          "ename": "TypeError",
          "evalue": "ignored",
          "traceback": [
            "\u001b[0;31m---------------------------------------------------------------------------\u001b[0m",
            "\u001b[0;31mTypeError\u001b[0m                                 Traceback (most recent call last)",
            "\u001b[0;32m<ipython-input-10-8e77a6522867>\u001b[0m in \u001b[0;36m<module>\u001b[0;34m()\u001b[0m\n\u001b[0;32m----> 1\u001b[0;31m \u001b[0mprint\u001b[0m\u001b[0;34m(\u001b[0m\u001b[0mlen\u001b[0m\u001b[0;34m(\u001b[0m\u001b[0;36m52\u001b[0m\u001b[0;34m)\u001b[0m\u001b[0;34m)\u001b[0m\u001b[0;34m\u001b[0m\u001b[0m\n\u001b[0m",
            "\u001b[0;31mTypeError\u001b[0m: object of type 'int' has no len()"
          ]
        }
      ]
    },
    {
      "metadata": {
        "id": "xYTNOMbSHncd",
        "colab_type": "text"
      },
      "cell_type": "markdown",
      "source": [
        "## Must coerce numbers to strings or vice versa when operating on them.\n",
        "\n",
        "*   Cannot add numbers and strings."
      ]
    },
    {
      "metadata": {
        "id": "mfcB7QsZHnce",
        "colab_type": "code",
        "colab": {
          "autoexec": {
            "startup": false,
            "wait_interval": 0
          },
          "base_uri": "https://localhost:8080/",
          "height": 164
        },
        "outputId": "25531e3b-7f12-45e7-f6fd-a9acc4cd8212",
        "executionInfo": {
          "status": "error",
          "timestamp": 1530722720637,
          "user_tz": -330,
          "elapsed": 1024,
          "user": {
            "displayName": "Mayank Sharma",
            "photoUrl": "https://lh3.googleusercontent.com/a/default-user=s128",
            "userId": "103040418612071322155"
          }
        }
      },
      "cell_type": "code",
      "source": [
        "print(1 + '2')"
      ],
      "execution_count": 11,
      "outputs": [
        {
          "output_type": "error",
          "ename": "TypeError",
          "evalue": "ignored",
          "traceback": [
            "\u001b[0;31m---------------------------------------------------------------------------\u001b[0m",
            "\u001b[0;31mTypeError\u001b[0m                                 Traceback (most recent call last)",
            "\u001b[0;32m<ipython-input-11-013270d67d3d>\u001b[0m in \u001b[0;36m<module>\u001b[0;34m()\u001b[0m\n\u001b[0;32m----> 1\u001b[0;31m \u001b[0mprint\u001b[0m\u001b[0;34m(\u001b[0m\u001b[0;36m1\u001b[0m \u001b[0;34m+\u001b[0m \u001b[0;34m'2'\u001b[0m\u001b[0;34m)\u001b[0m\u001b[0;34m\u001b[0m\u001b[0m\n\u001b[0m",
            "\u001b[0;31mTypeError\u001b[0m: unsupported operand type(s) for +: 'int' and 'str'"
          ]
        }
      ]
    },
    {
      "metadata": {
        "id": "R0XxZd8CHncg",
        "colab_type": "text"
      },
      "cell_type": "markdown",
      "source": [
        "*   Not allowed because it's ambiguous: should `1 + '2'` be `3` or `'12'`?\n",
        "*   Use the name of a type as a function to convert a value to that type.\n",
        "*   This conversion is also called *coercing* a value."
      ]
    },
    {
      "metadata": {
        "id": "zD_dfmf6Hnch",
        "colab_type": "code",
        "colab": {
          "autoexec": {
            "startup": false,
            "wait_interval": 0
          },
          "base_uri": "https://localhost:8080/",
          "height": 51
        },
        "outputId": "08ff2a30-a1e1-4973-ee5a-c67056272a8a",
        "executionInfo": {
          "status": "ok",
          "timestamp": 1530722728845,
          "user_tz": -330,
          "elapsed": 921,
          "user": {
            "displayName": "Mayank Sharma",
            "photoUrl": "https://lh3.googleusercontent.com/a/default-user=s128",
            "userId": "103040418612071322155"
          }
        }
      },
      "cell_type": "code",
      "source": [
        "print(1 + int('2'))\n",
        "print(str(1) + '2')"
      ],
      "execution_count": 12,
      "outputs": [
        {
          "output_type": "stream",
          "text": [
            "3\n",
            "12\n"
          ],
          "name": "stdout"
        }
      ]
    },
    {
      "metadata": {
        "id": "S0V639hzHnck",
        "colab_type": "text"
      },
      "cell_type": "markdown",
      "source": [
        "## Can mix integers and floats freely in operations.\n",
        "\n",
        "*   Integers and floating-point numbers can be mixed in arithmetic.\n",
        "    *   Python automatically converts integers to floats as needed."
      ]
    },
    {
      "metadata": {
        "id": "TIpR_hJwHnck",
        "colab_type": "code",
        "colab": {
          "autoexec": {
            "startup": false,
            "wait_interval": 0
          },
          "base_uri": "https://localhost:8080/",
          "height": 51
        },
        "outputId": "b47968d8-b1ea-4872-8b1d-0038754f8773",
        "executionInfo": {
          "status": "ok",
          "timestamp": 1530722734419,
          "user_tz": -330,
          "elapsed": 906,
          "user": {
            "displayName": "Mayank Sharma",
            "photoUrl": "https://lh3.googleusercontent.com/a/default-user=s128",
            "userId": "103040418612071322155"
          }
        }
      },
      "cell_type": "code",
      "source": [
        "print('half is', 1 / 2.0)\n",
        "print('three squared is', 3.0 ** 2)"
      ],
      "execution_count": 13,
      "outputs": [
        {
          "output_type": "stream",
          "text": [
            "half is 0.5\n",
            "three squared is 9.0\n"
          ],
          "name": "stdout"
        }
      ]
    },
    {
      "metadata": {
        "id": "aQjrEb7XHncn",
        "colab_type": "text"
      },
      "cell_type": "markdown",
      "source": [
        "## Variables only change value when something is assigned to them.\n",
        "\n",
        "*   If we make one cell in a spreadsheet depend on another,\n",
        "    and update the latter,\n",
        "    the former updates automatically.\n",
        "*   This does *not* happen in programming languages."
      ]
    },
    {
      "metadata": {
        "id": "CwfDsNYdHnco",
        "colab_type": "code",
        "colab": {
          "autoexec": {
            "startup": false,
            "wait_interval": 0
          },
          "base_uri": "https://localhost:8080/",
          "height": 34
        },
        "outputId": "eba08288-102e-47c2-beb6-b96ea2aae30e",
        "executionInfo": {
          "status": "ok",
          "timestamp": 1530722748168,
          "user_tz": -330,
          "elapsed": 1037,
          "user": {
            "displayName": "Mayank Sharma",
            "photoUrl": "https://lh3.googleusercontent.com/a/default-user=s128",
            "userId": "103040418612071322155"
          }
        }
      },
      "cell_type": "code",
      "source": [
        "first = 1\n",
        "second = 5 * first\n",
        "first = 2\n",
        "print('first is', first, 'and second is', second)"
      ],
      "execution_count": 14,
      "outputs": [
        {
          "output_type": "stream",
          "text": [
            "first is 2 and second is 5\n"
          ],
          "name": "stdout"
        }
      ]
    },
    {
      "metadata": {
        "id": "PRDdcFQ9Hncq",
        "colab_type": "text"
      },
      "cell_type": "markdown",
      "source": [
        "*   The computer reads the value of `first` when doing the multiplication,\n",
        "    creates a new value, and assigns it to `second`.\n",
        "*   After that, `second` does not remember where it came from."
      ]
    },
    {
      "metadata": {
        "id": "T7Sn2a11Hncq",
        "colab_type": "text"
      },
      "cell_type": "markdown",
      "source": [
        "*   The computer reads the value of `first` when doing the multiplication,\n",
        "    creates a new value, and assigns it to `second`.\n",
        "*   After that, `second` does not remember where it came from."
      ]
    },
    {
      "metadata": {
        "id": "yGZLc0C4Hncr",
        "colab_type": "text"
      },
      "cell_type": "markdown",
      "source": [
        "## Challenge 1: Making and Coercing Variables\n",
        "\n",
        "1. Make a variable `year` and [assign](https://github.com/dlab-berkeley/python-intensive/blob/master/Glossary.md#assign) it as the year you were born\n",
        "2. Coerce that variable to a float, and assign it to a new variable `year_float`\n",
        "3. Coerce `year_float` to a string, and assign it to a new variable `year_string`\n",
        "4. Someone in your class says they were born in 1997. Find out what your age difference is, using only `year_string`.\n",
        "\n",
        "Some of the steps in this challenge might seem redundant or unnecessary, and they are. The idea is just to give you practice with coercing variables, even if it's unlikely you'll ever need to do it so many times in a row."
      ]
    },
    {
      "metadata": {
        "id": "994zIq8fHncs",
        "colab_type": "code",
        "colab": {
          "autoexec": {
            "startup": false,
            "wait_interval": 0
          }
        }
      },
      "cell_type": "code",
      "source": [
        "#do it here"
      ],
      "execution_count": 0,
      "outputs": []
    },
    {
      "metadata": {
        "id": "879m02PZHncv",
        "colab_type": "text"
      },
      "cell_type": "markdown",
      "source": [
        "## Challenge 2: Division Types\n",
        "\n",
        "The `//` operator calculates the whole-number result of division, while the '%' operator calculates the remainder from division. Run the cell below to see an example of each."
      ]
    },
    {
      "metadata": {
        "id": "aSIW6Ga_Hncw",
        "colab_type": "code",
        "colab": {
          "autoexec": {
            "startup": false,
            "wait_interval": 0
          },
          "base_uri": "https://localhost:8080/",
          "height": 68
        },
        "outputId": "46714e4d-0ba6-4cc2-c069-08f131e56264",
        "executionInfo": {
          "status": "ok",
          "timestamp": 1530722867771,
          "user_tz": -330,
          "elapsed": 972,
          "user": {
            "displayName": "Mayank Sharma",
            "photoUrl": "https://lh3.googleusercontent.com/a/default-user=s128",
            "userId": "103040418612071322155"
          }
        }
      },
      "cell_type": "code",
      "source": [
        "print('5 // 3:', 5//3)\n",
        "print ('5/3' ,5/3 )\n",
        "print('5 % 3:', 5%3)"
      ],
      "execution_count": 17,
      "outputs": [
        {
          "output_type": "stream",
          "text": [
            "5 // 3: 1\n",
            "5/3 1.6666666666666667\n",
            "5 % 3: 2\n"
          ],
          "name": "stdout"
        }
      ]
    },
    {
      "metadata": {
        "id": "TRnRAYExHncy",
        "colab_type": "text"
      },
      "cell_type": "markdown",
      "source": [
        "You are ordering pizza for a campus event.\n",
        "\n",
        "You have ordered 8 pizzas, with 8 slices each, for a total of 64 slices.\n",
        "\n",
        "You know that everyone attending will eat exactly 3 slices of pizza. You want to make sure that everyone who comes gets enough pizza, even if that means a slice or two will be left over.\n",
        "\n",
        "Write an expression that calculates how many students you can satisfactorily feed with 64 slices of pizza, provided that each will eat 3 slices."
      ]
    },
    {
      "metadata": {
        "id": "-dSgh3PHHncz",
        "colab_type": "code",
        "colab": {
          "autoexec": {
            "startup": false,
            "wait_interval": 0
          }
        }
      },
      "cell_type": "code",
      "source": [
        "slices = 64\n",
        "slices_per_student = 3\n",
        "\n",
        "# YOUR CODE HERE\n",
        "\n"
      ],
      "execution_count": 0,
      "outputs": []
    },
    {
      "metadata": {
        "id": "xg0NzT4bHnc2",
        "colab_type": "text"
      },
      "cell_type": "markdown",
      "source": [
        "## Challenge 3: Strings to Numbers\n",
        "\n",
        " `float` will convert a string to a floating point number, and `int` will convert a floating point number to an integer:\n"
      ]
    },
    {
      "metadata": {
        "id": "vk5fgzfGHnc3",
        "colab_type": "code",
        "colab": {
          "autoexec": {
            "startup": false,
            "wait_interval": 0
          }
        }
      },
      "cell_type": "code",
      "source": [
        "print(\"string to float:\", float(\"3.4\"))\n",
        "print(\"float to int:\", int(3.4))"
      ],
      "execution_count": 0,
      "outputs": []
    },
    {
      "metadata": {
        "id": "Yv3xjc-sHnc6",
        "colab_type": "text"
      },
      "cell_type": "markdown",
      "source": [
        "Given that, what do you expect this program to do? What does it actually do? Why do you think it does that?"
      ]
    },
    {
      "metadata": {
        "id": "BR2H1QXLHnc6",
        "colab_type": "code",
        "colab": {
          "autoexec": {
            "startup": false,
            "wait_interval": 0
          }
        }
      },
      "cell_type": "code",
      "source": [
        "print(\"fractional string to int:\", int(\"3.4\"))"
      ],
      "execution_count": 0,
      "outputs": []
    },
    {
      "metadata": {
        "id": "lkGGQZ7LHnc8",
        "colab_type": "text"
      },
      "cell_type": "markdown",
      "source": [
        "## Challenge 4: Arithmetic with Different Types\n",
        "\n",
        "Which of the following will print 2.0?\n",
        "\n",
        "Note: there may be more than one right answer."
      ]
    },
    {
      "metadata": {
        "id": "xafu5Au2Hnc9",
        "colab_type": "code",
        "colab": {
          "autoexec": {
            "startup": false,
            "wait_interval": 0
          }
        }
      },
      "cell_type": "code",
      "source": [
        "first = 1.0\n",
        "second = \"1\"\n",
        "third = \"1.1\""
      ],
      "execution_count": 0,
      "outputs": []
    },
    {
      "metadata": {
        "id": "0FO5VbPDHnc-",
        "colab_type": "text"
      },
      "cell_type": "markdown",
      "source": [
        "1. `first + float(second)`\n",
        "2. `float(second) + float(third)`\n",
        "3. `first + int(third)`\n",
        "4. `first + int(float(third))`\n",
        "5. `int(first) + int(float(third))`\n",
        "6. `2.0 * second`"
      ]
    },
    {
      "metadata": {
        "id": "RL6gN7QWHnc_",
        "colab_type": "code",
        "colab": {
          "autoexec": {
            "startup": false,
            "wait_interval": 0
          }
        }
      },
      "cell_type": "code",
      "source": [
        ""
      ],
      "execution_count": 0,
      "outputs": []
    },
    {
      "metadata": {
        "id": "h4bwTbulHndA",
        "colab_type": "text"
      },
      "cell_type": "markdown",
      "source": [
        "Is `first == second` ?"
      ]
    },
    {
      "metadata": {
        "id": "vNm81eQHHndB",
        "colab_type": "code",
        "colab": {
          "autoexec": {
            "startup": false,
            "wait_interval": 0
          }
        }
      },
      "cell_type": "code",
      "source": [
        ""
      ],
      "execution_count": 0,
      "outputs": []
    },
    {
      "metadata": {
        "id": "l2lpbfexHndC",
        "colab_type": "text"
      },
      "cell_type": "markdown",
      "source": [
        "Change the code below to yield `True`."
      ]
    },
    {
      "metadata": {
        "id": "NNPcBfpbHndC",
        "colab_type": "code",
        "colab": {
          "autoexec": {
            "startup": false,
            "wait_interval": 0
          }
        }
      },
      "cell_type": "code",
      "source": [
        "first == second"
      ],
      "execution_count": 0,
      "outputs": []
    },
    {
      "metadata": {
        "id": "Xnktt5lOHndE",
        "colab_type": "text"
      },
      "cell_type": "markdown",
      "source": [
        "## Challenge 5: More Number Types"
      ]
    },
    {
      "metadata": {
        "id": "8gEOINhBHndF",
        "colab_type": "text"
      },
      "cell_type": "markdown",
      "source": [
        "Predict the output of the following:"
      ]
    },
    {
      "metadata": {
        "id": "a5vL3xzOHndF",
        "colab_type": "code",
        "colab": {
          "autoexec": {
            "startup": false,
            "wait_interval": 0
          }
        }
      },
      "cell_type": "code",
      "source": [
        "print(8/4)\n",
        "type(8/4)"
      ],
      "execution_count": 0,
      "outputs": []
    },
    {
      "metadata": {
        "id": "KviKFQ1XHndG",
        "colab_type": "code",
        "colab": {
          "autoexec": {
            "startup": false,
            "wait_interval": 0
          }
        }
      },
      "cell_type": "code",
      "source": [
        "print(8/5)\n",
        "type(8/5)"
      ],
      "execution_count": 0,
      "outputs": []
    },
    {
      "metadata": {
        "id": "L8X-_PXAHndI",
        "colab_type": "code",
        "colab": {
          "autoexec": {
            "startup": false,
            "wait_interval": 0
          }
        }
      },
      "cell_type": "code",
      "source": [
        "print(8*4)\n",
        "type(8*4)"
      ],
      "execution_count": 0,
      "outputs": []
    },
    {
      "metadata": {
        "id": "n_vXdamCHndJ",
        "colab_type": "code",
        "colab": {
          "autoexec": {
            "startup": false,
            "wait_interval": 0
          }
        }
      },
      "cell_type": "code",
      "source": [
        "print(8*4.5)\n",
        "type(8*4.5)"
      ],
      "execution_count": 0,
      "outputs": []
    },
    {
      "metadata": {
        "id": "OBTYPFxLHndK",
        "colab_type": "text"
      },
      "cell_type": "markdown",
      "source": [
        "Change the following code to make the output `True`"
      ]
    },
    {
      "metadata": {
        "id": "6-SpNcxcHndL",
        "colab_type": "code",
        "colab": {
          "autoexec": {
            "startup": false,
            "wait_interval": 0
          }
        }
      },
      "cell_type": "code",
      "source": [
        "num1 = 30\n",
        "num2 = 35.0\n",
        "\n",
        "type(num1) == type(num2)"
      ],
      "execution_count": 0,
      "outputs": []
    },
    {
      "metadata": {
        "id": "Qv27SudfHndM",
        "colab_type": "text"
      },
      "cell_type": "markdown",
      "source": [
        "## Challenge 6: String Syntax"
      ]
    },
    {
      "metadata": {
        "id": "cRdumSYJHndM",
        "colab_type": "text"
      },
      "cell_type": "markdown",
      "source": [
        "Why does the following code produce an error?"
      ]
    },
    {
      "metadata": {
        "id": "52f3JX5JHndM",
        "colab_type": "code",
        "colab": {
          "autoexec": {
            "startup": false,
            "wait_interval": 0
          }
        }
      },
      "cell_type": "code",
      "source": [
        "print(\"Hello World!')"
      ],
      "execution_count": 0,
      "outputs": []
    },
    {
      "metadata": {
        "id": "Xpwrj72fHndO",
        "colab_type": "text"
      },
      "cell_type": "markdown",
      "source": [
        "And this one?"
      ]
    },
    {
      "metadata": {
        "id": "J9pc44PaHndO",
        "colab_type": "code",
        "colab": {
          "autoexec": {
            "startup": false,
            "wait_interval": 0
          }
        }
      },
      "cell_type": "code",
      "source": [
        "print(\"I am \" + 27 + \" years old.\")"
      ],
      "execution_count": 0,
      "outputs": []
    },
    {
      "metadata": {
        "id": "k2VGAkceHndQ",
        "colab_type": "text"
      },
      "cell_type": "markdown",
      "source": [
        "Fix the above cells."
      ]
    },
    {
      "metadata": {
        "id": "NT9PMUQeHndQ",
        "colab_type": "text"
      },
      "cell_type": "markdown",
      "source": [
        "*****\n",
        "\n",
        "# Keypoints\n",
        "\n",
        "- \"Every value has a type.\"\n",
        "- \"Use the built-in function `type` to find the type of a value.\"\n",
        "- \"Types control what operations can be done on values.\"\n",
        "- \"Strings can be added and multiplied.\"\n",
        "- \"Strings have a length (but numbers don't).\"\n",
        "- \"Must convert numbers to strings or vice versa when operating on them.\"\n",
        "- \"Can mix integers and floats freely in operations.\"\n",
        "- \"Variables only change value when something is assigned to them.\"\n"
      ]
    },
    {
      "metadata": {
        "id": "ZGiou6VRHndR",
        "colab_type": "code",
        "colab": {
          "autoexec": {
            "startup": false,
            "wait_interval": 0
          }
        }
      },
      "cell_type": "code",
      "source": [
        ""
      ],
      "execution_count": 0,
      "outputs": []
    }
  ]
}