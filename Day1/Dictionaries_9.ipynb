{
  "nbformat": 4,
  "nbformat_minor": 0,
  "metadata": {
    "colab": {
      "name": "Dictionaries_9.ipynb",
      "version": "0.3.2",
      "views": {},
      "default_view": {},
      "provenance": [],
      "collapsed_sections": [
        "dXg5JwLKLw7b",
        "oU4mEy1TLw8U",
        "JEOLweWFLw8w",
        "sqQpyAv0Lw8w"
      ]
    },
    "kernelspec": {
      "display_name": "Python 3",
      "language": "python",
      "name": "python3"
    }
  },
  "cells": [
    {
      "metadata": {
        "id": "dipJSN-0Lw5w",
        "colab_type": "text",
        "slideshow": {
          "slide_type": "slide"
        }
      },
      "cell_type": "markdown",
      "source": [
        "Dictionaries (Data Structure)\n",
        "==="
      ]
    },
    {
      "metadata": {
        "id": "i_ReO6vsLw5z",
        "colab_type": "text",
        "slideshow": {
          "slide_type": "fragment"
        }
      },
      "cell_type": "markdown",
      "source": [
        "Dictionaries allow us to store connected bits of information. For example, you might store a person's name and age together."
      ]
    },
    {
      "metadata": {
        "id": "Wdel8MLfLw52",
        "colab_type": "text",
        "slideshow": {
          "slide_type": "skip"
        }
      },
      "cell_type": "markdown",
      "source": [
        "<a name=\"top\"></a>Contents\n",
        "===\n",
        "- [What are dictionaries?](#what)\n",
        "    - [General Syntax](#general_syntax)\n",
        "    - [Example](#example)\n",
        "    - [Exercises](#exercises_what)\n",
        "- [Common operations with dictionaries](#common_operations)\n",
        "    - [Adding new key-value pairs](#adding_pairs)\n",
        "    - [Modifying values in a dictionary](#modifying_values)\n",
        "    - [Removing key-value pairs](#removing_pairs)\n",
        "    - [Modifying keys in a dictionary](#modifying_keys)\n",
        "    - [Exercises](#exercises_common_operations)\n",
        "- [Looping through a dictionary](#looping)\n",
        "    - [Looping through all key-value pairs](#loop_all_keys_values)\n",
        "    - [Looping through all keys in a dictionary](#loop_all_keys)\n",
        "    - [Looping through all values in a dictionary](#loop_all_values)\n",
        "    - [Looping through a dictionary in order](#looping_in_order)\n",
        "    - [Exercises](#exercises_looping)\n",
        "- [Nesting](#nesting)\n",
        "    - [Lists in a dictionary](#lists_in_dictionary)\n",
        "    - [Dictionaries in a dictionary](#dictionaries_in_dictionary)\n",
        "    - [An important note about nesting](#important_note)\n",
        "    - [Exercises](#exercises_nesting)\n",
        "- [Overall Challenges](#overall_challenges)"
      ]
    },
    {
      "metadata": {
        "id": "D7Z5MK1wLw55",
        "colab_type": "text",
        "slideshow": {
          "slide_type": "skip"
        }
      },
      "cell_type": "markdown",
      "source": [
        "[top](#top)"
      ]
    },
    {
      "metadata": {
        "id": "kLKKE_DwLw57",
        "colab_type": "text",
        "slideshow": {
          "slide_type": "slide"
        }
      },
      "cell_type": "markdown",
      "source": [
        "<a name='what'></a>What are dictionaries?\n",
        "===\n",
        "Dictionaries are a way to store information that is connected in some way. Dictionaries store information in *key-value* pairs, so that any one piece of information in a dictionary is connected to at least one other piece of information.\n",
        "\n",
        "Dictionaries do not store their information in any particular order, so you may not get your information back in the same order you entered it."
      ]
    },
    {
      "metadata": {
        "id": "rrAOh5pjLw59",
        "colab_type": "text",
        "slideshow": {
          "slide_type": "subslide"
        }
      },
      "cell_type": "markdown",
      "source": [
        "<a name='general_syntax'></a>General Syntax\n",
        "---\n",
        "A general dictionary in Python looks something like this:"
      ]
    },
    {
      "metadata": {
        "id": "ThdS6NkuLw5-",
        "colab_type": "code",
        "slideshow": {
          "slide_type": "fragment"
        },
        "colab": {
          "autoexec": {
            "startup": false,
            "wait_interval": 0
          },
          "base_uri": "https://localhost:8080/",
          "height": 164
        },
        "outputId": "8f059ea8-64e8-450b-a5d5-bededc747a19",
        "executionInfo": {
          "status": "error",
          "timestamp": 1530739512168,
          "user_tz": -330,
          "elapsed": 1217,
          "user": {
            "displayName": "Mayank Sharma",
            "photoUrl": "https://lh3.googleusercontent.com/a/default-user=s128",
            "userId": "103040418612071322155"
          }
        }
      },
      "cell_type": "code",
      "source": [
        "dictionary_name = {key_1: value_1, key_2: value_2, key_3: value_3}"
      ],
      "execution_count": 1,
      "outputs": [
        {
          "output_type": "error",
          "ename": "NameError",
          "evalue": "ignored",
          "traceback": [
            "\u001b[0;31m---------------------------------------------------------------------------\u001b[0m",
            "\u001b[0;31mNameError\u001b[0m                                 Traceback (most recent call last)",
            "\u001b[0;32m<ipython-input-1-4db42c8e748a>\u001b[0m in \u001b[0;36m<module>\u001b[0;34m()\u001b[0m\n\u001b[0;32m----> 1\u001b[0;31m \u001b[0mdictionary_name\u001b[0m \u001b[0;34m=\u001b[0m \u001b[0;34m{\u001b[0m\u001b[0mkey_1\u001b[0m\u001b[0;34m:\u001b[0m \u001b[0mvalue_1\u001b[0m\u001b[0;34m,\u001b[0m \u001b[0mkey_2\u001b[0m\u001b[0;34m:\u001b[0m \u001b[0mvalue_2\u001b[0m\u001b[0;34m,\u001b[0m \u001b[0mkey_3\u001b[0m\u001b[0;34m:\u001b[0m \u001b[0mvalue_3\u001b[0m\u001b[0;34m}\u001b[0m\u001b[0;34m\u001b[0m\u001b[0m\n\u001b[0m",
            "\u001b[0;31mNameError\u001b[0m: name 'key_1' is not defined"
          ]
        }
      ]
    },
    {
      "metadata": {
        "id": "uzyRgkCqLw6F",
        "colab_type": "text",
        "slideshow": {
          "slide_type": "fragment"
        }
      },
      "cell_type": "markdown",
      "source": [
        "Since the keys and values in dictionaries can be long, we often write just one key-value pair on a line. You might see dictionaries that look more like this:"
      ]
    },
    {
      "metadata": {
        "id": "kYe3Dz3ZLw6H",
        "colab_type": "code",
        "slideshow": {
          "slide_type": "fragment"
        },
        "colab": {
          "autoexec": {
            "startup": false,
            "wait_interval": 0
          },
          "base_uri": "https://localhost:8080/",
          "height": 215
        },
        "outputId": "b7731ebe-243f-4a09-db53-b9eee6074af1",
        "executionInfo": {
          "status": "error",
          "timestamp": 1530739526380,
          "user_tz": -330,
          "elapsed": 947,
          "user": {
            "displayName": "Mayank Sharma",
            "photoUrl": "https://lh3.googleusercontent.com/a/default-user=s128",
            "userId": "103040418612071322155"
          }
        }
      },
      "cell_type": "code",
      "source": [
        "dictionary_name = {key_1: value_1,\n",
        "                   key_2: value_2,\n",
        "                   key_3: value_3,\n",
        "                   }"
      ],
      "execution_count": 2,
      "outputs": [
        {
          "output_type": "error",
          "ename": "NameError",
          "evalue": "ignored",
          "traceback": [
            "\u001b[0;31m---------------------------------------------------------------------------\u001b[0m",
            "\u001b[0;31mNameError\u001b[0m                                 Traceback (most recent call last)",
            "\u001b[0;32m<ipython-input-2-7605de0335d1>\u001b[0m in \u001b[0;36m<module>\u001b[0;34m()\u001b[0m\n\u001b[0;32m----> 1\u001b[0;31m dictionary_name = {key_1: value_1,\n\u001b[0m\u001b[1;32m      2\u001b[0m                    \u001b[0mkey_2\u001b[0m\u001b[0;34m:\u001b[0m \u001b[0mvalue_2\u001b[0m\u001b[0;34m,\u001b[0m\u001b[0;34m\u001b[0m\u001b[0m\n\u001b[1;32m      3\u001b[0m                    \u001b[0mkey_3\u001b[0m\u001b[0;34m:\u001b[0m \u001b[0mvalue_3\u001b[0m\u001b[0;34m,\u001b[0m\u001b[0;34m\u001b[0m\u001b[0m\n\u001b[1;32m      4\u001b[0m                    }\n",
            "\u001b[0;31mNameError\u001b[0m: name 'key_1' is not defined"
          ]
        }
      ]
    },
    {
      "metadata": {
        "id": "GsSNMZ5ILw6M",
        "colab_type": "text",
        "slideshow": {
          "slide_type": "fragment"
        }
      },
      "cell_type": "markdown",
      "source": [
        "This is a bit easier to read, especially if the values are long."
      ]
    },
    {
      "metadata": {
        "id": "MPNKHk6_Lw6O",
        "colab_type": "text",
        "slideshow": {
          "slide_type": "subslide"
        }
      },
      "cell_type": "markdown",
      "source": [
        "<a name='example'></a>Example\n",
        "---\n",
        "A simple example involves modeling an actual dictionary."
      ]
    },
    {
      "metadata": {
        "id": "IHxnGj-2Lw6Q",
        "colab_type": "code",
        "slideshow": {
          "slide_type": "fragment"
        },
        "colab": {
          "autoexec": {
            "startup": false,
            "wait_interval": 0
          }
        }
      },
      "cell_type": "code",
      "source": [
        "python_words = {'list': 'A collection of values that are not connected, but have an order.',\n",
        "                'dictionary': 'A collection of key-value pairs.',\n",
        "                'function': 'A named set of instructions that defines a set of actions in Python.',\n",
        "                }"
      ],
      "execution_count": 0,
      "outputs": []
    },
    {
      "metadata": {
        "id": "f76dY3rNLw6Y",
        "colab_type": "text",
        "slideshow": {
          "slide_type": "subslide"
        }
      },
      "cell_type": "markdown",
      "source": [
        "We can get individual items out of the dictionary, by giving the dictionary's name, and the key in square brackets:"
      ]
    },
    {
      "metadata": {
        "id": "Sj-S3QXaLw6a",
        "colab_type": "code",
        "slideshow": {
          "slide_type": "fragment"
        },
        "colab": {
          "autoexec": {
            "startup": false,
            "wait_interval": 0
          },
          "base_uri": "https://localhost:8080/",
          "height": 170
        },
        "outputId": "e305cc62-989d-4d96-fca6-109928192e11",
        "executionInfo": {
          "status": "ok",
          "timestamp": 1530739535352,
          "user_tz": -330,
          "elapsed": 980,
          "user": {
            "displayName": "Mayank Sharma",
            "photoUrl": "https://lh3.googleusercontent.com/a/default-user=s128",
            "userId": "103040418612071322155"
          }
        }
      },
      "cell_type": "code",
      "source": [
        "python_words = {'list': 'A collection of values that are not connected, but have an order.',\n",
        "                'dictionary': 'A collection of key-value pairs.',\n",
        "                'function': 'A named set of instructions that defines a set of actions in Python.',\n",
        "                }\n",
        "\n",
        "print(\"\\nWord: %s\" % 'list')\n",
        "print(\"Meaning: %s\" % python_words['list'])\n",
        "      \n",
        "print(\"\\nWord: %s\" % 'dictionary')\n",
        "print(\"Meaning: %s\" % python_words['dictionary'])\n",
        "\n",
        "print(\"\\nWord: %s\" % 'function')\n",
        "print(\"Meaning: %s\" % python_words['function'])"
      ],
      "execution_count": 4,
      "outputs": [
        {
          "output_type": "stream",
          "text": [
            "\n",
            "Word: list\n",
            "Meaning: A collection of values that are not connected, but have an order.\n",
            "\n",
            "Word: dictionary\n",
            "Meaning: A collection of key-value pairs.\n",
            "\n",
            "Word: function\n",
            "Meaning: A named set of instructions that defines a set of actions in Python.\n"
          ],
          "name": "stdout"
        }
      ]
    },
    {
      "metadata": {
        "id": "18-xiydELw6g",
        "colab_type": "text",
        "slideshow": {
          "slide_type": "subslide"
        }
      },
      "cell_type": "markdown",
      "source": [
        "This code looks pretty repetitive, and it is. Dictionaries have their own for-loop syntax, but since there are two kinds of information in dictionaries, the structure is a bit more complicated than it is for lists. Here is how to use a for loop with a dictionary:"
      ]
    },
    {
      "metadata": {
        "id": "CJXNywPsLw6h",
        "colab_type": "code",
        "slideshow": {
          "slide_type": "fragment"
        },
        "colab": {
          "autoexec": {
            "startup": false,
            "wait_interval": 0
          },
          "base_uri": "https://localhost:8080/",
          "height": 170
        },
        "outputId": "6fb9d3b6-1d0a-4a85-8e5c-db86d64aeafe",
        "executionInfo": {
          "status": "ok",
          "timestamp": 1530739539571,
          "user_tz": -330,
          "elapsed": 883,
          "user": {
            "displayName": "Mayank Sharma",
            "photoUrl": "https://lh3.googleusercontent.com/a/default-user=s128",
            "userId": "103040418612071322155"
          }
        }
      },
      "cell_type": "code",
      "source": [
        "python_words = {'list': 'A collection of values that are not connected, but have an order.',\n",
        "                'dictionary': 'A collection of key-value pairs.',\n",
        "                'function': 'A named set of instructions that defines a set of actions in Python.',\n",
        "                }\n",
        "\n",
        "# Print out the items in the dictionary.\n",
        "for word, meaning in python_words.items():\n",
        "    print(\"\\nWord: %s\" % word)\n",
        "    print(\"Meaning: %s\" % meaning)"
      ],
      "execution_count": 5,
      "outputs": [
        {
          "output_type": "stream",
          "text": [
            "\n",
            "Word: list\n",
            "Meaning: A collection of values that are not connected, but have an order.\n",
            "\n",
            "Word: dictionary\n",
            "Meaning: A collection of key-value pairs.\n",
            "\n",
            "Word: function\n",
            "Meaning: A named set of instructions that defines a set of actions in Python.\n"
          ],
          "name": "stdout"
        }
      ]
    },
    {
      "metadata": {
        "id": "0x2mDz1xLw6o",
        "colab_type": "text",
        "slideshow": {
          "slide_type": "subslide"
        }
      },
      "cell_type": "markdown",
      "source": [
        "The output is identical, but we did it in 3 lines instead of 6. If we had 100 terms in our dictionary, we would still be able to print them out with just 3 lines.\n",
        "\n",
        "The only tricky part about using for loops with dictionaries is figuring out what to call those first two variables. The general syntax for this for loop is:"
      ]
    },
    {
      "metadata": {
        "id": "mpscqcW5Lw6q",
        "colab_type": "code",
        "slideshow": {
          "slide_type": "fragment"
        },
        "colab": {
          "autoexec": {
            "startup": false,
            "wait_interval": 0
          },
          "base_uri": "https://localhost:8080/",
          "height": 198
        },
        "outputId": "634a56a5-4bc3-4968-e0a2-5d028c1baabc",
        "executionInfo": {
          "status": "error",
          "timestamp": 1530739580204,
          "user_tz": -330,
          "elapsed": 1059,
          "user": {
            "displayName": "Mayank Sharma",
            "photoUrl": "https://lh3.googleusercontent.com/a/default-user=s128",
            "userId": "103040418612071322155"
          }
        }
      },
      "cell_type": "code",
      "source": [
        "for key_name, value_name in dictionary_name.items():\n",
        "    print(key_name) # The key is stored in whatever you called the first variable.\n",
        "    print(value_name) # The value associated with that key is stored in your second variable."
      ],
      "execution_count": 6,
      "outputs": [
        {
          "output_type": "error",
          "ename": "NameError",
          "evalue": "ignored",
          "traceback": [
            "\u001b[0;31m---------------------------------------------------------------------------\u001b[0m",
            "\u001b[0;31mNameError\u001b[0m                                 Traceback (most recent call last)",
            "\u001b[0;32m<ipython-input-6-40f8b39c1840>\u001b[0m in \u001b[0;36m<module>\u001b[0;34m()\u001b[0m\n\u001b[0;32m----> 1\u001b[0;31m \u001b[0;32mfor\u001b[0m \u001b[0mkey_name\u001b[0m\u001b[0;34m,\u001b[0m \u001b[0mvalue_name\u001b[0m \u001b[0;32min\u001b[0m \u001b[0mdictionary_name\u001b[0m\u001b[0;34m.\u001b[0m\u001b[0mitems\u001b[0m\u001b[0;34m(\u001b[0m\u001b[0;34m)\u001b[0m\u001b[0;34m:\u001b[0m\u001b[0;34m\u001b[0m\u001b[0m\n\u001b[0m\u001b[1;32m      2\u001b[0m     \u001b[0mprint\u001b[0m\u001b[0;34m(\u001b[0m\u001b[0mkey_name\u001b[0m\u001b[0;34m)\u001b[0m \u001b[0;31m# The key is stored in whatever you called the first variable.\u001b[0m\u001b[0;34m\u001b[0m\u001b[0m\n\u001b[1;32m      3\u001b[0m     \u001b[0mprint\u001b[0m\u001b[0;34m(\u001b[0m\u001b[0mvalue_name\u001b[0m\u001b[0;34m)\u001b[0m \u001b[0;31m# The value associated with that key is stored in your second variable.\u001b[0m\u001b[0;34m\u001b[0m\u001b[0m\n",
            "\u001b[0;31mNameError\u001b[0m: name 'dictionary_name' is not defined"
          ]
        }
      ]
    },
    {
      "metadata": {
        "id": "bDQrjUNpLw6v",
        "colab_type": "text",
        "slideshow": {
          "slide_type": "skip"
        }
      },
      "cell_type": "markdown",
      "source": [
        "<a name='exercises_what'></a>Exercises\n",
        "---\n",
        "#### Pet Names\n",
        "- Create a dictionary to hold information about pets. Each key is an animal's name, and each value is the kind of animal.\n",
        "    - For example, 'ziggy': 'canary'\n",
        "- Put at least 3 key-value pairs in your dictionary.\n",
        "- Use a for loop to print out a series of statements such as \"Willie is a dog.\"\n",
        "\n",
        "#### Polling Friends\n",
        "- Think of a question you could ask your friends. Create a dictionary where each key is a person's name, and each value is that person's response to your question.\n",
        "- Store at least three responses in your dictionary.\n",
        "- Use a for loop to print out a series of statements listing each person's name, and their response."
      ]
    },
    {
      "metadata": {
        "id": "3qOKVr3QLw6w",
        "colab_type": "code",
        "slideshow": {
          "slide_type": "skip"
        },
        "colab": {
          "autoexec": {
            "startup": false,
            "wait_interval": 0
          }
        }
      },
      "cell_type": "code",
      "source": [
        "# Ex 7.1 : Pet Names\n",
        "\n",
        "# put your code here"
      ],
      "execution_count": 0,
      "outputs": []
    },
    {
      "metadata": {
        "id": "BcxKcPOULw60",
        "colab_type": "code",
        "slideshow": {
          "slide_type": "skip"
        },
        "colab": {
          "autoexec": {
            "startup": false,
            "wait_interval": 0
          }
        }
      },
      "cell_type": "code",
      "source": [
        "# Ex 7.2 : Polling Friends\n",
        "\n",
        "# put your code here"
      ],
      "execution_count": 0,
      "outputs": []
    },
    {
      "metadata": {
        "id": "lXTG-aNVLw63",
        "colab_type": "text",
        "slideshow": {
          "slide_type": "skip"
        }
      },
      "cell_type": "markdown",
      "source": [
        "[top](#top)"
      ]
    },
    {
      "metadata": {
        "id": "fDzQ5qI9Lw64",
        "colab_type": "text",
        "slideshow": {
          "slide_type": "slide"
        }
      },
      "cell_type": "markdown",
      "source": [
        "<a name='common_operations'></a>Common operations with dictionaries\n",
        "===\n",
        "There are a few common things you will want to do with dictionaries. These include adding new key-value pairs, modifying information in the dictionary, and removing items from dictionaries."
      ]
    },
    {
      "metadata": {
        "id": "A11HRDOiLw65",
        "colab_type": "text",
        "slideshow": {
          "slide_type": "subslide"
        }
      },
      "cell_type": "markdown",
      "source": [
        "<a name='adding_pairs'></a>Adding new key-value pairs\n",
        "---\n",
        "To add a new key-value pair, you give the dictionary name followed by the new key in square brackets, and set that equal to the new value. We will show this by starting with an empty dictionary, and re-creating the dictionary from the example above."
      ]
    },
    {
      "metadata": {
        "id": "lMeQeyiHLw66",
        "colab_type": "code",
        "slideshow": {
          "slide_type": "fragment"
        },
        "colab": {
          "autoexec": {
            "startup": false,
            "wait_interval": 0
          }
        },
        "outputId": "54394e9a-bbb4-40e4-c6da-7e3a08fac5ac"
      },
      "cell_type": "code",
      "source": [
        "# Create an empty dictionary.\n",
        "python_words = {}\n",
        "\n",
        "# Fill the dictionary, pair by pair.\n",
        "python_words['list'] ='A collection of values that are not connected, but have an order.'\n",
        "python_words['dictionary'] = 'A collection of key-value pairs.'\n",
        "python_words['function'] = 'A named set of instructions that defines a set of actions in Python.'\n",
        "\n",
        "# Print out the items in the dictionary.\n",
        "for word, meaning in python_words.items():\n",
        "    print(\"\\nWord: %s\" % word)\n",
        "    print(\"Meaning: %s\" % meaning)"
      ],
      "execution_count": 0,
      "outputs": [
        {
          "output_type": "stream",
          "text": [
            "\n",
            "Word: function\n",
            "Meaning: A named set of instructions that defines a set of actions in Python.\n",
            "\n",
            "Word: list\n",
            "Meaning: A collection of values that are not connected, but have an order.\n",
            "\n",
            "Word: dictionary\n",
            "Meaning: A collection of key-value pairs.\n"
          ],
          "name": "stdout"
        }
      ]
    },
    {
      "metadata": {
        "id": "a2HxwV-NM_P2",
        "colab_type": "text"
      },
      "cell_type": "markdown",
      "source": [
        "A hash is an fixed sized integer that identifies a particular value. Each value need to have it's own hash, so for the same value you will get the same hash even if it's not the same object."
      ]
    },
    {
      "metadata": {
        "id": "O2kpryLmNGuq",
        "colab_type": "code",
        "colab": {
          "autoexec": {
            "startup": false,
            "wait_interval": 0
          },
          "base_uri": "https://localhost:8080/",
          "height": 51
        },
        "outputId": "28d4fab3-3569-4c93-8ade-98007706445f",
        "executionInfo": {
          "status": "ok",
          "timestamp": 1530739977130,
          "user_tz": -330,
          "elapsed": 943,
          "user": {
            "displayName": "Mayank Sharma",
            "photoUrl": "https://lh3.googleusercontent.com/a/default-user=s128",
            "userId": "103040418612071322155"
          }
        }
      },
      "cell_type": "code",
      "source": [
        "print(hash(\"I am Groot!\"))\n",
        "\n",
        "print (hash(\"I am Groot!\"))\n",
        "\n"
      ],
      "execution_count": 12,
      "outputs": [
        {
          "output_type": "stream",
          "text": [
            "-6941787477728124706\n",
            "-6941787477728124706\n"
          ],
          "name": "stdout"
        }
      ]
    },
    {
      "metadata": {
        "id": "9HQz5fEJNcJ7",
        "colab_type": "text"
      },
      "cell_type": "markdown",
      "source": [
        "Hash values need to be created in such a way that the resulting values are evenly distributed to reduce the number of hash collisions you get. Hash collisions are when two different values have the same hash. Therefore, relatively small changes often result in very different hashes."
      ]
    },
    {
      "metadata": {
        "id": "_sRWGKfzNeKS",
        "colab_type": "code",
        "colab": {
          "autoexec": {
            "startup": false,
            "wait_interval": 0
          },
          "base_uri": "https://localhost:8080/",
          "height": 34
        },
        "outputId": "9d028b9d-1082-4662-db65-51b41f281c11",
        "executionInfo": {
          "status": "ok",
          "timestamp": 1530739982549,
          "user_tz": -330,
          "elapsed": 950,
          "user": {
            "displayName": "Mayank Sharma",
            "photoUrl": "https://lh3.googleusercontent.com/a/default-user=s128",
            "userId": "103040418612071322155"
          }
        }
      },
      "cell_type": "code",
      "source": [
        "hash(\"I am GrooT!\")"
      ],
      "execution_count": 13,
      "outputs": [
        {
          "output_type": "execute_result",
          "data": {
            "text/plain": [
              "-915969921795665451"
            ]
          },
          "metadata": {
            "tags": []
          },
          "execution_count": 13
        }
      ]
    },
    {
      "metadata": {
        "id": "VaHip4uCMjSN",
        "colab_type": "text"
      },
      "cell_type": "markdown",
      "source": [
        "OrderedDict in Python. An OrderedDict is a dictionary subclass that remembers the order that keys were first inserted. The only difference between dict() and OrderedDict() is that: OrderedDict preserves the order in which the keys are inserted."
      ]
    },
    {
      "metadata": {
        "id": "GKuCB39WLw6-",
        "colab_type": "code",
        "colab": {
          "autoexec": {
            "startup": false,
            "wait_interval": 0
          }
        },
        "outputId": "d61d5382-1f08-4e21-bf53-88a246d5db03"
      },
      "cell_type": "code",
      "source": [
        "# Dealing with Hashing Functions\n",
        "hashings = {}\n",
        "hashings['function'] = hash('function')\n",
        "hashings['list'] = hash('list')\n",
        "hashings['dictionary'] = hash('dictionary')\n",
        "\n",
        "for k, v in hashings.items():\n",
        "    print(k,': ',v)\n",
        "\n",
        "\n",
        "from collections import OrderedDict\n",
        "hashings = OrderedDict()\n",
        "hashings['function'] = hash('function')\n",
        "hashings['list'] = hash('list')\n",
        "hashings['dictionary'] = hash('dictionary')\n",
        "\n",
        "for k, v in hashings.items():\n",
        "    print(k,': ',v)\n"
      ],
      "execution_count": 0,
      "outputs": [
        {
          "output_type": "stream",
          "text": [
            "list :  507389742764312598\n",
            "function :  -6418509839493444138\n",
            "dictionary :  -4501548687734576673\n",
            "function :  -6418509839493444138\n",
            "list :  507389742764312598\n",
            "dictionary :  -4501548687734576673\n"
          ],
          "name": "stdout"
        }
      ]
    },
    {
      "metadata": {
        "id": "zAobVWo-Lw7C",
        "colab_type": "text",
        "slideshow": {
          "slide_type": "skip"
        }
      },
      "cell_type": "markdown",
      "source": [
        "[top](#top)"
      ]
    },
    {
      "metadata": {
        "id": "i6ZiEM_bLw7E",
        "colab_type": "text",
        "slideshow": {
          "slide_type": "subslide"
        }
      },
      "cell_type": "markdown",
      "source": [
        "<a name='modifying_values'></a>Modifying values in a dictionary\n",
        "---\n",
        "At some point you may want to modify one of the values in your dictionary. Modifying a value in a dictionary is pretty similar to modifying an element in a list. You give the name of the dictionary and then the key in square brackets, and set that equal to the new value."
      ]
    },
    {
      "metadata": {
        "id": "damKr3i5Lw7E",
        "colab_type": "code",
        "slideshow": {
          "slide_type": "fragment"
        },
        "colab": {
          "autoexec": {
            "startup": false,
            "wait_interval": 0
          }
        },
        "outputId": "d37e2d48-c452-4d5f-b17f-7a7b82844ea6"
      },
      "cell_type": "code",
      "source": [
        "python_words = {'list': 'A collection of values that are not connected, but have an order.',\n",
        "                'dictionary': 'A collection of key-value pairs.',\n",
        "                'function': 'A named set of instructions that defines a set of actions in Python.',\n",
        "                }\n",
        "\n",
        "print('dictionary: ' + python_words['dictionary'])\n",
        "    \n",
        "# Clarify one of the meanings.\n",
        "python_words['dictionary'] = 'A collection of key-value pairs. \\\n",
        "                              Each key can be used to access its corresponding value.'\n",
        "\n",
        "print('\\ndictionary: ' + python_words['dictionary'])"
      ],
      "execution_count": 0,
      "outputs": [
        {
          "output_type": "stream",
          "text": [
            "dictionary: A collection of key-value pairs.\n",
            "\n",
            "dictionary: A collection of key-value pairs. Each key can be used to access its corresponding value.\n"
          ],
          "name": "stdout"
        }
      ]
    },
    {
      "metadata": {
        "id": "GnQOlEkVLw7I",
        "colab_type": "text",
        "slideshow": {
          "slide_type": "skip"
        }
      },
      "cell_type": "markdown",
      "source": [
        "[top](#top)"
      ]
    },
    {
      "metadata": {
        "id": "IsdtB7MsLw7J",
        "colab_type": "text",
        "slideshow": {
          "slide_type": "subslide"
        }
      },
      "cell_type": "markdown",
      "source": [
        "<a name='removing_pairs'></a>Removing key-value pairs\n",
        "---\n",
        "You may want to remove some key-value pairs from one of your dictionaries at some point. You can do this using the same `del` command you learned to use with lists. To remove a key-value pair, you give the `del` command, followed by the name of the dictionary, with the key that you want to delete. This removes the key and the value as a pair."
      ]
    },
    {
      "metadata": {
        "id": "rCGrraQyLw7K",
        "colab_type": "code",
        "slideshow": {
          "slide_type": "subslide"
        },
        "colab": {
          "autoexec": {
            "startup": false,
            "wait_interval": 0
          },
          "base_uri": "https://localhost:8080/",
          "height": 221
        },
        "outputId": "6c515ac0-59b5-434b-8fde-f060890768a6",
        "executionInfo": {
          "status": "ok",
          "timestamp": 1530740255528,
          "user_tz": -330,
          "elapsed": 908,
          "user": {
            "displayName": "Mayank Sharma",
            "photoUrl": "https://lh3.googleusercontent.com/a/default-user=s128",
            "userId": "103040418612071322155"
          }
        }
      },
      "cell_type": "code",
      "source": [
        "python_words = {'list': 'A collection of values that are not connected, but have an order.',\n",
        "                'dictionary': 'A collection of key-value pairs.',\n",
        "                'function': 'A named set of instructions that defines a set of actions in Python.',\n",
        "                'oop' : 'Its a common concept accross all languages.'\n",
        "                }\n",
        "    \n",
        "# Remove the word 'list' and its meaning.\n",
        "_ = python_words.pop('list',None)\n",
        "_ = python_words.pop('yo',None)\n",
        "# _ = python_words.pop('h')\n",
        "# del python_words['oop']\n",
        "\n",
        "# Show the current set of words and meanings.\n",
        "print(\"\\n\\nThese are the Python words I know:\")\n",
        "for word, meaning in python_words.items():\n",
        "    print(\"\\nWord: %s\" % word)\n",
        "    print(\"Meaning: %s\" % meaning)"
      ],
      "execution_count": 19,
      "outputs": [
        {
          "output_type": "stream",
          "text": [
            "\n",
            "\n",
            "These are the Python words I know:\n",
            "\n",
            "Word: dictionary\n",
            "Meaning: A collection of key-value pairs.\n",
            "\n",
            "Word: function\n",
            "Meaning: A named set of instructions that defines a set of actions in Python.\n",
            "\n",
            "Word: oop\n",
            "Meaning: Its a common concept accross all languages.\n"
          ],
          "name": "stdout"
        }
      ]
    },
    {
      "metadata": {
        "id": "FWJ8Bm1GLw7M",
        "colab_type": "text",
        "slideshow": {
          "slide_type": "subslide"
        }
      },
      "cell_type": "markdown",
      "source": [
        "If you were going to work with this code, you would certainly want to put the code for displaying the dictionary into a function. Let's see what this looks like:"
      ]
    },
    {
      "metadata": {
        "id": "vRSTsLyGLw7N",
        "colab_type": "code",
        "slideshow": {
          "slide_type": "fragment"
        },
        "colab": {
          "autoexec": {
            "startup": false,
            "wait_interval": 0
          }
        },
        "outputId": "6993b3bb-d07f-40d7-901d-bd07588d0593"
      },
      "cell_type": "code",
      "source": [
        "def show_words_meanings(python_words):\n",
        "    # This function takes in a dictionary of python words and meanings,\n",
        "    #  and prints out each word with its meaning.\n",
        "    print(\"\\n\\nThese are the Python words I know:\")\n",
        "    for word, meaning in python_words.items():\n",
        "        print(\"\\nWord: %s\" % word)\n",
        "        print(\"Meaning: %s\" % meaning)\n",
        "        \n",
        "\n",
        "python_words = {'list': 'A collection of values that are not connected, but have an order.',\n",
        "                'dictionary': 'A collection of key-value pairs.',\n",
        "                'function': 'A named set of instructions that defines a set of actions in Python.',\n",
        "                }\n",
        "\n",
        "show_words_meanings(python_words)\n",
        "    \n",
        "# Remove the word 'list' and its meaning.\n",
        "del python_words['list']\n",
        "\n",
        "show_words_meanings(python_words)"
      ],
      "execution_count": 0,
      "outputs": [
        {
          "output_type": "stream",
          "text": [
            "\n",
            "\n",
            "These are the Python words I know:\n",
            "\n",
            "Word: function\n",
            "Meaning: A named set of instructions that defines a set of actions in Python.\n",
            "\n",
            "Word: list\n",
            "Meaning: A collection of values that are not connected, but have an order.\n",
            "\n",
            "Word: dictionary\n",
            "Meaning: A collection of key-value pairs.\n",
            "\n",
            "\n",
            "These are the Python words I know:\n",
            "\n",
            "Word: function\n",
            "Meaning: A named set of instructions that defines a set of actions in Python.\n",
            "\n",
            "Word: dictionary\n",
            "Meaning: A collection of key-value pairs.\n"
          ],
          "name": "stdout"
        }
      ]
    },
    {
      "metadata": {
        "id": "VheXI78NLw7Q",
        "colab_type": "text",
        "slideshow": {
          "slide_type": "subslide"
        }
      },
      "cell_type": "markdown",
      "source": [
        "As long as we have a nice clean function to work with, let's clean up our output a little:"
      ]
    },
    {
      "metadata": {
        "id": "GTklZ_6cLw7R",
        "colab_type": "code",
        "slideshow": {
          "slide_type": "fragment"
        },
        "colab": {
          "autoexec": {
            "startup": false,
            "wait_interval": 0
          }
        },
        "outputId": "ad33d424-672a-43e4-8196-efc39555c0f2"
      },
      "cell_type": "code",
      "source": [
        "def show_words_meanings(python_words):\n",
        "    # This function takes in a dictionary of python words and meanings,\n",
        "    #  and prints out each word with its meaning.\n",
        "    print(\"\\n\\nThese are the Python words I know:\")\n",
        "    for word, meaning in python_words.items():\n",
        "        print(\"\\n%s: %s\" % (word, meaning))\n",
        "        \n",
        "\n",
        "python_words = {'list': 'A collection of values that are not connected, but have an order.',\n",
        "                'dictionary': 'A collection of key-value pairs.',\n",
        "                'function': 'A named set of instructions that defines a set of actions in Python.',\n",
        "                }\n",
        "\n",
        "show_words_meanings(python_words)\n",
        "    \n",
        "# Remove the word 'list' and its meaning.\n",
        "del python_words['list']\n",
        "\n",
        "show_words_meanings(python_words)"
      ],
      "execution_count": 0,
      "outputs": [
        {
          "output_type": "stream",
          "text": [
            "\n",
            "\n",
            "These are the Python words I know:\n",
            "\n",
            "function: A named set of instructions that defines a set of actions in Python.\n",
            "\n",
            "dictionary: A collection of key-value pairs.\n",
            "\n",
            "list: A collection of values that are not connected, but have an order.\n",
            "\n",
            "\n",
            "These are the Python words I know:\n",
            "\n",
            "function: A named set of instructions that defines a set of actions in Python.\n",
            "\n",
            "dictionary: A collection of key-value pairs.\n"
          ],
          "name": "stdout"
        }
      ]
    },
    {
      "metadata": {
        "id": "eGRwqSnQLw7V",
        "colab_type": "text",
        "slideshow": {
          "slide_type": "fragment"
        }
      },
      "cell_type": "markdown",
      "source": [
        "This is much more realistic code."
      ]
    },
    {
      "metadata": {
        "id": "pabdsh18Lw7W",
        "colab_type": "text",
        "slideshow": {
          "slide_type": "subslide"
        }
      },
      "cell_type": "markdown",
      "source": [
        "<a name='modifying_keys'></a>Modifying keys in a dictionary\n",
        "---\n",
        "Modifying a value in a dictionary was straightforward, because nothing else depends on the value. Modifying a key is a little harder, because each key is used to unlock a value. We can change a key in two steps:\n",
        "\n",
        "- Make a new key, and copy the value to the new key.\n",
        "- Delete the old key, which also deletes the old value."
      ]
    },
    {
      "metadata": {
        "id": "ZD5D5C9nLw7X",
        "colab_type": "text",
        "slideshow": {
          "slide_type": "subslide"
        }
      },
      "cell_type": "markdown",
      "source": [
        "Here's what this looks like. We will use a dictionary with just one key-value pair, to keep things simple."
      ]
    },
    {
      "metadata": {
        "id": "wwTYvjA0Lw7Y",
        "colab_type": "code",
        "colab": {
          "autoexec": {
            "startup": false,
            "wait_interval": 0
          }
        },
        "outputId": "4c391682-872a-47af-a479-b1b9d0b41c39"
      },
      "cell_type": "code",
      "source": [
        "# We have a spelling mistake!\n",
        "python_words = {'list': 'A collection of values that are not connected, but have an order.'}\n",
        "\n",
        "# Create a new, correct key, and connect it to the old value.\n",
        "#  Then delete the old key.\n",
        "python_words['list'] = python_words['lisst']\n",
        "del python_words['lisst']\n",
        "\n",
        "# Print the dictionary, to show that the key has changed.\n",
        "print(python_words)"
      ],
      "execution_count": 0,
      "outputs": [
        {
          "output_type": "stream",
          "text": [
            "{'list': 'A collection of values that are not connected, but have an order.'}\n"
          ],
          "name": "stdout"
        }
      ]
    },
    {
      "metadata": {
        "id": "Wk5uNivLLw7a",
        "colab_type": "text",
        "slideshow": {
          "slide_type": "skip"
        }
      },
      "cell_type": "markdown",
      "source": [
        "[top](#top)"
      ]
    },
    {
      "metadata": {
        "id": "dXg5JwLKLw7b",
        "colab_type": "text",
        "slideshow": {
          "slide_type": "skip"
        }
      },
      "cell_type": "markdown",
      "source": [
        "<a name='exercises_common_operations'></a>Exercises\n",
        "---\n",
        "#### Pet Names 2\n",
        "- Make a copy of your program from [Pet Names](#exercises_what).\n",
        "    - Use a for loop to print out a series of statements such as \"Willie is a dog.\"\n",
        "    - Modify one of the values in your dictionary. You could clarify to name a breed, or you could change an animal from a cat to a dog.\n",
        "        - Use a for loop to print out a series of statements such as \"Willie is a dog.\"\n",
        "    - Add a new key-value pair to your dictionary.\n",
        "        - Use a for loop to print out a series of statements such as \"Willie is a dog.\"\n",
        "    - Remove one of the key-value pairs from your dictionary.\n",
        "        - Use a for loop to print out a series of statements such as \"Willie is a dog.\"\n",
        "- Bonus: Use a function to do all of the looping and printing in this problem.\n",
        "\n",
        "#### Weight Lifting\n",
        "- Make a dictionary where the keys are the names of weight lifting exercises, and the values are the number of times you did that exercise.\n",
        "    - Use a for loop to print out a series of statements such as \"I did 10 bench presses\".\n",
        "    - Modify one of the values in your dictionary, to represent doing more of that exercise.\n",
        "        - Use a for loop to print out a series of statements such as \"I did 10 bench presses\".\n",
        "    - Add a new key-value pair to your dictionary.\n",
        "        - - Use a for loop to print out a series of statements such as \"I did 10 bench presses\".\n",
        "    - Remove one of the key-value pairs from your dictionary.\n",
        "        - - Use a for loop to print out a series of statements such as \"I did 10 bench presses\".\n",
        "- Bonus: Use a function to do all of the looping and printing in this problem."
      ]
    },
    {
      "metadata": {
        "id": "ay4Bg92ULw7c",
        "colab_type": "code",
        "slideshow": {
          "slide_type": "skip"
        },
        "colab": {
          "autoexec": {
            "startup": false,
            "wait_interval": 0
          }
        }
      },
      "cell_type": "code",
      "source": [
        "# Ex 7.3 : Pet Names 2\n",
        "\n",
        "# put your code here"
      ],
      "execution_count": 0,
      "outputs": []
    },
    {
      "metadata": {
        "id": "slF_dUKWLw7d",
        "colab_type": "code",
        "slideshow": {
          "slide_type": "skip"
        },
        "colab": {
          "autoexec": {
            "startup": false,
            "wait_interval": 0
          }
        }
      },
      "cell_type": "code",
      "source": [
        "# Ex 7.4 : Weight Lifting\n",
        "\n",
        "# put your code here"
      ],
      "execution_count": 0,
      "outputs": []
    },
    {
      "metadata": {
        "id": "sK2Q89kRLw7f",
        "colab_type": "text",
        "slideshow": {
          "slide_type": "skip"
        }
      },
      "cell_type": "markdown",
      "source": [
        "[top](#top)"
      ]
    },
    {
      "metadata": {
        "id": "JXVR7rV_Lw7g",
        "colab_type": "text",
        "slideshow": {
          "slide_type": "slide"
        }
      },
      "cell_type": "markdown",
      "source": [
        "<a name='looping'></a>Looping through a dictionary\n",
        "==="
      ]
    },
    {
      "metadata": {
        "id": "mIkTW9azLw7g",
        "colab_type": "text",
        "slideshow": {
          "slide_type": "subslide"
        }
      },
      "cell_type": "markdown",
      "source": [
        "Since dictionaries are really about connecting bits of information, you will often use them in the ways described above, where you add key-value pairs whenever you receive some new information, and then you retrieve the key-value pairs that you care about. Sometimes, however, you will want to loop through the entire dictionary. There are several ways to do this:\n",
        "\n",
        "- You can loop through all key-value pairs;\n",
        "- You can loop through the keys, and pull out the values for any keys that you care about;\n",
        "- You can loop through the values."
      ]
    },
    {
      "metadata": {
        "id": "mA7YmLuLLw7h",
        "colab_type": "text",
        "slideshow": {
          "slide_type": "subslide"
        }
      },
      "cell_type": "markdown",
      "source": [
        "<a name='loop_all_keys_values'></a>Looping through all key-value pairs\n",
        "---\n",
        "This is the kind of loop that was shown in the first example. Here's what this loop looks like, in a general format:"
      ]
    },
    {
      "metadata": {
        "id": "OOuUE0iNLw7h",
        "colab_type": "code",
        "slideshow": {
          "slide_type": "fragment"
        },
        "colab": {
          "autoexec": {
            "startup": false,
            "wait_interval": 0
          }
        },
        "outputId": "e62d4a50-6c45-408d-868e-fc75ddc5adc6"
      },
      "cell_type": "code",
      "source": [
        "my_dict = {'key_1': 'value_1',\n",
        "    'key_2': 'value_2',\n",
        "    'key_3': 'value_3',\n",
        "    }\n",
        "\n",
        "for key, value in my_dict.items():\n",
        "    print('\\nKey: %s' % key)\n",
        "    print('Value: %s' % value)"
      ],
      "execution_count": 0,
      "outputs": [
        {
          "output_type": "stream",
          "text": [
            "\n",
            "Key: key_1\n",
            "Value: value_1\n",
            "\n",
            "Key: key_3\n",
            "Value: value_3\n",
            "\n",
            "Key: key_2\n",
            "Value: value_2\n"
          ],
          "name": "stdout"
        }
      ]
    },
    {
      "metadata": {
        "id": "WolpDQ8VLw7k",
        "colab_type": "text",
        "slideshow": {
          "slide_type": "subslide"
        }
      },
      "cell_type": "markdown",
      "source": [
        "This works because the method `.items()` pulls all key-value pairs from a dictionary into a list of tuples:"
      ]
    },
    {
      "metadata": {
        "id": "b0HIvbudLw7l",
        "colab_type": "code",
        "slideshow": {
          "slide_type": "fragment"
        },
        "colab": {
          "autoexec": {
            "startup": false,
            "wait_interval": 0
          }
        },
        "outputId": "45cdbf0d-7223-4ac9-bbf0-3f0f5e6f0e60"
      },
      "cell_type": "code",
      "source": [
        "my_dict = {'key_1': 'value_1',\n",
        "    'key_2': 'value_2',\n",
        "    'key_3': 'value_3',\n",
        "    }\n",
        "\n",
        "print(my_dict.items())"
      ],
      "execution_count": 0,
      "outputs": [
        {
          "output_type": "stream",
          "text": [
            "[('key_1', 'value_1'), ('key_3', 'value_3'), ('key_2', 'value_2')]\n"
          ],
          "name": "stdout"
        }
      ]
    },
    {
      "metadata": {
        "id": "8_cvn-68Lw7o",
        "colab_type": "text",
        "slideshow": {
          "slide_type": "subslide"
        }
      },
      "cell_type": "markdown",
      "source": [
        "The syntax `for key, value in my_dict.items():` does the work of looping through this list of tuples, and pulling the first and second item from each tuple for us.\n",
        "\n",
        "There is nothing special about any of these variable names, so Python code that uses this syntax becomes really readable. Rather than create a new example of this loop, let's just look at the original example again to see this in a meaningful context:"
      ]
    },
    {
      "metadata": {
        "id": "IB4bWusQLw7p",
        "colab_type": "code",
        "slideshow": {
          "slide_type": "fragment"
        },
        "colab": {
          "autoexec": {
            "startup": false,
            "wait_interval": 0
          }
        },
        "outputId": "801be9af-937c-452b-fe87-76280c901ddd"
      },
      "cell_type": "code",
      "source": [
        "python_words = {'list': 'A collection of values that are not connected, but have an order.',\n",
        "                'dictionary': 'A collection of key-value pairs.',\n",
        "                'function': 'A named set of instructions that defines a set of actions in Python.',\n",
        "                }\n",
        "\n",
        "for word, meaning in python_words.items():\n",
        "    print(\"\\nWord: %s\" % word)\n",
        "    print(\"Meaning: %s\" % meaning)"
      ],
      "execution_count": 0,
      "outputs": [
        {
          "output_type": "stream",
          "text": [
            "\n",
            "Word: function\n",
            "Meaning: A named set of instructions that defines a set of actions in Python.\n",
            "\n",
            "Word: list\n",
            "Meaning: A collection of values that are not connected, but have an order.\n",
            "\n",
            "Word: dictionary\n",
            "Meaning: A collection of key-value pairs.\n"
          ],
          "name": "stdout"
        }
      ]
    },
    {
      "metadata": {
        "id": "gnq5pFtWLw7r",
        "colab_type": "text",
        "slideshow": {
          "slide_type": "skip"
        }
      },
      "cell_type": "markdown",
      "source": [
        "[top](#top)"
      ]
    },
    {
      "metadata": {
        "id": "srS4MIC6Lw7r",
        "colab_type": "text",
        "slideshow": {
          "slide_type": "subslide"
        }
      },
      "cell_type": "markdown",
      "source": [
        "<a name='loop_all_keys'></a>Looping through all keys in a dictionary\n",
        "---\n",
        "Python provides a clear syntax for looping through just the keys in a dictionary:"
      ]
    },
    {
      "metadata": {
        "id": "IJIk2lOqLw7r",
        "colab_type": "code",
        "slideshow": {
          "slide_type": "fragment"
        },
        "colab": {
          "autoexec": {
            "startup": false,
            "wait_interval": 0
          }
        },
        "outputId": "7884556a-c199-4107-e6c4-d9f79d3fe1bd"
      },
      "cell_type": "code",
      "source": [
        "my_dict = {'key_1': 'value_1',\n",
        "    'key_2': 'value_2',\n",
        "    'key_3': 'value_3',\n",
        "    }\n",
        "\n",
        "for key in my_dict.keys():\n",
        "    print('Key: %s' % key)"
      ],
      "execution_count": 0,
      "outputs": [
        {
          "output_type": "stream",
          "text": [
            "Key: key_1\n",
            "Key: key_3\n",
            "Key: key_2\n"
          ],
          "name": "stdout"
        }
      ]
    },
    {
      "metadata": {
        "id": "y9eiCPGhLw7t",
        "colab_type": "text",
        "slideshow": {
          "slide_type": "subslide"
        }
      },
      "cell_type": "markdown",
      "source": [
        "This is actually the default behavior of looping through the dictionary itself. So you can leave out the `.keys()` part, and get the exact same behavior:"
      ]
    },
    {
      "metadata": {
        "id": "1q6OAiOgLw7u",
        "colab_type": "code",
        "slideshow": {
          "slide_type": "fragment"
        },
        "colab": {
          "autoexec": {
            "startup": false,
            "wait_interval": 0
          }
        },
        "outputId": "a29b79bf-74c6-4113-8d44-ce1c3c5914a7"
      },
      "cell_type": "code",
      "source": [
        "my_dict = {'key_1': 'value_1',\n",
        "    'key_2': 'value_2',\n",
        "    'key_3': 'value_3',\n",
        "    }\n",
        "\n",
        "for key in my_dict:\n",
        "    print('Key: %s' % key)"
      ],
      "execution_count": 0,
      "outputs": [
        {
          "output_type": "stream",
          "text": [
            "Key: key_1\n",
            "Key: key_3\n",
            "Key: key_2\n"
          ],
          "name": "stdout"
        }
      ]
    },
    {
      "metadata": {
        "id": "ozhSHwU4Lw7w",
        "colab_type": "text",
        "slideshow": {
          "slide_type": "subslide"
        }
      },
      "cell_type": "markdown",
      "source": [
        "The only advantage of using the `.keys()` in the code is a little bit of clarity. But anyone who knows Python reasonably well is going to recognize what the second version does. In the rest of our code, we will leave out the `.keys()` when we want this behavior.\n",
        "\n",
        "You can pull out the value of any key that you are interested in within your loop, using the standard notation for accessing a dictionary value from a key:"
      ]
    },
    {
      "metadata": {
        "id": "nRn3QFUBLw7w",
        "colab_type": "code",
        "slideshow": {
          "slide_type": "fragment"
        },
        "colab": {
          "autoexec": {
            "startup": false,
            "wait_interval": 0
          }
        },
        "outputId": "5e2c3099-e5ed-47d4-8f94-b0eb3d51fddb"
      },
      "cell_type": "code",
      "source": [
        "my_dict = {'key_1': 'value_1',\n",
        "    'key_2': 'value_2',\n",
        "    'key_3': 'value_3',\n",
        "    }\n",
        "\n",
        "for key in my_dict:\n",
        "    print('Key: %s' % key)\n",
        "    if key == 'key_2':\n",
        "        print(\"  The value for key_2 is %s.\" % my_dict[key])"
      ],
      "execution_count": 0,
      "outputs": [
        {
          "output_type": "stream",
          "text": [
            "Key: key_1\n",
            "Key: key_3\n",
            "Key: key_2\n",
            "  The value for key_2 is value_2.\n"
          ],
          "name": "stdout"
        }
      ]
    },
    {
      "metadata": {
        "id": "nmyARQjpLw7z",
        "colab_type": "text",
        "slideshow": {
          "slide_type": "subslide"
        }
      },
      "cell_type": "markdown",
      "source": [
        "Let's show how we might use this in our Python words program. This kind of loop provides a straightforward way to show only the words in the dictionary:"
      ]
    },
    {
      "metadata": {
        "id": "CLZylmBDLw7z",
        "colab_type": "code",
        "slideshow": {
          "slide_type": "fragment"
        },
        "colab": {
          "autoexec": {
            "startup": false,
            "wait_interval": 0
          }
        },
        "outputId": "831ecc5a-41ad-4e6d-bfc9-e4683509c802"
      },
      "cell_type": "code",
      "source": [
        "python_words = {'list': 'A collection of values that are not connected, but have an order.',\n",
        "                'dictionary': 'A collection of key-value pairs.',\n",
        "                'function': 'A named set of instructions that defines a set of actions in Python.',\n",
        "                }\n",
        "\n",
        "# Show the words that are currently in the dictionary.\n",
        "print(\"The following Python words have been defined:\")\n",
        "for word in python_words:\n",
        "    print(\"- %s\" % word)"
      ],
      "execution_count": 0,
      "outputs": [
        {
          "output_type": "stream",
          "text": [
            "The following Python words have been defined:\n",
            "- function\n",
            "- list\n",
            "- dictionary\n"
          ],
          "name": "stdout"
        }
      ]
    },
    {
      "metadata": {
        "id": "OZ-yvh4vLw71",
        "colab_type": "text",
        "slideshow": {
          "slide_type": "subslide"
        }
      },
      "cell_type": "markdown",
      "source": [
        "We can extend this slightly to make a program that lets you look up words. We first let the user choose a word. When the user has chosen a word, we get the meaning for that word, and display it:"
      ]
    },
    {
      "metadata": {
        "id": "r_otovKqLw71",
        "colab_type": "code",
        "slideshow": {
          "slide_type": "fragment"
        },
        "colab": {
          "autoexec": {
            "startup": false,
            "wait_interval": 0
          },
          "base_uri": "https://localhost:8080/",
          "height": 153
        },
        "collapsed": true,
        "outputId": "bafbbfc7-d5e7-4592-dfe9-b0d4ecb9456e",
        "executionInfo": {
          "status": "ok",
          "timestamp": 1530740424530,
          "user_tz": -330,
          "elapsed": 6881,
          "user": {
            "displayName": "Mayank Sharma",
            "photoUrl": "https://lh3.googleusercontent.com/a/default-user=s128",
            "userId": "103040418612071322155"
          }
        }
      },
      "cell_type": "code",
      "source": [
        "python_words = {'list': 'A collection of values that are not connected, but have an order.',\n",
        "                'dictionary': 'A collection of key-value pairs.',\n",
        "                'function': 'A named set of instructions that defines a set of actions in Python.',\n",
        "                }\n",
        "\n",
        "# Show the words that are currently in the dictionary.\n",
        "print(\"The following Python words have been defined:\")\n",
        "for word in python_words:\n",
        "    print(\"- %s\" % word)\n",
        "    \n",
        "# Allow the user to choose a word, and then display the meaning for that word.\n",
        "requested_word = input(\"\\nWhat word would you like to learn about? \")\n",
        "print(\"\\n%s: %s\" % (requested_word, python_words[requested_word]))"
      ],
      "execution_count": 22,
      "outputs": [
        {
          "output_type": "stream",
          "text": [
            "The following Python words have been defined:\n",
            "- list\n",
            "- dictionary\n",
            "- function\n",
            "\n",
            "What word would you like to learn about? list\n",
            "\n",
            "list: A collection of values that are not connected, but have an order.\n"
          ],
          "name": "stdout"
        }
      ]
    },
    {
      "metadata": {
        "id": "begE9ClhLw73",
        "colab_type": "text",
        "slideshow": {
          "slide_type": "subslide"
        }
      },
      "cell_type": "markdown",
      "source": [
        "This allows the user to select one word that has been defined. If we enclose the input part of the program in a while loop, the user can see as many definitions as they'd like:"
      ]
    },
    {
      "metadata": {
        "id": "yyaic8QkLw74",
        "colab_type": "code",
        "slideshow": {
          "slide_type": "fragment"
        },
        "colab": {
          "autoexec": {
            "startup": false,
            "wait_interval": 0
          },
          "base_uri": "https://localhost:8080/",
          "height": 153
        },
        "outputId": "54ae5da9-2b1b-46ea-dca7-9ce88e9e4130",
        "executionInfo": {
          "status": "ok",
          "timestamp": 1530740443785,
          "user_tz": -330,
          "elapsed": 6488,
          "user": {
            "displayName": "Mayank Sharma",
            "photoUrl": "https://lh3.googleusercontent.com/a/default-user=s128",
            "userId": "103040418612071322155"
          }
        }
      },
      "cell_type": "code",
      "source": [
        "python_words = {'list': 'A collection of values that are not connected, but have an order.',\n",
        "                'dictionary': 'A collection of key-value pairs.',\n",
        "                'function': 'A named set of instructions that defines a set of actions in Python.',\n",
        "                }\n",
        "\n",
        "# Show the words that are currently in the dictionary.\n",
        "print(\"The following Python words have been defined:\")\n",
        "for word in python_words:\n",
        "    print(\"- %s\" % word)\n",
        "\n",
        "requested_word = ''\n",
        "while requested_word != 'quit':\n",
        "    # Allow the user to choose a word, and then display the meaning for that word.\n",
        "    requested_word = input(\"\\nWhat word would you like to learn about? (or 'quit') \")\n",
        "    if requested_word in python_words.keys():\n",
        "        print(\"\\n  %s: %s\" % (requested_word, python_words[requested_word]))\n",
        "    else:\n",
        "        # Handle misspellings, and words not yet stored.\n",
        "        print(\"\\n  Sorry, I don't know that word.\")"
      ],
      "execution_count": 24,
      "outputs": [
        {
          "output_type": "stream",
          "text": [
            "The following Python words have been defined:\n",
            "- list\n",
            "- dictionary\n",
            "- function\n",
            "\n",
            "What word would you like to learn about? (or 'quit') quit\n",
            "\n",
            "  Sorry, I don't know that word.\n"
          ],
          "name": "stdout"
        }
      ]
    },
    {
      "metadata": {
        "id": "c1wW9vu-Lw76",
        "colab_type": "text",
        "slideshow": {
          "slide_type": "subslide"
        }
      },
      "cell_type": "markdown",
      "source": [
        "This allows the user to ask for as many meanings as they want, but it takes the word \"quit\" as a requested word. Let's add an `elif` clause to clean up this behavior:"
      ]
    },
    {
      "metadata": {
        "id": "AGibyirGLw77",
        "colab_type": "code",
        "slideshow": {
          "slide_type": "fragment"
        },
        "colab": {
          "autoexec": {
            "startup": false,
            "wait_interval": 0
          }
        },
        "outputId": "a5b44e46-93dc-48cd-ab9e-d4fea639ae07"
      },
      "cell_type": "code",
      "source": [
        "python_words = {'list': 'A collection of values that are not connected, but have an order.',\n",
        "                'dictionary': 'A collection of key-value pairs.',\n",
        "                'function': 'A named set of instructions that defines a set of actions in Python.',\n",
        "                }\n",
        "\n",
        "# Show the words that are currently in the dictionary.\n",
        "print(\"The following Python words have been defined:\")\n",
        "for word in python_words:\n",
        "    print(\"- %s\" % word)\n",
        "\n",
        "requested_word = ''\n",
        "while requested_word != 'quit':\n",
        "    # Allow the user to choose a word, and then display the meaning for that word.\n",
        "    requested_word = raw_input(\"\\nWhat word would you like to learn about? (or 'quit') \")\n",
        "    if requested_word in python_words.keys():\n",
        "        # This is a word we know, so show the meaning.\n",
        "        print(\"\\n  %s: %s\" % (requested_word, python_words[requested_word]))\n",
        "    elif requested_word != 'quit':\n",
        "        # This is not in python_words, and it's not 'quit'.\n",
        "        print(\"\\n  Sorry, I don't know that word.\")\n",
        "    else:\n",
        "        # The word is quit.\n",
        "        print \"\\n  Bye!\""
      ],
      "execution_count": 0,
      "outputs": [
        {
          "output_type": "stream",
          "text": [
            "The following Python words have been defined:\n",
            "- function\n",
            "- list\n",
            "- dictionary\n",
            "\n",
            "What word would you like to learn about? (or 'quit') function\n",
            "\n",
            "  function: A named set of instructions that defines a set of actions in Python.\n",
            "\n",
            "What word would you like to learn about? (or 'quit') dictionary\n",
            "\n",
            "  dictionary: A collection of key-value pairs.\n",
            "\n",
            "What word would you like to learn about? (or 'quit') list\n",
            "\n",
            "  list: A collection of values that are not connected, but have an order.\n",
            "\n",
            "What word would you like to learn about? (or 'quit') class\n",
            "\n",
            "  Sorry, I don't know that word.\n",
            "\n",
            "What word would you like to learn about? (or 'quit') quit\n",
            "\n",
            "  Bye!\n"
          ],
          "name": "stdout"
        }
      ]
    },
    {
      "metadata": {
        "id": "1lBqXtPqLw79",
        "colab_type": "text",
        "slideshow": {
          "slide_type": "skip"
        }
      },
      "cell_type": "markdown",
      "source": [
        "[top](#top)"
      ]
    },
    {
      "metadata": {
        "id": "G_XOHtcqLw79",
        "colab_type": "text",
        "slideshow": {
          "slide_type": "subslide"
        }
      },
      "cell_type": "markdown",
      "source": [
        "<a name='loop_all_values'></a>Looping through all values in a dictionary\n",
        "---\n",
        "Python provides a straightforward syntax for looping through all the values in a dictionary, as well:"
      ]
    },
    {
      "metadata": {
        "id": "6E82pUybLw7-",
        "colab_type": "code",
        "slideshow": {
          "slide_type": "fragment"
        },
        "colab": {
          "autoexec": {
            "startup": false,
            "wait_interval": 0
          }
        },
        "outputId": "2b522880-9c64-43a9-b255-78d5eb2e2c8e"
      },
      "cell_type": "code",
      "source": [
        "my_dict = {'key_1': 'value_1',\n",
        "    'key_2': 'value_2',\n",
        "    'key_3': 'value_3',\n",
        "    }\n",
        "\n",
        "for value in my_dict.values():\n",
        "    print('Value: %s' % value)"
      ],
      "execution_count": 0,
      "outputs": [
        {
          "output_type": "stream",
          "text": [
            "Value: value_1\n",
            "Value: value_3\n",
            "Value: value_2\n"
          ],
          "name": "stdout"
        }
      ]
    },
    {
      "metadata": {
        "id": "o2KHiosjLw8A",
        "colab_type": "text",
        "slideshow": {
          "slide_type": "subslide"
        }
      },
      "cell_type": "markdown",
      "source": [
        "We can use this loop syntax to have a little fun with the dictionary example, by making a little quiz program. The program will display a meaning, and ask the user to guess the word that matches that meaning. Let's start out by showing all the meanings in the dictionary:"
      ]
    },
    {
      "metadata": {
        "id": "XA-OLHRHLw8A",
        "colab_type": "code",
        "slideshow": {
          "slide_type": "fragment"
        },
        "colab": {
          "autoexec": {
            "startup": false,
            "wait_interval": 0
          }
        },
        "outputId": "0275fc2a-8d03-44e4-eb9b-b2e7198ac3f1"
      },
      "cell_type": "code",
      "source": [
        "python_words = {'list': 'A collection of values that are not connected, but have an order.',\n",
        "                'dictionary': 'A collection of key-value pairs.',\n",
        "                'function': 'A named set of instructions that defines a set of actions in Python.',\n",
        "                }\n",
        "\n",
        "for meaning in python_words.values():\n",
        "    print(\"Meaning: %s\" % meaning)"
      ],
      "execution_count": 0,
      "outputs": [
        {
          "output_type": "stream",
          "text": [
            "Meaning: A named set of instructions that defines a set of actions in Python.\n",
            "Meaning: A collection of values that are not connected, but have an order.\n",
            "Meaning: A collection of key-value pairs.\n"
          ],
          "name": "stdout"
        }
      ]
    },
    {
      "metadata": {
        "id": "EAKaL97ZLw8D",
        "colab_type": "text",
        "slideshow": {
          "slide_type": "subslide"
        }
      },
      "cell_type": "markdown",
      "source": [
        "Now we can add a prompt after each meaning, asking the user to guess the word:"
      ]
    },
    {
      "metadata": {
        "id": "bFBJbvLBLw8E",
        "colab_type": "code",
        "slideshow": {
          "slide_type": "fragment"
        },
        "colab": {
          "autoexec": {
            "startup": false,
            "wait_interval": 0
          }
        },
        "outputId": "a78fcc7e-de2f-41ff-f4ea-e952a5b9507c"
      },
      "cell_type": "code",
      "source": [
        "python_words = {'list': 'A collection of values that are not connected, but have an order.',\n",
        "                'dictionary': 'A collection of key-value pairs.',\n",
        "                'function': 'A named set of instructions that defines a set of actions in Python.',\n",
        "                }\n",
        "\n",
        "# Print each meaning, one at a time, and ask the user\n",
        "#  what word they think it is.\n",
        "for meaning in python_words.values():\n",
        "    print(\"\\nMeaning: %s\" % meaning)\n",
        "    \n",
        "    guessed_word = raw_input(\"What word do you think this is? \")\n",
        "    \n",
        "    # The guess is correct if the guessed word's meaning matches the current meaning.\n",
        "    if python_words[guessed_word] == meaning:\n",
        "        print(\"You got it!\")\n",
        "    else:\n",
        "        print(\"Sorry, that's just not the right word.\")"
      ],
      "execution_count": 0,
      "outputs": [
        {
          "output_type": "stream",
          "text": [
            "\n",
            "Meaning: A named set of instructions that defines a set of actions in Python.\n",
            "What word do you think this is? function\n",
            "You got it!\n",
            "\n",
            "Meaning: A collection of values that are not connected, but have an order.\n",
            "What word do you think this is? function\n",
            "Sorry, that's just not the right word.\n",
            "\n",
            "Meaning: A collection of key-value pairs.\n",
            "What word do you think this is? dictionary\n",
            "You got it!\n"
          ],
          "name": "stdout"
        }
      ]
    },
    {
      "metadata": {
        "id": "8tQ7QCJKLw8H",
        "colab_type": "text",
        "slideshow": {
          "slide_type": "subslide"
        }
      },
      "cell_type": "markdown",
      "source": [
        "This is starting to work, but we can see from the output that the user does not get the chance to take a second guess if they guess wrong for any meaning. We can use a while loop around the guessing code, to let the user guess until they get it right:"
      ]
    },
    {
      "metadata": {
        "id": "gj-OJ2HOLw8I",
        "colab_type": "code",
        "slideshow": {
          "slide_type": "fragment"
        },
        "colab": {
          "autoexec": {
            "startup": false,
            "wait_interval": 0
          }
        },
        "outputId": "7a9cc5ea-9c0a-4d1c-f711-02eada2a242b"
      },
      "cell_type": "code",
      "source": [
        "python_words = {'list': 'A collection of values that are not connected, but have an order.',\n",
        "                'dictionary': 'A collection of key-value pairs.',\n",
        "                'function': 'A named set of instructions that defines a set of actions in Python.',\n",
        "                }\n",
        "\n",
        "# Print each meaning, one at a time, and ask the user\n",
        "#  what word they think it is.\n",
        "for meaning in python_words.values():\n",
        "    print(\"\\nMeaning: %s\" % meaning)\n",
        "    \n",
        "    # Assume the guess is not correct; keep guessing until correct.\n",
        "    correct = False\n",
        "    while not correct:\n",
        "        guessed_word = input(\"\\nWhat word do you think this is? \")\n",
        "    \n",
        "        # The guess is correct if the guessed word's meaning matches the current meaning.\n",
        "        if python_words[guessed_word] == meaning:\n",
        "            print(\"You got it!\")\n",
        "            correct = True\n",
        "        else:\n",
        "            print(\"Sorry, that's just not the right word.\")"
      ],
      "execution_count": 0,
      "outputs": [
        {
          "output_type": "stream",
          "text": [
            "\n",
            "Meaning: A named set of instructions that defines a set of actions in Python.\n",
            "\n",
            "What word do you think this is? function\n",
            "You got it!\n",
            "\n",
            "Meaning: A collection of values that are not connected, but have an order.\n",
            "\n",
            "What word do you think this is? dictionary\n",
            "Sorry, that's just not the right word.\n",
            "\n",
            "What word do you think this is? list\n",
            "You got it!\n",
            "\n",
            "Meaning: A collection of key-value pairs.\n",
            "\n",
            "What word do you think this is? dictionary\n",
            "You got it!\n"
          ],
          "name": "stdout"
        }
      ]
    },
    {
      "metadata": {
        "id": "nluE1Qt6Lw8K",
        "colab_type": "text",
        "slideshow": {
          "slide_type": "subslide"
        }
      },
      "cell_type": "markdown",
      "source": [
        "This is better. Now, if the guess is incorrect, the user is caught in a loop that they can only exit by guessing correctly. The final revision to this code is to show the user a list of words to choose from when they are asked to guess:"
      ]
    },
    {
      "metadata": {
        "id": "ZiTU9I66Lw8L",
        "colab_type": "code",
        "slideshow": {
          "slide_type": "fragment"
        },
        "colab": {
          "autoexec": {
            "startup": false,
            "wait_interval": 0
          }
        },
        "outputId": "e6e57d80-57a9-4d96-92ab-d2c24e119374"
      },
      "cell_type": "code",
      "source": [
        "python_words = {'list': 'A collection of values that are not connected, but have an order.',\n",
        "                'dictionary': 'A collection of key-value pairs.',\n",
        "                'function': 'A named set of instructions that defines a set of actions in Python.',\n",
        "                }\n",
        "\n",
        "def show_words(python_words):\n",
        "    # A simple function to show the words in the dictionary.\n",
        "    display_message = \"\"\n",
        "    for word in python_words.keys():\n",
        "        display_message += word + '  '\n",
        "    print display_message\n",
        "\n",
        "# Print each meaning, one at a time, and ask the user\n",
        "#  what word they think it is.\n",
        "for meaning in python_words.values():\n",
        "    print(\"\\n%s\" % meaning)\n",
        "\n",
        "    # Assume the guess is not correct; keep guessing until correct.\n",
        "    correct = False\n",
        "    while not correct:\n",
        "        \n",
        "        print(\"\\nWhat word do you think this is?\")\n",
        "        show_words(python_words)\n",
        "        guessed_word = raw_input(\"- \")    \n",
        "        \n",
        "        # The guess is correct if the guessed word's meaning matches the current meaning.\n",
        "        if python_words[guessed_word] == meaning:\n",
        "            print(\"You got it!\")\n",
        "            correct = True\n",
        "        else:\n",
        "            print(\"Sorry, that's just not the right word.\")"
      ],
      "execution_count": 0,
      "outputs": [
        {
          "output_type": "stream",
          "text": [
            "\n",
            "A named set of instructions that defines a set of actions in Python.\n",
            "\n",
            "What word do you think this is?\n",
            "function  list  dictionary  \n",
            "- function\n",
            "You got it!\n",
            "\n",
            "A collection of values that are not connected, but have an order.\n",
            "\n",
            "What word do you think this is?\n",
            "function  list  dictionary  \n",
            "- dictionary\n",
            "Sorry, that's just not the right word.\n",
            "\n",
            "What word do you think this is?\n",
            "function  list  dictionary  \n",
            "- list\n",
            "You got it!\n",
            "\n",
            "A collection of key-value pairs.\n",
            "\n",
            "What word do you think this is?\n",
            "function  list  dictionary  \n",
            "- dictionary\n",
            "You got it!\n"
          ],
          "name": "stdout"
        }
      ]
    },
    {
      "metadata": {
        "id": "KkWD6hcSLw8N",
        "colab_type": "text",
        "slideshow": {
          "slide_type": "skip"
        }
      },
      "cell_type": "markdown",
      "source": [
        "[top](#top)"
      ]
    },
    {
      "metadata": {
        "id": "nWQHKPXHLw8O",
        "colab_type": "text",
        "slideshow": {
          "slide_type": "subslide"
        }
      },
      "cell_type": "markdown",
      "source": [
        "<a name=\"looping_in_order\"></a>Looping through a dictionary in order\n",
        "===\n",
        "Dictionaries are quite useful because they allow bits of information to be connected. One of the problems with dictionaries, however, is that they are not stored in any particular order. When you retrieve all of the keys or values in your dictionary, you can't be sure what order you will get them back. There is a quick and easy way to do this, however, when you want them in a particular order.\n",
        "\n",
        "Let's take a look at the order that results from a simple call to *dictionary.keys()*:"
      ]
    },
    {
      "metadata": {
        "id": "qKBbgWjMLw8O",
        "colab_type": "code",
        "slideshow": {
          "slide_type": "fragment"
        },
        "colab": {
          "autoexec": {
            "startup": false,
            "wait_interval": 0
          }
        },
        "outputId": "403103a2-de3a-4e70-a552-a574b701be65"
      },
      "cell_type": "code",
      "source": [
        "python_words = {'list': 'A collection of values that are not connected, but have an order.',\n",
        "                'dictionary': 'A collection of key-value pairs.',\n",
        "                'function': 'A named set of instructions that defines a set of actions in Python.',\n",
        "                }\n",
        "\n",
        "for word in python_words.keys():\n",
        "    print(word)"
      ],
      "execution_count": 0,
      "outputs": [
        {
          "output_type": "stream",
          "text": [
            "function\n",
            "list\n",
            "dictionary\n"
          ],
          "name": "stdout"
        }
      ]
    },
    {
      "metadata": {
        "id": "TFul9u0vLw8Q",
        "colab_type": "text",
        "slideshow": {
          "slide_type": "subslide"
        }
      },
      "cell_type": "markdown",
      "source": [
        "The resulting list is not in order. The list of keys can be put in order by passing the list into the *sorted()* function, in the line that initiates the for loop:"
      ]
    },
    {
      "metadata": {
        "id": "BaqHemcJLw8Q",
        "colab_type": "code",
        "slideshow": {
          "slide_type": "fragment"
        },
        "colab": {
          "autoexec": {
            "startup": false,
            "wait_interval": 0
          }
        },
        "outputId": "f282739c-46a2-44b0-b68a-4c8ae672c07c"
      },
      "cell_type": "code",
      "source": [
        "python_words = {'list': 'A collection of values that are not connected, but have an order.',\n",
        "                'dictionary': 'A collection of key-value pairs.',\n",
        "                'function': 'A named set of instructions that defines a set of actions in Python.',\n",
        "                }\n",
        "\n",
        "for word in sorted(python_words.keys()):\n",
        "    print(word)"
      ],
      "execution_count": 0,
      "outputs": [
        {
          "output_type": "stream",
          "text": [
            "dictionary\n",
            "function\n",
            "list\n"
          ],
          "name": "stdout"
        }
      ]
    },
    {
      "metadata": {
        "id": "yhgwLdj7Lw8R",
        "colab_type": "text",
        "slideshow": {
          "slide_type": "subslide"
        }
      },
      "cell_type": "markdown",
      "source": [
        "This approach can be used to work with the keys and values in order. For example, the words and meanings can be printed in alphabetical order by word:"
      ]
    },
    {
      "metadata": {
        "id": "E5j8NjZ1Lw8S",
        "colab_type": "code",
        "slideshow": {
          "slide_type": "fragment"
        },
        "colab": {
          "autoexec": {
            "startup": false,
            "wait_interval": 0
          }
        },
        "outputId": "e75fddda-8e88-42b8-c19c-dbfb9c106e97"
      },
      "cell_type": "code",
      "source": [
        "python_words = {'list': 'A collection of values that are not connected, but have an order.',\n",
        "                'dictionary': 'A collection of key-value pairs.',\n",
        "                'function': 'A named set of instructions that defines a set of actions in Python.',\n",
        "                }\n",
        "\n",
        "for word in sorted(python_words.keys()):\n",
        "    print(\"%s: %s\" % (word.title(), python_words[word]))"
      ],
      "execution_count": 0,
      "outputs": [
        {
          "output_type": "stream",
          "text": [
            "Dictionary: A collection of key-value pairs.\n",
            "Function: A named set of instructions that defines a set of actions in Python.\n",
            "List: A collection of values that are not connected, but have an order.\n"
          ],
          "name": "stdout"
        }
      ]
    },
    {
      "metadata": {
        "id": "1KtamkdYLw8T",
        "colab_type": "text",
        "slideshow": {
          "slide_type": "fragment"
        }
      },
      "cell_type": "markdown",
      "source": [
        "In this example, the keys have been put into alphabetical order in the for loop only; Python has not changed the way the dictionary is stored at all. So the next time the dictionary is accessed, the keys could be returned in any order. There is no way to permanently specify an order for the items in an ordinary dictionary, but if you want to do this you can use the [OrderedDict](http://docs.python.org/3.3/library/collections.html#ordereddict-objects) structure."
      ]
    },
    {
      "metadata": {
        "id": "lXOjfrKyLw8U",
        "colab_type": "text",
        "slideshow": {
          "slide_type": "skip"
        }
      },
      "cell_type": "markdown",
      "source": [
        "[top](#top)"
      ]
    },
    {
      "metadata": {
        "id": "oU4mEy1TLw8U",
        "colab_type": "text",
        "slideshow": {
          "slide_type": "skip"
        }
      },
      "cell_type": "markdown",
      "source": [
        "<a name='exercises_looping'></a>Exercises\n",
        "---\n",
        "#### <a name='exercise_mountain_heights'></a>Mountain Heights\n",
        "- Wikipedia has a list of the [tallest mountains in the world](http://en.wikipedia.org/wiki/List_of_mountains_by_elevation), with each mountain's elevation. Pick five mountains from this list.\n",
        "    - Create a dictionary with the mountain names as keys, and the elevations as values.\n",
        "    - Print out just the mountains' names, by looping through the keys of your dictionary.\n",
        "    - Print out just the mountains' elevations, by looping through the values of your dictionary.\n",
        "    - Print out a series of statements telling how tall each mountain is: \"Everest is 8848 meters tall.\"\n",
        "- Revise your output, if necessary.\n",
        "    - Make sure there is an introductory sentence describing the output for each loop you write.\n",
        "    - Make sure there is a blank line between each group of statements.\n",
        "\n",
        "#### Mountain Heights 2\n",
        "- Revise your final output from Mountain Heights, so that the information is listed in alphabetical order by each mountain's name.\n",
        "    - That is, print out a series of statements telling how tall each mountain is: \"Everest is 8848 meters tall.\"\n",
        "    - Make sure your output is in alphabetical order."
      ]
    },
    {
      "metadata": {
        "id": "-AzUI9F6Lw8U",
        "colab_type": "code",
        "slideshow": {
          "slide_type": "skip"
        },
        "colab": {
          "autoexec": {
            "startup": false,
            "wait_interval": 0
          }
        }
      },
      "cell_type": "code",
      "source": [
        "# Ex 7.5 : Mountain Heights\n",
        "\n",
        "# put your code here"
      ],
      "execution_count": 0,
      "outputs": []
    },
    {
      "metadata": {
        "id": "Ar-fVLNuLw8V",
        "colab_type": "code",
        "slideshow": {
          "slide_type": "skip"
        },
        "colab": {
          "autoexec": {
            "startup": false,
            "wait_interval": 0
          }
        }
      },
      "cell_type": "code",
      "source": [
        "# Ex 7.6 : Mountain Heights 2\n",
        "\n",
        "# put your code here"
      ],
      "execution_count": 0,
      "outputs": []
    },
    {
      "metadata": {
        "id": "gX0IML65Lw8W",
        "colab_type": "text",
        "slideshow": {
          "slide_type": "skip"
        }
      },
      "cell_type": "markdown",
      "source": [
        "[top](#top)"
      ]
    },
    {
      "metadata": {
        "id": "ws44kRCZLw8X",
        "colab_type": "text",
        "slideshow": {
          "slide_type": "slide"
        }
      },
      "cell_type": "markdown",
      "source": [
        "<a name='nesting'></a>Nesting\n",
        "===\n",
        "Nesting is one of the most powerful concepts we have come to so far. Nesting involves putting a list or dictionary inside another list or dictionary. We will look at two examples here, lists inside of a dictionary and dictionaries inside of a dictionary. With nesting, the kind of information we can model in our programs is expanded greatly."
      ]
    },
    {
      "metadata": {
        "id": "p-eQxoh6Lw8X",
        "colab_type": "text",
        "slideshow": {
          "slide_type": "subslide"
        }
      },
      "cell_type": "markdown",
      "source": [
        "<a name='lists_in_dictionary'></a>Lists in a dictionary\n",
        "---\n",
        "A dictionary connects two pieces of information. Those two pieces of information can be any kind of data structure in Python. Let's keep using strings for our keys, but let's try giving a list as a value.\n",
        "\n",
        "The first example will involve storing a number of people's favorite numbers. The keys consist of people's names, and the values are lists of each person's favorite numbers. In this first example, we will access each person's list one at a time."
      ]
    },
    {
      "metadata": {
        "id": "BtWGTG4kLw8X",
        "colab_type": "code",
        "slideshow": {
          "slide_type": "subslide"
        },
        "colab": {
          "autoexec": {
            "startup": false,
            "wait_interval": 0
          }
        },
        "outputId": "3cb04654-0708-4c3e-e548-f0b219b6a54e"
      },
      "cell_type": "code",
      "source": [
        "# This program stores people's favorite numbers, and displays them.\n",
        "favorite_numbers = {'eric': [3, 11, 19, 23, 42],\n",
        "                    'ever': [2, 4, 5],\n",
        "                    'willie': [5, 35, 120],\n",
        "                    }\n",
        "\n",
        "# Display each person's favorite numbers.\n",
        "print(\"Eric's favorite numbers are:\")\n",
        "print(favorite_numbers['eric'])\n",
        "\n",
        "print(\"\\nEver's favorite numbers are:\")\n",
        "print(favorite_numbers['ever'])\n",
        "\n",
        "print(\"\\nWillie's favorite numbers are:\")\n",
        "print(favorite_numbers['willie'])"
      ],
      "execution_count": 0,
      "outputs": [
        {
          "output_type": "stream",
          "text": [
            "Eric's favorite numbers are:\n",
            "[3, 11, 19, 23, 42]\n",
            "\n",
            "Ever's favorite numbers are:\n",
            "[2, 4, 5]\n",
            "\n",
            "Willie's favorite numbers are:\n",
            "[5, 35, 120]\n"
          ],
          "name": "stdout"
        }
      ]
    },
    {
      "metadata": {
        "id": "oTeU46-oLw8Y",
        "colab_type": "text",
        "slideshow": {
          "slide_type": "subslide"
        }
      },
      "cell_type": "markdown",
      "source": [
        "We are really just working our way through each key in the dictionary, so let's use a for loop to go through the keys in the dictionary:"
      ]
    },
    {
      "metadata": {
        "id": "FL-xqXUuLw8Z",
        "colab_type": "code",
        "colab": {
          "autoexec": {
            "startup": false,
            "wait_interval": 0
          },
          "base_uri": "https://localhost:8080/",
          "height": 51
        },
        "outputId": "549b5f6d-cdd3-4877-a650-1e5a672599bd",
        "executionInfo": {
          "status": "ok",
          "timestamp": 1530740548519,
          "user_tz": -330,
          "elapsed": 1039,
          "user": {
            "displayName": "Mayank Sharma",
            "photoUrl": "https://lh3.googleusercontent.com/a/default-user=s128",
            "userId": "103040418612071322155"
          }
        }
      },
      "cell_type": "code",
      "source": [
        "# Example for a Sparse Matrix Implementation\n",
        "\n",
        "sparse_matrix = {}\n",
        "sparse_matrix[0] = {1: 12.3, 23: 25.5}\n",
        "sparse_matrix[1] = {3: 12.0, 15: 25.5}\n",
        "\n",
        "print (sparse_matrix[1][15])\n",
        "\n",
        "full_matrix = [[1, 3, 4], \n",
        "               [2, 5, 3]]\n",
        "\n",
        "print (full_matrix[1][2])"
      ],
      "execution_count": 26,
      "outputs": [
        {
          "output_type": "stream",
          "text": [
            "25.5\n",
            "3\n"
          ],
          "name": "stdout"
        }
      ]
    },
    {
      "metadata": {
        "id": "9Qx58x-vLw8a",
        "colab_type": "code",
        "slideshow": {
          "slide_type": "fragment"
        },
        "colab": {
          "autoexec": {
            "startup": false,
            "wait_interval": 0
          },
          "base_uri": "https://localhost:8080/",
          "height": 170
        },
        "outputId": "5ddf426e-bd50-421d-b390-4d0c716567b2",
        "executionInfo": {
          "status": "ok",
          "timestamp": 1530740553930,
          "user_tz": -330,
          "elapsed": 898,
          "user": {
            "displayName": "Mayank Sharma",
            "photoUrl": "https://lh3.googleusercontent.com/a/default-user=s128",
            "userId": "103040418612071322155"
          }
        }
      },
      "cell_type": "code",
      "source": [
        "# This program stores people's favorite numbers, and displays them.\n",
        "favorite_numbers = {'eric': [3, 11, 19, 23, 42],\n",
        "                    'ever': [2, 4, 5],\n",
        "                    'willie': [5, 35, 120],\n",
        "                    }\n",
        "\n",
        "# Display each person's favorite numbers.\n",
        "for name in favorite_numbers:\n",
        "    print(\"\\n%s's favorite numbers are:\" % name.title())\n",
        "    print(favorite_numbers[name])      "
      ],
      "execution_count": 27,
      "outputs": [
        {
          "output_type": "stream",
          "text": [
            "\n",
            "Eric's favorite numbers are:\n",
            "[3, 11, 19, 23, 42]\n",
            "\n",
            "Ever's favorite numbers are:\n",
            "[2, 4, 5]\n",
            "\n",
            "Willie's favorite numbers are:\n",
            "[5, 35, 120]\n"
          ],
          "name": "stdout"
        }
      ]
    },
    {
      "metadata": {
        "id": "Vnx3okQKLw8c",
        "colab_type": "text",
        "slideshow": {
          "slide_type": "subslide"
        }
      },
      "cell_type": "markdown",
      "source": [
        "This structure is fairly complex, so don't worry if it takes a while for things to sink in. The dictionary itself probably makes sense; each person is connected to a list of their favorite numbers.\n",
        "\n",
        "This works, but we'd rather not print raw Python in our output. Let's use a for loop to print the favorite numbers individually, rather than in a Python list."
      ]
    },
    {
      "metadata": {
        "id": "d4FhEm7YLw8c",
        "colab_type": "code",
        "slideshow": {
          "slide_type": "fragment"
        },
        "colab": {
          "autoexec": {
            "startup": false,
            "wait_interval": 0
          },
          "base_uri": "https://localhost:8080/",
          "height": 306
        },
        "outputId": "a87ac974-04e1-41a3-b583-502337388fc7",
        "executionInfo": {
          "status": "ok",
          "timestamp": 1530740572872,
          "user_tz": -330,
          "elapsed": 975,
          "user": {
            "displayName": "Mayank Sharma",
            "photoUrl": "https://lh3.googleusercontent.com/a/default-user=s128",
            "userId": "103040418612071322155"
          }
        }
      },
      "cell_type": "code",
      "source": [
        "# This program stores people's favorite numbers, and displays them.\n",
        "favorite_numbers = {'eric': [3, 11, 19, 23, 42],\n",
        "                    'ever': [2, 4, 5],\n",
        "                    'willie': [5, 35, 120],\n",
        "                    }\n",
        "\n",
        "# Display each person's favorite numbers.\n",
        "for name in favorite_numbers:\n",
        "    print(\"\\n%s's favorite numbers are:\" % name.title())\n",
        "    # Each value is itself a list, so we need another for loop\n",
        "    #  to work with the list.\n",
        "    for favorite_number in favorite_numbers[name]:\n",
        "        print(favorite_number)        "
      ],
      "execution_count": 28,
      "outputs": [
        {
          "output_type": "stream",
          "text": [
            "\n",
            "Eric's favorite numbers are:\n",
            "3\n",
            "11\n",
            "19\n",
            "23\n",
            "42\n",
            "\n",
            "Ever's favorite numbers are:\n",
            "2\n",
            "4\n",
            "5\n",
            "\n",
            "Willie's favorite numbers are:\n",
            "5\n",
            "35\n",
            "120\n"
          ],
          "name": "stdout"
        }
      ]
    },
    {
      "metadata": {
        "id": "EG5h4qv_Lw8e",
        "colab_type": "text",
        "slideshow": {
          "slide_type": "subslide"
        }
      },
      "cell_type": "markdown",
      "source": [
        "Things get a little more complicated inside the for loop. The value is a list of favorite numbers, so the for loop pulls each *favorite\\_number* out of the list one at a time. If it makes more sense to you, you are free to store the list in a new variable, and use that to define your for loop:\n"
      ]
    },
    {
      "metadata": {
        "id": "xTObLHjnLw8f",
        "colab_type": "code",
        "slideshow": {
          "slide_type": "fragment"
        },
        "colab": {
          "autoexec": {
            "startup": false,
            "wait_interval": 0
          },
          "base_uri": "https://localhost:8080/",
          "height": 306
        },
        "outputId": "534cefa9-6148-4450-bdcf-dd3a84909645",
        "executionInfo": {
          "status": "ok",
          "timestamp": 1530740588141,
          "user_tz": -330,
          "elapsed": 922,
          "user": {
            "displayName": "Mayank Sharma",
            "photoUrl": "https://lh3.googleusercontent.com/a/default-user=s128",
            "userId": "103040418612071322155"
          }
        }
      },
      "cell_type": "code",
      "source": [
        "# This program stores people's favorite numbers, and displays them.\n",
        "favorite_numbers = {'eric': [3, 11, 19, 23, 42],\n",
        "                    'ever': [2, 4, 5],\n",
        "                    'willie': [5, 35, 120],\n",
        "                    }\n",
        "\n",
        "# Display each person's favorite numbers.\n",
        "for name in favorite_numbers:\n",
        "    print(\"\\n%s's favorite numbers are:\" % name.title())\n",
        "    \n",
        "    # Each value is itself a list, so let's put that list in a variable.\n",
        "    current_favorite_numbers = favorite_numbers[name]\n",
        "    for favorite_number in current_favorite_numbers:\n",
        "        print(favorite_number)        "
      ],
      "execution_count": 29,
      "outputs": [
        {
          "output_type": "stream",
          "text": [
            "\n",
            "Eric's favorite numbers are:\n",
            "3\n",
            "11\n",
            "19\n",
            "23\n",
            "42\n",
            "\n",
            "Ever's favorite numbers are:\n",
            "2\n",
            "4\n",
            "5\n",
            "\n",
            "Willie's favorite numbers are:\n",
            "5\n",
            "35\n",
            "120\n"
          ],
          "name": "stdout"
        }
      ]
    },
    {
      "metadata": {
        "id": "b3yhSm-RLw8h",
        "colab_type": "text",
        "slideshow": {
          "slide_type": "skip"
        }
      },
      "cell_type": "markdown",
      "source": [
        "[top](#top)"
      ]
    },
    {
      "metadata": {
        "id": "5ILLKjn5Lw8i",
        "colab_type": "text",
        "slideshow": {
          "slide_type": "slide"
        }
      },
      "cell_type": "markdown",
      "source": [
        "<a name='dictionaries_in_dictionary'></a>Dictionaries in a dictionary\n",
        "---\n",
        "The most powerful nesting concept we will cover right now is nesting a dictionary inside of a dictionary.\n",
        "\n",
        "To demonstrate this, let's make a dictionary of pets, with some information about each pet. The keys for this dictionary will consist of the pet's name. The values will include information such as the kind of animal, the owner, and whether the pet has been vaccinated."
      ]
    },
    {
      "metadata": {
        "id": "wUmB7wuSLw8i",
        "colab_type": "code",
        "slideshow": {
          "slide_type": "subslide"
        },
        "colab": {
          "autoexec": {
            "startup": false,
            "wait_interval": 0
          }
        },
        "outputId": "02d47c2d-d52c-4bce-a941-c9f9501eff01"
      },
      "cell_type": "code",
      "source": [
        "# This program stores information about pets. For each pet,\n",
        "#   we store the kind of animal, the owner's name, and\n",
        "#   the breed.\n",
        "pets = {'willie': {'kind': 'dog', 'owner': 'eric', 'vaccinated': True},\n",
        "        'walter': {'kind': 'cockroach', 'owner': 'eric', 'vaccinated': False},\n",
        "        'peso': {'kind': 'dog', 'owner': 'chloe', 'vaccinated': True},\n",
        "        }\n",
        "\n",
        "# Let's show all the information for each pet.\n",
        "print(\"Here is what I know about Willie:\")\n",
        "print(\"kind: \" + pets['willie']['kind'])\n",
        "print(\"owner: \" + pets['willie']['owner'])\n",
        "print(\"vaccinated: \" + str(pets['willie']['vaccinated']))\n",
        "\n",
        "print(\"\\nHere is what I know about Walter:\")\n",
        "print(\"kind: \" + pets['walter']['kind'])\n",
        "print(\"owner: \" + pets['walter']['owner'])\n",
        "print(\"vaccinated: \" + str(pets['walter']['vaccinated']))\n",
        "\n",
        "print(\"\\nHere is what I know about Peso:\")\n",
        "print(\"kind: \" + pets['peso']['kind'])\n",
        "print(\"owner: \" + pets['peso']['owner'])\n",
        "print(\"vaccinated: \" + str(pets['peso']['vaccinated']))"
      ],
      "execution_count": 0,
      "outputs": [
        {
          "output_type": "stream",
          "text": [
            "Here is what I know about Willie:\n",
            "kind: dog\n",
            "owner: eric\n",
            "vaccinated: True\n",
            "\n",
            "Here is what I know about Walter:\n",
            "kind: cockroach\n",
            "owner: eric\n",
            "vaccinated: False\n",
            "\n",
            "Here is what I know about Peso:\n",
            "kind: dog\n",
            "owner: chloe\n",
            "vaccinated: True\n"
          ],
          "name": "stdout"
        }
      ]
    },
    {
      "metadata": {
        "id": "JAYXnehuLw8l",
        "colab_type": "text",
        "slideshow": {
          "slide_type": "subslide"
        }
      },
      "cell_type": "markdown",
      "source": [
        "Clearly this is some repetitive code, but it shows exactly how we access information in a nested dictionary. In the first set of `print` statements, we use the name 'willie' to unlock the 'kind' of animal he is, the 'owner' he has, and whether or not he is 'vaccinated'. We have to wrap the vaccination value in the `str` function so that Python knows we want the words 'True' and 'False', not the values `True` and `False`. We then do the same thing for each animal.\n",
        "\n",
        "Let's rewrite this program, using a for loop to go through the dictionary's keys:"
      ]
    },
    {
      "metadata": {
        "id": "XGkgLukjLw8m",
        "colab_type": "code",
        "slideshow": {
          "slide_type": "fragment"
        },
        "colab": {
          "autoexec": {
            "startup": false,
            "wait_interval": 0
          }
        },
        "outputId": "88907617-c66a-439f-e890-11ed6c0bde46"
      },
      "cell_type": "code",
      "source": [
        "# This program stores information about pets. For each pet,\n",
        "#   we store the kind of animal, the owner's name, and\n",
        "#   the breed.\n",
        "pets = {'willie': {'kind': 'dog', 'owner': 'eric', 'vaccinated': True},\n",
        "        'walter': {'kind': 'cockroach', 'owner': 'eric', 'vaccinated': False},\n",
        "        'peso': {'kind': 'dog', 'owner': 'chloe', 'vaccinated': True},\n",
        "        }\n",
        "\n",
        "# Let's show all the information for each pet.\n",
        "for pet_name, pet_information in pets.items():\n",
        "    print(\"\\nHere is what I know about %s:\" % pet_name.title())\n",
        "    print(\"kind: \" + pet_information['kind'])\n",
        "    print(\"owner: \" + pet_information['owner'])\n",
        "    print(\"vaccinated: \" + str(pet_information['vaccinated']))"
      ],
      "execution_count": 0,
      "outputs": [
        {
          "output_type": "stream",
          "text": [
            "\n",
            "Here is what I know about Peso:\n",
            "kind: dog\n",
            "owner: chloe\n",
            "vaccinated: True\n",
            "\n",
            "Here is what I know about Willie:\n",
            "kind: dog\n",
            "owner: eric\n",
            "vaccinated: True\n",
            "\n",
            "Here is what I know about Walter:\n",
            "kind: cockroach\n",
            "owner: eric\n",
            "vaccinated: False\n"
          ],
          "name": "stdout"
        }
      ]
    },
    {
      "metadata": {
        "id": "UYgb6zBdLw8o",
        "colab_type": "text",
        "slideshow": {
          "slide_type": "subslide"
        }
      },
      "cell_type": "markdown",
      "source": [
        "This code is much shorter and easier to maintain. But even this code will not keep up with our dictionary. If we add more information to the dictionary later, we will have to update our print statements. Let's put a second for loop inside the first loop in order to run through all the information about each pet:"
      ]
    },
    {
      "metadata": {
        "id": "hrvZPPVULw8p",
        "colab_type": "code",
        "slideshow": {
          "slide_type": "fragment"
        },
        "colab": {
          "autoexec": {
            "startup": false,
            "wait_interval": 0
          }
        },
        "outputId": "56f8df45-242d-4387-effe-221d03e45572"
      },
      "cell_type": "code",
      "source": [
        "# This program stores information about pets. For each pet,\n",
        "#   we store the kind of animal, the owner's name, and\n",
        "#   the breed.\n",
        "pets = {'willie': {'kind': 'dog', 'owner': 'eric', 'vaccinated': True},\n",
        "        'walter': {'kind': 'cockroach', 'owner': 'eric', 'vaccinated': False},\n",
        "        'peso': {'kind': 'dog', 'owner': 'chloe', 'vaccinated': True},\n",
        "        }\n",
        "\n",
        "# Let's show all the information for each pet.\n",
        "for pet_name, pet_information in pets.items():\n",
        "    print(\"\\nHere is what I know about %s:\" % pet_name.title())\n",
        "    # Each animal's dictionary is in 'information'\n",
        "    for key in pet_information:\n",
        "        print(key + \": \" + str(pet_information[key]))"
      ],
      "execution_count": 0,
      "outputs": [
        {
          "output_type": "stream",
          "text": [
            "\n",
            "Here is what I know about Peso:\n",
            "owner: chloe\n",
            "kind: dog\n",
            "vaccinated: True\n",
            "\n",
            "Here is what I know about Willie:\n",
            "owner: eric\n",
            "kind: dog\n",
            "vaccinated: True\n",
            "\n",
            "Here is what I know about Walter:\n",
            "owner: eric\n",
            "kind: cockroach\n",
            "vaccinated: False\n"
          ],
          "name": "stdout"
        }
      ]
    },
    {
      "metadata": {
        "id": "07FzhJsCLw8r",
        "colab_type": "text",
        "slideshow": {
          "slide_type": "subslide"
        }
      },
      "cell_type": "markdown",
      "source": [
        "This nested loop can look pretty complicated, so again, don't worry if it doesn't make sense for a while.\n",
        "\n",
        "- The first loop gives us all the keys in the main dictionary, which consist of the name of each pet.\n",
        "- Each of these names can be used to 'unlock' the dictionary of each pet.\n",
        "- The inner loop goes through the dictionary for that individual pet, and pulls out all of the keys in that individual pet's dictionary.\n",
        "- We print the key, which tells us the kind of information we are about to see, and the value for that key.\n",
        "- You can see that we could improve the formatting in the output.\n",
        "    - We could capitalize the owner's name.\n",
        "    - We could print 'yes' or 'no', instead of True and False.\n",
        "    \n"
      ]
    },
    {
      "metadata": {
        "id": "QzuutKYsLw8s",
        "colab_type": "text",
        "slideshow": {
          "slide_type": "fragment"
        }
      },
      "cell_type": "markdown",
      "source": [
        "Let's show one last version that uses some if statements to clean up our data for printing:"
      ]
    },
    {
      "metadata": {
        "id": "FHOi51NyLw8t",
        "colab_type": "code",
        "slideshow": {
          "slide_type": "subslide"
        },
        "colab": {
          "autoexec": {
            "startup": false,
            "wait_interval": 0
          }
        },
        "outputId": "3f48ba96-6387-4d3a-f494-f048a57e4a10"
      },
      "cell_type": "code",
      "source": [
        "# This program stores information about pets. For each pet,\n",
        "#   we store the kind of animal, the owner's name, and\n",
        "#   the breed.\n",
        "pets = {'willie': {'kind': 'dog', 'owner': 'eric', 'vaccinated': True},\n",
        "        'walter': {'kind': 'cockroach', 'owner': 'eric', 'vaccinated': False},\n",
        "        'peso': {'kind': 'dog', 'owner': 'chloe', 'vaccinated': True},\n",
        "        }\n",
        "\n",
        "# Let's show all the information for each pet.\n",
        "for pet_name, pet_information in pets.items():\n",
        "    print(\"\\nHere is what I know about %s:\" % pet_name.title())\n",
        "    # Each animal's dictionary is in pet_information\n",
        "    for key in pet_information:\n",
        "        if key == 'owner':\n",
        "            # Capitalize the owner's name.\n",
        "            print(key + \": \" + pet_information[key].title())\n",
        "        elif key == 'vaccinated':\n",
        "            # Print 'yes' for True, and 'no' for False.\n",
        "            vaccinated = pet_information['vaccinated']\n",
        "            if vaccinated:\n",
        "                print('vaccinated: yes')\n",
        "            else:\n",
        "                print('vaccinated: no')\n",
        "        else:\n",
        "            # No special formatting needed for this key.\n",
        "            print(key + \": \" + pet_information[key])"
      ],
      "execution_count": 0,
      "outputs": [
        {
          "output_type": "stream",
          "text": [
            "\n",
            "Here is what I know about Peso:\n",
            "kind: dog\n",
            "vaccinated: yes\n",
            "owner: Chloe\n",
            "\n",
            "Here is what I know about Walter:\n",
            "kind: cockroach\n",
            "vaccinated: no\n",
            "owner: Eric\n",
            "\n",
            "Here is what I know about Willie:\n",
            "kind: dog\n",
            "vaccinated: yes\n",
            "owner: Eric\n"
          ],
          "name": "stdout"
        }
      ]
    },
    {
      "metadata": {
        "id": "WsrFYs6mLw8v",
        "colab_type": "text",
        "slideshow": {
          "slide_type": "fragment"
        }
      },
      "cell_type": "markdown",
      "source": [
        "This code is a lot longer, and now we have nested if statements as well as nested for loops. But keep in mind, this structure would work if there were 1000 pets in our dictionary, and it would work if we were storing 1000 pieces of information about each pet. One level of nesting lets us model an incredible array of information."
      ]
    },
    {
      "metadata": {
        "id": "JEOLweWFLw8w",
        "colab_type": "text",
        "slideshow": {
          "slide_type": "subslide"
        }
      },
      "cell_type": "markdown",
      "source": [
        "<a name='important_note'></a>An important note about nesting\n",
        "---\n",
        "While one level of nesting is really useful, nesting much deeper than that gets really complicated, really quickly. There are other structures such as classes which can be even more useful for modeling information. In addition to this, we can use Python to store information in a database, which is the proper tool for storing deeply nested information.\n",
        "\n",
        "Often times when you are storing information in a database you will pull a small set of that information out and put it into a dictionary, or a slightly nested structure, and then work with it. But you will rarely, if ever, work with Python data structures nested more than one level deep."
      ]
    },
    {
      "metadata": {
        "id": "sqQpyAv0Lw8w",
        "colab_type": "text",
        "slideshow": {
          "slide_type": "skip"
        }
      },
      "cell_type": "markdown",
      "source": [
        "<a name='exercises_nesting'></a>Exercises\n",
        "---\n",
        "#### Mountain Heights 3\n",
        "- This is an extension of [Mountain Heights](#exercise_mountain_heights). Make sure you save this program under a different filename, such as *mountain\\_heights_3.py*, so that you can go back to your original program if you need to.\n",
        "    - The list of [tallest mountains in the world](http://en.wikipedia.org/wiki/List_of_mountains_by_elevation) provided all elevations in meters. Convert each of these elevations to feet, given that a meter is approximately 3.28 feet. You can do these calculations by hand at this point.\n",
        "    - Create a new dictionary, where the keys of the dictionary are still the mountains' names. This time however, the values of the dictionary should be a list of each mountain's elevation in meters, and then in feet: {'everest': [8848, 29029]}\n",
        "    - Print out just the mountains' names, by looping through the keys of your dictionary.\n",
        "    - Print out just the mountains' elevations in meters, by looping through the values of your dictionary and pulling out the first number from each list.\n",
        "    - Print out just the mountains' elevations in feet, by looping through the values of your dictionary and pulling out the second number from each list.\n",
        "    - Print out a series of statements telling how tall each mountain is: \"Everest is 8848 meters tall, or 29029 feet.\"\n",
        "- Bonus:\n",
        "    - Start with your original program from [Mountain Heights](#exercise_mountain_heights). Write a function that reads through the elevations in meters, and returns a list of elevations in feet. Use this list to create the nested dictionary described above.\n",
        "\n",
        "#### Mountain Heights 4\n",
        "- This is one more extension of Mountain Heights.\n",
        "    - Create a new dictionary, where the keys of the dictionary are once again the mountains' names. This time, the values of the dictionary are another dictionary. This dictionary should contain the elevation in either meters or feet, and the range that contains the mountain. For example: {'everest': {'elevation': 8848, 'range': 'himalaya'}}.\n",
        "    - Print out just the mountains' names.\n",
        "    - Print out just the mountains' elevations.\n",
        "    - Print out just the range for each mountain.\n",
        "    - Print out a series of statements that say everything you know about each mountain: \"Everest is an 8848-meter tall mountain in the Himalaya range.\""
      ]
    },
    {
      "metadata": {
        "id": "lDE7gBNyLw8w",
        "colab_type": "code",
        "slideshow": {
          "slide_type": "skip"
        },
        "colab": {
          "autoexec": {
            "startup": false,
            "wait_interval": 0
          }
        }
      },
      "cell_type": "code",
      "source": [
        "# Ex 7.7 : Mountain Heights 3\n",
        "\n",
        "# put your code here"
      ],
      "execution_count": 0,
      "outputs": []
    },
    {
      "metadata": {
        "id": "lkcxJwG0Lw8x",
        "colab_type": "code",
        "slideshow": {
          "slide_type": "skip"
        },
        "colab": {
          "autoexec": {
            "startup": false,
            "wait_interval": 0
          }
        }
      },
      "cell_type": "code",
      "source": [
        "# Ex 7.8 : Mountain Heights 4\n",
        "\n",
        "# put your code here"
      ],
      "execution_count": 0,
      "outputs": []
    },
    {
      "metadata": {
        "id": "lmjv2y7nLw8y",
        "colab_type": "text",
        "slideshow": {
          "slide_type": "skip"
        }
      },
      "cell_type": "markdown",
      "source": [
        "[top](#top)"
      ]
    },
    {
      "metadata": {
        "id": "ZFPPzZvOLw8z",
        "colab_type": "text",
        "slideshow": {
          "slide_type": "skip"
        }
      },
      "cell_type": "markdown",
      "source": [
        "<a name='overall_challenges'></a>Overall Challenges\n",
        "===\n",
        "#### Word Wall\n",
        "- A word wall is a place on your wall where you keep track of the new words and meanings you are learning. Write a terminal app that lets you enter new words, and a meaning for each word.\n",
        "    - Your app should have a title bar that says the name of your program.\n",
        "    - Your program should give users the option to see all words and meanings that have been entered so far.\n",
        "    - Your program should give users the option to enter a new word and meaning.\n",
        "        - Your program must not allow duplicate entries.\n",
        "    - Your program should store existing words and meanings, even after the program closes.\n",
        "    - Your program should give users the option to modify an existing meaning.\n",
        "- Bonus Features\n",
        "    - Allow users to modify the spelling of words.\n",
        "    - Allow users to categorize words.\n",
        "    - Turn the program into a game that quizzes users on words and meanings.\n",
        "    - (later on) Turn your program into a website that only you can use.\n",
        "    - (later on) Turn your program into a website that anyone can register for, and use.\n",
        "    - Add a visualization feature that reports on some statistics about the words and meanings that have been entered.\n",
        "\n",
        "#### Periodic Table App\n",
        "- The [Periodic Table](http://www.ptable.com/) of the Elements was developed to organize information about the elements that make up the Universe. Write a terminal app that lets you enter information about each element in the periodic table.\n",
        "    - Make sure you include the following information:\n",
        "        - symbol, name, atomic number, row, and column\n",
        "    - Choose at least one other piece of information to include in your app.\n",
        "    - Provide a menu of options for users to:\n",
        "        - See all the information that is stored about any element, by entering that element's symbol.\n",
        "        - Choose a property, and see that property for each element in the table.\n",
        "- Bonus Features\n",
        "    - Provide an option to view the symbols arranged like the periodic table. ([hint](#hints_periodic_table))"
      ]
    },
    {
      "metadata": {
        "id": "K2TPRv_ALw8z",
        "colab_type": "code",
        "slideshow": {
          "slide_type": "skip"
        },
        "colab": {
          "autoexec": {
            "startup": false,
            "wait_interval": 0
          }
        }
      },
      "cell_type": "code",
      "source": [
        "# Challenge: Word Wall\n",
        "\n",
        "# put your code here"
      ],
      "execution_count": 0,
      "outputs": []
    },
    {
      "metadata": {
        "id": "4zzRBk4bLw80",
        "colab_type": "code",
        "slideshow": {
          "slide_type": "skip"
        },
        "colab": {
          "autoexec": {
            "startup": false,
            "wait_interval": 0
          }
        }
      },
      "cell_type": "code",
      "source": [
        "# Challenge: Periodic Table App\n",
        "\n",
        "# put your code here"
      ],
      "execution_count": 0,
      "outputs": []
    },
    {
      "metadata": {
        "id": "cvspTgRILw81",
        "colab_type": "text",
        "slideshow": {
          "slide_type": "skip"
        }
      },
      "cell_type": "markdown",
      "source": [
        "[top](#top)"
      ]
    },
    {
      "metadata": {
        "id": "ItEmCjioLw82",
        "colab_type": "text",
        "slideshow": {
          "slide_type": "skip"
        }
      },
      "cell_type": "markdown",
      "source": [
        "Hints\n",
        "===\n",
        "#### <a name='hints_periodic_table'></a>Periodic Table App\n",
        "- You can use a for loop to loop through each element. Pick out the elements' row numbers and column numbers.\n",
        "- Use two nested for loops to print either an element's symbol or a series of spaces, depending on how full that row is."
      ]
    }
  ]
}