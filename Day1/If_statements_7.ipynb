{
  "nbformat": 4,
  "nbformat_minor": 0,
  "metadata": {
    "colab": {
      "name": "If_statements_7.ipynb",
      "version": "0.3.2",
      "views": {},
      "default_view": {},
      "provenance": [],
      "collapsed_sections": [
        "63zVx4fSHjez",
        "SIfY9W4NHje7",
        "eEVl-l5UHjfK",
        "RG6MHmSiHjfP",
        "J17ZAGiNHjfa",
        "LDdVC8nWHjfk"
      ]
    },
    "kernelspec": {
      "display_name": "Python 3",
      "language": "python",
      "name": "python3"
    }
  },
  "cells": [
    {
      "metadata": {
        "id": "Q_9D09COHjc4",
        "colab_type": "text",
        "slideshow": {
          "slide_type": "slide"
        }
      },
      "cell_type": "markdown",
      "source": [
        "# If Statements"
      ]
    },
    {
      "metadata": {
        "id": "DXJUbkDSHjdC",
        "colab_type": "text",
        "slideshow": {
          "slide_type": "fragment"
        }
      },
      "cell_type": "markdown",
      "source": [
        "By allowing you to respond selectively to different situations and conditions, if statements open up whole new possibilities for your programs. In this section, you will learn how to test for certain conditions, and then respond in appropriate ways to those conditions."
      ]
    },
    {
      "metadata": {
        "id": "22Qi67XIHjdJ",
        "colab_type": "text",
        "slideshow": {
          "slide_type": "skip"
        }
      },
      "cell_type": "markdown",
      "source": [
        "# <a name=\"top\"></a>Contents\n",
        "\n",
        "- [What is an *if* statement?](#what)\n",
        "    - [Example](#example)\n",
        "- [Logical tests](#logical_tests)\n",
        "    - [Equality](#equality)\n",
        "    - [Inequality](#inequality)\n",
        "    - [Other inequalities](#other_inequalities)\n",
        "    - [Checking if an item is in a list](#in_list)\n",
        "    - [Exercises](#exercises_logical_tests)\n",
        "- [The if-elif...else chain](#if-elif-else)\n",
        "    - [Simple if statements](#simple_if)\n",
        "    - [if-else statements](#if-else)\n",
        "    - [if-elif...else chains](#if-elif-else_chains)\n",
        "    - [Exercises](#exercises_if-elif-else)\n",
        "- [More than one passing test](#more_than_one)\n",
        "- [True and False values](#true_false)\n",
        "- [Overall Challenges](#overall_challenges)"
      ]
    },
    {
      "metadata": {
        "id": "Zs2l-IVNHjdN",
        "colab_type": "text",
        "slideshow": {
          "slide_type": "slide"
        }
      },
      "cell_type": "markdown",
      "source": [
        "<a name='what'></a>What is an *if* statement?\n",
        "===\n",
        "An *if* statement tests for a condition, and then responds to that condition. If the condition is true, then whatever action is listed next gets carried out. You can test for multiple conditions at the same time, and respond appropriately to each condition."
      ]
    },
    {
      "metadata": {
        "id": "rc7bkzq6HjdQ",
        "colab_type": "text",
        "slideshow": {
          "slide_type": "subslide"
        }
      },
      "cell_type": "markdown",
      "source": [
        "<a name='example'></a>Example\n",
        "---\n",
        "Here is an example that shows a number of the desserts I like. It lists those desserts, but lets you know which one is my favorite."
      ]
    },
    {
      "metadata": {
        "id": "82vZmd7fHjdS",
        "colab_type": "code",
        "slideshow": {
          "slide_type": "-"
        },
        "colab": {
          "autoexec": {
            "startup": false,
            "wait_interval": 0
          },
          "base_uri": "https://localhost:8080/",
          "height": 85
        },
        "outputId": "722129dd-06be-48f8-feaf-1ed0fd77a243",
        "executionInfo": {
          "status": "ok",
          "timestamp": 1530738458937,
          "user_tz": -330,
          "elapsed": 908,
          "user": {
            "displayName": "Mayank Sharma",
            "photoUrl": "https://lh3.googleusercontent.com/a/default-user=s128",
            "userId": "103040418612071322155"
          }
        }
      },
      "cell_type": "code",
      "source": [
        "# A list of desserts I like.\n",
        "desserts = ['ice cream', 'chocolate', 'apple crisp', 'cookies']\n",
        "favorite_dessert = 'apple crisp'\n",
        "\n",
        "# Print the desserts out, but let everyone know my favorite dessert.\n",
        "for dessert in desserts:\n",
        "    if dessert == favorite_dessert:\n",
        "        # This dessert is my favorite, let's let everyone know!\n",
        "        print(\"%s is my favorite dessert!\" % dessert.title())\n",
        "    else:\n",
        "        # I like these desserts, but they are not my favorite.\n",
        "        print(\"I like %s but they are not my favourite.\" % dessert)"
      ],
      "execution_count": 2,
      "outputs": [
        {
          "output_type": "stream",
          "text": [
            "I like ice cream but they are not my favourite.\n",
            "I like chocolate but they are not my favourite.\n",
            "Apple Crisp is my favorite dessert!\n",
            "I like cookies but they are not my favourite.\n"
          ],
          "name": "stdout"
        }
      ]
    },
    {
      "metadata": {
        "id": "JAv-FHP1Hjdh",
        "colab_type": "text",
        "slideshow": {
          "slide_type": "subslide"
        }
      },
      "cell_type": "markdown",
      "source": [
        "#### What happens in this program?\n",
        "\n",
        "- The program starts out with a list of desserts, and one dessert is identified as a favorite.\n",
        "- The for loop runs through all the desserts.\n",
        "- Inside the for loop, each item in the list is tested.\n",
        "    - If the current value of *dessert* is equal to the value of *favorite_dessert*, a message is printed that this is my favorite.\n",
        "    - If the current value of *dessert* is not equal to the value of *favorite_dessert*, a message is printed that I just like the dessert.\n",
        "    \n",
        "You can test as many conditions as you want in an if statement, as you will see in a little bit."
      ]
    },
    {
      "metadata": {
        "id": "mvUdyHtOHjdk",
        "colab_type": "text",
        "slideshow": {
          "slide_type": "skip"
        }
      },
      "cell_type": "markdown",
      "source": [
        "[top](#top)"
      ]
    },
    {
      "metadata": {
        "id": "a4s18jvaHjdm",
        "colab_type": "text",
        "slideshow": {
          "slide_type": "slide"
        }
      },
      "cell_type": "markdown",
      "source": [
        "<a name='logical_tests'></a>Logical Tests\n",
        "===\n",
        "Every if statement evaluates to *True* or *False*. *True* and *False* are Python keywords, which have special meanings attached to them. You can test for the following conditions in your if statements:\n",
        "\n",
        "- [equality](#equality) (==)\n",
        "- [inequality](#inequality) (!=)\n",
        "- [other inequalities](#other_inequalities)\n",
        "    - greater than (>)\n",
        "    - greater than or equal to (>=)\n",
        "    - less than (<)\n",
        "    - less than or equal to (<=)\n",
        "- [You can test if an item is **in** a list.](#in_list)"
      ]
    },
    {
      "metadata": {
        "id": "-P9cs2CyHjdr",
        "colab_type": "text",
        "slideshow": {
          "slide_type": "slide"
        }
      },
      "cell_type": "markdown",
      "source": [
        "<a name='equality'></a>Equality\n",
        "---"
      ]
    },
    {
      "metadata": {
        "id": "y-3glnT7Hjds",
        "colab_type": "text",
        "slideshow": {
          "slide_type": "fragment"
        }
      },
      "cell_type": "markdown",
      "source": [
        "Two items are *equal* if they have the same value. You can test for equality between numbers, strings, and a number of other objects which you will learn about later. Some of these results may be surprising, so take a careful look at the examples below."
      ]
    },
    {
      "metadata": {
        "id": "HoP6VISzHjdu",
        "colab_type": "text",
        "slideshow": {
          "slide_type": "fragment"
        }
      },
      "cell_type": "markdown",
      "source": [
        "In Python, as in many programming languages, two equals signs tests for equality."
      ]
    },
    {
      "metadata": {
        "id": "VUClY5tEHjdw",
        "colab_type": "text",
        "slideshow": {
          "slide_type": "fragment"
        }
      },
      "cell_type": "markdown",
      "source": [
        "**Watch out!** Be careful of accidentally using one equals sign, which can really throw things off because that one equals sign actually sets your item to the value you are testing for!"
      ]
    },
    {
      "metadata": {
        "id": "gqViWi26Hjdz",
        "colab_type": "text",
        "slideshow": {
          "slide_type": "subslide"
        }
      },
      "cell_type": "markdown",
      "source": [
        "# Examples"
      ]
    },
    {
      "metadata": {
        "id": "jzv_o-InHjd1",
        "colab_type": "code",
        "slideshow": {
          "slide_type": "subslide"
        },
        "colab": {
          "autoexec": {
            "startup": false,
            "wait_interval": 0
          }
        },
        "outputId": "4c928394-4cf1-4393-dbc1-b6190de20b5f"
      },
      "cell_type": "code",
      "source": [
        "5 == 5"
      ],
      "execution_count": 0,
      "outputs": [
        {
          "output_type": "execute_result",
          "data": {
            "text/plain": [
              "True"
            ]
          },
          "metadata": {
            "tags": []
          },
          "execution_count": 2
        }
      ]
    },
    {
      "metadata": {
        "id": "Asg4IPZWHjd_",
        "colab_type": "code",
        "slideshow": {
          "slide_type": "fragment"
        },
        "colab": {
          "autoexec": {
            "startup": false,
            "wait_interval": 0
          }
        },
        "outputId": "78203645-2794-4cca-c8aa-572ce7edc380"
      },
      "cell_type": "code",
      "source": [
        "3 == 5 "
      ],
      "execution_count": 0,
      "outputs": [
        {
          "output_type": "execute_result",
          "data": {
            "text/plain": [
              "False"
            ]
          },
          "metadata": {
            "tags": []
          },
          "execution_count": 4
        }
      ]
    },
    {
      "metadata": {
        "id": "XRV44wf6HjeE",
        "colab_type": "code",
        "slideshow": {
          "slide_type": "fragment"
        },
        "colab": {
          "autoexec": {
            "startup": false,
            "wait_interval": 0
          }
        },
        "outputId": "cd15407f-bdb3-4a1b-9ed7-8b8fc748fa61"
      },
      "cell_type": "code",
      "source": [
        "5 == 5.0"
      ],
      "execution_count": 0,
      "outputs": [
        {
          "output_type": "execute_result",
          "data": {
            "text/plain": [
              "True"
            ]
          },
          "metadata": {
            "tags": []
          },
          "execution_count": 24
        }
      ]
    },
    {
      "metadata": {
        "id": "XKKBUN3iHjeI",
        "colab_type": "code",
        "slideshow": {
          "slide_type": "fragment"
        },
        "colab": {
          "autoexec": {
            "startup": false,
            "wait_interval": 0
          }
        },
        "outputId": "a50a928c-36da-4cc5-a969-076223ff6b95"
      },
      "cell_type": "code",
      "source": [
        "'eric' == 'eric'"
      ],
      "execution_count": 0,
      "outputs": [
        {
          "output_type": "execute_result",
          "data": {
            "text/plain": [
              "True"
            ]
          },
          "metadata": {
            "tags": []
          },
          "execution_count": 8
        }
      ]
    },
    {
      "metadata": {
        "id": "wDDqFA7qHjeO",
        "colab_type": "code",
        "slideshow": {
          "slide_type": "fragment"
        },
        "colab": {
          "autoexec": {
            "startup": false,
            "wait_interval": 0
          }
        },
        "outputId": "dfc474ca-f7d9-44f3-db04-a78b2867ca3b"
      },
      "cell_type": "code",
      "source": [
        "'Eric' == 'eric'"
      ],
      "execution_count": 0,
      "outputs": [
        {
          "output_type": "execute_result",
          "data": {
            "text/plain": [
              "False"
            ]
          },
          "metadata": {
            "tags": []
          },
          "execution_count": 9
        }
      ]
    },
    {
      "metadata": {
        "id": "Fqhyf1cdHjeT",
        "colab_type": "code",
        "slideshow": {
          "slide_type": "fragment"
        },
        "colab": {
          "autoexec": {
            "startup": false,
            "wait_interval": 0
          }
        },
        "outputId": "eee9c845-d967-423f-fcbd-6c55494c5005"
      },
      "cell_type": "code",
      "source": [
        "'Eric'.lower() == 'eric'.lower()"
      ],
      "execution_count": 0,
      "outputs": [
        {
          "output_type": "execute_result",
          "data": {
            "text/plain": [
              "True"
            ]
          },
          "metadata": {
            "tags": []
          },
          "execution_count": 10
        }
      ]
    },
    {
      "metadata": {
        "id": "BL55ASW_HjeX",
        "colab_type": "code",
        "slideshow": {
          "slide_type": "fragment"
        },
        "colab": {
          "autoexec": {
            "startup": false,
            "wait_interval": 0
          }
        },
        "outputId": "397b8a29-fc04-4458-a506-aef8123f9c4f"
      },
      "cell_type": "code",
      "source": [
        "'5' == 5"
      ],
      "execution_count": 0,
      "outputs": [
        {
          "output_type": "execute_result",
          "data": {
            "text/plain": [
              "False"
            ]
          },
          "metadata": {
            "tags": []
          },
          "execution_count": 11
        }
      ]
    },
    {
      "metadata": {
        "id": "GqyD1JXXHjec",
        "colab_type": "code",
        "slideshow": {
          "slide_type": "fragment"
        },
        "colab": {
          "autoexec": {
            "startup": false,
            "wait_interval": 0
          }
        },
        "outputId": "b11fada2-c17b-4f08-f424-b2124adf112a"
      },
      "cell_type": "code",
      "source": [
        "'5' == str(5)"
      ],
      "execution_count": 0,
      "outputs": [
        {
          "output_type": "execute_result",
          "data": {
            "text/plain": [
              "True"
            ]
          },
          "metadata": {
            "tags": []
          },
          "execution_count": 12
        }
      ]
    },
    {
      "metadata": {
        "id": "9ayD_0EsHjeg",
        "colab_type": "text",
        "slideshow": {
          "slide_type": "skip"
        }
      },
      "cell_type": "markdown",
      "source": [
        "[top](#top)"
      ]
    },
    {
      "metadata": {
        "id": "bsdcOzkOHjeg",
        "colab_type": "text",
        "slideshow": {
          "slide_type": "subslide"
        }
      },
      "cell_type": "markdown",
      "source": [
        "<a name='inequality'></a>Inequality\n",
        "---"
      ]
    },
    {
      "metadata": {
        "id": "NV4JZfUlHjeh",
        "colab_type": "text",
        "slideshow": {
          "slide_type": "fragment"
        }
      },
      "cell_type": "markdown",
      "source": [
        "Two items are *inequal* if they do not have the same value. In Python, we test for inequality using the exclamation point and one equals sign.\n",
        "\n",
        "Sometimes you want to test for equality and if that fails, assume inequality. Sometimes it makes more sense to test for inequality directly."
      ]
    },
    {
      "metadata": {
        "id": "EBxmKBlUHjei",
        "colab_type": "code",
        "slideshow": {
          "slide_type": "subslide"
        },
        "colab": {
          "autoexec": {
            "startup": false,
            "wait_interval": 0
          }
        },
        "outputId": "ea109e74-3caa-4719-8ceb-f256d1bba828"
      },
      "cell_type": "code",
      "source": [
        "3 != 5"
      ],
      "execution_count": 0,
      "outputs": [
        {
          "output_type": "execute_result",
          "data": {
            "text/plain": [
              "True"
            ]
          },
          "metadata": {
            "tags": []
          },
          "execution_count": 13
        }
      ]
    },
    {
      "metadata": {
        "id": "YL0bAUVZHjem",
        "colab_type": "code",
        "slideshow": {
          "slide_type": "fragment"
        },
        "colab": {
          "autoexec": {
            "startup": false,
            "wait_interval": 0
          }
        },
        "outputId": "506d80a6-7a2b-4847-dac2-8b4e57a3093d"
      },
      "cell_type": "code",
      "source": [
        "5 != 5"
      ],
      "execution_count": 0,
      "outputs": [
        {
          "output_type": "execute_result",
          "data": {
            "text/plain": [
              "False"
            ]
          },
          "metadata": {
            "tags": []
          },
          "execution_count": 14
        }
      ]
    },
    {
      "metadata": {
        "id": "6gNB1Z1LHjer",
        "colab_type": "code",
        "slideshow": {
          "slide_type": "fragment"
        },
        "colab": {
          "autoexec": {
            "startup": false,
            "wait_interval": 0
          }
        },
        "outputId": "e19fcb94-b7d1-48f1-89f4-403e42c8381c"
      },
      "cell_type": "code",
      "source": [
        "'Eric' != 'eric'"
      ],
      "execution_count": 0,
      "outputs": [
        {
          "output_type": "execute_result",
          "data": {
            "text/plain": [
              "True"
            ]
          },
          "metadata": {
            "tags": []
          },
          "execution_count": 18
        }
      ]
    },
    {
      "metadata": {
        "id": "j0UfDF1yHjew",
        "colab_type": "text",
        "slideshow": {
          "slide_type": "skip"
        }
      },
      "cell_type": "markdown",
      "source": [
        "[top](#top)"
      ]
    },
    {
      "metadata": {
        "id": "aZnvFZagHjex",
        "colab_type": "text",
        "slideshow": {
          "slide_type": "slide"
        }
      },
      "cell_type": "markdown",
      "source": [
        "<a name='other_inequalities'></a>Other Inequalities\n",
        "---"
      ]
    },
    {
      "metadata": {
        "id": "63zVx4fSHjez",
        "colab_type": "text",
        "slideshow": {
          "slide_type": "subslide"
        }
      },
      "cell_type": "markdown",
      "source": [
        "### greater than"
      ]
    },
    {
      "metadata": {
        "id": "2Em9x1JUHje1",
        "colab_type": "code",
        "slideshow": {
          "slide_type": "-"
        },
        "colab": {
          "autoexec": {
            "startup": false,
            "wait_interval": 0
          }
        },
        "outputId": "40692fb0-2479-4d9d-8520-822d6679c690"
      },
      "cell_type": "code",
      "source": [
        "5 > 3"
      ],
      "execution_count": 0,
      "outputs": [
        {
          "output_type": "execute_result",
          "data": {
            "text/plain": [
              "True"
            ]
          },
          "metadata": {
            "tags": []
          },
          "execution_count": 16
        }
      ]
    },
    {
      "metadata": {
        "id": "SIfY9W4NHje7",
        "colab_type": "text",
        "slideshow": {
          "slide_type": "subslide"
        }
      },
      "cell_type": "markdown",
      "source": [
        "### greater than or equal to"
      ]
    },
    {
      "metadata": {
        "id": "ovP2yNZqHje9",
        "colab_type": "code",
        "slideshow": {
          "slide_type": "-"
        },
        "colab": {
          "autoexec": {
            "startup": false,
            "wait_interval": 0
          }
        },
        "outputId": "664d655b-f688-4655-9f64-aa51091af029"
      },
      "cell_type": "code",
      "source": [
        "5 >= 3"
      ],
      "execution_count": 0,
      "outputs": [
        {
          "output_type": "execute_result",
          "data": {
            "text/plain": [
              "True"
            ]
          },
          "metadata": {
            "tags": []
          },
          "execution_count": 19
        }
      ]
    },
    {
      "metadata": {
        "id": "06UYxWt3HjfE",
        "colab_type": "code",
        "slideshow": {
          "slide_type": "fragment"
        },
        "colab": {
          "autoexec": {
            "startup": false,
            "wait_interval": 0
          }
        },
        "outputId": "7cbd3928-c9c4-4ec1-9cf9-cbf2b3876b41"
      },
      "cell_type": "code",
      "source": [
        "3 >= 3"
      ],
      "execution_count": 0,
      "outputs": [
        {
          "output_type": "execute_result",
          "data": {
            "text/plain": [
              "True"
            ]
          },
          "metadata": {
            "tags": []
          },
          "execution_count": 20
        }
      ]
    },
    {
      "metadata": {
        "id": "eEVl-l5UHjfK",
        "colab_type": "text",
        "slideshow": {
          "slide_type": "subslide"
        }
      },
      "cell_type": "markdown",
      "source": [
        "### less than"
      ]
    },
    {
      "metadata": {
        "id": "OtBrqryLHjfL",
        "colab_type": "code",
        "colab": {
          "autoexec": {
            "startup": false,
            "wait_interval": 0
          }
        },
        "outputId": "efd153ff-77ac-4491-f713-bcc8cac02a3c"
      },
      "cell_type": "code",
      "source": [
        "3 < 5"
      ],
      "execution_count": 0,
      "outputs": [
        {
          "output_type": "execute_result",
          "data": {
            "text/plain": [
              "True"
            ]
          },
          "metadata": {
            "tags": []
          },
          "execution_count": 21
        }
      ]
    },
    {
      "metadata": {
        "id": "RG6MHmSiHjfP",
        "colab_type": "text",
        "slideshow": {
          "slide_type": "subslide"
        }
      },
      "cell_type": "markdown",
      "source": [
        "### less than or equal to"
      ]
    },
    {
      "metadata": {
        "id": "ZBkpZgt4HjfQ",
        "colab_type": "code",
        "colab": {
          "autoexec": {
            "startup": false,
            "wait_interval": 0
          }
        },
        "outputId": "caec3de6-e20d-442b-e1f5-c91ee1b5232c"
      },
      "cell_type": "code",
      "source": [
        "3 <= 5"
      ],
      "execution_count": 0,
      "outputs": [
        {
          "output_type": "execute_result",
          "data": {
            "text/plain": [
              "True"
            ]
          },
          "metadata": {
            "tags": []
          },
          "execution_count": 22
        }
      ]
    },
    {
      "metadata": {
        "id": "K57taXafHjfV",
        "colab_type": "code",
        "slideshow": {
          "slide_type": "fragment"
        },
        "colab": {
          "autoexec": {
            "startup": false,
            "wait_interval": 0
          }
        },
        "outputId": "5e61573a-0a91-4d53-8457-df1fdd7ea2e4"
      },
      "cell_type": "code",
      "source": [
        "3 <= 3"
      ],
      "execution_count": 0,
      "outputs": [
        {
          "output_type": "execute_result",
          "data": {
            "text/plain": [
              "True"
            ]
          },
          "metadata": {
            "tags": []
          },
          "execution_count": 23
        }
      ]
    },
    {
      "metadata": {
        "id": "tE4GmGIpHjfZ",
        "colab_type": "text",
        "slideshow": {
          "slide_type": "skip"
        }
      },
      "cell_type": "markdown",
      "source": [
        "[top](#top)"
      ]
    },
    {
      "metadata": {
        "id": "J17ZAGiNHjfa",
        "colab_type": "text",
        "slideshow": {
          "slide_type": "slide"
        }
      },
      "cell_type": "markdown",
      "source": [
        "<a name='in_list'></a>Checking if an item is **in** a list\n",
        "---\n",
        "You can check if an item is in a list using the **in** keyword."
      ]
    },
    {
      "metadata": {
        "id": "MWjrA7P8Hjfc",
        "colab_type": "code",
        "slideshow": {
          "slide_type": "fragment"
        },
        "colab": {
          "autoexec": {
            "startup": false,
            "wait_interval": 0
          }
        },
        "outputId": "68a63ebc-0a7d-4a84-839c-a2a19b0e3f3e"
      },
      "cell_type": "code",
      "source": [
        "vowels = ['a', 'e', 'i', 'o', 'u']\n",
        "'a' in vowels"
      ],
      "execution_count": 0,
      "outputs": [
        {
          "output_type": "execute_result",
          "data": {
            "text/plain": [
              "True"
            ]
          },
          "metadata": {
            "tags": []
          },
          "execution_count": 25
        }
      ]
    },
    {
      "metadata": {
        "id": "1mSrpCVhHjfg",
        "colab_type": "code",
        "slideshow": {
          "slide_type": "fragment"
        },
        "colab": {
          "autoexec": {
            "startup": false,
            "wait_interval": 0
          }
        },
        "outputId": "3bcb7490-0336-4cca-9d2a-cf301be9f1fe"
      },
      "cell_type": "code",
      "source": [
        "vowels = ['a', 'e', 'i', 'o', 'u']\n",
        "'b' in vowels"
      ],
      "execution_count": 0,
      "outputs": [
        {
          "output_type": "execute_result",
          "data": {
            "text/plain": [
              "False"
            ]
          },
          "metadata": {
            "tags": []
          },
          "execution_count": 26
        }
      ]
    },
    {
      "metadata": {
        "id": "LDdVC8nWHjfk",
        "colab_type": "text",
        "slideshow": {
          "slide_type": "skip"
        }
      },
      "cell_type": "markdown",
      "source": [
        "<a name='exercises_logical_tests'></a>Exercises\n",
        "---\n",
        "#### True and False\n",
        "- Write a program that consists of at least ten lines, each of which has a logical statement on it. The output of your program should be 5 **True**s and 5 **False**s.\n",
        "- Note: You will probably need to write `print(5 > 3)`, not just `5 > 3`."
      ]
    },
    {
      "metadata": {
        "id": "xlz5fAsRHjfl",
        "colab_type": "code",
        "slideshow": {
          "slide_type": "skip"
        },
        "colab": {
          "autoexec": {
            "startup": false,
            "wait_interval": 0
          }
        }
      },
      "cell_type": "code",
      "source": [
        "# Ex 5.1 : True and False\n",
        "\n",
        "# put your code here"
      ],
      "execution_count": 0,
      "outputs": []
    },
    {
      "metadata": {
        "id": "_0VfamGjHjfn",
        "colab_type": "text",
        "slideshow": {
          "slide_type": "skip"
        }
      },
      "cell_type": "markdown",
      "source": [
        "[top](#top)"
      ]
    },
    {
      "metadata": {
        "id": "H95E7pwbHjfp",
        "colab_type": "text",
        "slideshow": {
          "slide_type": "slide"
        }
      },
      "cell_type": "markdown",
      "source": [
        "<a name='if-elif-else'></a>The if-elif...else chain\n",
        "===\n",
        "You can test whatever series of conditions you want to, and you can test your conditions in any combination you want."
      ]
    },
    {
      "metadata": {
        "id": "NNsbKx9OHjfq",
        "colab_type": "text",
        "slideshow": {
          "slide_type": "subslide"
        }
      },
      "cell_type": "markdown",
      "source": [
        "<a name='simple_if'></a>Simple if statements\n",
        "---\n",
        "The simplest test has a single **if** statement, and a single statement to execute if the condition is **True**."
      ]
    },
    {
      "metadata": {
        "id": "9sv8OaxlHjfr",
        "colab_type": "code",
        "slideshow": {
          "slide_type": "fragment"
        },
        "colab": {
          "autoexec": {
            "startup": false,
            "wait_interval": 0
          }
        },
        "outputId": "7639ceef-bed5-49fd-84d3-5fbb4668dab0"
      },
      "cell_type": "code",
      "source": [
        "dogs = ['willie', 'hootz', 'peso', 'juno']\n",
        "\n",
        "if len(dogs) > 3:\n",
        "    print(\"Wow, we have a lot of dogs here!\")"
      ],
      "execution_count": 0,
      "outputs": [
        {
          "output_type": "stream",
          "text": [
            "Wow, we have a lot of dogs here!\n"
          ],
          "name": "stdout"
        }
      ]
    },
    {
      "metadata": {
        "id": "JNK47falHjfv",
        "colab_type": "text",
        "slideshow": {
          "slide_type": "subslide"
        }
      },
      "cell_type": "markdown",
      "source": [
        "In this situation, nothing happens if the test does not pass."
      ]
    },
    {
      "metadata": {
        "id": "alF7rBWoHjfv",
        "colab_type": "code",
        "slideshow": {
          "slide_type": "fragment"
        },
        "colab": {
          "autoexec": {
            "startup": false,
            "wait_interval": 0
          }
        }
      },
      "cell_type": "code",
      "source": [
        "dogs = ['willie', 'hootz']\n",
        "\n",
        "if len(dogs) > 3:\n",
        "    print(\"Wow, we have a lot of dogs here!\")"
      ],
      "execution_count": 0,
      "outputs": []
    },
    {
      "metadata": {
        "id": "K2hStHVSHjfy",
        "colab_type": "text",
        "slideshow": {
          "slide_type": "fragment"
        }
      },
      "cell_type": "markdown",
      "source": [
        "Notice that there are no errors. The condition `len(dogs) > 3` evaluates to False, and the program moves on to any lines after the **if** block."
      ]
    },
    {
      "metadata": {
        "id": "f4SEo2c0Hjfy",
        "colab_type": "text",
        "slideshow": {
          "slide_type": "subslide"
        }
      },
      "cell_type": "markdown",
      "source": [
        "<a name='if-else'></a>if-else statements\n",
        "---\n",
        "Many times you will want to respond in two possible ways to a test. If the test evaluates to **True**, you will want to do one thing. If the test evaluates to **False**, you will want to do something else. The **if-else** structure lets you do that easily. Here's what it looks like:"
      ]
    },
    {
      "metadata": {
        "id": "-dqr1KEEHjfz",
        "colab_type": "code",
        "slideshow": {
          "slide_type": "fragment"
        },
        "colab": {
          "autoexec": {
            "startup": false,
            "wait_interval": 0
          }
        },
        "outputId": "107b2df2-1a40-49e6-9e1b-2b9b96dab6cb"
      },
      "cell_type": "code",
      "source": [
        "dogs = ['willie', 'hootz', 'peso', 'juno']\n",
        "\n",
        "if len(dogs) > 3:\n",
        "    print(\"Wow, we have a lot of dogs here!\")\n",
        "else:\n",
        "    print(\"Okay, this is a reasonable number of dogs.\")"
      ],
      "execution_count": 0,
      "outputs": [
        {
          "output_type": "stream",
          "text": [
            "Wow, we have a lot of dogs here!\n"
          ],
          "name": "stdout"
        }
      ]
    },
    {
      "metadata": {
        "id": "6xO4QCN4Hjf3",
        "colab_type": "text",
        "slideshow": {
          "slide_type": "subslide"
        }
      },
      "cell_type": "markdown",
      "source": [
        "Our results have not changed in this case, because if the test evaluates to **True** only the statements under the **if** statement are executed. The statements under **else** area only executed if the test fails:"
      ]
    },
    {
      "metadata": {
        "id": "XHPrAi0wHjf3",
        "colab_type": "code",
        "slideshow": {
          "slide_type": "fragment"
        },
        "colab": {
          "autoexec": {
            "startup": false,
            "wait_interval": 0
          }
        },
        "outputId": "24615528-1f5e-4ac9-8cd9-09e4aedbbda5"
      },
      "cell_type": "code",
      "source": [
        "dogs = ['willie', 'hootz']\n",
        "\n",
        "if len(dogs) > 3:\n",
        "    print(\"Wow, we have a lot of dogs here!\")\n",
        "else:\n",
        "    print(\"Okay, this is a reasonable number of dogs.\")"
      ],
      "execution_count": 0,
      "outputs": [
        {
          "output_type": "stream",
          "text": [
            "Okay, this is a reasonable number of dogs.\n"
          ],
          "name": "stdout"
        }
      ]
    },
    {
      "metadata": {
        "id": "NyF7TsJLHjf7",
        "colab_type": "text",
        "slideshow": {
          "slide_type": "fragment"
        }
      },
      "cell_type": "markdown",
      "source": [
        "The test evaluated to **False**, so only the statement under `else` is run."
      ]
    },
    {
      "metadata": {
        "id": "2pAW9GbDHjf7",
        "colab_type": "text",
        "slideshow": {
          "slide_type": "subslide"
        }
      },
      "cell_type": "markdown",
      "source": [
        "<a name='if-elif-else_chains'></a>if-elif...else chains\n",
        "---\n",
        "Many times, you will want to test a series of conditions, rather than just an either-or situation. You can do this with a series of if-elif-else statements\n",
        "\n",
        "There is no limit to how many conditions you can test. You always need one if statement to start the chain, and you can never have more than one else statement. But you can have as many elif statements as you want."
      ]
    },
    {
      "metadata": {
        "id": "Hb3qVwC0Hjf8",
        "colab_type": "code",
        "slideshow": {
          "slide_type": "fragment"
        },
        "colab": {
          "autoexec": {
            "startup": false,
            "wait_interval": 0
          }
        },
        "outputId": "516f863e-84c4-4a85-e2a5-0717e095234e"
      },
      "cell_type": "code",
      "source": [
        "dogs = ['willie', 'hootz', 'peso', 'monty', 'juno', 'turkey']\n",
        "\n",
        "if len(dogs) >= 5:\n",
        "    print(\"Holy mackerel, we might as well start a dog hostel!\")\n",
        "elif len(dogs) >= 3:\n",
        "    print(\"Wow, we have a lot of dogs here!\")\n",
        "else:\n",
        "    print(\"Okay, this is a reasonable number of dogs.\")"
      ],
      "execution_count": 0,
      "outputs": [
        {
          "output_type": "stream",
          "text": [
            "Holy mackerel, we might as well start a dog hostel!\n"
          ],
          "name": "stdout"
        }
      ]
    },
    {
      "metadata": {
        "id": "mzue4RSlHjgA",
        "colab_type": "text",
        "slideshow": {
          "slide_type": "subslide"
        }
      },
      "cell_type": "markdown",
      "source": [
        "It is important to note that in situations like this, only the first test is evaluated. In an if-elif-else chain, once a test passes the rest of the conditions are ignored."
      ]
    },
    {
      "metadata": {
        "id": "2eImOWQFHjgA",
        "colab_type": "code",
        "slideshow": {
          "slide_type": "fragment"
        },
        "colab": {
          "autoexec": {
            "startup": false,
            "wait_interval": 0
          }
        },
        "outputId": "4671c587-0dca-4a12-8fe4-7bb6cb6ee088"
      },
      "cell_type": "code",
      "source": [
        "dogs = ['willie', 'hootz', 'peso', 'monty']\n",
        "\n",
        "if len(dogs) >= 5:\n",
        "    print(\"Holy mackerel, we might as well start a dog hostel!\")\n",
        "elif len(dogs) >= 3:\n",
        "    print(\"Wow, we have a lot of dogs here!\")\n",
        "else:\n",
        "    print(\"Okay, this is a reasonable number of dogs.\")"
      ],
      "execution_count": 0,
      "outputs": [
        {
          "output_type": "stream",
          "text": [
            "Wow, we have a lot of dogs here!\n"
          ],
          "name": "stdout"
        }
      ]
    },
    {
      "metadata": {
        "id": "s6L1snMSHjgD",
        "colab_type": "text",
        "slideshow": {
          "slide_type": "subslide"
        }
      },
      "cell_type": "markdown",
      "source": [
        "The first test failed, so Python evaluated the second test. That test passed, so the statement corresponding to `len(dogs) >= 3` is executed."
      ]
    },
    {
      "metadata": {
        "id": "aNuuALTEHjgE",
        "colab_type": "code",
        "slideshow": {
          "slide_type": "fragment"
        },
        "colab": {
          "autoexec": {
            "startup": false,
            "wait_interval": 0
          }
        },
        "outputId": "39ecdd35-c718-4931-d855-55edfd7d07e5"
      },
      "cell_type": "code",
      "source": [
        "dogs = ['willie', 'hootz']\n",
        "\n",
        "if len(dogs) >= 5:\n",
        "    print(\"Holy mackerel, we might as well start a dog hostel!\")\n",
        "elif len(dogs) >= 3:\n",
        "    print(\"Wow, we have a lot of dogs here!\")\n",
        "else:\n",
        "    print(\"Okay, this is a reasonable number of dogs.\")"
      ],
      "execution_count": 0,
      "outputs": [
        {
          "output_type": "stream",
          "text": [
            "Okay, this is a reasonable number of dogs.\n"
          ],
          "name": "stdout"
        }
      ]
    },
    {
      "metadata": {
        "id": "DRUaXloQHjgI",
        "colab_type": "text",
        "slideshow": {
          "slide_type": "subslide"
        }
      },
      "cell_type": "markdown",
      "source": [
        "In this situation, the first two tests fail, so the statement in the else clause is executed. Note that this statement would be executed even if there are no dogs at all:"
      ]
    },
    {
      "metadata": {
        "id": "kAdrtm9lHjgJ",
        "colab_type": "code",
        "slideshow": {
          "slide_type": "fragment"
        },
        "colab": {
          "autoexec": {
            "startup": false,
            "wait_interval": 0
          }
        },
        "outputId": "9585af1b-e029-40fb-ff28-b3b3c00007e8"
      },
      "cell_type": "code",
      "source": [
        "dogs = []\n",
        "\n",
        "if len(dogs) >= 5:\n",
        "    print(\"Holy mackerel, we might as well start a dog hostel!\")\n",
        "elif len(dogs) >= 3:\n",
        "    print(\"Wow, we have a lot of dogs here!\")\n",
        "else:\n",
        "    print(\"Okay, this is a reasonable number of dogs.\")"
      ],
      "execution_count": 0,
      "outputs": [
        {
          "output_type": "stream",
          "text": [
            "Okay, this is a reasonable number of dogs.\n"
          ],
          "name": "stdout"
        }
      ]
    },
    {
      "metadata": {
        "id": "Tlv6Zx_MHjgL",
        "colab_type": "text",
        "slideshow": {
          "slide_type": "subslide"
        }
      },
      "cell_type": "markdown",
      "source": [
        "Note that you don't have to take any action at all when you start a series of if statements. You could simply do nothing in the situation that there are no dogs by replacing the `else` clause with another `elif` clause:"
      ]
    },
    {
      "metadata": {
        "id": "w88tdekwHjgM",
        "colab_type": "code",
        "slideshow": {
          "slide_type": "fragment"
        },
        "colab": {
          "autoexec": {
            "startup": false,
            "wait_interval": 0
          }
        }
      },
      "cell_type": "code",
      "source": [
        "###highlight=[8]\n",
        "dogs = []\n",
        "\n",
        "if len(dogs) >= 5:\n",
        "    print(\"Holy mackerel, we might as well start a dog hostel!\")\n",
        "elif len(dogs) >= 3:\n",
        "    print(\"Wow, we have a lot of dogs here!\")\n",
        "elif len(dogs) >= 1:\n",
        "    print(\"Okay, this is a reasonable number of dogs.\")"
      ],
      "execution_count": 0,
      "outputs": []
    },
    {
      "metadata": {
        "id": "9-1cq6n4HjgN",
        "colab_type": "text",
        "slideshow": {
          "slide_type": "subslide"
        }
      },
      "cell_type": "markdown",
      "source": [
        "In this case, we only print a message if there is at least one dog present. Of course, you could add a new `else` clause to respond to the situation in which there are no dogs at all:"
      ]
    },
    {
      "metadata": {
        "id": "uUj1frApHjgO",
        "colab_type": "code",
        "slideshow": {
          "slide_type": "fragment"
        },
        "colab": {
          "autoexec": {
            "startup": false,
            "wait_interval": 0
          }
        },
        "outputId": "bd77e367-297a-409e-c4d1-b400b5ca53be"
      },
      "cell_type": "code",
      "source": [
        "###highlight=[10,11]\n",
        "dogs = []\n",
        "\n",
        "if len(dogs) >= 5:\n",
        "    print(\"Holy mackerel, we might as well start a dog hostel!\")\n",
        "elif len(dogs) >= 3:\n",
        "    print(\"Wow, we have a lot of dogs here!\")\n",
        "elif len(dogs) >= 1:\n",
        "    print(\"Okay, this is a reasonable number of dogs.\")\n",
        "else:\n",
        "    print(\"I wish we had a dog here.\")"
      ],
      "execution_count": 0,
      "outputs": [
        {
          "output_type": "stream",
          "text": [
            "I wish we had a dog here.\n"
          ],
          "name": "stdout"
        }
      ]
    },
    {
      "metadata": {
        "id": "8BToIhOsHjgQ",
        "colab_type": "text",
        "slideshow": {
          "slide_type": "fragment"
        }
      },
      "cell_type": "markdown",
      "source": [
        "As you can see, the if-elif-else chain lets you respond in very specific ways to any given situation."
      ]
    },
    {
      "metadata": {
        "id": "OOnc1NKeHjgR",
        "colab_type": "text",
        "slideshow": {
          "slide_type": "skip"
        }
      },
      "cell_type": "markdown",
      "source": [
        "<a name='exercises_if-elif-else'></a>Exercises\n",
        "---\n",
        "#### Three is a Crowd\n",
        "- Make a list of names that includes at least four people.\n",
        "- Write an if test that prints a message about the room being crowded, if there are more than three people in your list.\n",
        "- Modify your list so that there are only two people in it. Use one of the methods for removing people from the list, don't just redefine the list.\n",
        "- Run your if test again. There should be no output this time, because there are less than three people in the list.\n",
        "- **Bonus:** Store your if test in a function called something like `crowd_test`.\n",
        "\n",
        "#### Three is a Crowd - Part 2\n",
        "- Save your program from *Three is a Crowd* under a new name.\n",
        "- Add an `else` statement to your if tests. If the `else` statement is run, have it print a message that the room is not very crowded.\n",
        "\n",
        "#### Six is a Mob\n",
        "- Save your program from *Three is a Crowd - Part 2* under a new name.\n",
        "- Add some names to your list, so that there are at least six people in the list.\n",
        "- Modify your tests so that\n",
        "    - If there are more than 5 people, a message is printed about there being a mob in the room.\n",
        "    - If there are 3-5 people, a message is printed about the room being crowded.\n",
        "    - If there are 1 or 2 people, a message is printed about the room not being crowded.\n",
        "    - If there are no people in the room, a message is printed abou the room being empty."
      ]
    },
    {
      "metadata": {
        "id": "po98_QhZHjgS",
        "colab_type": "code",
        "slideshow": {
          "slide_type": "skip"
        },
        "colab": {
          "autoexec": {
            "startup": false,
            "wait_interval": 0
          }
        }
      },
      "cell_type": "code",
      "source": [
        "# Ex 5.2 : Three is a Crowd\n",
        "\n",
        "# put your code here"
      ],
      "execution_count": 0,
      "outputs": []
    },
    {
      "metadata": {
        "id": "c8SE4Fv-HjgT",
        "colab_type": "code",
        "slideshow": {
          "slide_type": "skip"
        },
        "colab": {
          "autoexec": {
            "startup": false,
            "wait_interval": 0
          }
        }
      },
      "cell_type": "code",
      "source": [
        "# Ex 5.3 : Three is a Crowd - Part 2\n",
        "\n",
        "# put your code here"
      ],
      "execution_count": 0,
      "outputs": []
    },
    {
      "metadata": {
        "id": "8tpU4EwDHjgU",
        "colab_type": "code",
        "slideshow": {
          "slide_type": "skip"
        },
        "colab": {
          "autoexec": {
            "startup": false,
            "wait_interval": 0
          }
        }
      },
      "cell_type": "code",
      "source": [
        "# Ex 5.4 : Six is a Mob\n",
        "\n",
        "# put your code here"
      ],
      "execution_count": 0,
      "outputs": []
    },
    {
      "metadata": {
        "id": "AKS6WBK4HjgV",
        "colab_type": "text",
        "slideshow": {
          "slide_type": "skip"
        }
      },
      "cell_type": "markdown",
      "source": [
        "[top](#top)"
      ]
    },
    {
      "metadata": {
        "id": "vKYFj2gHHjgW",
        "colab_type": "text",
        "slideshow": {
          "slide_type": "slide"
        }
      },
      "cell_type": "markdown",
      "source": [
        "<a name='more_than_one'></a>More than one passing test\n",
        "===\n",
        "In all of the examples we have seen so far, only one test can pass. As soon as the first test passes, the rest of the tests are ignored. This is really good, because it allows our code to run more efficiently. Many times only one condition can be true, so testing every condition after one passes would be meaningless.\n",
        "\n",
        "There are situations in which you want to run a series of tests, where every single test runs. These are situations where any or all of the tests could pass, and you want to respond to each passing test. Consider the following example, where we want to greet each dog that is present:"
      ]
    },
    {
      "metadata": {
        "id": "zg95OVCZHjgW",
        "colab_type": "code",
        "slideshow": {
          "slide_type": "subslide"
        },
        "colab": {
          "autoexec": {
            "startup": false,
            "wait_interval": 0
          }
        },
        "outputId": "52c79c77-b8af-42f3-d29f-e7f47044c019"
      },
      "cell_type": "code",
      "source": [
        "dogs = ['willie', 'hootz']\n",
        "\n",
        "if 'willie' in dogs:\n",
        "    print(\"Hello, Willie!\")\n",
        "if 'hootz' in dogs:\n",
        "    print(\"Hello, Hootz!\")\n",
        "if 'peso' in dogs:\n",
        "    print(\"Hello, Peso!\")\n",
        "if 'monty' in dogs:\n",
        "    print(\"Hello, Monty!\")"
      ],
      "execution_count": 0,
      "outputs": [
        {
          "output_type": "stream",
          "text": [
            "Hello, Willie!\n",
            "Hello, Hootz!\n"
          ],
          "name": "stdout"
        }
      ]
    },
    {
      "metadata": {
        "id": "xD6hxHm6HjgY",
        "colab_type": "text",
        "slideshow": {
          "slide_type": "subslide"
        }
      },
      "cell_type": "markdown",
      "source": [
        "If we had done this using an if-elif-else chain, only the first dog that is present would be greeted:"
      ]
    },
    {
      "metadata": {
        "id": "ihayD4WCHjgY",
        "colab_type": "code",
        "slideshow": {
          "slide_type": "fragment"
        },
        "colab": {
          "autoexec": {
            "startup": false,
            "wait_interval": 0
          }
        },
        "outputId": "173efa4b-8e86-49da-b1a8-29410ba47d66"
      },
      "cell_type": "code",
      "source": [
        "###highlight=[6,7,8,9,10,11]\n",
        "dogs = ['willie', 'hootz']\n",
        "\n",
        "if 'willie' in dogs:\n",
        "    print(\"Hello, Willie!\")\n",
        "elif 'hootz' in dogs:\n",
        "    print(\"Hello, Hootz!\")\n",
        "elif 'peso' in dogs:\n",
        "    print(\"Hello, Peso!\")\n",
        "elif 'monty' in dogs:\n",
        "    print(\"Hello, Monty!\")"
      ],
      "execution_count": 0,
      "outputs": [
        {
          "output_type": "stream",
          "text": [
            "Hello, Willie!\n"
          ],
          "name": "stdout"
        }
      ]
    },
    {
      "metadata": {
        "id": "lG5jaRJLHjga",
        "colab_type": "text",
        "slideshow": {
          "slide_type": "subslide"
        }
      },
      "cell_type": "markdown",
      "source": [
        "Of course, this could be written much more cleanly using lists and for loops. See if you can follow this code."
      ]
    },
    {
      "metadata": {
        "id": "Izdw814SHjga",
        "colab_type": "code",
        "slideshow": {
          "slide_type": "fragment"
        },
        "colab": {
          "autoexec": {
            "startup": false,
            "wait_interval": 0
          }
        },
        "outputId": "d2c01f2d-d495-472a-9cc3-b4976a199fbc"
      },
      "cell_type": "code",
      "source": [
        "dogs_we_know = ['willie', 'hootz', 'peso', 'monty', 'juno', 'turkey']\n",
        "dogs_present = ['willie', 'hootz']\n",
        "\n",
        "# Go through all the dogs that are present, and greet the dogs we know.\n",
        "for dog in dogs_present:\n",
        "    if dog in dogs_we_know:\n",
        "        print(\"Hello, %s!\" % dog.title())"
      ],
      "execution_count": 0,
      "outputs": [
        {
          "output_type": "stream",
          "text": [
            "Hello, Willie!\n",
            "Hello, Hootz!\n"
          ],
          "name": "stdout"
        }
      ]
    },
    {
      "metadata": {
        "id": "KCnkE93QHjgc",
        "colab_type": "text",
        "slideshow": {
          "slide_type": "fragment"
        }
      },
      "cell_type": "markdown",
      "source": [
        "This is the kind of code you should be aiming to write. It is fine to come up with code that is less efficient at first. When you notice yourself writing the same kind of code repeatedly in one program, look to see if you can use a loop or a function to make your code more efficient."
      ]
    },
    {
      "metadata": {
        "id": "y0n9SWVzHjgc",
        "colab_type": "text"
      },
      "cell_type": "markdown",
      "source": [
        "# ADD LOGICAL OPERATORS"
      ]
    },
    {
      "metadata": {
        "id": "PIvqD0MNHjgc",
        "colab_type": "text",
        "slideshow": {
          "slide_type": "skip"
        }
      },
      "cell_type": "markdown",
      "source": [
        "[top](#top)"
      ]
    },
    {
      "metadata": {
        "id": "uQF_ol1qHjgd",
        "colab_type": "text",
        "slideshow": {
          "slide_type": "slide"
        }
      },
      "cell_type": "markdown",
      "source": [
        "<a name=\"true_false\"></a>True and False values\n",
        "===\n",
        "Every value can be evaluated as True or False. The general rule is that any non-zero or non-empty value will evaluate to True. If you are ever unsure, you can open a Python terminal and write two lines to find out if the value you are considering is True or False."
      ]
    },
    {
      "metadata": {
        "id": "S_WumHQsHjgd",
        "colab_type": "text",
        "slideshow": {
          "slide_type": "fragment"
        }
      },
      "cell_type": "markdown",
      "source": [
        "Take a look at the following examples, keep them in mind, and test any value you are curious about."
      ]
    },
    {
      "metadata": {
        "id": "aYwC1CMKHjgd",
        "colab_type": "text",
        "slideshow": {
          "slide_type": "subslide"
        }
      },
      "cell_type": "markdown",
      "source": [
        "I am using a slightly longer test just to make sure something gets printed each time."
      ]
    },
    {
      "metadata": {
        "id": "jB2lUqWkHjge",
        "colab_type": "code",
        "slideshow": {
          "slide_type": "fragment"
        },
        "colab": {
          "autoexec": {
            "startup": false,
            "wait_interval": 0
          }
        },
        "outputId": "d7096353-8efe-4061-950f-bb36d558bbe0"
      },
      "cell_type": "code",
      "source": [
        "if 0:\n",
        "    print(\"This evaluates to True.\")\n",
        "else:\n",
        "    print(\"This evaluates to False.\")"
      ],
      "execution_count": 0,
      "outputs": [
        {
          "output_type": "stream",
          "text": [
            "This evaluates to False.\n"
          ],
          "name": "stdout"
        }
      ]
    },
    {
      "metadata": {
        "id": "6imVy3siHjgh",
        "colab_type": "code",
        "slideshow": {
          "slide_type": "fragment"
        },
        "colab": {
          "autoexec": {
            "startup": false,
            "wait_interval": 0
          }
        },
        "outputId": "79beb685-e374-422e-ed70-e5a967738813"
      },
      "cell_type": "code",
      "source": [
        "if 1:\n",
        "    print(\"This evaluates to True.\")\n",
        "else:\n",
        "    print(\"This evaluates to False.\")"
      ],
      "execution_count": 0,
      "outputs": [
        {
          "output_type": "stream",
          "text": [
            "This evaluates to True.\n"
          ],
          "name": "stdout"
        }
      ]
    },
    {
      "metadata": {
        "id": "H4xcl4juHjgl",
        "colab_type": "code",
        "slideshow": {
          "slide_type": "subslide"
        },
        "colab": {
          "autoexec": {
            "startup": false,
            "wait_interval": 0
          }
        },
        "outputId": "aaad9e6a-3245-4f29-96fe-6df4a547f4ac"
      },
      "cell_type": "code",
      "source": [
        "# Arbitrary non-zero numbers evaluate to True.\n",
        "if 1253756:\n",
        "    print(\"This evaluates to True.\")\n",
        "else:\n",
        "    print(\"This evaluates to False.\")"
      ],
      "execution_count": 0,
      "outputs": [
        {
          "output_type": "stream",
          "text": [
            "This evaluates to True.\n"
          ],
          "name": "stdout"
        }
      ]
    },
    {
      "metadata": {
        "id": "XQL40Yq4Hjgr",
        "colab_type": "code",
        "slideshow": {
          "slide_type": "fragment"
        },
        "colab": {
          "autoexec": {
            "startup": false,
            "wait_interval": 0
          }
        },
        "outputId": "a91deedc-87ef-4ce4-9122-4bde11008e9b"
      },
      "cell_type": "code",
      "source": [
        "# Negative numbers are not zero, so they evaluate to True.\n",
        "if -1:\n",
        "    print(\"This evaluates to True.\")\n",
        "else:\n",
        "    print(\"This evaluates to False.\")"
      ],
      "execution_count": 0,
      "outputs": [
        {
          "output_type": "stream",
          "text": [
            "This evaluates to True.\n"
          ],
          "name": "stdout"
        }
      ]
    },
    {
      "metadata": {
        "id": "1O9nqBMMHjgw",
        "colab_type": "code",
        "slideshow": {
          "slide_type": "subslide"
        },
        "colab": {
          "autoexec": {
            "startup": false,
            "wait_interval": 0
          }
        },
        "outputId": "b5a9ae3f-65a3-45bf-a1b1-cfc7a30364e8"
      },
      "cell_type": "code",
      "source": [
        "# An empty string evaluates to False.\n",
        "if '':\n",
        "    print(\"This evaluates to True.\")\n",
        "else:\n",
        "    print(\"This evaluates to False.\")"
      ],
      "execution_count": 0,
      "outputs": [
        {
          "output_type": "stream",
          "text": [
            "This evaluates to False.\n"
          ],
          "name": "stdout"
        }
      ]
    },
    {
      "metadata": {
        "id": "pkLrb7KfHjgz",
        "colab_type": "code",
        "slideshow": {
          "slide_type": "fragment"
        },
        "colab": {
          "autoexec": {
            "startup": false,
            "wait_interval": 0
          }
        },
        "outputId": "416f8d5e-949a-4e79-de40-e9b87a072e07"
      },
      "cell_type": "code",
      "source": [
        "# Any other string, including a space, evaluates to True.\n",
        "if ' ':\n",
        "    print(\"This evaluates to True.\")\n",
        "else:\n",
        "    print(\"This evaluates to False.\")"
      ],
      "execution_count": 0,
      "outputs": [
        {
          "output_type": "stream",
          "text": [
            "This evaluates to True.\n"
          ],
          "name": "stdout"
        }
      ]
    },
    {
      "metadata": {
        "id": "gvAU7ujPHjg3",
        "colab_type": "code",
        "slideshow": {
          "slide_type": "subslide"
        },
        "colab": {
          "autoexec": {
            "startup": false,
            "wait_interval": 0
          }
        },
        "outputId": "46c9f851-e8f9-47cf-c8bc-a01e38d2a14d"
      },
      "cell_type": "code",
      "source": [
        "# Any other string, including a space, evaluates to True.\n",
        "if 'hello':\n",
        "    print(\"This evaluates to True.\")\n",
        "else:\n",
        "    print(\"This evaluates to False.\")"
      ],
      "execution_count": 0,
      "outputs": [
        {
          "output_type": "stream",
          "text": [
            "This evaluates to True.\n"
          ],
          "name": "stdout"
        }
      ]
    },
    {
      "metadata": {
        "id": "7pGSVAmqHjg6",
        "colab_type": "code",
        "slideshow": {
          "slide_type": "fragment"
        },
        "colab": {
          "autoexec": {
            "startup": false,
            "wait_interval": 0
          }
        },
        "outputId": "4b8038dd-7d03-47c2-c282-23ea1fc6a908"
      },
      "cell_type": "code",
      "source": [
        "# None is a special object in Python. It evaluates to False.\n",
        "if None:\n",
        "    print(\"This evaluates to True.\")\n",
        "else:\n",
        "    print(\"This evaluates to False.\")"
      ],
      "execution_count": 0,
      "outputs": [
        {
          "output_type": "stream",
          "text": [
            "This evaluates to False.\n"
          ],
          "name": "stdout"
        }
      ]
    },
    {
      "metadata": {
        "id": "uug1T7ENHjg9",
        "colab_type": "text",
        "slideshow": {
          "slide_type": "skip"
        }
      },
      "cell_type": "markdown",
      "source": [
        "[top](#top)"
      ]
    },
    {
      "metadata": {
        "id": "uXYknY2hHjg-",
        "colab_type": "text",
        "slideshow": {
          "slide_type": "skip"
        }
      },
      "cell_type": "markdown",
      "source": [
        "<a name='overall_challenges'></a>Overall Challenges\n",
        "===\n",
        "#### Alien Points\n",
        "- Make a list of ten aliens, each of which is one color: 'red', 'green', or 'blue'.\n",
        "    - You can shorten this to 'r', 'g', and 'b' if you want, but if you choose this option you have to include a comment explaining what r, g, and b stand for.\n",
        "- Red aliens are worth 5 points, green aliens are worth 10 points, and blue aliens are worth 20 points.\n",
        "- Use a for loop to determine the number of points a player would earn for destroying all of the aliens in your list.\n",
        "- [hint](#hint_alien_points)"
      ]
    },
    {
      "metadata": {
        "id": "gBl9qw6uHjg-",
        "colab_type": "code",
        "slideshow": {
          "slide_type": "skip"
        },
        "colab": {
          "autoexec": {
            "startup": false,
            "wait_interval": 0
          }
        }
      },
      "cell_type": "code",
      "source": [
        "# Overall Challenge: Alien Points\n",
        "\n",
        "# Put your code here"
      ],
      "execution_count": 0,
      "outputs": []
    },
    {
      "metadata": {
        "id": "VCFteM1nHjhB",
        "colab_type": "text",
        "slideshow": {
          "slide_type": "skip"
        }
      },
      "cell_type": "markdown",
      "source": [
        "[top](#top)"
      ]
    },
    {
      "metadata": {
        "id": "yoSWXSaHHjhC",
        "colab_type": "text",
        "slideshow": {
          "slide_type": "skip"
        }
      },
      "cell_type": "markdown",
      "source": [
        "Hints\n",
        "===\n",
        "These are placed at the bottom, so you can have a chance to solve exercises without seeing any hints.\n",
        "\n",
        "####<a name='hint_alien_invaders'></a> Alien Invaders\n",
        "- After you define your list of aliens, set a variable called `current_score` or `current_points` equal to 0.\n",
        "- Inside your for loop, write a series of if tests to determine how many points to add to the current score.\n",
        "- To keep a running total, use the syntax `current_score = current_score + points`, where *points* is the number of points for the current alien."
      ]
    }
  ]
}