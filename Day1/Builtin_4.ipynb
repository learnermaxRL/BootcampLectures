{
  "nbformat": 4,
  "nbformat_minor": 0,
  "metadata": {
    "colab": {
      "name": "Builtin_4.ipynb",
      "version": "0.3.2",
      "views": {},
      "default_view": {},
      "provenance": [],
      "collapsed_sections": []
    },
    "kernelspec": {
      "display_name": "Python 3",
      "language": "python",
      "name": "python3"
    }
  },
  "cells": [
    {
      "metadata": {
        "id": "pr7bRGf0PW6p",
        "colab_type": "text"
      },
      "cell_type": "markdown",
      "source": [
        "# Built-in Functions and Help\n",
        "\n",
        "**Time**:\n",
        "- Teaching: 10 min\n",
        "- Exercises: 20 min\n",
        "\n",
        "**Questions**\n",
        "- \"How can I use built-in functions?\"\n",
        "- \"How can I find out what they do?\"\n",
        "\n",
        "**Learning Objectives**\n",
        "- \"Explain the purpose of functions.\"\n",
        "- \"Correctly call built-in Python functions.\"\n",
        "- \"Correctly nest calls to built-in functions.\"\n",
        "- \"Use help to display [documentation](https://github.com/dlab-berkeley/python-intensive/blob/master/Glossary.md#documentation) for built-in functions.\"\n",
        "\n",
        "*****"
      ]
    },
    {
      "metadata": {
        "id": "TLVr4jYXPW6t",
        "colab_type": "text"
      },
      "cell_type": "markdown",
      "source": [
        "## A function may take zero or more arguments.\n",
        "\n",
        "The Python interpreter has a number of functions that are always available for use. These functions are called built-in functions. For example, print() function prints the given object to the standard output device (screen) or to the text stream file, you can have a brief overview [here](https://www.programiz.com/python-programming/methods/built-in)\n",
        "\n",
        "\n",
        "*   We have seen some functions already --- now let's take a closer look.\n",
        "*   An *argument* is a value passed into a function.\n",
        "*   `len` takes exactly one.\n",
        "*   `int`, `str`, and `float` create a new value from an existing one.\n",
        "*   `print` takes zero or more.\n",
        "*   `print` with no arguments prints a blank line.\n",
        "    *   Must always use parentheses, even if they're empty,\n",
        "        so that Python knows a function is being called."
      ]
    },
    {
      "metadata": {
        "id": "iqMAj-J1PW6y",
        "colab_type": "code",
        "colab": {
          "autoexec": {
            "startup": false,
            "wait_interval": 0
          },
          "base_uri": "https://localhost:8080/",
          "height": 68
        },
        "outputId": "63906a62-4b40-4856-843a-242556edb224",
        "executionInfo": {
          "status": "ok",
          "timestamp": 1530723753843,
          "user_tz": -330,
          "elapsed": 1216,
          "user": {
            "displayName": "Mayank Sharma",
            "photoUrl": "https://lh3.googleusercontent.com/a/default-user=s128",
            "userId": "103040418612071322155"
          }
        }
      },
      "cell_type": "code",
      "source": [
        "print('before')\n",
        "print()\n",
        "print('after')"
      ],
      "execution_count": 1,
      "outputs": [
        {
          "output_type": "stream",
          "text": [
            "before\n",
            "\n",
            "after\n"
          ],
          "name": "stdout"
        }
      ]
    },
    {
      "metadata": {
        "id": "CdkksTFmPW7B",
        "colab_type": "text"
      },
      "cell_type": "markdown",
      "source": [
        "## Commonly-used built-in functions include `max`, `min`, and `round`.\n",
        "\n",
        "*   Use `max` to find the largest value of one or more values.\n",
        "*   Use `min` to find the smallest.\n",
        "*   Both work on character strings as well as numbers.\n",
        "    *   \"Larger\" and \"smaller\" use (0-9, A-Z, a-z) to compare letters."
      ]
    },
    {
      "metadata": {
        "id": "bMrVlC9aPW7D",
        "colab_type": "code",
        "colab": {
          "autoexec": {
            "startup": false,
            "wait_interval": 0
          },
          "base_uri": "https://localhost:8080/",
          "height": 51
        },
        "outputId": "6f8a5aae-766e-42ff-8ae5-05f7d709d0ac",
        "executionInfo": {
          "status": "ok",
          "timestamp": 1530724090236,
          "user_tz": -330,
          "elapsed": 969,
          "user": {
            "displayName": "Mayank Sharma",
            "photoUrl": "https://lh3.googleusercontent.com/a/default-user=s128",
            "userId": "103040418612071322155"
          }
        }
      },
      "cell_type": "code",
      "source": [
        "print(max(1, 2, 3))\n",
        "print(min('a', 'A','2',','))"
      ],
      "execution_count": 5,
      "outputs": [
        {
          "output_type": "stream",
          "text": [
            "3\n",
            ",\n"
          ],
          "name": "stdout"
        }
      ]
    },
    {
      "metadata": {
        "id": "GkHxRfJYPW7L",
        "colab_type": "text"
      },
      "cell_type": "markdown",
      "source": [
        "## Functions may only work for certain (combinations of) arguments.\n",
        "\n",
        "*   `max` and `min` must be given at least one argument.\n",
        "    *   \"Largest of the empty set\" is a meaningless question.\n",
        "*   And they must be given things that can meaningfully be compared.\n"
      ]
    },
    {
      "metadata": {
        "id": "KNcD-sMJPW7N",
        "colab_type": "code",
        "colab": {
          "autoexec": {
            "startup": false,
            "wait_interval": 0
          },
          "base_uri": "https://localhost:8080/",
          "height": 164
        },
        "outputId": "d463dc56-1846-46c4-a38b-4248fdf4d379",
        "executionInfo": {
          "status": "error",
          "timestamp": 1530724102870,
          "user_tz": -330,
          "elapsed": 940,
          "user": {
            "displayName": "Mayank Sharma",
            "photoUrl": "https://lh3.googleusercontent.com/a/default-user=s128",
            "userId": "103040418612071322155"
          }
        }
      },
      "cell_type": "code",
      "source": [
        "print(max(1, 'a'))"
      ],
      "execution_count": 6,
      "outputs": [
        {
          "output_type": "error",
          "ename": "TypeError",
          "evalue": "ignored",
          "traceback": [
            "\u001b[0;31m---------------------------------------------------------------------------\u001b[0m",
            "\u001b[0;31mTypeError\u001b[0m                                 Traceback (most recent call last)",
            "\u001b[0;32m<ipython-input-6-3f049acf3762>\u001b[0m in \u001b[0;36m<module>\u001b[0;34m()\u001b[0m\n\u001b[0;32m----> 1\u001b[0;31m \u001b[0mprint\u001b[0m\u001b[0;34m(\u001b[0m\u001b[0mmax\u001b[0m\u001b[0;34m(\u001b[0m\u001b[0;36m1\u001b[0m\u001b[0;34m,\u001b[0m \u001b[0;34m'a'\u001b[0m\u001b[0;34m)\u001b[0m\u001b[0;34m)\u001b[0m\u001b[0;34m\u001b[0m\u001b[0m\n\u001b[0m",
            "\u001b[0;31mTypeError\u001b[0m: '>' not supported between instances of 'str' and 'int'"
          ]
        }
      ]
    },
    {
      "metadata": {
        "id": "T0rYsuQyPW7V",
        "colab_type": "text"
      },
      "cell_type": "markdown",
      "source": [
        "## Functions may have default values for some arguments.\n",
        "\n",
        "*   `round` will round off a floating-point number.\n",
        "*   By default, rounds to zero decimal places."
      ]
    },
    {
      "metadata": {
        "id": "OFcT4eFQPW7X",
        "colab_type": "code",
        "colab": {
          "autoexec": {
            "startup": false,
            "wait_interval": 0
          },
          "base_uri": "https://localhost:8080/",
          "height": 34
        },
        "outputId": "892c92dc-dec5-4a16-dc0c-2d02febb78fa",
        "executionInfo": {
          "status": "ok",
          "timestamp": 1530724107728,
          "user_tz": -330,
          "elapsed": 1171,
          "user": {
            "displayName": "Mayank Sharma",
            "photoUrl": "https://lh3.googleusercontent.com/a/default-user=s128",
            "userId": "103040418612071322155"
          }
        }
      },
      "cell_type": "code",
      "source": [
        "round(3.712)"
      ],
      "execution_count": 7,
      "outputs": [
        {
          "output_type": "execute_result",
          "data": {
            "text/plain": [
              "4"
            ]
          },
          "metadata": {
            "tags": []
          },
          "execution_count": 7
        }
      ]
    },
    {
      "metadata": {
        "id": "cmZlJAmcPW7m",
        "colab_type": "text"
      },
      "cell_type": "markdown",
      "source": [
        "*   We can specify the number of decimal places we want.\n"
      ]
    },
    {
      "metadata": {
        "id": "lUUevFfJPW7v",
        "colab_type": "code",
        "colab": {
          "autoexec": {
            "startup": false,
            "wait_interval": 0
          },
          "base_uri": "https://localhost:8080/",
          "height": 34
        },
        "outputId": "5d763d0b-6a6d-4d83-f96b-de3f6d83118e",
        "executionInfo": {
          "status": "ok",
          "timestamp": 1530724111876,
          "user_tz": -330,
          "elapsed": 923,
          "user": {
            "displayName": "Mayank Sharma",
            "photoUrl": "https://lh3.googleusercontent.com/a/default-user=s128",
            "userId": "103040418612071322155"
          }
        }
      },
      "cell_type": "code",
      "source": [
        "round(3.712, 1)"
      ],
      "execution_count": 8,
      "outputs": [
        {
          "output_type": "execute_result",
          "data": {
            "text/plain": [
              "3.7"
            ]
          },
          "metadata": {
            "tags": []
          },
          "execution_count": 8
        }
      ]
    },
    {
      "metadata": {
        "id": "XlrVU64APW73",
        "colab_type": "text"
      },
      "cell_type": "markdown",
      "source": [
        "## Use the built-in function `help` to get help for a function.\n",
        "\n",
        "*   Every built-in function has online documentation."
      ]
    },
    {
      "metadata": {
        "id": "TSuzcxIIPW74",
        "colab_type": "code",
        "colab": {
          "autoexec": {
            "startup": false,
            "wait_interval": 0
          },
          "base_uri": "https://localhost:8080/",
          "height": 170
        },
        "outputId": "e1aeb135-7aad-4ece-b472-5b50b236695f",
        "executionInfo": {
          "status": "ok",
          "timestamp": 1530724116895,
          "user_tz": -330,
          "elapsed": 933,
          "user": {
            "displayName": "Mayank Sharma",
            "photoUrl": "https://lh3.googleusercontent.com/a/default-user=s128",
            "userId": "103040418612071322155"
          }
        }
      },
      "cell_type": "code",
      "source": [
        "help(round)"
      ],
      "execution_count": 9,
      "outputs": [
        {
          "output_type": "stream",
          "text": [
            "Help on built-in function round in module builtins:\n",
            "\n",
            "round(...)\n",
            "    round(number[, ndigits]) -> number\n",
            "    \n",
            "    Round a number to a given precision in decimal digits (default 0 digits).\n",
            "    This returns an int when called with one argument, otherwise the\n",
            "    same type as the number. ndigits may be negative.\n",
            "\n"
          ],
          "name": "stdout"
        }
      ]
    },
    {
      "metadata": {
        "id": "UWa4-WY5PW78",
        "colab_type": "text"
      },
      "cell_type": "markdown",
      "source": [
        "## The Jupyter Notebook has two ways to get help.\n",
        "\n",
        "*   Place the cursor inside the parenthesis of the function,\n",
        "    hold down `shift`,\n",
        "    and press `tab`.\n",
        "*   Or type a function name with a question mark after it.\n",
        "\n",
        "## Every function returns something.\n",
        "\n",
        "*   Every [function call](https://github.com/dlab-berkeley/python-intensive/blob/master/Glossary.md#function-call) produces some result.\n",
        "*   If the function doesn't have a useful result to return,\n",
        "    it usually returns the special value `None`."
      ]
    },
    {
      "metadata": {
        "id": "ERZ1tPZAPW79",
        "colab_type": "code",
        "colab": {
          "autoexec": {
            "startup": false,
            "wait_interval": 0
          },
          "base_uri": "https://localhost:8080/",
          "height": 51
        },
        "outputId": "4536c86e-23c5-4d50-c61d-5c0dc17325db",
        "executionInfo": {
          "status": "ok",
          "timestamp": 1530724122681,
          "user_tz": -330,
          "elapsed": 1028,
          "user": {
            "displayName": "Mayank Sharma",
            "photoUrl": "https://lh3.googleusercontent.com/a/default-user=s128",
            "userId": "103040418612071322155"
          }
        }
      },
      "cell_type": "code",
      "source": [
        "result = print('example')\n",
        "print('result of print is', result)"
      ],
      "execution_count": 10,
      "outputs": [
        {
          "output_type": "stream",
          "text": [
            "example\n",
            "result of print is None\n"
          ],
          "name": "stdout"
        }
      ]
    },
    {
      "metadata": {
        "id": "0KP0DSawPW8B",
        "colab_type": "text"
      },
      "cell_type": "markdown",
      "source": [
        "## Difference between Function, Method, Object\n",
        "  \n",
        "A **function** is a piece of code that is called by name. It can be passed data to operate on (ie. the parameters) and can optionally return data (the return value).\n",
        "\n",
        "A **method** is a function which is tied to a particular object. Each of an object's methods typically implements one of the things it can do, or one of the questions it can answer. It is called using the dot notation: e.g. `object.method()`\n",
        "\n",
        "An **object** is a collection of conceptually related grouping of variables (called \"members\") and functions using those variables (called \"methods\"). Every [object](https://github.com/dlab-berkeley/python-intensive/blob/master/Glossary.md#object) is an instance of a `class`, which is like a blueprint for an object. \n",
        "\n",
        "  - Everything that exists is an object.\n",
        "  - Everything that happens is a function call.\n",
        "  \n",
        "Read more about objects, classes and methods [here](https://www.jeffknupp.com/blog/2014/06/18/improve-your-python-python-classes-and-object-oriented-programming)\n",
        "\n",
        "Check out our Python glossary [here](https://github.com/dlab-berkeley/python-intensive/blob/master/Glossary.md)."
      ]
    },
    {
      "metadata": {
        "id": "0EETIWpFPW8D",
        "colab_type": "text"
      },
      "cell_type": "markdown",
      "source": [
        "## Challenge 1: What Happens When\n",
        "\n",
        "1. Explain in simple terms the order of operations in the following program:\n",
        "    when does the addition happen, when does the subtraction happen,\n",
        "    when is each function called, etc.\n",
        "2. What is the final value of `radiance`?"
      ]
    },
    {
      "metadata": {
        "id": "M7f4UaZ9PW8E",
        "colab_type": "code",
        "colab": {
          "autoexec": {
            "startup": false,
            "wait_interval": 0
          }
        }
      },
      "cell_type": "code",
      "source": [
        "radiance = 1.0\n",
        "radiance = max(2.1, 2.0 + min(radiance, 1.1 * radiance - 0.5))"
      ],
      "execution_count": 0,
      "outputs": []
    },
    {
      "metadata": {
        "id": "ceJ3K132PW8M",
        "colab_type": "code",
        "colab": {
          "autoexec": {
            "startup": false,
            "wait_interval": 0
          },
          "base_uri": "https://localhost:8080/",
          "height": 34
        },
        "outputId": "df91ea52-9635-45fa-95c7-22fca6d875b6",
        "executionInfo": {
          "status": "ok",
          "timestamp": 1530724167856,
          "user_tz": -330,
          "elapsed": 1030,
          "user": {
            "displayName": "Mayank Sharma",
            "photoUrl": "https://lh3.googleusercontent.com/a/default-user=s128",
            "userId": "103040418612071322155"
          }
        }
      },
      "cell_type": "code",
      "source": [
        ""
      ],
      "execution_count": 13,
      "outputs": [
        {
          "output_type": "stream",
          "text": [
            "2.6\n"
          ],
          "name": "stdout"
        }
      ]
    },
    {
      "metadata": {
        "id": "DdDP5Iq6PW8c",
        "colab_type": "text"
      },
      "cell_type": "markdown",
      "source": [
        "## Challenge 2: Spot the Difference\n",
        "\n",
        "1. Predict what each of the `print` statements in the program below will print.\n",
        "2. Does `max(len(rich), poor)` run or produce an error message?\n",
        "   If it runs, does its result make any sense?"
      ]
    },
    {
      "metadata": {
        "id": "bS3yjTAOPW8d",
        "colab_type": "code",
        "colab": {
          "autoexec": {
            "startup": false,
            "wait_interval": 0
          },
          "base_uri": "https://localhost:8080/",
          "height": 51
        },
        "outputId": "d5edc6b0-f42b-4e6b-a367-8710dc717579",
        "executionInfo": {
          "status": "ok",
          "timestamp": 1530724177415,
          "user_tz": -330,
          "elapsed": 1005,
          "user": {
            "displayName": "Mayank Sharma",
            "photoUrl": "https://lh3.googleusercontent.com/a/default-user=s128",
            "userId": "103040418612071322155"
          }
        }
      },
      "cell_type": "code",
      "source": [
        "rich = \"gold\"\n",
        "poor = \"tin\"\n",
        "print(max(rich, poor))\n",
        "print(max(len(rich), len(poor)))"
      ],
      "execution_count": 14,
      "outputs": [
        {
          "output_type": "stream",
          "text": [
            "tin\n",
            "4\n"
          ],
          "name": "stdout"
        }
      ]
    },
    {
      "metadata": {
        "id": "BJ0j3-PRPW8h",
        "colab_type": "text"
      },
      "cell_type": "markdown",
      "source": [
        "## Challenge 3: Why Not?\n",
        "\n",
        "Why don't `max` and `min` return `None` when they are given no arguments?"
      ]
    },
    {
      "metadata": {
        "id": "zsWD4o-XPW8i",
        "colab_type": "text"
      },
      "cell_type": "markdown",
      "source": [
        "## Challenge 4: Counting Text"
      ]
    },
    {
      "metadata": {
        "id": "GSXHx4ynPW8l",
        "colab_type": "text"
      },
      "cell_type": "markdown",
      "source": [
        "Below is a string of Robert Frost's \"The Road Not Taken\":"
      ]
    },
    {
      "metadata": {
        "id": "ymwqS-BuPW8m",
        "colab_type": "code",
        "colab": {
          "autoexec": {
            "startup": false,
            "wait_interval": 0
          }
        }
      },
      "cell_type": "code",
      "source": [
        "poem = '''Two roads diverged in a yellow wood,\n",
        "And sorry I could not travel both\n",
        "And be one traveler, long I stood\n",
        "And looked down one as far as I could\n",
        "To where it bent in the undergrowth;\n",
        "\n",
        "Then took the other, as just as fair,\n",
        "And having perhaps the better claim,\n",
        "Because it was grassy and wanted wear;\n",
        "Though as for that the passing there\n",
        "Had worn them really about the same,\n",
        "\n",
        "And both that morning equally lay\n",
        "In leaves no step had trodden black.\n",
        "Oh, I kept the first for another day!\n",
        "Yet knowing how way leads on to way,\n",
        "I doubted if I should ever come back.\n",
        "\n",
        "I shall be telling this with a sigh\n",
        "Somewhere ages and ages hence:\n",
        "Two roads diverged in a wood, and I—\n",
        "I took the one less traveled by,\n",
        "And that has made all the difference.'''"
      ],
      "execution_count": 0,
      "outputs": []
    },
    {
      "metadata": {
        "id": "JlUX5L_zPW8q",
        "colab_type": "text"
      },
      "cell_type": "markdown",
      "source": [
        "Using the `len` function and the string methods, answer the following questions:\n",
        "\n",
        "How many characters (letters) are in the poem?"
      ]
    },
    {
      "metadata": {
        "id": "QzefPWnHPW8r",
        "colab_type": "code",
        "colab": {
          "autoexec": {
            "startup": false,
            "wait_interval": 0
          },
          "base_uri": "https://localhost:8080/",
          "height": 34
        },
        "outputId": "049487a1-aa1d-4354-cf2d-14b00d0685fe",
        "executionInfo": {
          "status": "ok",
          "timestamp": 1530724396013,
          "user_tz": -330,
          "elapsed": 1296,
          "user": {
            "displayName": "Mayank Sharma",
            "photoUrl": "https://lh3.googleusercontent.com/a/default-user=s128",
            "userId": "103040418612071322155"
          }
        }
      },
      "cell_type": "code",
      "source": [
        "len(poem)"
      ],
      "execution_count": 19,
      "outputs": [
        {
          "output_type": "execute_result",
          "data": {
            "text/plain": [
              "729"
            ]
          },
          "metadata": {
            "tags": []
          },
          "execution_count": 19
        }
      ]
    },
    {
      "metadata": {
        "id": "rQP9Cxm5PW83",
        "colab_type": "text"
      },
      "cell_type": "markdown",
      "source": [
        "How many words?"
      ]
    },
    {
      "metadata": {
        "id": "ye4rUHU1PW8-",
        "colab_type": "code",
        "colab": {
          "autoexec": {
            "startup": false,
            "wait_interval": 0
          }
        }
      },
      "cell_type": "code",
      "source": [
        ""
      ],
      "execution_count": 0,
      "outputs": []
    },
    {
      "metadata": {
        "id": "hRrNsKUeSlE4",
        "colab_type": "code",
        "colab": {
          "autoexec": {
            "startup": false,
            "wait_interval": 0
          }
        }
      },
      "cell_type": "code",
      "source": [
        ""
      ],
      "execution_count": 0,
      "outputs": []
    },
    {
      "metadata": {
        "id": "WTWskNaePW9B",
        "colab_type": "text"
      },
      "cell_type": "markdown",
      "source": [
        "How many lines? (HINT: A line break is represented as  `\\n`  )"
      ]
    },
    {
      "metadata": {
        "id": "4DGSLgIYPW9C",
        "colab_type": "code",
        "colab": {
          "autoexec": {
            "startup": false,
            "wait_interval": 0
          }
        }
      },
      "cell_type": "code",
      "source": [
        ""
      ],
      "execution_count": 0,
      "outputs": []
    },
    {
      "metadata": {
        "id": "GuwDPAl_PW9F",
        "colab_type": "text"
      },
      "cell_type": "markdown",
      "source": [
        "How many stanzas?"
      ]
    },
    {
      "metadata": {
        "id": "x2oKLf2UPW9L",
        "colab_type": "code",
        "colab": {
          "autoexec": {
            "startup": false,
            "wait_interval": 0
          }
        }
      },
      "cell_type": "code",
      "source": [
        ""
      ],
      "execution_count": 0,
      "outputs": []
    },
    {
      "metadata": {
        "id": "zGDufpFWPW9O",
        "colab_type": "text"
      },
      "cell_type": "markdown",
      "source": [
        "How many unique words? (HINT: look up what `set` does)"
      ]
    },
    {
      "metadata": {
        "id": "teZ4hWQTPW9P",
        "colab_type": "code",
        "colab": {
          "autoexec": {
            "startup": false,
            "wait_interval": 0
          }
        }
      },
      "cell_type": "code",
      "source": [
        ""
      ],
      "execution_count": 0,
      "outputs": []
    },
    {
      "metadata": {
        "id": "_YUu5HBYPW9R",
        "colab_type": "text"
      },
      "cell_type": "markdown",
      "source": [
        "Remove commas and check the number of unique words again. Why is it different?"
      ]
    },
    {
      "metadata": {
        "id": "fIFZUDNjPW9f",
        "colab_type": "code",
        "colab": {
          "autoexec": {
            "startup": false,
            "wait_interval": 0
          }
        }
      },
      "cell_type": "code",
      "source": [
        ""
      ],
      "execution_count": 0,
      "outputs": []
    },
    {
      "metadata": {
        "id": "LvBuXQF5PW9i",
        "colab_type": "text"
      },
      "cell_type": "markdown",
      "source": [
        "*****\n",
        "# Keypoints:\n",
        "- \"A function may take zero or more arguments.\"\n",
        "- \"Commonly-used built-in functions include `max`, `min`, and `round`.\"\n",
        "- \"Functions may only work for certain (combinations of) arguments.\"\n",
        "- \"Functions may have default values for some arguments.\"\n",
        "- \"Use the built-in function `help` to get help for a function.\"\n",
        "- \"The Jupyter Notebook has two ways to get help.\"\n",
        "- \"Every function returns something.\""
      ]
    },
    {
      "metadata": {
        "id": "jvenrsLqPW9i",
        "colab_type": "code",
        "colab": {
          "autoexec": {
            "startup": false,
            "wait_interval": 0
          }
        }
      },
      "cell_type": "code",
      "source": [
        ""
      ],
      "execution_count": 0,
      "outputs": []
    }
  ]
}