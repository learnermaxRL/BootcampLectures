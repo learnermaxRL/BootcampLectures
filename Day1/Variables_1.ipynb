{
  "nbformat": 4,
  "nbformat_minor": 0,
  "metadata": {
    "colab": {
      "name": "Variables.ipynb",
      "version": "0.3.2",
      "views": {},
      "default_view": {},
      "provenance": []
    },
    "kernelspec": {
      "display_name": "Python 3",
      "language": "python",
      "name": "python3"
    }
  },
  "cells": [
    {
      "metadata": {
        "id": "KGWkufUcFUdV",
        "colab_type": "text"
      },
      "cell_type": "markdown",
      "source": [
        "# Variables and Assignment\n",
        "\n",
        "**Time**\n",
        "- Teaching: 5 min\n",
        "- Challenges: 10 min\n",
        "\n",
        "**Questions**\n",
        "- \"How can I store data in programs?\"\n",
        "\n",
        "**Learning Objectives**\n",
        "- \"Write programs that [assign](https://github.com/dlab-berkeley/python-intensive/blob/master/Glossary.md#assign) scalar values to variables and perform calculations with those values.\"\n",
        "- \"Correctly trace value changes in programs that use scalar assignment.\"\n",
        "\n",
        "* * * * *"
      ]
    },
    {
      "metadata": {
        "id": "Q6oY8UcEFUdY",
        "colab_type": "text"
      },
      "cell_type": "markdown",
      "source": [
        "## Use variables to store values.\n",
        "\n",
        "*   Variables are names for values.\n",
        "*   In Python the `=` symbol assigns the value on the right to the name on the left.\n",
        "*   The variable is created when a value is assigned to it.\n",
        "*   Here's Python code that assigns an age to a variable `age`\n",
        "    and a name in quotation marks to a variable `first_name`.\n"
      ]
    },
    {
      "metadata": {
        "id": "QnZmSgTGFUda",
        "colab_type": "code",
        "colab": {
          "autoexec": {
            "startup": false,
            "wait_interval": 0
          }
        }
      },
      "cell_type": "code",
      "source": [
        "age = 42\n",
        "first_name = 'Ahmed'"
      ],
      "execution_count": 0,
      "outputs": []
    },
    {
      "metadata": {
        "id": "qD1PlzCTFUdg",
        "colab_type": "text"
      },
      "cell_type": "markdown",
      "source": [
        "*   Variable names:\n",
        "    *   cannot start with a digit\n",
        "    *   cannot contain spaces, quotation marks, or other punctuation\n",
        "    *   *may* contain an underscore (typically used to separate words in long variable names)\n",
        "*   Underscores at the start like `__alistairs_real_age` have a special meaning\n",
        "    so we won't do that until we understand the convention.\n",
        "\n",
        "## Use `print` to display values.\n",
        "\n",
        "*   Python has a built-in function called `print` that prints things as text.\n",
        "*   Call the function (i.e., tell Python to run it) by using its name.\n",
        "*   Provide values to the function (e.g., things to print) in parentheses.\n"
      ]
    },
    {
      "metadata": {
        "id": "q4_AoEGeFUdh",
        "colab_type": "code",
        "colab": {
          "autoexec": {
            "startup": false,
            "wait_interval": 0
          },
          "base_uri": "https://localhost:8080/",
          "height": 51
        },
        "outputId": "179817d0-79df-4b52-8f88-4cae240c26b5",
        "executionInfo": {
          "status": "ok",
          "timestamp": 1530721259867,
          "user_tz": -330,
          "elapsed": 993,
          "user": {
            "displayName": "Mayank Sharma",
            "photoUrl": "https://lh3.googleusercontent.com/a/default-user=s128",
            "userId": "103040418612071322155"
          }
        }
      },
      "cell_type": "code",
      "source": [
        "print(first_name, 'is', age, 'years old')\n",
        "print(\"Yeah me too.!\")"
      ],
      "execution_count": 4,
      "outputs": [
        {
          "output_type": "stream",
          "text": [
            "Ahmed is 42 years old\n",
            "Yeah me too.!\n"
          ],
          "name": "stdout"
        }
      ]
    },
    {
      "metadata": {
        "id": "qSXn2caHFUdl",
        "colab_type": "text"
      },
      "cell_type": "markdown",
      "source": [
        "*   `print` automatically puts a single space between items to separate them.\n",
        "*   And wraps around to a new line at the end.\n",
        "\n",
        "## Variables persist between cells.\n",
        "\n",
        "*   Variables defined in one cell exist in all following cells.\n",
        "*   Notebook cells are just a way to organize a program:\n",
        "    as far as Python is concerned,\n",
        "    all of the source code is one long set of instructions.\n",
        "\n",
        "## Variables must be created before they are used.\n",
        "\n",
        "*   If a variable doesn't exist yet, or if the name has been mis-spelled,\n",
        "    Python reports an error.\n"
      ]
    },
    {
      "metadata": {
        "id": "_E7gQabZFUdm",
        "colab_type": "code",
        "colab": {
          "autoexec": {
            "startup": false,
            "wait_interval": 0
          },
          "base_uri": "https://localhost:8080/",
          "height": 164
        },
        "outputId": "3e5d5547-92dc-40b6-e210-ad4e35a23f9e",
        "executionInfo": {
          "status": "error",
          "timestamp": 1530721272054,
          "user_tz": -330,
          "elapsed": 1039,
          "user": {
            "displayName": "Mayank Sharma",
            "photoUrl": "https://lh3.googleusercontent.com/a/default-user=s128",
            "userId": "103040418612071322155"
          }
        }
      },
      "cell_type": "code",
      "source": [
        "print(last_name)"
      ],
      "execution_count": 5,
      "outputs": [
        {
          "output_type": "error",
          "ename": "NameError",
          "evalue": "ignored",
          "traceback": [
            "\u001b[0;31m---------------------------------------------------------------------------\u001b[0m",
            "\u001b[0;31mNameError\u001b[0m                                 Traceback (most recent call last)",
            "\u001b[0;32m<ipython-input-5-a637c5453549>\u001b[0m in \u001b[0;36m<module>\u001b[0;34m()\u001b[0m\n\u001b[0;32m----> 1\u001b[0;31m \u001b[0mprint\u001b[0m\u001b[0;34m(\u001b[0m\u001b[0mlast_name\u001b[0m\u001b[0;34m)\u001b[0m\u001b[0;34m\u001b[0m\u001b[0m\n\u001b[0m",
            "\u001b[0;31mNameError\u001b[0m: name 'last_name' is not defined"
          ]
        }
      ]
    },
    {
      "metadata": {
        "id": "EQ7bCScsFUdp",
        "colab_type": "text"
      },
      "cell_type": "markdown",
      "source": [
        "*   The last line of an error message is usually the most informative.\n",
        "*   We will look at error messages later.\n",
        "\n",
        "## Python is case-sensitive.\n",
        "\n",
        "*   Python thinks that upper- and lower-case letters are different,\n",
        "    so `Name` and `name` are different variables.\n",
        "*   Again,\n",
        "    there are conventions around using upper-case letters at the start of variable names\n",
        "    so we will use lower-case letters for now.\n",
        "\n",
        "## Use meaningful variable names.\n",
        "\n",
        "*   Python doesn't care what you call variables as long as they obey the rules\n",
        "    (alphanumeric characters and the underscore).\n"
      ]
    },
    {
      "metadata": {
        "id": "xnrG6QuAFUdq",
        "colab_type": "code",
        "colab": {
          "autoexec": {
            "startup": false,
            "wait_interval": 0
          },
          "base_uri": "https://localhost:8080/",
          "height": 34
        },
        "outputId": "49500926-75b4-4470-e147-eadcb3f2d01e",
        "executionInfo": {
          "status": "ok",
          "timestamp": 1530721337680,
          "user_tz": -330,
          "elapsed": 1013,
          "user": {
            "displayName": "Mayank Sharma",
            "photoUrl": "https://lh3.googleusercontent.com/a/default-user=s128",
            "userId": "103040418612071322155"
          }
        }
      },
      "cell_type": "code",
      "source": [
        "flabadab = 42\n",
        "ewr_422_yY = 'Ahmed'\n",
        "print(ewr_422_yY, 'is', flabadab, 'years old')"
      ],
      "execution_count": 6,
      "outputs": [
        {
          "output_type": "stream",
          "text": [
            "Ahmed is 42 years old\n"
          ],
          "name": "stdout"
        }
      ]
    },
    {
      "metadata": {
        "id": "pm2HUiWCFUdu",
        "colab_type": "text"
      },
      "cell_type": "markdown",
      "source": [
        "*   Use meaningful variable names to help other people understand what the program does.\n",
        "*   The most important \"other person\" is your future self.\n",
        "\n",
        "## Variables can be used in calculations.\n",
        "\n",
        "*   We can use variables in calculations just as if they were values.\n",
        "    *   Remember, we assigned 42 to `age` a few lines ago."
      ]
    },
    {
      "metadata": {
        "id": "tquD3dPFFUdw",
        "colab_type": "code",
        "colab": {
          "autoexec": {
            "startup": false,
            "wait_interval": 0
          },
          "base_uri": "https://localhost:8080/",
          "height": 34
        },
        "outputId": "c09bd90c-480e-4963-e779-314f86094396",
        "executionInfo": {
          "status": "ok",
          "timestamp": 1530721348650,
          "user_tz": -330,
          "elapsed": 939,
          "user": {
            "displayName": "Mayank Sharma",
            "photoUrl": "https://lh3.googleusercontent.com/a/default-user=s128",
            "userId": "103040418612071322155"
          }
        }
      },
      "cell_type": "code",
      "source": [
        "age = age + 3\n",
        "print('Age in three years:', age)"
      ],
      "execution_count": 7,
      "outputs": [
        {
          "output_type": "stream",
          "text": [
            "Age in three years: 45\n"
          ],
          "name": "stdout"
        }
      ]
    },
    {
      "metadata": {
        "id": "hlRq12QuFUd0",
        "colab_type": "text"
      },
      "cell_type": "markdown",
      "source": [
        "## Namespace\n",
        "\n",
        "To display the scope namespace of variables we can use the `dir` function:\n"
      ]
    },
    {
      "metadata": {
        "id": "FWNBBeCkFUd0",
        "colab_type": "code",
        "colab": {
          "autoexec": {
            "startup": false,
            "wait_interval": 0
          },
          "base_uri": "https://localhost:8080/",
          "height": 629
        },
        "outputId": "d8e3b45f-30e8-4edf-a76d-11e0db723506",
        "executionInfo": {
          "status": "ok",
          "timestamp": 1530721360208,
          "user_tz": -330,
          "elapsed": 1010,
          "user": {
            "displayName": "Mayank Sharma",
            "photoUrl": "https://lh3.googleusercontent.com/a/default-user=s128",
            "userId": "103040418612071322155"
          }
        }
      },
      "cell_type": "code",
      "source": [
        "dir()"
      ],
      "execution_count": 8,
      "outputs": [
        {
          "output_type": "execute_result",
          "data": {
            "text/plain": [
              "['In',\n",
              " 'Out',\n",
              " '_',\n",
              " '__',\n",
              " '___',\n",
              " '__builtin__',\n",
              " '__builtins__',\n",
              " '__doc__',\n",
              " '__loader__',\n",
              " '__name__',\n",
              " '__package__',\n",
              " '__spec__',\n",
              " '_dh',\n",
              " '_i',\n",
              " '_i1',\n",
              " '_i2',\n",
              " '_i3',\n",
              " '_i4',\n",
              " '_i5',\n",
              " '_i6',\n",
              " '_i7',\n",
              " '_i8',\n",
              " '_ih',\n",
              " '_ii',\n",
              " '_iii',\n",
              " '_mem_usage',\n",
              " '_oh',\n",
              " '_sh',\n",
              " '_shell_customizations',\n",
              " 'age',\n",
              " 'ewr_422_yY',\n",
              " 'exit',\n",
              " 'first_name',\n",
              " 'flabadab',\n",
              " 'get_ipython',\n",
              " 'quit']"
            ]
          },
          "metadata": {
            "tags": []
          },
          "execution_count": 8
        }
      ]
    },
    {
      "metadata": {
        "id": "1zLHI0LhFUd3",
        "colab_type": "text"
      },
      "cell_type": "markdown",
      "source": [
        "To get a dictionary of local variables, we can call `locals`:"
      ]
    },
    {
      "metadata": {
        "id": "CP_t965KFUd4",
        "colab_type": "code",
        "colab": {
          "autoexec": {
            "startup": false,
            "wait_interval": 0
          },
          "base_uri": "https://localhost:8080/",
          "height": 3369
        },
        "outputId": "48eb27f1-02f7-450c-b792-69affcd87eef",
        "executionInfo": {
          "status": "ok",
          "timestamp": 1530721403510,
          "user_tz": -330,
          "elapsed": 978,
          "user": {
            "displayName": "Mayank Sharma",
            "photoUrl": "https://lh3.googleusercontent.com/a/default-user=s128",
            "userId": "103040418612071322155"
          }
        }
      },
      "cell_type": "code",
      "source": [
        "locals()"
      ],
      "execution_count": 9,
      "outputs": [
        {
          "output_type": "execute_result",
          "data": {
            "text/plain": [
              "{'In': ['',\n",
              "  \"age = 42\\nfirst_name = 'Ahmed'\",\n",
              "  \"age = 42\\nfirst_name = 'Ahmed'\",\n",
              "  \"print(first_name, 'is', age, 'years old')\",\n",
              "  'print(first_name, \\'is\\', age, \\'years old\\')\\nprint(\"Yeah me too.!\")',\n",
              "  'print(last_name)',\n",
              "  \"flabadab = 42\\newr_422_yY = 'Ahmed'\\nprint(ewr_422_yY, 'is', flabadab, 'years old')\",\n",
              "  \"age = age + 3\\nprint('Age in three years:', age)\",\n",
              "  'dir()',\n",
              "  'locals()'],\n",
              " 'Out': {8: ['In',\n",
              "   'Out',\n",
              "   '_',\n",
              "   '__',\n",
              "   '___',\n",
              "   '__builtin__',\n",
              "   '__builtins__',\n",
              "   '__doc__',\n",
              "   '__loader__',\n",
              "   '__name__',\n",
              "   '__package__',\n",
              "   '__spec__',\n",
              "   '_dh',\n",
              "   '_i',\n",
              "   '_i1',\n",
              "   '_i2',\n",
              "   '_i3',\n",
              "   '_i4',\n",
              "   '_i5',\n",
              "   '_i6',\n",
              "   '_i7',\n",
              "   '_i8',\n",
              "   '_ih',\n",
              "   '_ii',\n",
              "   '_iii',\n",
              "   '_mem_usage',\n",
              "   '_oh',\n",
              "   '_sh',\n",
              "   '_shell_customizations',\n",
              "   'age',\n",
              "   'ewr_422_yY',\n",
              "   'exit',\n",
              "   'first_name',\n",
              "   'flabadab',\n",
              "   'get_ipython',\n",
              "   'quit']},\n",
              " '_': ['In',\n",
              "  'Out',\n",
              "  '_',\n",
              "  '__',\n",
              "  '___',\n",
              "  '__builtin__',\n",
              "  '__builtins__',\n",
              "  '__doc__',\n",
              "  '__loader__',\n",
              "  '__name__',\n",
              "  '__package__',\n",
              "  '__spec__',\n",
              "  '_dh',\n",
              "  '_i',\n",
              "  '_i1',\n",
              "  '_i2',\n",
              "  '_i3',\n",
              "  '_i4',\n",
              "  '_i5',\n",
              "  '_i6',\n",
              "  '_i7',\n",
              "  '_i8',\n",
              "  '_ih',\n",
              "  '_ii',\n",
              "  '_iii',\n",
              "  '_mem_usage',\n",
              "  '_oh',\n",
              "  '_sh',\n",
              "  '_shell_customizations',\n",
              "  'age',\n",
              "  'ewr_422_yY',\n",
              "  'exit',\n",
              "  'first_name',\n",
              "  'flabadab',\n",
              "  'get_ipython',\n",
              "  'quit'],\n",
              " '_8': ['In',\n",
              "  'Out',\n",
              "  '_',\n",
              "  '__',\n",
              "  '___',\n",
              "  '__builtin__',\n",
              "  '__builtins__',\n",
              "  '__doc__',\n",
              "  '__loader__',\n",
              "  '__name__',\n",
              "  '__package__',\n",
              "  '__spec__',\n",
              "  '_dh',\n",
              "  '_i',\n",
              "  '_i1',\n",
              "  '_i2',\n",
              "  '_i3',\n",
              "  '_i4',\n",
              "  '_i5',\n",
              "  '_i6',\n",
              "  '_i7',\n",
              "  '_i8',\n",
              "  '_ih',\n",
              "  '_ii',\n",
              "  '_iii',\n",
              "  '_mem_usage',\n",
              "  '_oh',\n",
              "  '_sh',\n",
              "  '_shell_customizations',\n",
              "  'age',\n",
              "  'ewr_422_yY',\n",
              "  'exit',\n",
              "  'first_name',\n",
              "  'flabadab',\n",
              "  'get_ipython',\n",
              "  'quit'],\n",
              " '__': '',\n",
              " '___': '',\n",
              " '__builtin__': <module 'builtins' (built-in)>,\n",
              " '__builtins__': <module 'builtins' (built-in)>,\n",
              " '__doc__': 'Automatically created module for IPython interactive environment',\n",
              " '__loader__': None,\n",
              " '__name__': '__main__',\n",
              " '__package__': None,\n",
              " '__spec__': None,\n",
              " '_dh': ['/content'],\n",
              " '_i': 'dir()',\n",
              " '_i1': \"age = 42\\nfirst_name = 'Ahmed'\",\n",
              " '_i2': \"age = 42\\nfirst_name = 'Ahmed'\",\n",
              " '_i3': \"print(first_name, 'is', age, 'years old')\",\n",
              " '_i4': 'print(first_name, \\'is\\', age, \\'years old\\')\\nprint(\"Yeah me too.!\")',\n",
              " '_i5': 'print(last_name)',\n",
              " '_i6': \"flabadab = 42\\newr_422_yY = 'Ahmed'\\nprint(ewr_422_yY, 'is', flabadab, 'years old')\",\n",
              " '_i7': \"age = age + 3\\nprint('Age in three years:', age)\",\n",
              " '_i8': 'dir()',\n",
              " '_i9': 'locals()',\n",
              " '_ih': ['',\n",
              "  \"age = 42\\nfirst_name = 'Ahmed'\",\n",
              "  \"age = 42\\nfirst_name = 'Ahmed'\",\n",
              "  \"print(first_name, 'is', age, 'years old')\",\n",
              "  'print(first_name, \\'is\\', age, \\'years old\\')\\nprint(\"Yeah me too.!\")',\n",
              "  'print(last_name)',\n",
              "  \"flabadab = 42\\newr_422_yY = 'Ahmed'\\nprint(ewr_422_yY, 'is', flabadab, 'years old')\",\n",
              "  \"age = age + 3\\nprint('Age in three years:', age)\",\n",
              "  'dir()',\n",
              "  'locals()'],\n",
              " '_ii': \"age = age + 3\\nprint('Age in three years:', age)\",\n",
              " '_iii': \"flabadab = 42\\newr_422_yY = 'Ahmed'\\nprint(ewr_422_yY, 'is', flabadab, 'years old')\",\n",
              " '_mem_usage': <function __main__._mem_usage>,\n",
              " '_oh': {8: ['In',\n",
              "   'Out',\n",
              "   '_',\n",
              "   '__',\n",
              "   '___',\n",
              "   '__builtin__',\n",
              "   '__builtins__',\n",
              "   '__doc__',\n",
              "   '__loader__',\n",
              "   '__name__',\n",
              "   '__package__',\n",
              "   '__spec__',\n",
              "   '_dh',\n",
              "   '_i',\n",
              "   '_i1',\n",
              "   '_i2',\n",
              "   '_i3',\n",
              "   '_i4',\n",
              "   '_i5',\n",
              "   '_i6',\n",
              "   '_i7',\n",
              "   '_i8',\n",
              "   '_ih',\n",
              "   '_ii',\n",
              "   '_iii',\n",
              "   '_mem_usage',\n",
              "   '_oh',\n",
              "   '_sh',\n",
              "   '_shell_customizations',\n",
              "   'age',\n",
              "   'ewr_422_yY',\n",
              "   'exit',\n",
              "   'first_name',\n",
              "   'flabadab',\n",
              "   'get_ipython',\n",
              "   'quit']},\n",
              " '_sh': <module 'IPython.core.shadowns' from '/usr/local/lib/python3.6/dist-packages/IPython/core/shadowns.py'>,\n",
              " '_shell_customizations': <module 'google.colab._shell_customizations' from '/usr/local/lib/python3.6/dist-packages/google/colab/_shell_customizations.py'>,\n",
              " 'age': 45,\n",
              " 'ewr_422_yY': 'Ahmed',\n",
              " 'exit': <IPython.core.autocall.ZMQExitAutocall at 0x7f2e06929898>,\n",
              " 'first_name': 'Ahmed',\n",
              " 'flabadab': 42,\n",
              " 'get_ipython': <bound method InteractiveShell.get_ipython of <google.colab._shell.Shell object at 0x7f2e0690b320>>,\n",
              " 'quit': <IPython.core.autocall.ZMQExitAutocall at 0x7f2e06929898>}"
            ]
          },
          "metadata": {
            "tags": []
          },
          "execution_count": 9
        }
      ]
    },
    {
      "metadata": {
        "id": "r-w8z5Z7FUd6",
        "colab_type": "text"
      },
      "cell_type": "markdown",
      "source": [
        "With both functions, we see a lot of predefined variables in the Python and Jupyter environment, but also `age`, `first_name`, `flabadab`, and `ewr_422_yY`, which we created above."
      ]
    },
    {
      "metadata": {
        "id": "OqHSpp5dFUd7",
        "colab_type": "text"
      },
      "cell_type": "markdown",
      "source": [
        "## Challenge 1: Making and Printing Variables\n",
        "\n",
        "1. Make 3 variables: `name` (with your full name), `city` (where you were born) and `year` (when you were born).\n",
        "2. Print these three variables so that it prints `[your name] was born in [city] in [year]`"
      ]
    },
    {
      "metadata": {
        "id": "dfeV5k6_FUd8",
        "colab_type": "code",
        "colab": {
          "autoexec": {
            "startup": false,
            "wait_interval": 0
          }
        }
      },
      "cell_type": "code",
      "source": [
        "#write the code here"
      ],
      "execution_count": 0,
      "outputs": []
    },
    {
      "metadata": {
        "id": "LlS6VCL_FUd_",
        "colab_type": "text"
      },
      "cell_type": "markdown",
      "source": [
        "## Challenge 2: Swapping Values\n",
        "\n",
        "Draw a table on a sheet of paper  showing the values of the variables in this program after each statement is executed.\n",
        "\n",
        "In simple terms, what do the last three lines of this program do?"
      ]
    },
    {
      "metadata": {
        "id": "V2G5Sol5FUeA",
        "colab_type": "code",
        "colab": {
          "autoexec": {
            "startup": false,
            "wait_interval": 0
          }
        }
      },
      "cell_type": "code",
      "source": [
        "lowest = 1.0\n",
        "highest = 3.0\n",
        "temp = lowest\n",
        "lowest = highest\n",
        "highest = temp"
      ],
      "execution_count": 0,
      "outputs": []
    },
    {
      "metadata": {
        "id": "G6OrYJt7FUeD",
        "colab_type": "text"
      },
      "cell_type": "markdown",
      "source": [
        "## Challenge 3: Predicting Values\n",
        "\n",
        "What is the final value of `position` in the program below?\n",
        "\n",
        "(Try to predict the value without running the program, then check your prediction.)\n"
      ]
    },
    {
      "metadata": {
        "id": "2ic9KmiLFUeE",
        "colab_type": "code",
        "colab": {
          "autoexec": {
            "startup": false,
            "wait_interval": 0
          }
        }
      },
      "cell_type": "code",
      "source": [
        "initial = \"left\"\n",
        "position = initial\n",
        "initial = \"right\""
      ],
      "execution_count": 0,
      "outputs": []
    },
    {
      "metadata": {
        "id": "0F9sVwTnFUeG",
        "colab_type": "text"
      },
      "cell_type": "markdown",
      "source": [
        "## Challenge 4: Syntax"
      ]
    },
    {
      "metadata": {
        "id": "55XlNq2bFUeG",
        "colab_type": "text"
      },
      "cell_type": "markdown",
      "source": [
        "Why does the following code fail? What is it probably supposed to do, and what is it actually doing?"
      ]
    },
    {
      "metadata": {
        "id": "j-i0aVPNFUeH",
        "colab_type": "code",
        "colab": {
          "autoexec": {
            "startup": false,
            "wait_interval": 0
          }
        }
      },
      "cell_type": "code",
      "source": [
        "age == 31"
      ],
      "execution_count": 0,
      "outputs": []
    },
    {
      "metadata": {
        "id": "BF7R-pD1FUeK",
        "colab_type": "text"
      },
      "cell_type": "markdown",
      "source": [
        "And the following?"
      ]
    },
    {
      "metadata": {
        "id": "V0-KkurUFUeK",
        "colab_type": "code",
        "colab": {
          "autoexec": {
            "startup": false,
            "wait_interval": 0
          }
        }
      },
      "cell_type": "code",
      "source": [
        "31 = age"
      ],
      "execution_count": 0,
      "outputs": []
    },
    {
      "metadata": {
        "id": "H7cpWE8qFUeN",
        "colab_type": "text"
      },
      "cell_type": "markdown",
      "source": [
        "Fix the above cells."
      ]
    },
    {
      "metadata": {
        "id": "S_oT0FM2FUeN",
        "colab_type": "text"
      },
      "cell_type": "markdown",
      "source": [
        "*****\n",
        "\n",
        "## Keypoints\n",
        "\n",
        "1. \"Use variables to store values.\"\n",
        "2. \"Use `print` to display values.\"\n",
        "3. \"Variables persist between cells.\"\n",
        "4. \"Variables must be created before they are used.\"\n",
        "5. \"Python is case-sensitive.\"\n",
        "6. \"Variables can be used in calculations.\"\n",
        "7. \"Use meaningful variable names.\""
      ]
    },
    {
      "metadata": {
        "id": "nOmFUqxOFUeP",
        "colab_type": "code",
        "colab": {
          "autoexec": {
            "startup": false,
            "wait_interval": 0
          }
        }
      },
      "cell_type": "code",
      "source": [
        ""
      ],
      "execution_count": 0,
      "outputs": []
    }
  ]
}