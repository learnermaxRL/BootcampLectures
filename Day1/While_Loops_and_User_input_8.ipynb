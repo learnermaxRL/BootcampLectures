{
  "nbformat": 4,
  "nbformat_minor": 0,
  "metadata": {
    "colab": {
      "name": "While Loops and User input_8.ipynb",
      "version": "0.3.2",
      "views": {},
      "default_view": {},
      "provenance": [],
      "collapsed_sections": [
        "jn3W4JrwItDN",
        "JjIEYpNHItDT",
        "NWuqNZiBItDa",
        "Npy0TMk4ItEa"
      ]
    },
    "kernelspec": {
      "display_name": "Python 3",
      "language": "python",
      "name": "python3"
    }
  },
  "cells": [
    {
      "metadata": {
        "id": "eruu3TfFItCf",
        "colab_type": "text",
        "slideshow": {
          "slide_type": "slide"
        }
      },
      "cell_type": "markdown",
      "source": [
        "Loops, Iteration Schemas and Input\n",
        "==="
      ]
    },
    {
      "metadata": {
        "id": "vhKpqHFMItCj",
        "colab_type": "text",
        "slideshow": {
          "slide_type": "fragment"
        }
      },
      "cell_type": "markdown",
      "source": [
        "While loops are really useful because they let your program run until a user decides to quit the program. They set up an infinite loop that runs until the user does something to end the loop. This section also introduces the first way to get input from your program's users."
      ]
    },
    {
      "metadata": {
        "id": "mCkDr6fxItCm",
        "colab_type": "text",
        "slideshow": {
          "slide_type": "skip"
        }
      },
      "cell_type": "markdown",
      "source": [
        "<a name=\"top\"></a>Contents\n",
        "===\n",
        "- [What is a `while` loop?](#what)\n",
        "    - [General syntax](#general_syntax)\n",
        "    - [Example](#example)\n",
        "    - [Exercises](#exercises_while)\n",
        "- [Accepting user input](#input)\n",
        "    - [General syntax](#general_user_input)\n",
        "    - [Example](#example_user_input)\n",
        "    - [Exercises](#exercises_input)\n",
        "- [Using while loops to keep your programs running](#keep_running)\n",
        "    - [Exercises](#exercises_running_input)\n",
        "- [Using while loops to make menus](#menus)\n",
        "- [Using while loops to process items in a list](#process_list)\n",
        "- [Accidental Infinite loops](#infinite_loops)\n",
        "    - [Exercises](#exercises_infinite_loops)\n",
        "- [Overall Challenges](#overall_challenges)"
      ]
    },
    {
      "metadata": {
        "id": "80IokuSlItCo",
        "colab_type": "text",
        "slideshow": {
          "slide_type": "slide"
        }
      },
      "cell_type": "markdown",
      "source": [
        "## The FOR (iteration) loop"
      ]
    },
    {
      "metadata": {
        "id": "01Li2KuyItCr",
        "colab_type": "text",
        "slideshow": {
          "slide_type": "subslide"
        }
      },
      "cell_type": "markdown",
      "source": [
        "The `for` loop statement is the most widely used iteration mechanisms in Python.\n",
        "\n",
        "* Almost every structure in Python can be iterated (*element by element*) by a `for` loop\n",
        "    - a list, a tuple, a dictionary, $\\ldots$ (more details will follows)\n",
        "\n",
        "* In Python, also `while` loops are permitted, but `for` is the one you would see (and use) most of the time!"
      ]
    },
    {
      "metadata": {
        "id": "hHsl7Z6UItCs",
        "colab_type": "text",
        "slideshow": {
          "slide_type": "slide"
        }
      },
      "cell_type": "markdown",
      "source": [
        "<a name='what'></a>What is a while loop?\n",
        "==="
      ]
    },
    {
      "metadata": {
        "id": "Z-wfl1HZItCu",
        "colab_type": "text",
        "slideshow": {
          "slide_type": "fragment"
        }
      },
      "cell_type": "markdown",
      "source": [
        "A while loop tests an initial condition. If that condition is true, the loop starts executing. Every time the loop finishes, the condition is reevaluated. As long as the condition remains true, the loop keeps executing. As soon as the condition becomes false, the loop stops executing."
      ]
    },
    {
      "metadata": {
        "id": "4khO90JuItCw",
        "colab_type": "text",
        "slideshow": {
          "slide_type": "subslide"
        }
      },
      "cell_type": "markdown",
      "source": [
        "<a name='general_syntax'></a>General syntax\n",
        "---"
      ]
    },
    {
      "metadata": {
        "id": "Lt0RIvWtItCy",
        "colab_type": "code",
        "colab": {
          "autoexec": {
            "startup": false,
            "wait_interval": 0
          }
        }
      },
      "cell_type": "code",
      "source": [
        "# Set an initial condition.\n",
        "game_active = True\n",
        "\n",
        "# Set up the while loop.\n",
        "while game_active:\n",
        "    # Run the game.\n",
        "    # At some point, the game ends and game_active will be set to False.\n",
        "    #   When that happens, the loop will stop executing.\n",
        "    \n",
        "# Do anything else you want done after the loop runs."
      ],
      "execution_count": 0,
      "outputs": []
    },
    {
      "metadata": {
        "id": "HI8JJzLlItC4",
        "colab_type": "text",
        "slideshow": {
          "slide_type": "subslide"
        }
      },
      "cell_type": "markdown",
      "source": [
        "- Every while loop needs an initial condition that starts out true.\n",
        "- The `while` statement includes a condition to test.\n",
        "- All of the code in the loop will run as long as the condition remains true.\n",
        "- As soon as something in the loop changes the condition such that the test no longer passes, the loop stops executing.\n",
        "- Any code that is defined after the loop will run at this point."
      ]
    },
    {
      "metadata": {
        "id": "aArhHspxItC6",
        "colab_type": "text",
        "slideshow": {
          "slide_type": "subslide"
        }
      },
      "cell_type": "markdown",
      "source": [
        "<a name='example'></a>Example\n",
        "---\n",
        "Here is a simple example, showing how a game will stay active as long as the player has enough power."
      ]
    },
    {
      "metadata": {
        "id": "75ylsd5LItC7",
        "colab_type": "code",
        "colab": {
          "autoexec": {
            "startup": false,
            "wait_interval": 0
          }
        },
        "outputId": "99b13b67-f5f9-4c38-fe6c-50fe23826b85"
      },
      "cell_type": "code",
      "source": [
        "# The player's power starts out at 5.\n",
        "power = 5\n",
        "\n",
        "# The player is allowed to keep playing as long as their power is over 0.\n",
        "while power > 0:\n",
        "    print(\"You are still playing, because your power is %d.\" % power)\n",
        "    # Your game code would go here, which includes challenges that make it\n",
        "    #   possible to lose power.\n",
        "    # We can represent that by just taking away from the power.\n",
        "    power = power - 1\n",
        "    \n",
        "print(\"\\nOh no, your power dropped to 0! Game Over.\")"
      ],
      "execution_count": 0,
      "outputs": [
        {
          "output_type": "stream",
          "text": [
            "You are still playing, because your power is 5.\n",
            "You are still playing, because your power is 4.\n",
            "You are still playing, because your power is 3.\n",
            "You are still playing, because your power is 2.\n",
            "You are still playing, because your power is 1.\n",
            "\n",
            "Oh no, your power dropped to 0! Game Over.\n"
          ],
          "name": "stdout"
        }
      ]
    },
    {
      "metadata": {
        "id": "as5riMSvItDB",
        "colab_type": "text",
        "slideshow": {
          "slide_type": "skip"
        }
      },
      "cell_type": "markdown",
      "source": [
        "[top](#top)"
      ]
    },
    {
      "metadata": {
        "id": "Tbe8ypfCItDD",
        "colab_type": "text",
        "slideshow": {
          "slide_type": "skip"
        }
      },
      "cell_type": "markdown",
      "source": [
        "<a name='exercises_while'></a>Exercises\n",
        "---\n",
        "#### Growing Strength\n",
        "- Make a variable called strength, and set its initial value to 5.\n",
        "- Print a message reporting the player's strength.\n",
        "- Set up a while loop that runs until the player's strength increases to a value such as 10.\n",
        "- Inside the while loop, print a message that reports the player's current strength.\n",
        "- Inside the while loop, write a statement that increases the player's strength.\n",
        "- Outside the while loop, print a message reporting that the player has grown too strong, and that they have moved up to a new level of the game.\n",
        "- Bonus: Play around with different cutoff levels for the value of *strength*, and play around with different ways to increase the strength value within the while loop."
      ]
    },
    {
      "metadata": {
        "id": "FwCtwhQcItDF",
        "colab_type": "code",
        "slideshow": {
          "slide_type": "skip"
        },
        "colab": {
          "autoexec": {
            "startup": false,
            "wait_interval": 0
          }
        }
      },
      "cell_type": "code",
      "source": [
        "# Ex 6.1 : Growing Strength\n",
        "\n",
        "# put your code here"
      ],
      "execution_count": 0,
      "outputs": []
    },
    {
      "metadata": {
        "id": "helLRl_bItDJ",
        "colab_type": "text",
        "slideshow": {
          "slide_type": "skip"
        }
      },
      "cell_type": "markdown",
      "source": [
        "[top](#top)"
      ]
    },
    {
      "metadata": {
        "id": "LDDVNCjQItDL",
        "colab_type": "text",
        "slideshow": {
          "slide_type": "slide"
        }
      },
      "cell_type": "markdown",
      "source": [
        "<a name='input'></a>Accepting user input\n",
        "==="
      ]
    },
    {
      "metadata": {
        "id": "8eaChKcPItDM",
        "colab_type": "text",
        "slideshow": {
          "slide_type": "fragment"
        }
      },
      "cell_type": "markdown",
      "source": [
        "Almost all interesting programs accept input from the user at some point. You can start accepting user input in your programs by using the `input()` function. The input function displays a messaget to the user describing the kind of input you are looking for, and then it waits for the user to enter a value. When the user presses Enter, the value is passed to your variable."
      ]
    },
    {
      "metadata": {
        "id": "jn3W4JrwItDN",
        "colab_type": "text",
        "slideshow": {
          "slide_type": "subslide"
        }
      },
      "cell_type": "markdown",
      "source": [
        "<a name='general_user_input'></a>General syntax\n",
        "---\n",
        "The general case for accepting input looks something like this:"
      ]
    },
    {
      "metadata": {
        "id": "_rpm63t9ItDO",
        "colab_type": "code",
        "slideshow": {
          "slide_type": "fragment"
        },
        "colab": {
          "autoexec": {
            "startup": false,
            "wait_interval": 0
          }
        }
      },
      "cell_type": "code",
      "source": [
        "# Get some input from the user.\n",
        "variable = input('Please enter a value: ')\n",
        "# Do something with the value that was entered."
      ],
      "execution_count": 0,
      "outputs": []
    },
    {
      "metadata": {
        "id": "pd0rRByvItDS",
        "colab_type": "text",
        "slideshow": {
          "slide_type": "fragment"
        }
      },
      "cell_type": "markdown",
      "source": [
        "You need a variable that will hold whatever value the user enters, and you need a message that will be displayed to the user."
      ]
    },
    {
      "metadata": {
        "id": "JjIEYpNHItDT",
        "colab_type": "text",
        "slideshow": {
          "slide_type": "subslide"
        }
      },
      "cell_type": "markdown",
      "source": [
        "<a name='example_user_input'></a>Example\n",
        "---\n",
        "In the following example, we have a list of names. We ask the user for a name, and we add it to our list of names."
      ]
    },
    {
      "metadata": {
        "id": "BiIxWN3rItDV",
        "colab_type": "code",
        "colab": {
          "autoexec": {
            "startup": false,
            "wait_interval": 0
          }
        },
        "outputId": "499aad61-a78a-4d26-ee3d-36a810d47c11"
      },
      "cell_type": "code",
      "source": [
        "# Start with a list containing several names.\n",
        "names = ['guido', 'tim', 'jesse']\n",
        "\n",
        "# Ask the user for a name.\n",
        "new_name = input(\"Please tell me someone I should know: \")\n",
        "\n",
        "# Add the new name to our list.\n",
        "names.append(new_name)\n",
        "\n",
        "# Show that the name has been added to the list.\n",
        "print(names)"
      ],
      "execution_count": 0,
      "outputs": [
        {
          "output_type": "stream",
          "text": [
            "Please tell me someone I should know: jessica\n",
            "['guido', 'tim', 'jesse', 'jessica']\n"
          ],
          "name": "stdout"
        }
      ]
    },
    {
      "metadata": {
        "id": "NWuqNZiBItDa",
        "colab_type": "text",
        "slideshow": {
          "slide_type": "skip"
        }
      },
      "cell_type": "markdown",
      "source": [
        "<a name='exercises_input'></a>Exercises\n",
        "---\n",
        "#### Game Preferences\n",
        "- Make a list that includes 3 or 4 games that you like to play.\n",
        "- Print a statement that tells the user what games you like.\n",
        "- Ask the user to tell you a game they like, and store the game in a variable such as `new_game`.\n",
        "- Add the user's game to your list.\n",
        "- Print a new statement that lists all of the games that we like to play (*we* means you and your user)."
      ]
    },
    {
      "metadata": {
        "id": "MgQBX7H_ItDa",
        "colab_type": "code",
        "slideshow": {
          "slide_type": "skip"
        },
        "colab": {
          "autoexec": {
            "startup": false,
            "wait_interval": 0
          }
        }
      },
      "cell_type": "code",
      "source": [
        "# Ex 6.2 : Game Preferences\n",
        "\n",
        "# put your code here"
      ],
      "execution_count": 0,
      "outputs": []
    },
    {
      "metadata": {
        "id": "6eRepQ67ItDd",
        "colab_type": "text",
        "slideshow": {
          "slide_type": "skip"
        }
      },
      "cell_type": "markdown",
      "source": [
        "[top](#top)"
      ]
    },
    {
      "metadata": {
        "id": "mR7jJLZIItDe",
        "colab_type": "text",
        "slideshow": {
          "slide_type": "slide"
        }
      },
      "cell_type": "markdown",
      "source": [
        "<a name='keep_running'></a>Using while loops to keep your programs running\n",
        "==="
      ]
    },
    {
      "metadata": {
        "id": "mR-8io_FItDf",
        "colab_type": "text",
        "slideshow": {
          "slide_type": "-"
        }
      },
      "cell_type": "markdown",
      "source": [
        "Most of the programs we use every day run until we tell them to quit, and in the background this is often done with a while loop."
      ]
    },
    {
      "metadata": {
        "id": "y9QRdC88ItDg",
        "colab_type": "text",
        "slideshow": {
          "slide_type": "subslide"
        }
      },
      "cell_type": "markdown",
      "source": [
        "Here is an example of how to let the user enter an arbitrary number of names."
      ]
    },
    {
      "metadata": {
        "id": "rynp259BItDh",
        "colab_type": "code",
        "slideshow": {
          "slide_type": "-"
        },
        "colab": {
          "autoexec": {
            "startup": false,
            "wait_interval": 0
          },
          "base_uri": "https://localhost:8080/",
          "height": 100
        },
        "outputId": "b7d6baa6-e0e9-45ae-b566-61f52a3b4d3d",
        "executionInfo": {
          "status": "ok",
          "timestamp": 1530738792351,
          "user_tz": -330,
          "elapsed": 13318,
          "user": {
            "displayName": "Mayank Sharma",
            "photoUrl": "https://lh3.googleusercontent.com/a/default-user=s128",
            "userId": "103040418612071322155"
          }
        }
      },
      "cell_type": "code",
      "source": [
        "# Start with an empty list. You can 'seed' the list with\n",
        "#  some predefined values if you like.\n",
        "names = []\n",
        "\n",
        "# Set new_name to something other than 'quit'.\n",
        "new_name = ''\n",
        "\n",
        "# Start a loop that will run until the user enters 'quit'.\n",
        "while new_name != 'quit':\n",
        "    # Ask the user for a name.\n",
        "    new_name = input(\"Please tell me someone I should know, or enter 'quit': \")\n",
        "\n",
        "    # Add the new name to our list.\n",
        "    names.append(new_name)\n",
        "\n",
        "# Show that the name has been added to the list.\n",
        "print(names)"
      ],
      "execution_count": 1,
      "outputs": [
        {
          "output_type": "stream",
          "text": [
            "Please tell me someone I should know, or enter 'quit': hi\n",
            "Please tell me someone I should know, or enter 'quit': yo\n",
            "Please tell me someone I should know, or enter 'quit': quit\n",
            "['hi', 'yo', 'quit']\n"
          ],
          "name": "stdout"
        }
      ]
    },
    {
      "metadata": {
        "id": "OeRrB_ktItDk",
        "colab_type": "text",
        "slideshow": {
          "slide_type": "subslide"
        }
      },
      "cell_type": "markdown",
      "source": [
        "That worked, except we ended up with the name 'quit' in our list. We can use a simple `if` test to eliminate this bug:"
      ]
    },
    {
      "metadata": {
        "id": "IVkq_BI7ItDl",
        "colab_type": "code",
        "slideshow": {
          "slide_type": "fragment"
        },
        "colab": {
          "autoexec": {
            "startup": false,
            "wait_interval": 0
          }
        },
        "outputId": "a6c5de10-5ff5-4dca-ccec-3db1ffc64752"
      },
      "cell_type": "code",
      "source": [
        "# Start with an empty list. You can 'seed' the list with\n",
        "#  some predefined values if you like.\n",
        "names = []\n",
        "\n",
        "# Set new_name to something other than 'quit'.\n",
        "new_name = ''\n",
        "\n",
        "# Start a loop that will run until the user enters 'quit'.\n",
        "while new_name != 'quit':\n",
        "    # Ask the user for a name.\n",
        "    new_name = input(\"Please tell me someone I should know, or enter 'quit': \")\n",
        "\n",
        "    # Add the new name to our list.\n",
        "    if new_name != 'quit':\n",
        "        names.append(new_name)\n",
        "\n",
        "# Show that the name has been added to the list.\n",
        "print(names)"
      ],
      "execution_count": 0,
      "outputs": [
        {
          "output_type": "stream",
          "text": [
            "Please tell me someone I should know, or enter 'quit': guido\n",
            "Please tell me someone I should know, or enter 'quit': jesse\n",
            "Please tell me someone I should know, or enter 'quit': jessica\n",
            "Please tell me someone I should know, or enter 'quit': tim\n",
            "Please tell me someone I should know, or enter 'quit': quit\n",
            "['guido', 'jesse', 'jessica', 'tim']\n"
          ],
          "name": "stdout"
        }
      ]
    },
    {
      "metadata": {
        "id": "1QeUbcAqItDp",
        "colab_type": "text",
        "slideshow": {
          "slide_type": "fragment"
        }
      },
      "cell_type": "markdown",
      "source": [
        "This is pretty cool! We now have a way to accept input from users while our programs run, and we have a way to let our programs  run until our users are finished working."
      ]
    },
    {
      "metadata": {
        "id": "sKWIfm_DItDq",
        "colab_type": "text",
        "slideshow": {
          "slide_type": "skip"
        }
      },
      "cell_type": "markdown",
      "source": [
        "<a name='exercises_running_input'></a>Exercises\n",
        "---\n",
        "#### Many Games\n",
        "- Modify *[Game Preferences](#exercises_input)* so your user can add as many games as they like."
      ]
    },
    {
      "metadata": {
        "id": "wpSUn8BqItDr",
        "colab_type": "code",
        "slideshow": {
          "slide_type": "skip"
        },
        "colab": {
          "autoexec": {
            "startup": false,
            "wait_interval": 0
          }
        }
      },
      "cell_type": "code",
      "source": [
        "# Ex 6.3 : Many Games\n",
        "\n",
        "# put your code here"
      ],
      "execution_count": 0,
      "outputs": []
    },
    {
      "metadata": {
        "id": "B8adz9oKItDv",
        "colab_type": "text",
        "slideshow": {
          "slide_type": "skip"
        }
      },
      "cell_type": "markdown",
      "source": [
        "[top](#top)"
      ]
    },
    {
      "metadata": {
        "id": "mgVtImeTItDy",
        "colab_type": "text",
        "slideshow": {
          "slide_type": "slide"
        }
      },
      "cell_type": "markdown",
      "source": [
        "<a name='menus'></a>Using while loops to make menus\n",
        "===\n",
        "You now have enough Python under your belt to offer users a set of choices, and then respond to those choices until they choose to quit."
      ]
    },
    {
      "metadata": {
        "id": "Di82WcgzItD0",
        "colab_type": "text",
        "slideshow": {
          "slide_type": "fragment"
        }
      },
      "cell_type": "markdown",
      "source": [
        "Let's look at a simple example, and then analyze the code:"
      ]
    },
    {
      "metadata": {
        "id": "BAnxv-eNItD1",
        "colab_type": "code",
        "slideshow": {
          "slide_type": "subslide"
        },
        "colab": {
          "autoexec": {
            "startup": false,
            "wait_interval": 0
          },
          "base_uri": "https://localhost:8080/",
          "height": 536
        },
        "outputId": "b806500e-6df9-4e99-9afe-fcff5265ddca"
      },
      "cell_type": "code",
      "source": [
        "# Give the user some context.\n",
        "print(\"\\nWelcome to the nature center. What would you like to do?\")\n",
        "\n",
        "# Set an initial value for choice other than the value for 'quit'.\n",
        "choice = ''\n",
        "\n",
        "# Start a loop that runs until the user enters the value for 'quit'.\n",
        "while choice != 'q':\n",
        "    # Give all the choices in a series of print statements.\n",
        "    print(\"\\n[1] Enter 1 to take a bicycle ride.\")\n",
        "    print(\"[2] Enter 2 to go for a run.\")\n",
        "    print(\"[3] Enter 3 to climb a mountain.\")\n",
        "    print(\"[q] Enter q to quit.\")\n",
        "    \n",
        "    # Ask for the user's choice.\n",
        "    choice = input(\"\\nWhat would you like to do? \")\n",
        "    \n",
        "    # Respond to the user's choice.\n",
        "    if choice == '1':\n",
        "        print(\"\\nHere's a bicycle. Have fun!\\n\")\n",
        "    elif choice == '2':\n",
        "        print(\"\\nHere are some running shoes. Run fast!\\n\")\n",
        "    elif choice == '3':\n",
        "        print(\"\\nHere's a map. Can you leave a trip plan for us?\\n\")\n",
        "    elif choice == 'q':\n",
        "        print(\"\\nThanks for playing. See you later.\\n\")\n",
        "    else:\n",
        "        print(\"\\nI don't understand that choice, please try again.\\n\")\n",
        "        \n",
        "# Print a message that we are all finished.\n",
        "print(\"Thanks again, bye now.\")"
      ],
      "execution_count": 0,
      "outputs": [
        {
          "output_type": "stream",
          "text": [
            "\n",
            "Welcome to the nature center. What would you like to do?\n",
            "\n",
            "[1] Enter 1 to take a bicycle ride.\n",
            "[2] Enter 2 to go for a run.\n",
            "[3] Enter 3 to climb a mountain.\n",
            "[q] Enter q to quit.\n",
            "\n",
            "What would you like to do? 3\n",
            "\n",
            "Here's a map. Can you leave a trip plan for us?\n",
            "\n",
            "\n",
            "[1] Enter 1 to take a bicycle ride.\n",
            "[2] Enter 2 to go for a run.\n",
            "[3] Enter 3 to climb a mountain.\n",
            "[q] Enter q to quit.\n",
            "\n",
            "What would you like to do? 1\n",
            "\n",
            "Here's a bicycle. Have fun!\n",
            "\n",
            "\n",
            "[1] Enter 1 to take a bicycle ride.\n",
            "[2] Enter 2 to go for a run.\n",
            "[3] Enter 3 to climb a mountain.\n",
            "[q] Enter q to quit.\n"
          ],
          "name": "stdout"
        }
      ]
    },
    {
      "metadata": {
        "id": "0-BOyowbItD6",
        "colab_type": "text",
        "slideshow": {
          "slide_type": "subslide"
        }
      },
      "cell_type": "markdown",
      "source": [
        "Our programs are getting rich enough now, that we could do many different things with them. Let's clean this up in one really useful way. There are three main choices here, so let's define a function for each of those items. This way, our menu code remains really simple even as we add more complicated code to the actions of riding a bicycle, going for a run, or climbing a mountain."
      ]
    },
    {
      "metadata": {
        "id": "0cDnUgw9ItD7",
        "colab_type": "code",
        "slideshow": {
          "slide_type": "subslide"
        },
        "colab": {
          "autoexec": {
            "startup": false,
            "wait_interval": 0
          }
        },
        "outputId": "e76759ff-6cf7-4d3a-8ff7-f13d38684d92"
      },
      "cell_type": "code",
      "source": [
        "# Define the actions for each choice we want to offer.\n",
        "def ride_bicycle():\n",
        "    print(\"\\nHere's a bicycle. Have fun!\\n\")\n",
        "    \n",
        "def go_running():\n",
        "    print(\"\\nHere are some running shoes. Run fast!\\n\")\n",
        "    \n",
        "def climb_mountain():\n",
        "    print(\"\\nHere's a map. Can you leave a trip plan for us?\\n\")\n",
        "\n",
        "# Give the user some context.\n",
        "print(\"\\nWelcome to the nature center. What would you like to do?\")\n",
        "\n",
        "# Set an initial value for choice other than the value for 'quit'.\n",
        "choice = ''\n",
        "\n",
        "# Start a loop that runs until the user enters the value for 'quit'.\n",
        "while choice != 'q':\n",
        "    # Give all the choices in a series of print statements.\n",
        "    print(\"\\n[1] Enter 1 to take a bicycle ride.\")\n",
        "    print(\"[2] Enter 2 to go for a run.\")\n",
        "    print(\"[3] Enter 3 to climb a mountain.\")\n",
        "    print(\"[q] Enter q to quit.\")\n",
        "    \n",
        "    # Ask for the user's choice.\n",
        "    choice = input(\"\\nWhat would you like to do? \")\n",
        "    \n",
        "    # Respond to the user's choice.\n",
        "    if choice == '1':\n",
        "        ride_bicycle()\n",
        "    elif choice == '2':\n",
        "        go_running()\n",
        "    elif choice == '3':\n",
        "        climb_mountain()\n",
        "    elif choice == 'q':\n",
        "        print(\"\\nThanks for playing. See you later.\\n\")\n",
        "    else:\n",
        "        print(\"\\nI don't understand that choice, please try again.\\n\")\n",
        "        \n",
        "# Print a message that we are all finished.\n",
        "print(\"Thanks again, bye now.\")"
      ],
      "execution_count": 0,
      "outputs": [
        {
          "output_type": "stream",
          "text": [
            "\n",
            "Welcome to the nature center. What would you like to do?\n",
            "\n",
            "[1] Enter 1 to take a bicycle ride.\n",
            "[2] Enter 2 to go for a run.\n",
            "[3] Enter 3 to climb a mountain.\n",
            "[q] Enter q to quit.\n",
            "\n",
            "What would you like to do? 1\n",
            "\n",
            "Here's a bicycle. Have fun!\n",
            "\n",
            "\n",
            "[1] Enter 1 to take a bicycle ride.\n",
            "[2] Enter 2 to go for a run.\n",
            "[3] Enter 3 to climb a mountain.\n",
            "[q] Enter q to quit.\n",
            "\n",
            "What would you like to do? 3\n",
            "\n",
            "Here's a map. Can you leave a trip plan for us?\n",
            "\n",
            "\n",
            "[1] Enter 1 to take a bicycle ride.\n",
            "[2] Enter 2 to go for a run.\n",
            "[3] Enter 3 to climb a mountain.\n",
            "[q] Enter q to quit.\n",
            "\n",
            "What would you like to do? q\n",
            "\n",
            "Thanks for playing. See you later.\n",
            "\n",
            "Thanks again, bye now.\n"
          ],
          "name": "stdout"
        }
      ]
    },
    {
      "metadata": {
        "id": "eSz00NwqItD-",
        "colab_type": "text",
        "slideshow": {
          "slide_type": "subslide"
        }
      },
      "cell_type": "markdown",
      "source": [
        "This is much cleaner code, and it gives us space to separate the details of taking an action from the act of choosing that action."
      ]
    },
    {
      "metadata": {
        "id": "X5GLX9yIItD_",
        "colab_type": "text",
        "slideshow": {
          "slide_type": "skip"
        }
      },
      "cell_type": "markdown",
      "source": [
        "[top](#top)"
      ]
    },
    {
      "metadata": {
        "id": "7GDNkX5TItEA",
        "colab_type": "text",
        "slideshow": {
          "slide_type": "slide"
        }
      },
      "cell_type": "markdown",
      "source": [
        "<a name='processing_list'></a>Using while loops to process items in a list\n",
        "===\n",
        "In the section on Lists, you saw that we can `pop()` items from a list. You can use a while list to pop items one at a time from one list, and work with them in whatever way you need. "
      ]
    },
    {
      "metadata": {
        "id": "ifvHXS3nItEB",
        "colab_type": "text",
        "slideshow": {
          "slide_type": "fragment"
        }
      },
      "cell_type": "markdown",
      "source": [
        "Let's look at an example where we process a list of unconfirmed users."
      ]
    },
    {
      "metadata": {
        "id": "oG42JS_tItEC",
        "colab_type": "code",
        "slideshow": {
          "slide_type": "subslide"
        },
        "colab": {
          "autoexec": {
            "startup": false,
            "wait_interval": 0
          }
        },
        "outputId": "e6e9feff-9655-459c-8959-738901f5e056"
      },
      "cell_type": "code",
      "source": [
        "# Start with a list of unconfirmed users, and an empty list of confirmed users.\n",
        "unconfirmed_users = ['ada', 'billy', 'clarence', 'daria']\n",
        "confirmed_users = []\n",
        "\n",
        "# Work through the list, and confirm each user.\n",
        "while len(unconfirmed_users) > 0:\n",
        "    \n",
        "    # Get the latest unconfirmed user, and process them.\n",
        "    current_user = unconfirmed_users.pop()\n",
        "    print (\"Current status of user list : \"current_user)\n",
        "    print(\"Confirming user %s...confirmed!\" % current_user.title())\n",
        "    \n",
        "    # Move the current user to the list of confirmed users.\n",
        "    confirmed_users.append(current_user)\n",
        "    \n",
        "# Prove that we have finished confirming all users.\n",
        "print(\"\\nUnconfirmed users:\")\n",
        "for user in unconfirmed_users:\n",
        "    print('- ' + user.title())\n",
        "    \n",
        "print(\"\\nConfirmed users:\")\n",
        "for user in confirmed_users:\n",
        "    print('- ' + user.title())"
      ],
      "execution_count": 0,
      "outputs": [
        {
          "output_type": "stream",
          "text": [
            "Confirming user Daria...confirmed!\n",
            "Confirming user Clarence...confirmed!\n",
            "Confirming user Billy...confirmed!\n",
            "Confirming user Ada...confirmed!\n",
            "\n",
            "Unconfirmed users:\n",
            "\n",
            "Confirmed users:\n",
            "- Daria\n",
            "- Clarence\n",
            "- Billy\n",
            "- Ada\n"
          ],
          "name": "stdout"
        }
      ]
    },
    {
      "metadata": {
        "id": "tFM9GqGqItEF",
        "colab_type": "text",
        "slideshow": {
          "slide_type": "subslide"
        }
      },
      "cell_type": "markdown",
      "source": [
        "This works, but let's make one small improvement. The current program always works with the most recently added user. If users are joining faster than we can confirm them, we will leave some users behind. If we want to work on a 'first come, first served' model, or a 'first in first out' model, we can pop the first item in the list each time."
      ]
    },
    {
      "metadata": {
        "id": "RAjgUqqqItEG",
        "colab_type": "code",
        "slideshow": {
          "slide_type": "subslide"
        },
        "colab": {
          "autoexec": {
            "startup": false,
            "wait_interval": 0
          }
        },
        "outputId": "cd282dc7-4a25-40c1-8293-018a2b617ac0"
      },
      "cell_type": "code",
      "source": [
        "# Start with a list of unconfirmed users, and an empty list of confirmed users.\n",
        "unconfirmed_users = ['ada', 'billy', 'clarence', 'daria']\n",
        "confirmed_users = []\n",
        "\n",
        "# Work through the list, and confirm each user.\n",
        "while len(unconfirmed_users) > 0:\n",
        "    \n",
        "    # Get the latest unconfirmed user, and process them.\n",
        "    current_user = unconfirmed_users.pop(0)\n",
        "    print(\"Confirming user %s...confirmed!\" % current_user.title())\n",
        "    \n",
        "    # Move the current user to the list of confirmed users.\n",
        "    confirmed_users.append(current_user)\n",
        "    \n",
        "# Prove that we have finished confirming all users.\n",
        "print(\"\\nUnconfirmed users:\")\n",
        "for user in unconfirmed_users:\n",
        "    print('- ' + user.title())\n",
        "    \n",
        "print(\"\\nConfirmed users:\")\n",
        "for user in confirmed_users:\n",
        "    print('- ' + user.title())"
      ],
      "execution_count": 0,
      "outputs": [
        {
          "output_type": "stream",
          "text": [
            "Confirming user Ada...confirmed!\n",
            "Confirming user Billy...confirmed!\n",
            "Confirming user Clarence...confirmed!\n",
            "Confirming user Daria...confirmed!\n",
            "\n",
            "Unconfirmed users:\n",
            "\n",
            "Confirmed users:\n",
            "- Ada\n",
            "- Billy\n",
            "- Clarence\n",
            "- Daria\n"
          ],
          "name": "stdout"
        }
      ]
    },
    {
      "metadata": {
        "id": "TWeb7Ea5ItEJ",
        "colab_type": "text",
        "slideshow": {
          "slide_type": "subslide"
        }
      },
      "cell_type": "markdown",
      "source": [
        "This is a little nicer, because we are sure to get to everyone, even when our program is running under a heavy load. We also preserve the order of people as they join our project. Notice that this all came about by adding *one character* to our program!"
      ]
    },
    {
      "metadata": {
        "id": "QBXvmBrCItEJ",
        "colab_type": "text",
        "slideshow": {
          "slide_type": "skip"
        }
      },
      "cell_type": "markdown",
      "source": [
        "[top](#top)"
      ]
    },
    {
      "metadata": {
        "id": "OLYby19cItEK",
        "colab_type": "text",
        "slideshow": {
          "slide_type": "slide"
        }
      },
      "cell_type": "markdown",
      "source": [
        "<a name='infinite_loops'></a>Accidental Infinite loops\n",
        "===\n",
        "Sometimes we want a while loop to run until a defined action is completed, such as emptying out a list. Sometimes we want a loop to run for an unknown period of time, for example when we are allowing users to give as much input as they want. What we rarely want, however, is a true 'runaway' infinite loop."
      ]
    },
    {
      "metadata": {
        "id": "5-gZWXBAItEK",
        "colab_type": "text",
        "slideshow": {
          "slide_type": "subslide"
        }
      },
      "cell_type": "markdown",
      "source": [
        "Take a look at the following example. Can you pick out why this loop will never stop?"
      ]
    },
    {
      "metadata": {
        "id": "GYnZe1qIItEL",
        "colab_type": "code",
        "slideshow": {
          "slide_type": "fragment"
        },
        "colab": {
          "autoexec": {
            "startup": false,
            "wait_interval": 0
          }
        }
      },
      "cell_type": "code",
      "source": [
        "current_number = 1\n",
        "\n",
        "# Count up to 5, printing the number each time.\n",
        "while current_number <= 5:\n",
        "    print(current_number)"
      ],
      "execution_count": 0,
      "outputs": []
    },
    {
      "metadata": {
        "id": "XlNf_N4FItEO",
        "colab_type": "code",
        "slideshow": {
          "slide_type": "fragment"
        },
        "colab": {
          "autoexec": {
            "startup": false,
            "wait_interval": 0
          }
        }
      },
      "cell_type": "code",
      "source": [
        "1\n",
        "1\n",
        "1\n",
        "1\n",
        "1\n",
        "..."
      ],
      "execution_count": 0,
      "outputs": []
    },
    {
      "metadata": {
        "id": "fxiyRmhDItES",
        "colab_type": "text",
        "slideshow": {
          "slide_type": "subslide"
        }
      },
      "cell_type": "markdown",
      "source": [
        "I faked that output, because if I ran it the output would fill up the browser. You can try to run it on your computer, as long as you know how to interrupt runaway processes:\n",
        "\n",
        "- On most systems, Ctrl-C will interrupt the currently running program.\n",
        "- If you are using Geany, your output is displayed in a popup terminal window. You can either press Ctrl-C, or you can use your pointer to close the terminal window."
      ]
    },
    {
      "metadata": {
        "id": "E7edujDnItET",
        "colab_type": "text",
        "slideshow": {
          "slide_type": "subslide"
        }
      },
      "cell_type": "markdown",
      "source": [
        "The loop runs forever, because there is no way for the test condition to ever fail. The programmer probably meant to add a line that increments current_number by 1 each time through the loop:"
      ]
    },
    {
      "metadata": {
        "id": "A_mRL5HyItET",
        "colab_type": "code",
        "slideshow": {
          "slide_type": "fragment"
        },
        "colab": {
          "autoexec": {
            "startup": false,
            "wait_interval": 0
          }
        },
        "outputId": "09484e09-49b9-4468-8c04-8bbae307e09d"
      },
      "cell_type": "code",
      "source": [
        "current_number = 1\n",
        "\n",
        "# Count up to 5, printing the number each time.\n",
        "while current_number <= 5:\n",
        "    print(current_number)\n",
        "    current_number = current_number + 1"
      ],
      "execution_count": 0,
      "outputs": [
        {
          "output_type": "stream",
          "text": [
            "1\n",
            "2\n",
            "3\n",
            "4\n",
            "5\n"
          ],
          "name": "stdout"
        }
      ]
    },
    {
      "metadata": {
        "id": "IA4hwxb_ItEW",
        "colab_type": "text",
        "slideshow": {
          "slide_type": "subslide"
        }
      },
      "cell_type": "markdown",
      "source": [
        "You will certainly make some loops run infintely at some point. When you do, just interrupt the loop and figure out the logical error you made.\n",
        "\n",
        "Infinite loops will not be a real problem until you have users who run your programs on their machines. You won't want infinite loops then, because your users would have to shut down your program, and they would consider it buggy and unreliable. Learn to spot infinite loops, and make sure they don't pop up in your polished programs later on.\n",
        "\n",
        "Here is one more example of an accidental infinite loop:"
      ]
    },
    {
      "metadata": {
        "id": "avqimG7aItEW",
        "colab_type": "code",
        "slideshow": {
          "slide_type": "fragment"
        },
        "colab": {
          "autoexec": {
            "startup": false,
            "wait_interval": 0
          }
        }
      },
      "cell_type": "code",
      "source": [
        "current_number = 1\n",
        "\n",
        "# Count up to 5, printing the number each time.\n",
        "while current_number <= 5:\n",
        "    print(current_number)\n",
        "    current_number = current_number - 1"
      ],
      "execution_count": 0,
      "outputs": []
    },
    {
      "metadata": {
        "id": "Itfnf3l2ItEY",
        "colab_type": "code",
        "slideshow": {
          "slide_type": "subslide"
        },
        "colab": {
          "autoexec": {
            "startup": false,
            "wait_interval": 0
          }
        }
      },
      "cell_type": "code",
      "source": [
        "1\n",
        "0\n",
        "-1\n",
        "-2\n",
        "-3\n",
        "..."
      ],
      "execution_count": 0,
      "outputs": []
    },
    {
      "metadata": {
        "id": "qDPP86NIItEa",
        "colab_type": "text",
        "slideshow": {
          "slide_type": "fragment"
        }
      },
      "cell_type": "markdown",
      "source": [
        "In this example, we accidentally started counting down. The value of `current_number` will always be less than 5, so the loop will run forever."
      ]
    },
    {
      "metadata": {
        "id": "Npy0TMk4ItEa",
        "colab_type": "text",
        "slideshow": {
          "slide_type": "skip"
        }
      },
      "cell_type": "markdown",
      "source": [
        "<a name='exercises_infinite_loops'></a>Exercises\n",
        "---\n",
        "#### Marveling at Infinity\n",
        "- Use one of the examples of a failed while loop to create an infinite loop.\n",
        "- Interrupt your output.\n",
        "- Marvel at the fact that if you had not interrupted your output, your computer would have kept doing what you told it to until it ran out of power, or memory, or until the universe went cold around it."
      ]
    },
    {
      "metadata": {
        "id": "8U2nMzLCItEb",
        "colab_type": "code",
        "slideshow": {
          "slide_type": "skip"
        },
        "colab": {
          "autoexec": {
            "startup": false,
            "wait_interval": 0
          }
        }
      },
      "cell_type": "code",
      "source": [
        "# Ex 6.4 : Marveling at Infinity\n",
        "\n",
        "# put your code here"
      ],
      "execution_count": 0,
      "outputs": []
    },
    {
      "metadata": {
        "id": "qmx9--UxItEc",
        "colab_type": "text",
        "slideshow": {
          "slide_type": "skip"
        }
      },
      "cell_type": "markdown",
      "source": [
        "[top](#top)"
      ]
    },
    {
      "metadata": {
        "id": "OGZI6O7KItEc",
        "colab_type": "text",
        "slideshow": {
          "slide_type": "skip"
        }
      },
      "cell_type": "markdown",
      "source": [
        "<a name='overall_challenges'></a>Overall Challenges\n",
        "===\n",
        "#### Gaussian Addition\n",
        "This challenge is inspired by a story about the mathematician Carl Frederich Gauss. [As the story goes](http://mathforum.org/library/drmath/view/57919.html), when young Gauss was in grade school his teacher got mad at his class one day.\n",
        "\n",
        "\"I'll keep the lot of you busy for a while\", the teacher said sternly to the group. \"You are to add the numbers from 1 to 100, and you are not to say a word until you are done.\"\n",
        "\n",
        "The teacher expected a good period of quiet time, but a moment later our mathematician-to-be raised his hand with the answer. \"It's 5050!\" Gauss had realized that if you list all the numbers from 1 to 100, you can always match the first and last numbers in the list and get a common answer:\n",
        "\n",
        "    1, 2, 3, ..., 98, 99, 100\n",
        "    1 + 100 = 101\n",
        "    2 + 99 = 101\n",
        "    3 + 98 = 101\n",
        "\n",
        "Gauss realized there were exactly 50 pairs of numbers in the range 1 to 100, so he did a quick calculation: 50 * 101 = 5050.\n",
        "\n",
        "- Write a program that passes a list of numbers to a function.\n",
        "    - The function should use a while loop to keep popping the first and last numbers from the list and calculate the sum of those two numbers.\n",
        "    - The function should print out the current numbers that are being added, and print their partial sum.\n",
        "    - The function should keep track of how many partial sums there are.\n",
        "    - The function should then print out how many partial sums there were.\n",
        "    - The function should perform Gauss' multiplication, and report the final answer.\n",
        "- Prove that your function works, by passing in the range 1-100, and verifying that you get 5050.\n",
        "    - `gauss_addition(list(range(1,101)))`\n",
        "- Your function should work for any set of consecutive numbers, as long as that set has an even length.\n",
        "    - Bonus: Modify your function so that it works for any set of consecutive numbers, whether that set has an even or odd length."
      ]
    },
    {
      "metadata": {
        "id": "EBIV2rV0ItEd",
        "colab_type": "code",
        "slideshow": {
          "slide_type": "skip"
        },
        "colab": {
          "autoexec": {
            "startup": false,
            "wait_interval": 0
          }
        }
      },
      "cell_type": "code",
      "source": [
        "# Overall Challenge: Gaussian Addition\n",
        "\n",
        "# put your code here"
      ],
      "execution_count": 0,
      "outputs": []
    },
    {
      "metadata": {
        "id": "39O4BFR8ItEf",
        "colab_type": "text",
        "slideshow": {
          "slide_type": "skip"
        }
      },
      "cell_type": "markdown",
      "source": [
        "[top](#top)"
      ]
    }
  ]
}